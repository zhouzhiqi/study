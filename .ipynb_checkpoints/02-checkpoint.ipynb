{
 "cells": [
  {
   "cell_type": "code",
   "execution_count": 12,
   "metadata": {},
   "outputs": [
    {
     "name": "stdout",
     "output_type": "stream",
     "text": [
      "<class 'tuple'>\n",
      "<class 'int'>\n",
      "<class 'tuple'>\n",
      "<class 'tuple'>\n",
      "<class 'list'>\n",
      "(1, 2, 3, 4, 5, 6, 7, 1, 2, 3, 4, 5, 6, 7, 1, 2, 3, 4, 5, 6, 7, 1, 2, 3, 4, 5, 6, 7, 1, 2, 3, 4, 5, 6, 7, 1, 2, 3, 4, 5, 6, 7)\n",
      "[1, 3, 5, 7, 9, 11, 1, 3, 5, 7, 9, 11, 1, 3, 5, 7, 9, 11, 1, 3, 5, 7, 9, 11, 1, 3, 5, 7, 9, 11]\n",
      "64\n",
      "(8, 8, 8, 8, 8, 8, 8, 8)\n"
     ]
    }
   ],
   "source": [
    "#列表: [] 可以任意增减该排序\n",
    "#元组: () 只能读取,不能更改\n",
    "tuple01 = (1, 2, 3, 4, 5, 6, 7)\n",
    "print(type(tuple01))\n",
    "tuple02 = (1)\n",
    "print(type(tuple02))\n",
    "tuple03 = (1,) #逗号很关键\n",
    "print(type(tuple03))\n",
    "tuple04 = 1,\n",
    "print(type(tuple04))\n",
    "list01 = [1, 3, 5, 7, 9, 11]\n",
    "print(type(list01))\n",
    "tuple01 *= 6\n",
    "print(tuple01)\n",
    "list01 *= 5\n",
    "print(list01)\n",
    "print(8 * (8))\n",
    "print(8 * (8,))"
   ]
  },
  {
   "cell_type": "code",
   "execution_count": 13,
   "metadata": {},
   "outputs": [
    {
     "name": "stdout",
     "output_type": "stream",
     "text": [
      "('dfs', 'fwefdsafe', 'fdsfadsfd')\n"
     ]
    }
   ],
   "source": [
    "temp = ('dfs', 'dfsa', 'fwefdsafe', 'fdsfadsfd')\n",
    "temp = temp[:1] + temp[2:] #并不是真的删除,而是利用切片创建一个新的元组,并用temp指向新的元组,\n",
    "                           #老的元组无标签指向,一段时间之后会被回收机制回收\n",
    "print(temp)"
   ]
  },
  {
   "cell_type": "code",
   "execution_count": 14,
   "metadata": {},
   "outputs": [
    {
     "data": {
      "text/plain": [
       "['__add__',\n",
       " '__class__',\n",
       " '__contains__',\n",
       " '__delattr__',\n",
       " '__dir__',\n",
       " '__doc__',\n",
       " '__eq__',\n",
       " '__format__',\n",
       " '__ge__',\n",
       " '__getattribute__',\n",
       " '__getitem__',\n",
       " '__getnewargs__',\n",
       " '__gt__',\n",
       " '__hash__',\n",
       " '__init__',\n",
       " '__iter__',\n",
       " '__le__',\n",
       " '__len__',\n",
       " '__lt__',\n",
       " '__mod__',\n",
       " '__mul__',\n",
       " '__ne__',\n",
       " '__new__',\n",
       " '__reduce__',\n",
       " '__reduce_ex__',\n",
       " '__repr__',\n",
       " '__rmod__',\n",
       " '__rmul__',\n",
       " '__setattr__',\n",
       " '__sizeof__',\n",
       " '__str__',\n",
       " '__subclasshook__',\n",
       " 'capitalize',\n",
       " 'casefold',\n",
       " 'center',\n",
       " 'count',\n",
       " 'encode',\n",
       " 'endswith',\n",
       " 'expandtabs',\n",
       " 'find',\n",
       " 'format',\n",
       " 'format_map',\n",
       " 'index',\n",
       " 'isalnum',\n",
       " 'isalpha',\n",
       " 'isdecimal',\n",
       " 'isdigit',\n",
       " 'isidentifier',\n",
       " 'islower',\n",
       " 'isnumeric',\n",
       " 'isprintable',\n",
       " 'isspace',\n",
       " 'istitle',\n",
       " 'isupper',\n",
       " 'join',\n",
       " 'ljust',\n",
       " 'lower',\n",
       " 'lstrip',\n",
       " 'maketrans',\n",
       " 'partition',\n",
       " 'replace',\n",
       " 'rfind',\n",
       " 'rindex',\n",
       " 'rjust',\n",
       " 'rpartition',\n",
       " 'rsplit',\n",
       " 'rstrip',\n",
       " 'split',\n",
       " 'splitlines',\n",
       " 'startswith',\n",
       " 'strip',\n",
       " 'swapcase',\n",
       " 'title',\n",
       " 'translate',\n",
       " 'upper',\n",
       " 'zfill']"
      ]
     },
     "execution_count": 14,
     "metadata": {},
     "output_type": "execute_result"
    }
   ],
   "source": [
    "dir(str)"
   ]
  },
  {
   "cell_type": "code",
   "execution_count": 33,
   "metadata": {},
   "outputs": [
    {
     "name": "stdout",
     "output_type": "stream",
     "text": [
      "a\n",
      "a b c\n",
      "10 + 15 = 110\n",
      "zhou--a fjhsdfkjh****\n",
      "  27.69+16.9\n",
      "00012-----           666666666\n"
     ]
    }
   ],
   "source": [
    "print(\"%c\" % 97)\n",
    "print(\"%c %c %c\" % (97, 98, 99) )\n",
    "print(\"%d + %d = %d\" % (10, 15, 110))\n",
    "print(\"%s--a fjhsdfkjh%s\" % (\"zhou\", \"****\"))\n",
    "print('%7.2f+%.1f' % (27.68888, 16.888))\n",
    "print('%05d-----%20d' % (12, 666666666))"
   ]
  },
  {
   "cell_type": "code",
   "execution_count": 42,
   "metadata": {},
   "outputs": [
    {
     "name": "stdout",
     "output_type": "stream",
     "text": [
      "(1, 3, 5, 2, 4, 9, 6)\n",
      "[1, 3, 5, 2, 4, 9, 6]\n",
      "9\n",
      "30\n",
      "[1, 2, 3, 4, 5, 6, 9]\n",
      "<enumerate object at 0x000001BA6108DD80>\n",
      "[(0, 1), (1, 3), (2, 5), (3, 2), (4, 4), (5, 9), (6, 6)]\n",
      "----------------------------\n",
      "(1, 3, 5, 2, 4, 9, 6)\n",
      "['s', 't', 'r', '(', 'b', ')']\n"
     ]
    }
   ],
   "source": [
    "a = (1,3,5,2,4,9,6)\n",
    "print(a)\n",
    "b = list(a)\n",
    "print(b)\n",
    "print(max(b))\n",
    "print(sum(b))\n",
    "print(sorted(b))\n",
    "print(enumerate(b))\n",
    "print(list(enumerate(b)))\n",
    "print(\"----------------------------\")\n",
    "c = tuple(b)\n",
    "print(c)\n",
    "s = 'str(b)'\n",
    "s1 = list(s)\n",
    "print(s1)\n"
   ]
  },
  {
   "cell_type": "markdown",
   "metadata": {},
   "source": [
    "#Funcation"
   ]
  },
  {
   "cell_type": "code",
   "execution_count": 67,
   "metadata": {},
   "outputs": [
    {
     "name": "stdout",
     "output_type": "stream",
     "text": [
      "*************\n",
      "<class 'function'>\n",
      "99----66\n",
      "15\n",
      "zhouzhiqi注释文档\n",
      "6561\n",
      "3\n",
      "[2, 66, 'jia']\n",
      "<function FunX.<locals>.FunY at 0x000001BA622706A8>\n",
      "42\n",
      "42\n",
      "25\n"
     ]
    }
   ],
   "source": [
    "def FirstFuncation():\n",
    "    print(\"*************\")\n",
    "FirstFuncation()\n",
    "print(type(FirstFuncation))\n",
    "def SecondFuncation(nu1, nu2):\n",
    "    print(\"%d----%d\" % (nu1, nu2))\n",
    "SecondFuncation(99.8, 66.2)\n",
    "\n",
    "def jiaheFuncation(nu1, nu2):\n",
    "    'zhouzhiqi注释文档'\n",
    "    #zhouzhouzhou\n",
    "    return nu1+nu2\n",
    "print(jiaheFuncation(9, 6))\n",
    "print(jiaheFuncation.__doc__)\n",
    "'''注意全局变量和局部变量,函数无法直接修改全局变量,要用global'''\n",
    "'''可以循环嵌套函数'''\n",
    "def CanshuFuncation(nu1=66, nu2=8): #默认参数,相当于给形参赋初值\n",
    "    return nu1 ** nu2\n",
    "print(CanshuFuncation(3))\n",
    "\n",
    "def ShoujiFuncation(*nu): #*...  是收集参数, 后面可以继续添加参数(*nu, nu66=888)\n",
    "    print(len(nu))\n",
    "    return list(nu)\n",
    "print(ShoujiFuncation(2, 66,'jia'))   #函数有return; 过程无return(实际返回nane)\n",
    "\n"
   ]
  },
  {
   "cell_type": "code",
   "execution_count": 60,
   "metadata": {},
   "outputs": [
    {
     "name": "stdout",
     "output_type": "stream",
     "text": [
      "*************\n"
     ]
    }
   ],
   "source": [
    "FirstFuncation()"
   ]
  },
  {
   "cell_type": "code",
   "execution_count": 68,
   "metadata": {},
   "outputs": [
    {
     "name": "stdout",
     "output_type": "stream",
     "text": [
      "<function FunX.<locals>.FunY at 0x000001BA6213EC80>\n",
      "42\n",
      "42\n",
      "25\n"
     ]
    }
   ],
   "source": [
    "#闭包\n",
    "def FunX(x):\n",
    "    def FunY(y): #闭包:内部函数自己完成\n",
    "        return x*y\n",
    "    return FunY\n",
    "a = FunX(6)\n",
    "print(a)\n",
    "print(a(7))\n",
    "print(FunX(6)(7))\n",
    "\n",
    "def Fun1():\n",
    "    x = 5\n",
    "    def Fun2():\n",
    "        nonlocal x #将函数外变量纳入进来\n",
    "        x *= x\n",
    "        return x\n",
    "    return Fun2\n",
    "print(Fun1()())"
   ]
  },
  {
   "cell_type": "code",
   "execution_count": 76,
   "metadata": {},
   "outputs": [
    {
     "name": "stdout",
     "output_type": "stream",
     "text": [
      "9\n",
      "18\n",
      "--------\n"
     ]
    }
   ],
   "source": [
    "#匿名函数 不用定义较多函数\n",
    "a = lambda x : x **2\n",
    "b = lambda x, y : x*y\n",
    "c = lambda : print(\"--------\")\n",
    "print(a(3))\n",
    "print(b(6,3))\n",
    "c()"
   ]
  },
  {
   "cell_type": "code",
   "execution_count": 77,
   "metadata": {},
   "outputs": [
    {
     "name": "stdout",
     "output_type": "stream",
     "text": [
      "Help on class filter in module builtins:\n",
      "\n",
      "class filter(object)\n",
      " |  filter(function or None, iterable) --> filter object\n",
      " |  \n",
      " |  Return an iterator yielding those items of iterable for which function(item)\n",
      " |  is true. If function is None, return the items that are true.\n",
      " |  \n",
      " |  Methods defined here:\n",
      " |  \n",
      " |  __getattribute__(self, name, /)\n",
      " |      Return getattr(self, name).\n",
      " |  \n",
      " |  __iter__(self, /)\n",
      " |      Implement iter(self).\n",
      " |  \n",
      " |  __new__(*args, **kwargs) from builtins.type\n",
      " |      Create and return a new object.  See help(type) for accurate signature.\n",
      " |  \n",
      " |  __next__(self, /)\n",
      " |      Implement next(self).\n",
      " |  \n",
      " |  __reduce__(...)\n",
      " |      Return state information for pickling.\n",
      "\n"
     ]
    }
   ],
   "source": [
    "help(filter)"
   ]
  },
  {
   "cell_type": "code",
   "execution_count": 82,
   "metadata": {},
   "outputs": [
    {
     "name": "stdout",
     "output_type": "stream",
     "text": [
      "[1, 9, True]\n",
      "[0, 9, False]\n"
     ]
    }
   ],
   "source": [
    "print(list(filter(None, [1, 0, 9, True, False]))) #删除0,False\n",
    "print(list(filter(lambda x : x-1 , [1, 0, 9, True, False]))) #删除函数变换之后==0的值"
   ]
  },
  {
   "cell_type": "code",
   "execution_count": 86,
   "metadata": {
    "scrolled": true
   },
   "outputs": [
    {
     "name": "stdout",
     "output_type": "stream",
     "text": [
      "Help on built-in function setcheckinterval in module sys:\n",
      "\n",
      "setcheckinterval(...)\n",
      "    setcheckinterval(n)\n",
      "    \n",
      "    Tell the Python interpreter to check for asynchronous events every\n",
      "    n instructions.  This also affects how often thread switches occur.\n",
      "\n"
     ]
    }
   ],
   "source": [
    "#递归默认深度100? 可以使用setcheckinterval()来修改\n",
    "import sys\n",
    "dir(sys)\n",
    "help(sys.setcheckinterval)"
   ]
  },
  {
   "cell_type": "code",
   "execution_count": 102,
   "metadata": {},
   "outputs": [
    {
     "name": "stdout",
     "output_type": "stream",
     "text": [
      "24\n",
      "6765\n"
     ]
    }
   ],
   "source": [
    "def JiechengFuncation(x):\n",
    "    if x == 1 :\n",
    "        return 1\n",
    "    else:\n",
    "        return x * JiechengFuncation(x-1)\n",
    "print(JiechengFuncation(4))\n",
    "\n",
    "def FibonacciFuncation(x):\n",
    "    if x == 1 or x  == 2:\n",
    "        return 1\n",
    "    else:\n",
    "        return FibonacciFuncation(x-1) + FibonacciFuncation(x-2)\n",
    "print(FibonacciFuncation(20))"
   ]
  },
  {
   "cell_type": "code",
   "execution_count": 107,
   "metadata": {},
   "outputs": [
    {
     "name": "stdout",
     "output_type": "stream",
     "text": [
      "X -> Y\n",
      "X -> Z\n",
      "Y -> Z\n",
      "X -> Y\n",
      "Z -> X\n",
      "Z -> Y\n",
      "X -> Y\n",
      "X -> Z\n",
      "Y -> Z\n",
      "Y -> X\n",
      "Z -> X\n",
      "Y -> Z\n",
      "X -> Y\n",
      "X -> Z\n",
      "Y -> Z\n"
     ]
    }
   ],
   "source": [
    "def HanoiFuncation(n, a, b, c):\n",
    "    if n == 1:\n",
    "        print(\"%s -> %s\" % (a, c))\n",
    "    else:\n",
    "        HanoiFuncation(n-1, a, c, b)\n",
    "        print(\"%s -> %s\" % (a, c))\n",
    "        HanoiFuncation(n-1, b, a, c)\n",
    "HanoiFuncation(4, 'X', 'Y', 'Z')"
   ]
  },
  {
   "cell_type": "code",
   "execution_count": null,
   "metadata": {
    "collapsed": true
   },
   "outputs": [],
   "source": []
  }
 ],
 "metadata": {
  "kernelspec": {
   "display_name": "Python 3",
   "language": "python",
   "name": "python3"
  },
  "language_info": {
   "codemirror_mode": {
    "name": "ipython",
    "version": 3
   },
   "file_extension": ".py",
   "mimetype": "text/x-python",
   "name": "python",
   "nbconvert_exporter": "python",
   "pygments_lexer": "ipython3",
   "version": "3.6.3"
  },
  "toc": {
   "nav_menu": {},
   "number_sections": true,
   "sideBar": true,
   "skip_h1_title": false,
   "title_cell": "Table of Contents",
   "title_sidebar": "Contents",
   "toc_cell": false,
   "toc_position": {},
   "toc_section_display": true,
   "toc_window_display": false
  }
 },
 "nbformat": 4,
 "nbformat_minor": 2
}
