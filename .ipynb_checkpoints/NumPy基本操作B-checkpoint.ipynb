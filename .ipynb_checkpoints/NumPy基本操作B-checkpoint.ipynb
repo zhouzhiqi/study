{
 "cells": [
  {
   "cell_type": "markdown",
   "metadata": {},
   "source": [
    "# 利用数组进行数据处理 简介"
   ]
  },
  {
   "cell_type": "raw",
   "metadata": {},
   "source": [
    "• NumPy数组使你可以将许多种数据处理任务表述为简洁的数组表达式（否则需要编写循环）。用数组表达式代替循环的做法，通常被称为矢量化。\n",
    "• 矢量化数组运算要比等价的纯Python方式快上一两个数量级"
   ]
  },
  {
   "cell_type": "code",
   "execution_count": 33,
   "metadata": {},
   "outputs": [
    {
     "name": "stdout",
     "output_type": "stream",
     "text": [
      "[[-5.   -4.99 -4.98 ...,  4.97  4.98  4.99]\n",
      " [-5.   -4.99 -4.98 ...,  4.97  4.98  4.99]\n",
      " [-5.   -4.99 -4.98 ...,  4.97  4.98  4.99]\n",
      " ..., \n",
      " [-5.   -4.99 -4.98 ...,  4.97  4.98  4.99]\n",
      " [-5.   -4.99 -4.98 ...,  4.97  4.98  4.99]\n",
      " [-5.   -4.99 -4.98 ...,  4.97  4.98  4.99]]\n",
      "\n",
      "[[-5.   -5.   -5.   ..., -5.   -5.   -5.  ]\n",
      " [-4.99 -4.99 -4.99 ..., -4.99 -4.99 -4.99]\n",
      " [-4.98 -4.98 -4.98 ..., -4.98 -4.98 -4.98]\n",
      " ..., \n",
      " [ 4.97  4.97  4.97 ...,  4.97  4.97  4.97]\n",
      " [ 4.98  4.98  4.98 ...,  4.98  4.98  4.98]\n",
      " [ 4.99  4.99  4.99 ...,  4.99  4.99  4.99]]\n",
      "\n",
      "[[ 7.07106781  7.06400028  7.05693985 ...,  7.04988652  7.05693985\n",
      "   7.06400028]\n",
      " [ 7.06400028  7.05692568  7.04985815 ...,  7.04279774  7.04985815\n",
      "   7.05692568]\n",
      " [ 7.05693985  7.04985815  7.04278354 ...,  7.03571603  7.04278354\n",
      "   7.04985815]\n",
      " ..., \n",
      " [ 7.04988652  7.04279774  7.03571603 ...,  7.0286414   7.03571603\n",
      "   7.04279774]\n",
      " [ 7.05693985  7.04985815  7.04278354 ...,  7.03571603  7.04278354\n",
      "   7.04985815]\n",
      " [ 7.06400028  7.05692568  7.04985815 ...,  7.04279774  7.04985815\n",
      "   7.05692568]]\n"
     ]
    },
    {
     "data": {
      "image/png": "[encoded data removed]",
      "text/plain": [
       "<matplotlib.figure.Figure at 0x9d55630>"
      ]
     },
     "metadata": {},
     "output_type": "display_data"
    }
   ],
   "source": [
    "import matplotlib.pyplot as plt\n",
    "import numpy as np\n",
    "import pylab\n",
    "\n",
    "points = np.arange(-5, 5, 0.01) # [-5,5)每隔0.01，生成100个点\n",
    "xs, ys = np.meshgrid(points, points)  # xs, ys互为转置矩阵\n",
    "print xs\n",
    "print\n",
    "print ys\n",
    "print\n",
    "z = np.sqrt(xs ** 2 + ys ** 2)\n",
    "print z\n",
    "# 画图\n",
    "plt.imshow(z, cmap = plt.cm.gray);\n",
    "plt.colorbar()\n",
    "plt.title(\"Image plot of $\\sqrt{x^2 + y^2}$ for a grid of values\")\n",
    "pylab.show() "
   ]
  },
  {
   "cell_type": "markdown",
   "metadata": {},
   "source": [
    "# 利用数组将条件逻辑表述为数组运算"
   ]
  },
  {
   "cell_type": "markdown",
   "metadata": {},
   "source": [
    "• 列表推导的局限性\n",
    "• 纯Python代码，速度不够快。\n",
    "• 无法应用于高维数组\n",
    "• where和where的嵌套"
   ]
  },
  {
   "cell_type": "code",
   "execution_count": 1,
   "metadata": {},
   "outputs": [
    {
     "name": "stdout",
     "output_type": "stream",
     "text": [
      "通过真值表选择元素\n",
      "[1.1000000000000001, 2.2000000000000002, 1.3, 1.3999999999999999, 2.5]\n",
      "---------np.where()--------------\n",
      "[ 1.1  2.2  1.3  1.4  2.5]\n",
      "\n",
      "更多where的例子\n",
      "[[ 0.94521457  0.22892746 -0.45126315  1.32971719]\n",
      " [-0.19277194 -0.05655987  0.34430643 -0.91263283]\n",
      " [ 0.67726948  0.60334044  0.34871656 -1.60759908]\n",
      " [ 2.40540824 -0.53700023 -0.59241349  0.31618535]]\n",
      "[[ 2  2 -2  2]\n",
      " [-2 -2  2 -2]\n",
      " [ 2  2  2 -2]\n",
      " [ 2 -2 -2  2]]\n",
      "[[ 2.          2.         -0.45126315  2.        ]\n",
      " [-0.19277194 -0.05655987  2.         -0.91263283]\n",
      " [ 2.          2.          2.         -1.60759908]\n",
      " [ 2.         -0.53700023 -0.59241349  2.        ]]\n",
      "\n",
      "where嵌套\n",
      "[1, 2, 1, 0, 3]\n",
      "[1 2 1 0 3]\n"
     ]
    }
   ],
   "source": [
    "import numpy as np\n",
    "import numpy.random as np_random\n",
    "\n",
    "'''\n",
    "关于zip函数的一点解释，zip可以接受任意多参数，然后重新组合成1个tuple列表。\n",
    "zip([1, 2, 3], [4, 5, 6], [7, 8, 9])\n",
    "返回结果：[(1, 4, 7), (2, 5, 8), (3, 6, 9)]\n",
    "'''\n",
    "print '通过真值表选择元素'\n",
    "x_arr = np.array([1.1, 1.2, 1.3, 1.4, 1.5])\n",
    "y_arr = np.array([2.1, 2.2, 2.3, 2.4, 2.5])\n",
    "cond = np.array([True, False, True, True, False])\n",
    "result = [(x if c else y) for x, y, c in zip(x_arr, y_arr, cond)] # 通过列表推到实现\n",
    "print result\n",
    "print '---------np.where()--------------'\n",
    "print np.where(cond, x_arr, y_arr)  # 使用NumPy的where函数 \n",
    "print         #cond=True,x_arr,cond=False,y_arr\n",
    "\n",
    "print '更多where的例子'\n",
    "print '---------np.where(arr > 0, 2, -2)--------------'\n",
    "print np.where(arr > 0, 2, -2)   #arr>0？2：-2\n",
    "arr = np_random.randn(4, 4)\n",
    "print arr\n",
    "print '---------np.where(arr > 0, 2, arr)--------------'\n",
    "print np.where(arr > 0, 2, arr) #arr>0？2\n",
    "print\n",
    "\n",
    "print 'where嵌套'\n",
    "cond_1 = np.array([True, False, True, True, False])\n",
    "cond_2 = np.array([False, True, False, True, False])\n",
    "# 传统代码如下\n",
    "result = []\n",
    "for i in xrange(len(cond)):\n",
    "    if cond_1[i] and cond_2[i]:\n",
    "        result.append(0)\n",
    "    elif cond_1[i]:\n",
    "        result.append(1)\n",
    "    elif cond_2[i]:\n",
    "        result.append(2)\n",
    "    else:\n",
    "        result.append(3)\n",
    "print result\n",
    "# np版本代码\n",
    "result = np.where(cond_1 & cond_2, 0, \\\n",
    "          np.where(cond_1, 1, np.where(cond_2, 2, 3)))\n",
    "print result"
   ]
  },
  {
   "cell_type": "markdown",
   "metadata": {},
   "source": [
    "# 利用数组进行数据处理 数学和统计方法"
   ]
  },
  {
   "cell_type": "raw",
   "metadata": {},
   "source": [
    "• 标准差和方差的解释\n",
    "• cumsum和cumprod的解释\n",
    "• 带axis参数的统计函数\n",
    "\n",
    "sum      对数组中全部或某轴向的元素求和。零长度的数组的sum为0。\n",
    "mean     算术平均数。零长度的数组的mean为NaN。\n",
    "argmin    分别为最大值和最小值的索引\n",
    "cumsum    所有元素的累计和\n",
    "cumprod   所有元素的累计积\n",
    "std, var   分别为标准差和方差，自由度可调（默认为n）。\n",
    "min, max   最大值和最小值"
   ]
  },
  {
   "cell_type": "code",
   "execution_count": 3,
   "metadata": {},
   "outputs": [
    {
     "name": "stdout",
     "output_type": "stream",
     "text": [
      "求和，求平均\n",
      "[[-0.99780228  0.30029056  0.83249572]\n",
      " [ 1.04056754 -0.29054185 -0.2506468 ]\n",
      " [-0.13029522 -1.29603829  1.25654632]\n",
      " [-0.21222396  0.52518127  0.66956961]\n",
      " [-0.86516267 -0.24173824  1.29746202]]\n",
      "\n",
      "0.109177582731\n",
      "\n",
      "1.63766374097\n",
      "\n",
      "[ 0.04499467  0.16645963 -0.05659573  0.32750898  0.06352037]\n",
      "\n",
      "[-1.1649166  -1.00284654  3.80542688]\n",
      "\n",
      "cunsum和cumprod函数演示\n",
      "[[0 1 2]\n",
      " [3 4 5]\n",
      " [6 7 8]]\n",
      "[[ 0  1  2]\n",
      " [ 3  5  7]\n",
      " [ 9 12 15]]\n",
      "[[  0   0   0]\n",
      " [  3  12  60]\n",
      " [  6  42 336]]\n"
     ]
    }
   ],
   "source": [
    "import numpy as np\n",
    "import numpy.random as np_random\n",
    "\n",
    "print '求和，求平均'\n",
    "arr = np.random.randn(5, 3)\n",
    "print arr\n",
    "print\n",
    "print arr.mean()\n",
    "print\n",
    "print arr.sum()\n",
    "print\n",
    "print arr.mean(axis = 1)  # 对每一行的元素求平均\n",
    "print\n",
    "print arr.sum(0)  # arr.sum(axis = 0)对每一列元素求和，axis可以省略。\n",
    "print\n",
    "\n",
    "'''\n",
    "cumsum:\n",
    "- 按列操作：a[i][j] += a[i - 1][j]\n",
    "- 按行操作：a[i][j] += a[i][j - 1]\n",
    "cumprod:\n",
    "- 按列操作：a[i][j] *= a[i - 1][j]\n",
    "- 按行操作：a[i][j] *= a[i][j - 1]\n",
    "'''\n",
    "print 'cunsum和cumprod函数演示'\n",
    "arr = np.array([[0, 1, 2], [3, 4, 5], [6, 7, 8]])\n",
    "print arr\n",
    "print arr.cumsum(0)\n",
    "print arr.cumprod(1)"
   ]
  },
  {
   "cell_type": "markdown",
   "metadata": {},
   "source": [
    "# 利用数组进行数据处理 用于布尔型数组的方法"
   ]
  },
  {
   "cell_type": "markdown",
   "metadata": {},
   "source": [
    "• sum对True值计数\n",
    "• any和all测试布尔型数组，对于非布尔型数组，所有非0元素将会被当做True"
   ]
  },
  {
   "cell_type": "code",
   "execution_count": 4,
   "metadata": {},
   "outputs": [
    {
     "name": "stdout",
     "output_type": "stream",
     "text": [
      "对正数求和\n",
      "(arr > 0).sum()\n",
      "53\n",
      "对数组逻辑操作\n",
      "True\n",
      "False\n"
     ]
    }
   ],
   "source": [
    "import numpy as np\n",
    "import numpy.random as np_random\n",
    "\n",
    "print '对正数求和'\n",
    "arr = np_random.randn(100)\n",
    "print '--------(arr > 0).sum()------'\n",
    "print (arr > 0).sum()\n",
    "\n",
    "print '对数组逻辑操作'\n",
    "bools = np.array([False, False, True, False])\n",
    "print bools.any() # 有一个为True则返回True\n",
    "print bools.all() # 有一个为False则返回False"
   ]
  },
  {
   "cell_type": "markdown",
   "metadata": {},
   "source": [
    "# 利用数组进行数据处理 排序"
   ]
  },
  {
   "cell_type": "markdown",
   "metadata": {},
   "source": [
    "• 直接排序\n",
    "• 指定轴排序"
   ]
  },
  {
   "cell_type": "code",
   "execution_count": 5,
   "metadata": {},
   "outputs": [
    {
     "name": "stdout",
     "output_type": "stream",
     "text": [
      "一维数组排序\n",
      "[-0.63916235 -0.44122312 -0.30963502  0.55983367  0.56575115  0.61730658\n",
      "  0.78576089  1.38318681]\n",
      "\n",
      "二维数组排序\n",
      "[[-0.7072997   0.3038427   0.61270929]\n",
      " [-0.06723746  0.20750734  0.29181471]\n",
      " [ 1.06153171  0.98700532 -1.05567779]\n",
      " [ 0.83589898 -1.42506276  2.19750378]\n",
      " [ 1.98150733  0.80731543  0.57365796]]\n",
      "\n",
      "[[-0.7072997   0.3038427   0.61270929]\n",
      " [-0.06723746  0.20750734  0.29181471]\n",
      " [-1.05567779  0.98700532  1.06153171]\n",
      " [-1.42506276  0.83589898  2.19750378]\n",
      " [ 0.57365796  0.80731543  1.98150733]]\n",
      "找位置在5%的数字\n",
      "-1.61859673684\n"
     ]
    },
    {
     "data": {
      "text/plain": [
       "'   \\xe6\\x95\\xb0\\xe7\\xbb\\x84\\xe5\\x90\\x8d[\\xe5\\x8f\\x96\\xe6\\x95\\xb4int(\\xe4\\xbd\\x8d\\xe7\\xbd\\xae %5 *  \\xe6\\x80\\xbb\\xe6\\x95\\xb0\\xe6\\x8d\\xae\\xe9\\x95\\xbf)]'"
      ]
     },
     "execution_count": 5,
     "metadata": {},
     "output_type": "execute_result"
    }
   ],
   "source": [
    "import numpy as np\n",
    "import numpy.random as np_random\n",
    "\n",
    "print '一维数组排序'\n",
    "arr = np_random.randn(8)\n",
    "arr.sort() #默认从小到大\n",
    "print arr\n",
    "print\n",
    "\n",
    "print '二维数组排序'\n",
    "arr = np_random.randn(5, 3)\n",
    "print arr\n",
    "print\n",
    "arr.sort(1) # 对每一行元素做排序\n",
    "print arr\n",
    "\n",
    "print '找位置在5%的数字'\n",
    "large_arr = np_random.randn(1000)\n",
    "large_arr.sort()\n",
    "print large_arr[int(0.05 * len(large_arr))]\n",
    "'''   数组名[取整int(位置 %5 *  总数据长)]'''"
   ]
  },
  {
   "cell_type": "markdown",
   "metadata": {},
   "source": [
    "# 利用数组进行数据处理 去重以及其它集合运算"
   ]
  },
  {
   "cell_type": "raw",
   "metadata": {},
   "source": [
    "unique(x)        计算x中的唯一元素，并返回有序结果。\n",
    "union1d(x, y)     计算x和y的并集，并返回有序结果。\n",
    "in1d(x, y)       得到一个表述\"x的元素是否包含于y\"的布尔型数组\n",
    "setdiff1d(x, y)   集合的差，即元素在x中且不在y中\n",
    "setxor1d(x, y)    集合的异或，即存在于一个数组中但不同时存在于两个数组中的元素\n",
    "intersect1d(x, y)   计算x和y中的公共元素，并返回有序结果。"
   ]
  },
  {
   "cell_type": "code",
   "execution_count": 43,
   "metadata": {},
   "outputs": [
    {
     "name": "stdout",
     "output_type": "stream",
     "text": [
      "用unique函数去重\n",
      "['Bob', 'Joe', 'Will']\n",
      "['Bob' 'Joe' 'Will']\n",
      "[1 2 3 4]\n",
      "\n",
      "查找数组元素是否在另一数组\n",
      "[ True False False  True  True False  True]\n"
     ]
    }
   ],
   "source": [
    "import numpy as np\n",
    "import numpy.random as np_random\n",
    "\n",
    "print '用unique函数去重'\n",
    "names = np.array(['Bob', 'Joe', 'Will', 'Bob', 'Will', 'Joe', 'Joe'])\n",
    "print sorted(set(names))  # 传统Python做法\n",
    "print np.unique(names)\n",
    "ints = np.array([3, 3, 3, 2, 2, 1, 1, 4, 4])\n",
    "print np.unique(ints)\n",
    "print\n",
    "\n",
    "print '查找数组元素是否在另一数组'\n",
    "values = np.array([6, 0, 0, 3, 2, 5, 6])\n",
    "print np.in1d(values, [2, 3, 6])"
   ]
  },
  {
   "cell_type": "markdown",
   "metadata": {},
   "source": [
    "# 线性代数"
   ]
  },
  {
   "cell_type": "raw",
   "metadata": {},
   "source": [
    "## 常用的numpy.linalg函数\n",
    "diag   以一维数组的形式返回方阵的对角线（或非对角线元素），\n",
    "       获将一维数组转换为方阵（非对角线元素为0）。\n",
    "dot    矩阵乘法\n",
    "trace   计算对角线元素的和\n",
    "det    计算矩阵行列式\n",
    "eig    计算方阵的特征值和特征向量\n",
    "inv    计算方阵的逆\n",
    "pinv   计算矩阵的Moore-Penrose伪逆\n",
    "qr     计算QR分解\n",
    "svd    计算奇异值分解\n",
    "solve   解线性方程Ax = b，其中A为一个方阵。\n",
    "lstsq   计算Ax = b的最小二乘解"
   ]
  },
  {
   "cell_type": "code",
   "execution_count": 7,
   "metadata": {},
   "outputs": [
    {
     "name": "stdout",
     "output_type": "stream",
     "text": [
      "矩阵乘法\n",
      "[[  28.   64.]\n",
      " [  67.  181.]]\n",
      "-----np.dot(x, np.ones(3))\n",
      "[  6.  15.]\n",
      "\n",
      "矩阵求逆\n",
      "[[  2.77711415   0.17040681   4.27624345  -6.24538068]\n",
      " [  0.17040681   0.61158677   1.06653833   0.24962699]\n",
      " [  4.27624345   1.06653833   8.14976605  -8.69119299]\n",
      " [ -6.24538068   0.24962699  -8.69119299  15.53286846]]\n",
      "[[  1.00000000e+00   0.00000000e+00   0.00000000e+00  -7.10542736e-15]\n",
      " [  1.77635684e-15   1.00000000e+00   3.55271368e-15   0.00000000e+00]\n",
      " [  1.55431223e-15   9.71445147e-17   1.00000000e+00   1.33226763e-15]\n",
      " [  0.00000000e+00  -1.66533454e-16   0.00000000e+00   1.00000000e+00]]\n",
      "\n",
      "矩阵消元\n",
      "[[ 12.73938686   1.24497755  -3.48688901   3.15114464]\n",
      " [  1.24497755   6.1859028   -2.56630331  -1.03477648]\n",
      " [ -3.48688901  -2.56630331   2.07540899  -0.19948348]\n",
      " [  3.15114464  -1.03477648  -0.19948348   1.23638829]]\n",
      "[[-0.93427285  0.11593539 -0.06395645 -0.33106314]\n",
      " [-0.09130335 -0.91485029 -0.39311263  0.01323255]\n",
      " [ 0.25571919  0.30817052 -0.79207407 -0.46071389]\n",
      " [-0.23109659  0.23374957 -0.46259128  0.82338619]]\n",
      "[[-13.63561711  -2.14506209   4.06883969  -3.1862872 ]\n",
      " [  0.          -6.5475756    2.53648019   1.53952504]\n",
      " [  0.           0.          -0.31974304  -0.20868906]\n",
      " [  0.           0.           0.           0.05300928]]\n"
     ]
    }
   ],
   "source": [
    "import numpy as np\n",
    "import numpy.random as np_random\n",
    "from numpy.linalg import inv, qr\n",
    "\n",
    "print '矩阵乘法'\n",
    "x = np.array([[1., 2., 3.], [4., 5., 6.]])\n",
    "y = np.array([[6., 23.], [-1, 7], [8, 9]])\n",
    "print x.dot(y) # np.dot(x, y)\n",
    "print '-----np.dot(x, np.ones(3))---------'\n",
    "print np.dot(x, np.ones(3)) #np.ones(3), [1, 1, 1]\n",
    "\n",
    "print\n",
    "\n",
    "print '矩阵求逆'\n",
    "x = np_random.randn(4, 4)\n",
    "mat = x.T.dot(x)\n",
    "print inv(mat)  # 矩阵求逆\n",
    "print mat.dot(inv(mat)) # 与逆矩阵相乘，得到单位矩阵。\n",
    "print\n",
    "\n",
    "print '矩阵消元'\n",
    "print mat\n",
    "q, r = qr(mat)\n",
    "print q\n",
    "print r\n",
    "# TODO: http://docs.scipy.org/doc/numpy/reference/generated/numpy.linalg.qr.html q代表什么矩阵？"
   ]
  },
  {
   "cell_type": "markdown",
   "metadata": {},
   "source": [
    "# 随机数生成"
   ]
  },
  {
   "cell_type": "raw",
   "metadata": {},
   "source": [
    "## 部分numpy.random函数\n",
    "seed        确定随机数生成器的种子\n",
    "shuffle     对一个序列就地随机乱序\n",
    "rand        产生均匀分布的样本值\n",
    "randint     从给定的上下限范围内随机选取整数\n",
    "randn       产生正态分布（平均值为0，标准差为1）\n",
    "binomial    产生二项分布的样本值\n",
    "normal      产生正态（高斯）分布的样本值\n",
    "beta        产生Beta分布的样本值\n",
    "chisquare   产生卡方分布的样本值\n",
    "gamma       产生Gamma分布的样本值\n",
    "uniform     产生在[0, 1]中均匀分布的样本值\n",
    "permutation 返回一个序列的随机排列或返回一个随机排列的返回"
   ]
  },
  {
   "cell_type": "code",
   "execution_count": 8,
   "metadata": {},
   "outputs": [
    {
     "name": "stdout",
     "output_type": "stream",
     "text": [
      "正态分布随机数\n",
      "[[ 0.27787784 -0.11473824  0.31662801  1.54646959]\n",
      " [ 0.34476698 -1.23080127  0.76128508 -0.20408263]\n",
      " [ 0.97130439  0.35011518 -0.26325424 -0.30360617]\n",
      " [-0.19731842 -0.75140255 -0.47020142  1.63130645]]\n",
      "批量按正态分布生成0到1的随机数\n",
      "[0.4779855239889516, -0.996461140896215, 0.9544003687612331, 2.2088525938452763, 0.8591416757631372, 0.835757532127263, 0.037563384361286416, 1.386458051103816, 0.9792334348522026, -0.22898253445709088]\n",
      "[-0.12893397  2.53489204 -0.15587871  2.19508069 -0.97252478 -0.43102379\n",
      " -1.61279342  0.89912837 -0.98837486 -0.59811221]\n"
     ]
    }
   ],
   "source": [
    "import numpy as np\n",
    "import numpy.random as np_random\n",
    "from random import normalvariate\n",
    "\n",
    "print '正态分布随机数'\n",
    "samples = np.random.normal(size=(4, 4))\n",
    "print samples\n",
    "\n",
    "print '批量按正态分布生成0到1的随机数'\n",
    "N = 10\n",
    "print [normalvariate(0, 1) for _ in xrange(N)]\n",
    "print np.random.normal(size = N)  # 与上面代码等价"
   ]
  },
  {
   "cell_type": "markdown",
   "metadata": {},
   "source": [
    "# 数组文件的输入输出"
   ]
  },
  {
   "cell_type": "markdown",
   "metadata": {},
   "source": [
    "• 将数组以二进制格式保存到磁盘\n",
    "• 存取文本文件"
   ]
  },
  {
   "cell_type": "code",
   "execution_count": 2,
   "metadata": {},
   "outputs": [
    {
     "name": "stdout",
     "output_type": "stream",
     "text": [
      "读取csv文件做为数组\n"
     ]
    },
    {
     "ename": "ValueError",
     "evalue": "invalid literal for float(): 0.580052,0.186730,1.040717,1.134411",
     "output_type": "error",
     "traceback": [
      "\u001b[1;31m---------------------------------------------------------------------------\u001b[0m",
      "\u001b[1;31mValueError\u001b[0m                                Traceback (most recent call last)",
      "\u001b[1;32m<ipython-input-2-eb90ed9a0172>\u001b[0m in \u001b[0;36m<module>\u001b[1;34m()\u001b[0m\n\u001b[0;32m      2\u001b[0m \u001b[1;33m\u001b[0m\u001b[0m\n\u001b[0;32m      3\u001b[0m \u001b[1;32mprint\u001b[0m \u001b[1;34m'读取csv文件做为数组'\u001b[0m\u001b[1;33m\u001b[0m\u001b[0m\n\u001b[1;32m----> 4\u001b[1;33m \u001b[0marr\u001b[0m \u001b[1;33m=\u001b[0m \u001b[0mnp\u001b[0m\u001b[1;33m.\u001b[0m\u001b[0mloadtxt\u001b[0m\u001b[1;33m(\u001b[0m\u001b[1;34m'array_ex.txt'\u001b[0m\u001b[1;33m)\u001b[0m\u001b[1;31m#, delimiter = ',') #以 ',' 为分隔符\u001b[0m\u001b[1;33m\u001b[0m\u001b[0m\n\u001b[0m\u001b[0;32m      5\u001b[0m \u001b[1;32mprint\u001b[0m \u001b[0marr\u001b[0m\u001b[1;33m\u001b[0m\u001b[0m\n\u001b[0;32m      6\u001b[0m \u001b[1;33m\u001b[0m\u001b[0m\n",
      "\u001b[1;32mI:\\Anaconda2\\lib\\site-packages\\numpy\\lib\\npyio.pyc\u001b[0m in \u001b[0;36mloadtxt\u001b[1;34m(fname, dtype, comments, delimiter, converters, skiprows, usecols, unpack, ndmin)\u001b[0m\n\u001b[0;32m   1022\u001b[0m \u001b[1;33m\u001b[0m\u001b[0m\n\u001b[0;32m   1023\u001b[0m             \u001b[1;31m# Convert each value according to its column and store\u001b[0m\u001b[1;33m\u001b[0m\u001b[1;33m\u001b[0m\u001b[0m\n\u001b[1;32m-> 1024\u001b[1;33m             \u001b[0mitems\u001b[0m \u001b[1;33m=\u001b[0m \u001b[1;33m[\u001b[0m\u001b[0mconv\u001b[0m\u001b[1;33m(\u001b[0m\u001b[0mval\u001b[0m\u001b[1;33m)\u001b[0m \u001b[1;32mfor\u001b[0m \u001b[1;33m(\u001b[0m\u001b[0mconv\u001b[0m\u001b[1;33m,\u001b[0m \u001b[0mval\u001b[0m\u001b[1;33m)\u001b[0m \u001b[1;32min\u001b[0m \u001b[0mzip\u001b[0m\u001b[1;33m(\u001b[0m\u001b[0mconverters\u001b[0m\u001b[1;33m,\u001b[0m \u001b[0mvals\u001b[0m\u001b[1;33m)\u001b[0m\u001b[1;33m]\u001b[0m\u001b[1;33m\u001b[0m\u001b[0m\n\u001b[0m\u001b[0;32m   1025\u001b[0m             \u001b[1;31m# Then pack it according to the dtype's nesting\u001b[0m\u001b[1;33m\u001b[0m\u001b[1;33m\u001b[0m\u001b[0m\n\u001b[0;32m   1026\u001b[0m             \u001b[0mitems\u001b[0m \u001b[1;33m=\u001b[0m \u001b[0mpack_items\u001b[0m\u001b[1;33m(\u001b[0m\u001b[0mitems\u001b[0m\u001b[1;33m,\u001b[0m \u001b[0mpacking\u001b[0m\u001b[1;33m)\u001b[0m\u001b[1;33m\u001b[0m\u001b[0m\n",
      "\u001b[1;32mI:\\Anaconda2\\lib\\site-packages\\numpy\\lib\\npyio.pyc\u001b[0m in \u001b[0;36mfloatconv\u001b[1;34m(x)\u001b[0m\n\u001b[0;32m    723\u001b[0m         \u001b[1;32mif\u001b[0m \u001b[1;34mb'0x'\u001b[0m \u001b[1;32min\u001b[0m \u001b[0mx\u001b[0m\u001b[1;33m:\u001b[0m\u001b[1;33m\u001b[0m\u001b[0m\n\u001b[0;32m    724\u001b[0m             \u001b[1;32mreturn\u001b[0m \u001b[0mfloat\u001b[0m\u001b[1;33m.\u001b[0m\u001b[0mfromhex\u001b[0m\u001b[1;33m(\u001b[0m\u001b[0masstr\u001b[0m\u001b[1;33m(\u001b[0m\u001b[0mx\u001b[0m\u001b[1;33m)\u001b[0m\u001b[1;33m)\u001b[0m\u001b[1;33m\u001b[0m\u001b[0m\n\u001b[1;32m--> 725\u001b[1;33m         \u001b[1;32mreturn\u001b[0m \u001b[0mfloat\u001b[0m\u001b[1;33m(\u001b[0m\u001b[0mx\u001b[0m\u001b[1;33m)\u001b[0m\u001b[1;33m\u001b[0m\u001b[0m\n\u001b[0m\u001b[0;32m    726\u001b[0m \u001b[1;33m\u001b[0m\u001b[0m\n\u001b[0;32m    727\u001b[0m     \u001b[0mtyp\u001b[0m \u001b[1;33m=\u001b[0m \u001b[0mdtype\u001b[0m\u001b[1;33m.\u001b[0m\u001b[0mtype\u001b[0m\u001b[1;33m\u001b[0m\u001b[0m\n",
      "\u001b[1;31mValueError\u001b[0m: invalid literal for float(): 0.580052,0.186730,1.040717,1.134411"
     ]
    }
   ],
   "source": [
    "import numpy as np\n",
    "\n",
    "print '读取csv文件做为数组'\n",
    "arr = np.loadtxt('array_ex.txt', delimiter = ',') #以 ',' 为分隔符\n",
    "print arr\n",
    "\n",
    "import numpy as np\n",
    "\n",
    "print '数组文件读写'\n",
    "arr = np.arange(10)\n",
    "np.save('some_array', arr)\n",
    "print np.load('some_array.npy')\n",
    "print\n",
    "\n",
    "print '多个数组压缩存储'\n",
    "np.savez('array_archive.npz', a = arr, b = arr)\n",
    "arch = np.load('array_archive.npz')\n",
    "print arch['b']"
   ]
  },
  {
   "cell_type": "markdown",
   "metadata": {},
   "source": [
    "# 高级应用 数组重塑"
   ]
  },
  {
   "cell_type": "markdown",
   "metadata": {},
   "source": [
    "• reshape重塑数组\n",
    "• -1自动推导维度大小"
   ]
  },
  {
   "cell_type": "code",
   "execution_count": 69,
   "metadata": {},
   "outputs": [
    {
     "name": "stdout",
     "output_type": "stream",
     "text": [
      "将一维数组转换为二维数组\n",
      "[[ 0  1  2]\n",
      " [ 3  4  5]\n",
      " [ 6  7  8]\n",
      " [ 9 10 11]]\n",
      "[[ 0  1  2  3  4  5]\n",
      " [ 6  7  8  9 10 11]]\n",
      "\n",
      "维度大小自动推导\n",
      "[[ 0  1  2]\n",
      " [ 3  4  5]\n",
      " [ 6  7  8]\n",
      " [ 9 10 11]\n",
      " [12 13 14]]\n",
      "\n",
      "获取维度信息并应用\n",
      "(3L, 5L)\n",
      "[[ 0  1  2  3  4]\n",
      " [ 5  6  7  8  9]\n",
      " [10 11 12 13 14]]\n",
      "\n",
      "高维数组拉平\n",
      "[ 0  1  2  3  4  5  6  7  8  9 10 11 12 13 14]\n"
     ]
    }
   ],
   "source": [
    "import numpy as np\n",
    "\n",
    "print \"将一维数组转换为二维数组\"\n",
    "arr = np.arange(12)\n",
    "print arr.reshape((4, 3))\n",
    "print arr.reshape((4, 3)).reshape((2, 6)) # 支持链式操作\n",
    "print\n",
    "\n",
    "print \"维度大小自动推导\"\n",
    "arr = np.arange(15)\n",
    "print arr.reshape((5, -1)) #-1, -11, -946均可\n",
    "print\n",
    "\n",
    "print \"获取维度信息并应用\"\n",
    "other_arr = np.ones((3, 5))\n",
    "print other_arr.shape\n",
    "print arr.reshape(other_arr.shape)\n",
    "print\n",
    "\n",
    "print \"高维数组拉平\"\n",
    "arr = np.arange(15).reshape((5, 3))\n",
    "print arr.ravel()"
   ]
  },
  {
   "cell_type": "markdown",
   "metadata": {},
   "source": [
    "# 高级应用 数组的合并和拆分"
   ]
  },
  {
   "cell_type": "raw",
   "metadata": {},
   "source": [
    "• _r对象\n",
    "• _c对象\n",
    "concatenate  最一般化的连接，沿一条轴连接一组数组\n",
    "hstack     以面向行的方式对数组进行堆叠（沿轴1）\n",
    "dstack     以面向“深度”的方式对数组进行堆叠（沿轴2）\n",
    "split      沿指定轴在指定的位置拆分数组\n",
    "column_stack      类似于hstack，但是会先将一维数组转换为二维列向量。\n",
    "vstack, row_stack   以面向行的方式对数组进行堆叠（沿轴0）\n",
    "hsplit, vsplit, dsplit   split的便捷化函数，分别沿着轴0、轴1和轴2进行拆分"
   ]
  },
  {
   "cell_type": "code",
   "execution_count": 12,
   "metadata": {},
   "outputs": [
    {
     "name": "stdout",
     "output_type": "stream",
     "text": [
      "连接两个二维数组\n",
      "[[ 1  2  3]\n",
      " [ 4  5  6]\n",
      " [ 7  8  9]\n",
      " [10 11 12]]\n",
      "[[ 1  2  3  7  8  9]\n",
      " [ 4  5  6 10 11 12]]\n",
      "\n",
      "垂直stack与水平stack\n",
      "[[ 1  2  3]\n",
      " [ 4  5  6]\n",
      " [ 7  8  9]\n",
      " [10 11 12]]\n",
      "[[ 1  2  3  7  8  9]\n",
      " [ 4  5  6 10 11 12]]\n",
      "\n"
     ]
    }
   ],
   "source": [
    "import numpy as np\n",
    "import numpy.random as np_random\n",
    "\n",
    "\n",
    "print '连接两个二维数组'\n",
    "arr1 = np.array([[1, 2, 3], [4, 5, 6]])\n",
    "arr2 = np.array([[7, 8, 9], [10, 11, 12]])\n",
    "print np.concatenate([arr1, arr2], axis = 0)  # 按行连接\n",
    "print np.concatenate([arr1, arr2], axis = 1)  # 按列连接\n",
    "print\n",
    "\n",
    "# 所谓堆叠，参考叠盘子。。。连接的另一种表述\n",
    "print '垂直stack与水平stack'\n",
    "print np.vstack((arr1, arr2)) # 垂直堆叠\n",
    "print np.hstack((arr1, arr2)) # 水平堆叠\n",
    "print"
   ]
  },
  {
   "cell_type": "code",
   "execution_count": 16,
   "metadata": {},
   "outputs": [
    {
     "name": "stdout",
     "output_type": "stream",
     "text": [
      "拆分数组 原数组\n",
      "[[ 0.34871833  0.70192093 -2.14224068 -0.76693842 -0.85363858]\n",
      " [ 1.01184097  1.42615631 -0.35422194  0.74622949 -1.09864312]\n",
      " [-0.94497728 -0.55748075  0.53395747  1.5674847  -0.41570155]\n",
      " [ 0.78034441  0.45041801  0.54992535  0.60944927 -1.40255328]\n",
      " [ 0.95935569 -0.38519537  0.17128501  0.70788831  0.06282681]]\n",
      "水平拆分[1], [3]\n",
      "first\n",
      "[[ 0.34871833  0.70192093 -2.14224068 -0.76693842 -0.85363858]]\n",
      "second\n",
      "[[ 1.01184097  1.42615631 -0.35422194  0.74622949 -1.09864312]\n",
      " [-0.94497728 -0.55748075  0.53395747  1.5674847  -0.41570155]]\n",
      "third\n",
      "[[ 0.78034441  0.45041801  0.54992535  0.60944927 -1.40255328]\n",
      " [ 0.95935569 -0.38519537  0.17128501  0.70788831  0.06282681]]\n",
      "\n",
      "垂直拆分[1], [4]\n",
      "first\n",
      "[[ 0.34871833]\n",
      " [ 1.01184097]\n",
      " [-0.94497728]\n",
      " [ 0.78034441]\n",
      " [ 0.95935569]]\n",
      "second\n",
      "[[ 0.70192093 -2.14224068 -0.76693842]\n",
      " [ 1.42615631 -0.35422194  0.74622949]\n",
      " [-0.55748075  0.53395747  1.5674847 ]\n",
      " [ 0.45041801  0.54992535  0.60944927]\n",
      " [-0.38519537  0.17128501  0.70788831]]\n",
      "third\n",
      "[[-0.85363858]\n",
      " [-1.09864312]\n",
      " [-0.41570155]\n",
      " [-1.40255328]\n",
      " [ 0.06282681]]\n"
     ]
    }
   ],
   "source": [
    "print '拆分数组 原数组'\n",
    "arr = np_random.randn(5, 5)\n",
    "print arr\n",
    "print '水平拆分[1], [3]'\n",
    "first, second, third = np.split(arr, [1, 3], axis = 0)\n",
    "print 'first'           #指定的位置[1], [3]拆分数组\n",
    "print first\n",
    "print 'second'\n",
    "print second\n",
    "print 'third'\n",
    "print third\n",
    "print\n",
    "print '垂直拆分[1], [4]'\n",
    "first, second, third = np.split(arr, [1, 4], axis = 1)\n",
    "print 'first'          #指定的位置[1], [4]拆分数组\n",
    "print first\n",
    "print 'second'\n",
    "print second\n",
    "print 'third'\n",
    "print third"
   ]
  },
  {
   "cell_type": "code",
   "execution_count": 9,
   "metadata": {},
   "outputs": [
    {
     "name": "stdout",
     "output_type": "stream",
     "text": [
      "r_用于按行堆叠\n",
      "[[ 0.          1.        ]\n",
      " [ 2.          3.        ]\n",
      " [ 4.          5.        ]\n",
      " [ 0.81155578  0.20007092]\n",
      " [-0.31493138 -0.82475426]\n",
      " [-0.83748438 -0.88875511]]\n",
      "c_用于按列堆叠\n",
      "[[ 0.          1.          0.81155578  0.20007092]\n",
      " [ 2.          3.         -0.31493138 -0.82475426]\n",
      " [ 4.          5.         -0.83748438 -0.88875511]]\n",
      "先r_后c_堆叠\n",
      "[[ 0.          1.          0.        ]\n",
      " [ 2.          3.          1.        ]\n",
      " [ 4.          5.          2.        ]\n",
      " [ 0.81155578  0.20007092  3.        ]\n",
      " [-0.31493138 -0.82475426  4.        ]\n",
      " [-0.83748438 -0.88875511  5.        ]]\n",
      "切片直接转为数组\n",
      "[[  1 -10]\n",
      " [  2  -9]\n",
      " [  3  -8]\n",
      " [  4  -7]\n",
      " [  5  -6]]\n"
     ]
    }
   ],
   "source": [
    "# 堆叠辅助类\n",
    "arr = np.arange(6)\n",
    "arr1 = arr.reshape((3, 2))\n",
    "arr2 = np_random.randn(3, 2)\n",
    "print 'r_用于按行堆叠'\n",
    "print np.r_[arr1, arr2]\n",
    "print 'c_用于按列堆叠'\n",
    "print np.c_[arr1, arr2]\n",
    "print '先r_后c_堆叠'\n",
    "print np.c_[np.r_[arr1, arr2], arr]\n",
    "print '切片直接转为数组'\n",
    "print np.c_[1:6, -10:-5]"
   ]
  },
  {
   "cell_type": "markdown",
   "metadata": {},
   "source": [
    "# 高级应用 元素的重复操作\n",
    "\n",
    "• _tile   按轴\n",
    "• _repeat 按元素"
   ]
  },
  {
   "cell_type": "code",
   "execution_count": 51,
   "metadata": {},
   "outputs": [
    {
     "name": "stdout",
     "output_type": "stream",
     "text": [
      "Repeat: 按元素\n",
      "[0 1 2]\n",
      "\n",
      "[0 0 0 1 1 1 2 2 2]\n",
      "\n",
      "[0 0 1 1 1 2 2 2 2]\n",
      "\n",
      "Repeat，指定轴\n",
      "[[ 1.40702467 -0.83212609]\n",
      " [ 0.03884593  1.7462798 ]]\n",
      "按行repeat\n",
      "[[ 1.40702467 -0.83212609]\n",
      " [ 1.40702467 -0.83212609]\n",
      " [ 0.03884593  1.7462798 ]\n",
      " [ 0.03884593  1.7462798 ]]\n",
      "按列repeat\n",
      "[[ 1.40702467  1.40702467 -0.83212609 -0.83212609]\n",
      " [ 0.03884593  0.03884593  1.7462798   1.7462798 ]]\n",
      "\n",
      "Tile: 参考贴瓷砖\n",
      "[[ 1.40702467 -0.83212609  1.40702467 -0.83212609]\n",
      " [ 0.03884593  1.7462798   0.03884593  1.7462798 ]]\n",
      "\n",
      "[[ 1.40702467 -0.83212609  1.40702467 -0.83212609  1.40702467 -0.83212609]\n",
      " [ 0.03884593  1.7462798   0.03884593  1.7462798   0.03884593  1.7462798 ]\n",
      " [ 1.40702467 -0.83212609  1.40702467 -0.83212609  1.40702467 -0.83212609]\n",
      " [ 0.03884593  1.7462798   0.03884593  1.7462798   0.03884593  1.7462798 ]]\n"
     ]
    }
   ],
   "source": [
    "import numpy as np\n",
    "import numpy.random as np_random\n",
    "\n",
    "print 'Repeat: 按元素'\n",
    "arr = np.arange(3)\n",
    "print arr\n",
    "print\n",
    "print arr.repeat(3)\n",
    "print\n",
    "print arr.repeat([2, 3, 4]) # 3个元素，分别复制2, 3, 4次。长度要匹配！\n",
    "print\n",
    "\n",
    "print 'Repeat，指定轴'\n",
    "arr = np_random.randn(2, 2)\n",
    "print arr\n",
    "print '按行repeat'\n",
    "print arr.repeat(2, axis = 0) # 按行repeat\n",
    "print '按列repeat'\n",
    "print arr.repeat(2, axis = 1) # 按列repeat\n",
    "print\n",
    "\n",
    "print 'Tile: 参考贴瓷砖'\n",
    "print np.tile(arr, 2)\n",
    "print\n",
    "print np.tile(arr, (2, 3))  # 指定每个轴的tile次数"
   ]
  },
  {
   "cell_type": "markdown",
   "metadata": {},
   "source": [
    "# 高级应用 花式索引的等价函数"
   ]
  },
  {
   "cell_type": "markdown",
   "metadata": {},
   "source": [
    "• take\n",
    "• put"
   ]
  },
  {
   "cell_type": "code",
   "execution_count": 29,
   "metadata": {},
   "outputs": [
    {
     "name": "stdout",
     "output_type": "stream",
     "text": [
      "Fancy Indexing例子代码\n",
      "[700 100 200 600]\n",
      "\n",
      "使用take\n",
      "[700 100 200 600]\n",
      "\n",
      "使用put更新内容\n",
      "[  0  50  50 300 400 500  50  50 800 900]\n",
      "[  0  10  20 300 400 500  60  70 800 900]\n",
      "\n",
      "take，指定轴\n",
      "[[ 0.70707976 -0.1322817   0.03106988 -0.40396575]\n",
      " [-0.89652545 -0.51080284 -0.88780142 -0.35768558]]\n",
      "[[ 0.03106988  0.70707976  0.03106988 -0.1322817 ]\n",
      " [-0.88780142 -0.89652545 -0.88780142 -0.51080284]]\n"
     ]
    }
   ],
   "source": [
    "import numpy as np\n",
    "import numpy.random as np_random\n",
    "\n",
    "print 'Fancy Indexing例子代码'\n",
    "arr = np.arange(10) * 100\n",
    "inds = [7, 1, 2, 6]\n",
    "print arr[inds]\n",
    "print\n",
    "\n",
    "print '使用take'\n",
    "print arr.take(inds)\n",
    "print\n",
    "\n",
    "print '使用put更新内容'\n",
    "arr.put(inds, 50)\n",
    "print arr\n",
    "arr.put(inds, [70, 10, 20, 60])\n",
    "print arr\n",
    "print\n",
    "\n",
    "print 'take，指定轴'\n",
    "arr = np_random.randn(2, 4)\n",
    "inds = [2, 0, 2, 1]\n",
    "print arr\n",
    "print arr.take(inds, axis = 1)  # 按列take"
   ]
  },
  {
   "cell_type": "markdown",
   "metadata": {},
   "source": [
    "# 例题分析 距离矩阵计算"
   ]
  },
  {
   "cell_type": "raw",
   "metadata": {},
   "source": [
    "给定m × n阶矩阵X，满足X = [x1, x2, ... xn]，这里第i列向量是m维向量。\n",
    "求n × n矩阵，使得Dij = ||xi - xj||2\n",
    "• 方法1：标准方法计算Dij\n",
    "        D[i, j] = numpy.linalg.norm(X[:, i], X[:, j) ** 2\n",
    "• 方法2：利用dot计算Dij\n",
    "        d = X[:, i] - X[:, j]\n",
    "        D[i, j] = numpy.dot(d, d)\n",
    "• 方法3：减少dot调用次数\n",
    "        Dij = (xi - xj)T(xi - xj) = xiTxi - 2xiTxj + xjTxj\n",
    "        G = numpy.dot(X.T, X)\n",
    "        Dij = Gii - 2Gij + Gjj\n",
    "• 方法4：利用重复操作替代外部循环\n",
    "        在方法3的基础上，将D表达为H + K - 2G\n",
    "        Hij = Gii, Kij = Gjj\n",
    "        H = numpy.title(np.diag(G), (n, 1))\n",
    "        K = HT\n",
    "        D = H + HT - 2G"
   ]
  },
  {
   "cell_type": "code",
   "execution_count": 17,
   "metadata": {},
   "outputs": [
    {
     "name": "stdout",
     "output_type": "stream",
     "text": [
      "用时:方法一\n",
      "2.30800008774\n",
      "用时:方法二\n",
      "0.921999931335\n",
      "用时:方法三\n",
      "0.276000022888\n",
      "用时:方法四\n",
      "0.00499987602234\n"
     ]
    }
   ],
   "source": [
    "import numpy as np\n",
    "import numpy.linalg as la\n",
    "import time\n",
    "\n",
    "print '用时:方法一'\n",
    "X = np.array([range(0, 500), range(500, 1000)])\n",
    "m, n = X.shape\n",
    "\n",
    "t = time.time()\n",
    "D = np.zeros([n, n])\n",
    "for i in xrange(n):\n",
    "    for j in xrange(i + 1, n):\n",
    "        D[i, j] = la.norm(X[:, i] - X[:, j]) ** 2\n",
    "        D[j, i] = D[i, j]\n",
    "print time.time() - t\n",
    "\n",
    "print '用时:方法二'\n",
    "t = time.time()\n",
    "D = np.zeros([n, n])\n",
    "for i in xrange(n):\n",
    "    for j in xrange(i + 1, n):\n",
    "        d = X[:, i] - X[:, j]\n",
    "        D[i, j] = np.dot(d, d)\n",
    "        D[j, i] = D[i, j]\n",
    "print time.time() - t\n",
    "\n",
    "print '用时:方法三'\n",
    "t = time.time()\n",
    "G = np.dot(X.T, X)\n",
    "D = np.zeros([n, n])\n",
    "for i in xrange(n):\n",
    "    for j in xrange(i + 1, n):\n",
    "        D[i, j] = G[i, i] - G[i, j] * 2 + G[j,j]\n",
    "        D[j, i] = D[i, j]\n",
    "print time.time() - t\n",
    "\n",
    "print '用时:方法四'\n",
    "t = time.time()\n",
    "G = np.dot(X.T, X)\n",
    "H = np.tile(np.diag(G), (n, 1))\n",
    "D = H + H.T - G * 2\n",
    "print time.time() - t\n"
   ]
  },
  {
   "cell_type": "code",
   "execution_count": null,
   "metadata": {
    "collapsed": true
   },
   "outputs": [],
   "source": []
  }
 ],
 "metadata": {
  "kernelspec": {
   "display_name": "Python 2",
   "language": "python",
   "name": "python2"
  },
  "language_info": {
   "codemirror_mode": {
    "name": "ipython",
    "version": 2
   },
   "file_extension": ".py",
   "mimetype": "text/x-python",
   "name": "python",
   "nbconvert_exporter": "python",
   "pygments_lexer": "ipython2",
   "version": "2.7.14"
  },
  "toc": {
   "nav_menu": {},
   "number_sections": true,
   "sideBar": true,
   "skip_h1_title": false,
   "title_cell": "Table of Contents",
   "title_sidebar": "Contents",
   "toc_cell": false,
   "toc_position": {},
   "toc_section_display": true,
   "toc_window_display": true
  }
 },
 "nbformat": 4,
 "nbformat_minor": 2
}
