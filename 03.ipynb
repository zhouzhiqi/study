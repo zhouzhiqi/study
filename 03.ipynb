{
 "cells": [
  {
   "cell_type": "code",
   "execution_count": null,
   "metadata": {
    "collapsed": true
   },
   "outputs": [],
   "source": [
    "#字典 {key:value, key:value}\n",
    "brand1 = ['today', 'mingtian', 'houtian', 'dahoutian']\n",
    "brand2 = ['one', 'two', 'three', 'four']\n",
    "print('today is ', brand2[brand1.index('today')])\n",
    "\n",
    "dict001 = {'today':'one', 'mingtian':'two', 'houtian':'three', 'dahoutian':'sour'}\n",
    "print('today is',dict001['today'])\n",
    "print(dict001)\n",
    "dict001['buzhidao'] = 'nicai' #没有时自动在末尾添加\n",
    "print(dict001)\n",
    "\n",
    "dict002 = dict((('z',70),('h',3),('o',666),('u',0)))\n",
    "print(dict002['o'])"
   ]
  },
  {
   "cell_type": "code",
   "execution_count": null,
   "metadata": {
    "collapsed": true
   },
   "outputs": [],
   "source": [
    "dict01 = {}\n",
    "dict01 = dict01.fromkeys((1,2,3)) #不会修改,直接生成\n",
    "print(dict01)\n",
    "dict01 = dict01.fromkeys((1,2,3),'zhou')\n",
    "print(dict01)\n",
    "dict01 = dict01.fromkeys((1,2,3),('zhou','zhi','qi'))\n",
    "print(dict01)"
   ]
  },
  {
   "cell_type": "code",
   "execution_count": null,
   "metadata": {
    "collapsed": true
   },
   "outputs": [],
   "source": [
    "dict02 = dict.fromkeys(range(1,15),'Good')\n",
    "for i in dict02:\n",
    "    print(i, dict02[i])\n",
    "print('----------------')\n",
    "print(dict02.get(5))\n",
    "print(16 in dict02)\n",
    "dict04 = dict03 = dict02 #直接赋值相当于贴标签\n",
    "dict05 = dict03.copy() #.copy()就正儿八经的拷贝一份,和原来没关系(浅拷贝和深拷贝)\n",
    "dict02 = {} #对dict03,dict04 没有影响,存在数据泄露危险\n",
    "print(dict03)\n",
    "\n",
    "dict03.clear()\n",
    "print(dict04)\n",
    "print(dict05)"
   ]
  },
  {
   "cell_type": "code",
   "execution_count": null,
   "metadata": {
    "collapsed": true
   },
   "outputs": [],
   "source": [
    "#集合 {}\n",
    "set01 = {1:66, 2:33, 3:456}\n",
    "print(type(set01))\n",
    "set02 = {66, 2, 0, 3 , 3, 222} #自动删除重复出现 并自动排序\n",
    "print(type(set02))\n",
    "print(set02)\n",
    "\n",
    "num1 = [ 3, 222, 2, 1, 1, 1, 2, 3, 3 ,]\n",
    "print(num1)\n",
    "num1 = list(set(num1))\n",
    "print(num1)\n",
    "print(\"------------------\")\n",
    "set02 = frozenset(set02) #冻结集合,无法修改\n",
    "print(set02)\n",
    "set02.add(99)\n",
    "print(set02)\n",
    "dir(frozenset)"
   ]
  },
  {
   "cell_type": "code",
   "execution_count": null,
   "metadata": {
    "collapsed": true,
    "scrolled": true
   },
   "outputs": [],
   "source": [
    "##文件\n",
    "help(open)"
   ]
  },
  {
   "cell_type": "code",
   "execution_count": 3,
   "metadata": {},
   "outputs": [
    {
     "name": "stdout",
     "output_type": "stream",
     "text": [
      ".186730,1.040717,1.134411\n",
      "\n",
      "0.194163,-0.636917,-0.938659,0.124094\n",
      "\n",
      "-0.126410,0.268607,-0.695724,0.047428\n",
      "\n",
      "-1.484413,0.004176,-0.744203,0.005487\n",
      "\n",
      "2.302869,0.200131,1.670238,-1.881090\n",
      "\n",
      "-0.193230,1.047233,0.482803,0.960334\n"
     ]
    }
   ],
   "source": [
    "#  .当前路径;  ..上一级路径  E:\\\\****绝对路径\n",
    "md = open('array_ex.txt') #路径不能有\\0; 注意\\ 转义字符\n",
    "md.read(10) #读取(n)个字符\n",
    "for i in md:\n",
    "    print(i)\n",
    "\n",
    "md.close()"
   ]
  },
  {
   "cell_type": "code",
   "execution_count": null,
   "metadata": {
    "collapsed": true
   },
   "outputs": [],
   "source": [
    "#os模块(操作系统模块)\n",
    "import os\n",
    "dir(os)\n",
    "dir(os.path)"
   ]
  },
  {
   "cell_type": "code",
   "execution_count": null,
   "metadata": {
    "collapsed": true
   },
   "outputs": [],
   "source": [
    "# pickle 将对象转换为二进制文件\n",
    "# \n",
    "import pickle\n",
    "my_list = [1566, 's1564dfs51',12015, 'skfjdkfj']\n",
    "pickle_file = open('my_list.pkl', 'wb')\n",
    "pickle.dump(my_list, pickle_file)\n",
    "pickle_file.close()\n",
    "# dir(pickle)"
   ]
  },
  {
   "cell_type": "code",
   "execution_count": null,
   "metadata": {
    "collapsed": true
   },
   "outputs": [],
   "source": [
    "pickle_file = open('my_list.pkl', 'rb')\n",
    "load = pickle.load(pickle_file)\n",
    "print(load)"
   ]
  },
  {
   "cell_type": "code",
   "execution_count": null,
   "metadata": {
    "collapsed": true
   },
   "outputs": [],
   "source": [
    "# 异常  之后代码不会执行\n",
    "f =open('asjdfk.txt')\n",
    "print(f.load())\n",
    "f.close"
   ]
  },
  {
   "cell_type": "code",
   "execution_count": null,
   "metadata": {
    "collapsed": true
   },
   "outputs": [],
   "source": [
    "# 更改异常弹出信息\n",
    "try:\n",
    "    f =open('asjdfk.txt')\n",
    "    print(f.load())\n",
    "    f.close\n",
    "except OSError as reason:\n",
    "    print(\"file cant find\" + str(reason)) #出现异常之后执行\n",
    "finally:\n",
    "    print('一定会执行的代码')"
   ]
  },
  {
   "cell_type": "code",
   "execution_count": null,
   "metadata": {
    "collapsed": true
   },
   "outputs": [],
   "source": [
    "try:\n",
    "    int('5')\n",
    "    #int('abc')\n",
    "except ValueError:\n",
    "    print('cuo le')\n",
    "else:\n",
    "    print('nothing')"
   ]
  },
  {
   "cell_type": "code",
   "execution_count": 3,
   "metadata": {},
   "outputs": [
    {
     "name": "stdout",
     "output_type": "stream",
     "text": [
      "222\n",
      "---------------\n",
      "222\n"
     ]
    }
   ],
   "source": [
    "\n",
    "i = -3\n",
    "while i>0 :\n",
    "    print('111')\n",
    "    i -= 1\n",
    "else:\n",
    "    print('222')\n",
    "\n",
    "print(\"---------------\")\n",
    "i = -3\n",
    "while i>0 :\n",
    "    print('111')\n",
    "    i -= 1\n",
    "print('222')"
   ]
  },
  {
   "cell_type": "code",
   "execution_count": null,
   "metadata": {
    "collapsed": true
   },
   "outputs": [],
   "source": []
  }
 ],
 "metadata": {
  "kernelspec": {
   "display_name": "Python 3",
   "language": "python",
   "name": "python3"
  },
  "language_info": {
   "codemirror_mode": {
    "name": "ipython",
    "version": 3
   },
   "file_extension": ".py",
   "mimetype": "text/x-python",
   "name": "python",
   "nbconvert_exporter": "python",
   "pygments_lexer": "ipython3",
   "version": "3.5.2"
  }
 },
 "nbformat": 4,
 "nbformat_minor": 2
}
