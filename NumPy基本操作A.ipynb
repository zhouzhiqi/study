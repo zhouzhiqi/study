{
 "cells": [
  {
   "cell_type": "markdown",
   "metadata": {},
   "source": [
    "# 效率对比\n",
    "• 三种数据结构：list / array / numpy.array\n",
    "• 三种方法求和：for / sum / numpy.sum"
   ]
  },
  {
   "cell_type": "code",
   "execution_count": 1,
   "metadata": {},
   "outputs": [
    {
     "name": "stdout",
     "output_type": "stream",
     "text": [
      "list:\n",
      "1.130332243\n",
      "0.158508304044\n",
      "1.58619403799\n",
      "array:\n",
      "2.54726935362\n",
      "1.64654198805\n",
      "5.713534114\n",
      "numpy:\n",
      "5.68711264224\n",
      "3.74797461041\n",
      "0.0201724312672\n"
     ]
    }
   ],
   "source": [
    "import timeit\n",
    "\n",
    "common_for = \"\"\"\n",
    "for d in data:\n",
    "    s += d\n",
    "\"\"\"\n",
    "\n",
    "common_sum = \"\"\"\n",
    "sum(data)\n",
    "\"\"\"\n",
    "\n",
    "common_numpy_sum = \"\"\"\n",
    "numpy.sum(data)\n",
    "\"\"\"\n",
    "\n",
    "def timeit_list(n, loops):\n",
    "    list_setup = \"\"\"\n",
    "import numpy\n",
    "data = [1] * {}\n",
    "s = 0\n",
    "\"\"\".format(n)\n",
    "    print 'list:'\n",
    "    print timeit.timeit(common_for, list_setup, number = loops)\n",
    "    print timeit.timeit(common_sum, list_setup, number = loops)\n",
    "    print timeit.timeit(common_numpy_sum, list_setup, number = loops)\n",
    "\n",
    "def timeit_array(n, loops):\n",
    "    array_setup = \"\"\"\n",
    "import numpy\n",
    "import array\n",
    "data = array.array('L', [1] * {})\n",
    "s = 0\n",
    "\"\"\".format(n)\n",
    "    print 'array:'\n",
    "    print timeit.timeit(common_for, array_setup, number = loops)\n",
    "    print timeit.timeit(common_sum, array_setup, number = loops)\n",
    "    print timeit.timeit(common_numpy_sum, array_setup, number = loops)\n",
    "\n",
    "def timeit_numpy(n, loops):\n",
    "    numpy_setup = \"\"\"\n",
    "import numpy\n",
    "data = numpy.array([1] * {})\n",
    "s = 0\n",
    "\"\"\".format(n)\n",
    "    print 'numpy:'\n",
    "    print timeit.timeit(common_for, numpy_setup, number = loops)\n",
    "    print timeit.timeit(common_sum, numpy_setup, number = loops)\n",
    "    print timeit.timeit(common_numpy_sum, numpy_setup, number = loops)\n",
    "\n",
    "if __name__ == '__main__':\n",
    "    timeit_list(50000, 500)\n",
    "    timeit_array(50000, 500)\n",
    "    timeit_numpy(50000, 500)\n"
   ]
  },
  {
   "cell_type": "markdown",
   "metadata": {},
   "source": [
    "# 创建ndarray"
   ]
  },
  {
   "cell_type": "raw",
   "metadata": {},
   "source": [
    "ndarray是一个通用的同构数据多维容器\n",
    "所有元素必须是相同类型的\n",
    "每个数组都有一个shape（一个表示各维度大小的元组）\n",
    "和一个dtype（一个用于说明数组数据类型的对象）"
   ]
  },
  {
   "cell_type": "raw",
   "metadata": {},
   "source": [
    "## 数组创建函数\n",
    "\n",
    "类型          说明\n",
    "array     将输入数据（列表、元组、数组或其它序列类型）转换为ndarray。要么推断出dtype，要么显示指定dtype。默认直接复制输入数据。\n",
    "asarray   将输入转换为darray，如果输入本身就是一个ndarray就不进行复制。\n",
    "arange    类似于内置的range，但返回一个ndarray而不是列表。\n",
    "ones, ones_like     根据指定形状和dtype创建一个全1数组。ones_like以另一个数组为参数，并根据其形状和dtype创建一个全1数组。\n",
    "zeros, zeros_like   类似于ones和ones_like，只不过产生的是全0数组而已。\n",
    "empty, empty_like   创建数组，只分配内存空间但不填充任何值。\n",
    "eye, identity      创建一个正方的N * N单位矩阵"
   ]
  },
  {
   "cell_type": "raw",
   "metadata": {},
   "source": [
    "## NumPy数据类型\n",
    "创建ndarray时指定dtype类型\n",
    "使用astype显示转换类型\n",
    "-----------------------------------\n",
    "int8, uint8 - i1, u1     有／无符号的8位整型\n",
    "int16, uint16 - i2, u2    有／无符号的16位整型\n",
    "int32, uint32 - i4, u4    有／无符号的32位整型\n",
    "int64, uint64 - i8, u8    有／无符号的64位整型\n",
    "float16 - f2          半精度浮点数\n",
    "float32 - f4 or f      标准的单精度浮点数，与C的float兼容。\n",
    "float64 - f8 or d      标准的双精度浮点数。与C的double和Python的float兼容。\n",
    "float128 - f16 or g     扩展精度浮点数\n",
    "complex64/128/256 - c8/16/32     分别用两个32位，64位或128位浮点数表示的复数。\n",
    "bool - ?          存储True和False值的布尔类型\n",
    "object - O        Python对象类型\n",
    "string_ - S       固定长度的字符串类型。S10代表长度为10的字符串。\n",
    "unicode_ - U      固定长度的unicode类型"
   ]
  },
  {
   "cell_type": "code",
   "execution_count": 9,
   "metadata": {
    "scrolled": true
   },
   "outputs": [
    {
     "name": "stdout",
     "output_type": "stream",
     "text": [
      "使用普通一维数组生成NumPy一维数组\n",
      "[ 6.   7.5  8.   0.   1. ]\n",
      "打印元素类型\n",
      "float64\n",
      "\n"
     ]
    }
   ],
   "source": [
    "import numpy as np\n",
    "\n",
    "print '使用普通一维数组生成NumPy一维数组'\n",
    "data = [6, 7.5, 8, 0, 1]\n",
    "arr = np.array(data)\n",
    "print arr\n",
    "print '打印元素类型'\n",
    "print arr.dtype\n",
    "print "
   ]
  },
  {
   "cell_type": "code",
   "execution_count": 10,
   "metadata": {},
   "outputs": [
    {
     "name": "stdout",
     "output_type": "stream",
     "text": [
      "[ 6.   7.5  8.   0.   1. ]\n"
     ]
    }
   ],
   "source": [
    "print arr #不同shell之间可以传递变量"
   ]
  },
  {
   "cell_type": "code",
   "execution_count": 5,
   "metadata": {},
   "outputs": [
    {
     "name": "stdout",
     "output_type": "stream",
     "text": [
      "使用普通二维数组生成NumPy二维数组\n",
      "[[1 2 3 4]\n",
      " [5 6 7 8]]\n",
      "打印数组维度\n",
      "(2L, 4L)\n",
      "\n"
     ]
    }
   ],
   "source": [
    "print '使用普通二维数组生成NumPy二维数组'\n",
    "data = [[1, 2, 3, 4], [5, 6, 7, 8]]\n",
    "arr = np.array(data)\n",
    "print arr\n",
    "print '打印数组维度'\n",
    "print arr.shape\n",
    "print"
   ]
  },
  {
   "cell_type": "code",
   "execution_count": 37,
   "metadata": {},
   "outputs": [
    {
     "name": "stdout",
     "output_type": "stream",
     "text": [
      "使用zeros/empty\n",
      "[ 0.  0.  0.  0.  0.  0.  0.  0.  0.  0.]\n",
      "[[ 0.  0.  0.  0.  0.  0.]\n",
      " [ 0.  0.  0.  0.  0.  0.]\n",
      " [ 0.  0.  0.  0.  0.  0.]]\n",
      "[[[ 7.  7.]\n",
      "  [ 7.  7.]\n",
      "  [ 3.  3.]]\n",
      "\n",
      " [[ 3.  3.]\n",
      "  [ 1.  1.]\n",
      "  [ 1.  1.]]]\n",
      "[[ 1.  1.  1.]\n",
      " [ 1.  1.  1.]\n",
      " [ 1.  1.  1.]]\n",
      "\n",
      "使用arrange生成连续元素\n",
      "[ 0  1  2  3  4  5  6  7  8  9 10 11 12 13 14]\n"
     ]
    }
   ],
   "source": [
    "print '使用zeros/empty'\n",
    "print np.zeros(10)          # 生成包含10个0的一维数组\n",
    "print np.zeros((3, 6))      # 生成3*6的二维数组\n",
    "print np.empty((2, 3, 2))   # 生成2*3*2的三维数组，所有元素未初始化。\n",
    "print np.ones((3, 3))       # 生成3*3的二维数组\n",
    "print\n",
    "\n",
    "print '使用arrange生成连续元素'\n",
    "print np.arange(15)         # [0, 1, 2, ..., 14]"
   ]
  },
  {
   "cell_type": "markdown",
   "metadata": {},
   "source": [
    "# NumPy的ndarray 数组和标量之间的运算"
   ]
  },
  {
   "cell_type": "raw",
   "metadata": {},
   "source": [
    "• 不用编写循环即可对数据执行批量运算\n",
    "• 大小相等的数组之间的任何算术运算都会将运算应用到 元素级\n",
    "• 数组与标量的算术运算也会将那个标量值传播到各个元素"
   ]
  },
  {
   "cell_type": "code",
   "execution_count": 26,
   "metadata": {},
   "outputs": [
    {
     "name": "stdout",
     "output_type": "stream",
     "text": [
      "[[  1.   4.   9.]\n",
      " [ 16.  25.  36.]]\n",
      "[[ 0.  0.  0.]\n",
      " [ 0.  0.  0.]]\n",
      "\n",
      "[[ 1.          0.5         0.33333333]\n",
      " [ 0.25        0.2         0.125     ]]\n",
      "\n",
      "[[ 1.          1.41421356  1.73205081]\n",
      " [ 2.          2.23606798  2.82842712]]\n",
      "[[  1.   4.   9.]\n",
      " [ 16.  25.  64.]]\n"
     ]
    }
   ],
   "source": [
    "import numpy as np\n",
    "\n",
    "# 数组乘法／减法，对应元素相乘／相减。\n",
    "arr = np.array([[1.0, 2.0, 3.0], [4., 5., 6.]])\n",
    "print arr * arr\n",
    "print arr - arr\n",
    "print\n",
    "\n",
    "# 标量操作作用在数组的每个元素上\n",
    "arr = np.array([[1.0, 2.0, 3.0], [4., 5., 8.]])\n",
    "print 1 / arr     # 取倒数\n",
    "print\n",
    "print arr ** 0.5  # 1/2次方\n",
    "#print (arr ** (1/3)) Python3\n",
    "print arr ** 2    # 2次方"
   ]
  },
  {
   "cell_type": "markdown",
   "metadata": {},
   "source": [
    "# NumPy的ndarray 基本的索引和切片"
   ]
  },
  {
   "cell_type": "code",
   "execution_count": 11,
   "metadata": {},
   "outputs": [
    {
     "name": "stdout",
     "output_type": "stream",
     "text": [
      "[7 8 9]\n",
      "3\n",
      "3\n",
      "\n"
     ]
    }
   ],
   "source": [
    "import numpy as np\n",
    "\n",
    "# 通过索引访问二维数组某一行或某个元素\n",
    "arr = np.array([[1, 2, 3], [4, 5, 6], [7, 8, 9]])\n",
    "print arr[2]\n",
    "print arr[0][2]\n",
    "print arr[0, 2] # 普通Python数组不能用。"
   ]
  },
  {
   "cell_type": "code",
   "execution_count": 38,
   "metadata": {},
   "outputs": [
    {
     "name": "stdout",
     "output_type": "stream",
     "text": [
      "---------五维数组arr[0]-----------------\n",
      "[[[[ 0  1]\n",
      "   [ 2  3]]\n",
      "\n",
      "  [[ 4  5]\n",
      "   [ 6  7]]]\n",
      "\n",
      "\n",
      " [[[ 8  9]\n",
      "   [10 11]]\n",
      "\n",
      "  [[12 13]\n",
      "   [14 15]]]]\n",
      "---------五维数组arr[1, 0]-----------------\n",
      "[[[16 17]\n",
      "  [18 19]]\n",
      "\n",
      " [[20 21]\n",
      "  [22 23]]]\n"
     ]
    }
   ],
   "source": [
    "'''不要存在行列这个概念,记得轴[0][1][2][***] axis=0,1,2'''\n",
    "arr = np.arange(32).reshape((2, 2, 2, 2, 2))  # 通过reshape变换成五维数组\n",
    "print \"---------五维数组arr[0]-----------------\"\n",
    "print arr[0] # 结果是个5-1维数组\n",
    "print \"---------五维数组arr[1, 0]-----------------\"\n",
    "print arr[1, 0] # 结果是个5-2维数组"
   ]
  },
  {
   "cell_type": "code",
   "execution_count": 28,
   "metadata": {},
   "outputs": [
    {
     "name": "stdout",
     "output_type": "stream",
     "text": [
      "[[[ 0  0  0]\n",
      "  [ 0  0  0]]\n",
      "\n",
      " [[ 7  8  9]\n",
      "  [10 11 12]]]\n",
      "--------------------------\n",
      "[[0 0 0]\n",
      " [0 0 0]]\n",
      "\n",
      "[[[ 0  0  0]\n",
      "  [ 0  0  0]]\n",
      "\n",
      " [[ 7  8  9]\n",
      "  [10 11 12]]]\n"
     ]
    }
   ],
   "source": [
    "# 对更高维数组的访问和操作\n",
    "arr = np.array([[[1, 2, 3], [4, 5, 6]], [[7, 8, 9], [10, 11, 12]]]) #共3维\n",
    "old_values = arr[0].copy()  # 复制arr[0]的值\n",
    "'''没有.copy(),任一改动,全部改动 '''\n",
    "arr[0] = 42 # 把arr[0]所有的元素都设置为同一个值\n",
    "print arr\n",
    "print \"--------------------------\"\n",
    "print old_values\n",
    "print\n",
    "arr[0] = old_values # 把原来的数组写回去\n",
    "print arr"
   ]
  },
  {
   "cell_type": "code",
   "execution_count": 11,
   "metadata": {},
   "outputs": [
    {
     "name": "stdout",
     "output_type": "stream",
     "text": [
      "使用切片访问和操作数组\n",
      "[2 3 4 5 6]\n",
      "[1 2 3 4 5 6]\n",
      "[ 4  5  6  7  8  9 10]\n",
      "--------------------------\n",
      "[[1 2 3]\n",
      " [4 5 6]]\n",
      "--------------------------\n",
      "[[2 3]\n",
      " [5 6]]\n",
      "[[1]\n",
      " [4]\n",
      " [7]]\n",
      "--------------------------\n",
      "[[1 0 0]\n",
      " [4 0 0]\n",
      " [7 8 9]]\n"
     ]
    }
   ],
   "source": [
    "print '使用切片访问和操作数组'\n",
    "arr = np.array([1, 2, 3, 4, 5, 6, 7, 8, 9, 10])\n",
    "print arr[1:6]      # 1:6 arr[1]到arr[5]   #前闭后开\n",
    "print arr[:6]       # :6 arr[0]到arr[5]\n",
    "print arr[3:]       # 3: arr[3]到arr[n]\n",
    "print \"--------------------------\"\n",
    "arr = np.array([[1, 2, 3], [4, 5, 6], [7, 8, 9]])\n",
    "print arr[:2]      # 打印第1、2行 \n",
    "print \"--------------------------\"\n",
    "print arr[:2, 1:]  # 打印第1、2行，第2、3列\n",
    "print arr[:, :1]   # 打印第所有行，第1列 的所有元素\n",
    "print \"--------------------------\"\n",
    "arr[:2, 1:] = 0     # 第1、2行，第2、3列的元素设置为0\n",
    "print arr"
   ]
  },
  {
   "cell_type": "markdown",
   "metadata": {
    "collapsed": true
   },
   "source": [
    "# NumPy的ndarray 布尔型索引"
   ]
  },
  {
   "cell_type": "raw",
   "metadata": {},
   "source": [
    "• 布尔型数组的长度必须跟被索引的轴长度一致。\n",
    "• 可以将布尔型数组跟切片、整数（或整数序列）混合使用"
   ]
  },
  {
   "cell_type": "code",
   "execution_count": 15,
   "metadata": {},
   "outputs": [
    {
     "name": "stdout",
     "output_type": "stream",
     "text": [
      "使用布尔数组作为索引\n",
      "[[-0.25404054  0.80447614  0.14768206  0.40061631]\n",
      " [ 0.36607961  2.37102792 -0.80481481  0.13926109]\n",
      " [-0.79640294 -1.32478409 -0.28878792 -0.98708892]\n",
      " [ 0.09740153 -1.80535538 -1.28688644  0.29514798]\n",
      " [ 1.06520895  1.58082934  0.03480575 -1.71736673]\n",
      " [ 0.54378051 -0.81607328  0.82546702 -1.06029429]\n",
      " [-0.22531588 -0.10226072  0.61288873 -0.11523331]]\n",
      "----------布尔数组，元素等于'Bob'为True，否则False----------------\n",
      "[ True False False  True False False False]\n",
      "\n",
      "[[-0.25404054  0.80447614  0.14768206  0.40061631]\n",
      " [ 0.09740153 -1.80535538 -1.28688644  0.29514798]]\n",
      "--------------------------\n",
      "[[-0.25404054  0.80447614]\n",
      " [ 0.09740153 -1.80535538]]\n",
      "----------取反----------------\n",
      "[[ 0.36607961  2.37102792 -0.80481481  0.13926109]\n",
      " [-0.79640294 -1.32478409 -0.28878792 -0.98708892]\n",
      " [ 1.06520895  1.58082934  0.03480575 -1.71736673]\n",
      " [ 0.54378051 -0.81607328  0.82546702 -1.06029429]\n",
      " [-0.22531588 -0.10226072  0.61288873 -0.11523331]]\n",
      "----------逻辑运算混合结果----------------\n",
      "[[-0.25404054  0.80447614  0.14768206  0.40061631]\n",
      " [-0.79640294 -1.32478409 -0.28878792 -0.98708892]\n",
      " [ 0.09740153 -1.80535538 -1.28688644  0.29514798]\n",
      " [ 1.06520895  1.58082934  0.03480575 -1.71736673]]\n",
      "---------非Joe行为7-----------------\n",
      "[[ 7.          7.          7.          7.        ]\n",
      " [ 0.36607961  2.37102792 -0.80481481  0.13926109]\n",
      " [ 7.          7.          7.          7.        ]\n",
      " [ 7.          7.          7.          7.        ]\n",
      " [ 7.          7.          7.          7.        ]\n",
      " [ 0.54378051 -0.81607328  0.82546702 -1.06029429]\n",
      " [-0.22531588 -0.10226072  0.61288873 -0.11523331]]\n"
     ]
    }
   ],
   "source": [
    "import numpy as np\n",
    "import numpy.random as np_random\n",
    "\n",
    "print '使用布尔数组作为索引'\n",
    "name_arr = np.array(['Bob', 'Joe', 'Will', 'Bob', 'Will', 'Joe', 'Joe'])\n",
    "rnd_arr = np_random.randn(7, 4) # 随机7*4数组\n",
    "print rnd_arr\n",
    "print \"----------布尔数组，元素等于'Bob'为True，否则False----------------\"\n",
    "print name_arr == 'Bob' # 返回布尔数组，元素等于'Bob'为True，否则False。\n",
    "print \n",
    "print rnd_arr[name_arr == 'Bob']  # 利用布尔数组选择行\n",
    "print \"--------------------------\"\n",
    "print rnd_arr[name_arr == 'Bob', :2]  # 增加限制打印列的范围(Bob行，0，1列)\n",
    "print \"----------取反----------------\"\n",
    "print rnd_arr[~(name_arr == 'Bob')] # 对布尔数组的内容取反\n",
    "mask_arr = (name_arr == 'Bob') | (name_arr == 'Will') # 逻辑运算混合结果\n",
    "print \"----------逻辑运算混合结果----------------\"\n",
    "print rnd_arr[mask_arr]\n",
    "rnd_arr[name_arr != 'Joe'] = 7  # 先布尔数组选择行，然后把每行的元素设置为7。\n",
    "print \"---------非Joe行为7-----------------\"\n",
    "print rnd_arr"
   ]
  },
  {
   "cell_type": "markdown",
   "metadata": {},
   "source": [
    "# NumPy的ndarray 花式索引"
   ]
  },
  {
   "cell_type": "raw",
   "metadata": {},
   "source": [
    "• 花式索引（Fancy indexing）是一个NumPy术语，它指的是利用整数数组进行索引。\n",
    "• 一次传入多个索引数组会有一点特别。它返回的是一个一维数组，其中的元素对应各个索引元组."
   ]
  },
  {
   "cell_type": "code",
   "execution_count": 31,
   "metadata": {
    "scrolled": false
   },
   "outputs": [
    {
     "name": "stdout",
     "output_type": "stream",
     "text": [
      "Fancy Indexing: 使用整数数组作为索引\n",
      "[[ 0.  0.  0.  0.]\n",
      " [ 1.  1.  1.  1.]\n",
      " [ 2.  2.  2.  2.]\n",
      " [ 3.  3.  3.  3.]\n",
      " [ 4.  4.  4.  4.]\n",
      " [ 5.  5.  5.  5.]\n",
      " [ 6.  6.  6.  6.]\n",
      " [ 7.  7.  7.  7.]]\n",
      "---------arr[[4, 3, 0, 6]]-----------------\n",
      "[[ 4.  4.  4.  4.]\n",
      " [ 3.  3.  3.  3.]\n",
      " [ 0.  0.  0.  0.]\n",
      " [ 6.  6.  6.  6.]]\n",
      "---------arr[[-1, -5, -7]]-----------------\n",
      "[[ 7.  7.  7.  7.]\n",
      " [ 3.  3.  3.  3.]\n",
      " [ 1.  1.  1.  1.]]\n",
      "----------通过reshape变换成二维数组----------------\n",
      "[0 1 2 3]\n",
      "-------arr[[1, 5, 7, 2], [0, 3, 1, 2]]--------------------\n",
      "[ 4 23 29 10]\n",
      "-------(自动排序)arr[[1, 5, 7, 3]][[0, 3, 1, 2]]-------------------\n",
      "[[ 4  5  6  7]\n",
      " [12 13 14 15]\n",
      " [20 21 22 23]\n",
      " [28 29 30 31]]\n",
      "--------(冒号 :,)arr[[1, 5, 7, 2]][:, [0, 3, 1, 2]]------------------\n",
      "[[ 4  7  5  6]\n",
      " [20 23 21 22]\n",
      " [28 31 29 30]\n",
      " [ 8 11  9 10]]\n",
      "--------arr[np.ix_([1, 5, 7, 2], [0, 3, 1, 2])]------------------\n",
      "[[ 4  7  5  6]\n",
      " [20 23 21 22]\n",
      " [28 31 29 30]\n",
      " [ 8 11  9 10]]\n"
     ]
    }
   ],
   "source": [
    "'''arr[[4, 3, 0, 6]] 两层中括号'''\n",
    "import numpy as np\n",
    "\n",
    "print 'Fancy Indexing: 使用整数数组作为索引'\n",
    "arr = np.empty((8, 4))\n",
    "for i in range(8):\n",
    "    arr[i] = i\n",
    "print arr\n",
    "print \"---------arr[[4, 3, 0, 6]]-----------------\"\n",
    "print arr[[4, 3, 0, 6]] # 打印arr[4]、arr[3]、arr[0]和arr[6]。\n",
    "print \"---------arr[[-1, -5, -7]]-----------------\"\n",
    "print arr[[-1, -5, -7]] # 打印arr[-1]、arr[-5]和arr[-7]行；arr[-3]：倒数低3行\n",
    "print \"----------通过reshape变换成二维数组----------------\"\n",
    "arr = np.arange(32).reshape((8, 4))  # 通过reshape变换成二维数组\n",
    "print arr[0]\n",
    "print \"-------arr[[1, 5, 7, 2], [0, 3, 1, 2]]--------------------\"\n",
    "print arr[[1, 5, 7, 2], [0, 3, 1, 2]] # 打印arr[1, 0]、arr[5, 3]，arr[7, 1]和arr[2, 2]\n",
    "print \"-------(自动排序)arr[[1, 5, 7, 3]][[0, 3, 1, 2]]-------------------\"\n",
    "print arr[[1, 5, 7, 3]][[0, 3, 1, 2]] # 1357(自动排序)行的0123(自动排序)列\n",
    "print \"--------(冒号 :,)arr[[1, 5, 7, 2]][:, [0, 3, 1, 2]]------------------\"\n",
    "print arr[[1, 5, 7, 2]][:, [0, 3, 1, 2]]  # 1572行的0312列\n",
    "print \"--------arr[np.ix_([1, 5, 7, 2], [0, 3, 1, 2])]------------------\"\n",
    "print arr[np.ix_([1, 5, 7, 2], [0, 3, 1, 2])] # 可读性更好的写法"
   ]
  },
  {
   "cell_type": "markdown",
   "metadata": {
    "collapsed": true
   },
   "source": [
    "# NumPy的ndarray 数组转置和轴对换"
   ]
  },
  {
   "cell_type": "raw",
   "metadata": {
    "collapsed": true
   },
   "source": [
    "• 一维／二维数组转置\n",
    "• 高维数组轴对换"
   ]
  },
  {
   "cell_type": "code",
   "execution_count": 32,
   "metadata": {},
   "outputs": [
    {
     "name": "stdout",
     "output_type": "stream",
     "text": [
      "[[ 0  1  2  3  4]\n",
      " [ 5  6  7  8  9]\n",
      " [10 11 12 13 14]]\n",
      "arr.T\n",
      "[[ 0  5 10]\n",
      " [ 1  6 11]\n",
      " [ 2  7 12]\n",
      " [ 3  8 13]\n",
      " [ 4  9 14]]\n",
      "\n",
      "转置矩阵做点积\n",
      "[[125 140 155 170 185]\n",
      " [140 158 176 194 212]\n",
      " [155 176 197 218 239]\n",
      " [170 194 218 242 266]\n",
      " [185 212 239 266 293]]\n",
      "\n",
      "高维矩阵转换(2, 2, 4)\n",
      "[[[ 0  1  2  3]\n",
      "  [ 4  5  6  7]]\n",
      "\n",
      " [[ 8  9 10 11]\n",
      "  [12 13 14 15]]]\n",
      "----transpose((1, 0, 2))-------------\n",
      "[[[ 0  1  2  3]\n",
      "  [ 8  9 10 11]]\n",
      "\n",
      " [[ 4  5  6  7]\n",
      "  [12 13 14 15]]]\n",
      "----transpose((0, 2, 1))-------------\n",
      "[[[ 0  4]\n",
      "  [ 1  5]\n",
      "  [ 2  6]\n",
      "  [ 3  7]]\n",
      "\n",
      " [[ 8 12]\n",
      "  [ 9 13]\n",
      "  [10 14]\n",
      "  [11 15]]]\n",
      "----swapaxes(1, 2)指定对应两轴--------\n",
      "[[[ 0  4]\n",
      "  [ 1  5]\n",
      "  [ 2  6]\n",
      "  [ 3  7]]\n",
      "\n",
      " [[ 8 12]\n",
      "  [ 9 13]\n",
      "  [10 14]\n",
      "  [11 15]]]\n"
     ]
    }
   ],
   "source": [
    "import numpy as np\n",
    "import numpy.random as np_random\n",
    "\n",
    "\n",
    "arr = np.arange(15).reshape((3, 5))\n",
    "print arr\n",
    "print '----------arr.T-----------'\n",
    "print arr.T   #转置矩阵\n",
    "print\n",
    "\n",
    "print '转置矩阵做点积'\n",
    "#arr = np_random.randn(6, 3)\n",
    "print np.dot(arr.T, arr)  #正常的矩阵乘法：横*竖\n",
    "print\n",
    "\n",
    "print '高维矩阵转换(2, 2, 4)'\n",
    "arr = np.arange(16).reshape((2, 2, 4))\n",
    "print arr\n",
    "'''\n",
    "详细解释：\n",
    "arr数组的内容为\n",
    "- a[0][0] = [0, 1, 2, 3]\n",
    "- a[0][1] = [4, 5, 6, 7]\n",
    "- a[1][0] = [8, 9, 10, 11]\n",
    "- a[1][1] = [12, 13, 14, 15]\n",
    "transpose的参数为坐标，正常顺序为(0, 1, 2, ... , n - 1)，\n",
    "现在传入的为(1, 0, 2)代表a[x][y][z] = a[y][x][z]，地址位置互换。\n",
    "- a'[0][0] = a[0][0] = [0, 1, 2, 3]\n",
    "- a'[0][1] = a[1][0] = [8, 9, 10, 11]\n",
    "- a'[1][0] = a[0][1] = [4, 5, 6, 7]\n",
    "- a'[1][1] = a[1][1] = [12, 13, 14, 15]\n",
    "'''\n",
    "print \"----transpose((1, 0, 2))-------------\"\n",
    "print arr.transpose((1, 0, 2))\n",
    "print \"----transpose((0, 2, 1))-------------\"\n",
    "print arr.transpose((0, 2, 1))\n",
    "print \"----swapaxes(1, 2)指定对应两轴--------\"\n",
    "print arr.swapaxes(1, 2)  # 指定对应两轴交换"
   ]
  },
  {
   "cell_type": "markdown",
   "metadata": {},
   "source": [
    "# NumPy的ndarray 快速的元素级数组函数"
   ]
  },
  {
   "cell_type": "raw",
   "metadata": {},
   "source": [
    "## 一元函数\n",
    "abs,fabs 计算整数、浮点数或复数的绝对值。对于非复数值，可以使用更快的fabs。\n",
    "sqrt    计算各元素的平方根。相当于arr ** 0.5\n",
    "sqare   计算各元素的平方。相当于arr ** 2\n",
    "exp     计算各元素的e^x\n",
    "sign    计算各元素的正负号：1（正数）、0（零）、－1（负数）。\n",
    "ceil    计算各元素的ceiling值，即大于等于该值的最小整数。\n",
    "floor   计算各元素的floor值，即小于等于该值的最小整数。\n",
    "rint    将各元素值四舍五入到最接近的整数，保留dtype。\n",
    "modf    将数组的小数部分与整数部分以两个独立数组的形式返还。\n",
    "isnan   返回一个表示“哪些值是NaN（这不是一个数字）”的布尔型数组\n",
    "isfinite, isinf    分别返回一个表示“哪些元素是有限的（非inf，非NaN）”\n",
    "              或“哪些元素是无穷的”的布尔型数组\n",
    "logical_not       计算各元素not x的真值。相当于-arr。\n",
    "log, log10, log2, log1p    分别为自然对数、底数为10的log、底数为2的log和log(1 + x)。\n",
    "cos, cosh, sin, sinh, tan, tanh             普通型或双曲型三角函数\n",
    "arccos, arccosh, arcsin, arcsinh,arctan, arctanh  反三角函数\n"
   ]
  },
  {
   "cell_type": "raw",
   "metadata": {},
   "source": [
    "## 二元函数\n",
    "add     将数组中对应的元素相加\n",
    "subtract  从第一个数组中减去第二个数组中的元素\n",
    "multiply  数组元素相乘\n",
    "mod     元素级的求模计算\n",
    "copysign  将第二个数组中的符号复制给第一个数组中的值\n",
    "power    对第一个数组中的元素A和第二个数组中对应位置的元素B，计算A^B。\n",
    "maximum, fmax     元素级的最大值计算。fmax将忽略NaN。\n",
    "minimum, fmin     元素级的最小值计算。fmin将忽略NaN。\n",
    "divide, floor_divide   除法或向下取整除法\n",
    "logical_and, logical_or, logical_xor   执行元素级的真值逻辑运算，最终产生布尔型数组。greater, greater_equal, less, less_equal,equal, not_equal    执行元素级的比较，最终产生布尔型数组。\n"
   ]
  },
  {
   "cell_type": "code",
   "execution_count": 36,
   "metadata": {},
   "outputs": [
    {
     "name": "stdout",
     "output_type": "stream",
     "text": [
      "求平方根\n",
      "[ 0.          1.          1.41421356  1.73205081  2.          2.23606798\n",
      "  2.44948974  2.64575131  2.82842712  3.        ]\n",
      "\n",
      "数组比较\n",
      "[-0.0401451   1.0031101  -1.31845593 -0.06837904 -0.83879347]\n",
      "[ 0.44427351 -1.64404492  0.56366882  0.79654413 -0.52427296]\n",
      "较大者\n",
      "[ 0.44427351  1.0031101   0.56366882  0.79654413 -0.52427296]\n",
      "\n",
      "使用modf函数把浮点数分解成小数和整数部分\n",
      "(array([ 0.08774422, -0.48218243,  0.01367019,  0.03503997, -0.83879478,\n",
      "        0.23515748,  0.53732826]), array([ 1., -0.,  0.,  4., -5.,  3.,  1.]))\n",
      "[ 0.08774422 -0.48218243  0.01367019  0.03503997 -0.83879478  0.23515748\n",
      "  0.53732826] [ 1. -0.  0.  4. -5.  3.  1.]\n"
     ]
    }
   ],
   "source": [
    "import numpy as np\n",
    "import numpy.random as np_random\n",
    "\n",
    "print '求平方根'\n",
    "arr = np.arange(10)\n",
    "print np.sqrt(arr)\n",
    "print\n",
    "\n",
    "print '数组比较'\n",
    "x = np_random.randn(5)\n",
    "y = np_random.randn(5)\n",
    "print x\n",
    "print y\n",
    "print '较大者'\n",
    "print np.maximum(x, y)\n",
    "print\n",
    "\n",
    "print '使用modf函数把浮点数分解成整数和小数部分'\n",
    "arr = np_random.randn(7) * 5  # 统一乘5\n",
    "print np.modf(arr)\n",
    "a, b = np.modf(arr)\n",
    "print b"
   ]
  },
  {
   "cell_type": "markdown",
   "metadata": {},
   "source": [
    "# 利用数组进行数据处理 简介 part B"
   ]
  },
  {
   "cell_type": "code",
   "execution_count": null,
   "metadata": {
    "collapsed": true
   },
   "outputs": [],
   "source": []
  }
 ],
 "metadata": {
  "kernelspec": {
   "display_name": "Python 2",
   "language": "python",
   "name": "python2"
  },
  "language_info": {
   "codemirror_mode": {
    "name": "ipython",
    "version": 2
   },
   "file_extension": ".py",
   "mimetype": "text/x-python",
   "name": "python",
   "nbconvert_exporter": "python",
   "pygments_lexer": "ipython2",
   "version": "2.7.14"
  },
  "toc": {
   "nav_menu": {},
   "number_sections": true,
   "sideBar": true,
   "skip_h1_title": false,
   "toc_cell": false,
   "toc_position": {
    "height": "854px",
    "left": "0px",
    "right": "799.203px",
    "top": "95px",
    "width": "311px"
   },
   "toc_section_display": "block",
   "toc_window_display": true
  }
 },
 "nbformat": 4,
 "nbformat_minor": 2
}
