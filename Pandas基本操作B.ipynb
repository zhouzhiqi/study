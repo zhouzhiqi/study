{
 "cells": [
  {
   "cell_type": "markdown",
   "metadata": {},
   "source": [
    "## 基本功能 重新索引"
   ]
  },
  {
   "cell_type": "raw",
   "metadata": {},
   "source": [
    "• 创建一个适应新索引的新对象，该Series的reindex将会根据新索引进行'重排'。 \n",
    "  如果某个索引值当前不存在，就引入缺失值 \n",
    "• 对于时间序列这样的有序数据，重新索引时可能需要做一些插值处理。method选项即可达到此目的\n",
    "\n",
    "reindex函数的参数 \n",
    "index    用作索引的新序列。既可以是Index实例，也可以是其它序列型的Python数据结构。\n",
    "       Index会被完全使用，就像没有任何复制一样。 \n",
    "method   插值填充方式，ffill或bfill。 \n",
    "limit   前向或后向填充时的最大填充量 \n",
    "level   在MultiIndex的指定级别上匹配简单索引，否则选取其子集。 \n",
    "copy    默认为True，无论如何都复制。如果为False，则新旧相等就不复制\n",
    "fill_value   在重新索引过程中，需要引入缺失值时使用的替代值。"
   ]
  },
  {
   "cell_type": "code",
   "execution_count": 34,
   "metadata": {
    "scrolled": false
   },
   "outputs": [
    {
     "name": "stdout",
     "output_type": "stream",
     "text": [
      "重新指定索引及顺序\n",
      "d    4.5\n",
      "b    7.2\n",
      "a   -5.3\n",
      "c    3.6\n",
      "dtype: float64\n",
      "a   -5.3\n",
      "b    7.2\n",
      "d    4.5\n",
      "c    3.6\n",
      "e    NaN\n",
      "dtype: float64\n",
      "a   -5.3\n",
      "b    7.2\n",
      "d    4.5\n",
      "c    3.6\n",
      "e    0.0\n",
      "dtype: float64\n",
      "\n",
      "重新指定索引并指定填元素充方法\n",
      "0      blue\n",
      "2    purple\n",
      "4    yellow\n",
      "dtype: object\n",
      "0      blue\n",
      "1      blue\n",
      "2    purple\n",
      "3    purple\n",
      "4    yellow\n",
      "5    yellow\n",
      "dtype: object\n",
      "\n"
     ]
    }
   ],
   "source": [
    "import numpy as np\n",
    "from pandas import DataFrame, Series\n",
    "\n",
    "print '重新指定索引及顺序'\n",
    "obj = Series([4.5, 7.2, -5.3, 3.6], index = ['d', 'b', 'a', 'c'])\n",
    "print obj\n",
    "obj2 = obj.reindex(['a', 'b', 'd', 'c', 'e'])\n",
    "print obj2\n",
    "print obj.reindex(['a', 'b', 'd', 'c', 'e'], fill_value = 0)  # 指定不存在元素的默认值\n",
    "print\n",
    "\n",
    "print '重新指定索引并指定填元素充方法'\n",
    "obj3 = Series(['blue', 'purple', 'yellow'], index = [0, 2, 4])\n",
    "print obj3\n",
    "print obj3.reindex(range(6), method = 'ffill') #ffill和前值相同, bfill和后值相同\n",
    "print\n"
   ]
  },
  {
   "cell_type": "code",
   "execution_count": 40,
   "metadata": {},
   "outputs": [
    {
     "name": "stdout",
     "output_type": "stream",
     "text": [
      "对DataFrame重新指定索引\n",
      "   Ohio  Texas  California\n",
      "a     0      1           2\n",
      "c     3      4           5\n",
      "d     6      7           8\n",
      "--------a, b, c, d--------\n",
      "   Ohio  Texas  California\n",
      "a   0.0    1.0         2.0\n",
      "b   NaN    NaN         NaN\n",
      "c   3.0    4.0         5.0\n",
      "d   6.0    7.0         8.0\n",
      "\n",
      "重新指定column\n",
      "   Texas  Utah  California\n",
      "a      1   NaN           2\n",
      "c      4   NaN           5\n",
      "d      7   NaN           8\n",
      "\n",
      "对DataFrame重新指定索引并指定填元素充方法\n",
      "   Ohio  Texas  California\n",
      "a     0      1           2\n",
      "b     0      1           2\n",
      "c     3      4           5\n",
      "d     6      7           8\n",
      "   California  Texas  Utah\n",
      "a         2.0    1.0   NaN\n",
      "b         NaN    NaN   NaN\n",
      "d         8.0    7.0   NaN\n",
      "c         5.0    4.0   NaN\n"
     ]
    }
   ],
   "source": [
    "print '对DataFrame重新指定索引'\n",
    "frame = DataFrame(np.arange(9).reshape(3, 3),\n",
    "                  index = ['a', 'c', 'd'],\n",
    "                  columns = ['Ohio', 'Texas', 'California'])\n",
    "print frame\n",
    "print '--------a, b, c, d--------'\n",
    "frame2 = frame.reindex(['a', 'b', 'c', 'd'])\n",
    "print frame2\n",
    "print\n",
    "\n",
    "print '重新指定column'\n",
    "states = ['Texas', 'Utah', 'California']\n",
    "print frame.reindex(columns = states)\n",
    "print\n",
    "\n",
    "print '对DataFrame重新指定索引并指定填元素充方法'\n",
    "print frame.reindex(index = ['a', 'b', 'c', 'd'],\n",
    "                    method = 'ffill',\n",
    "                    columns = states.sort())  #\n",
    "print frame.loc[['a', 'b', 'd', 'c'], states]\n"
   ]
  },
  {
   "cell_type": "markdown",
   "metadata": {},
   "source": [
    "## 基本功能 丢弃指定轴上的项\n",
    "• 丢弃某条轴上的一个或多个项很简单，只要有一个索引数组或列表即可。由于 需要执行一些数据整理和集合逻辑，所以drop方法返回的是一个在指定轴上删 除了指定值的新对象"
   ]
  },
  {
   "cell_type": "code",
   "execution_count": 41,
   "metadata": {},
   "outputs": [
    {
     "name": "stdout",
     "output_type": "stream",
     "text": [
      "Series根据索引删除元素\n",
      "a    0.0\n",
      "b    1.0\n",
      "d    3.0\n",
      "e    4.0\n",
      "dtype: float64\n",
      "a    0.0\n",
      "b    1.0\n",
      "e    4.0\n",
      "dtype: float64\n",
      "\n"
     ]
    }
   ],
   "source": [
    "import numpy as np\n",
    "from pandas import Series, DataFrame\n",
    "\n",
    "print 'Series根据索引删除元素'\n",
    "obj = Series(np.arange(5.), index = ['a', 'b', 'c', 'd', 'e'])\n",
    "new_obj = obj.drop('c')\n",
    "print new_obj\n",
    "print obj.drop(['d', 'c'])\n",
    "print"
   ]
  },
  {
   "cell_type": "code",
   "execution_count": 46,
   "metadata": {},
   "outputs": [
    {
     "name": "stdout",
     "output_type": "stream",
     "text": [
      "DataFrame删除元素，可指定索引或列。\n",
      "          one  two  three  four\n",
      "Ohio        0    1      2     3\n",
      "Colorado    4    5      6     7\n",
      "Utah        8    9     10    11\n",
      "New York   12   13     14    15\n",
      "---------------drop(Colorado, Ohio)---------------\n",
      "          one  two  three  four\n",
      "Utah        8    9     10    11\n",
      "New York   12   13     14    15\n",
      "---------------drop(two, axis = 1)----------------\n",
      "          one  three  four\n",
      "Ohio        0      2     3\n",
      "Colorado    4      6     7\n",
      "Utah        8     10    11\n",
      "New York   12     14    15\n",
      "---------------drop([two, four], axis = 1)----------\n",
      "          one  three\n",
      "Ohio        0      2\n",
      "Colorado    4      6\n",
      "Utah        8     10\n",
      "New York   12     14\n",
      "----------------data #原数据并未改变--------------\n",
      "          one  two  three  four\n",
      "Ohio        0    1      2     3\n",
      "Colorado    4    5      6     7\n",
      "Utah        8    9     10    11\n",
      "New York   12   13     14    15\n"
     ]
    }
   ],
   "source": [
    "print 'DataFrame删除元素，可指定索引或列。'\n",
    "data = DataFrame(np.arange(16).reshape((4, 4)),\n",
    "                  index = ['Ohio', 'Colorado', 'Utah', 'New York'],\n",
    "                  columns = ['one', 'two', 'three', 'four'])\n",
    "print data\n",
    "print '---------------drop(Colorado, Ohio)---------------'\n",
    "print data.drop(['Colorado', 'Ohio'])\n",
    "print '---------------drop(two, axis = 1)----------------'\n",
    "print data.drop('two', axis = 1)\n",
    "print '---------------drop([two, four], axis = 1)----------'\n",
    "print data.drop(['two', 'four'], axis = 1)\n",
    "print '----------------data #原数据并未改变--------------'\n",
    "print data #原数据并未改变"
   ]
  },
  {
   "cell_type": "markdown",
   "metadata": {},
   "source": [
    "## 基本功能 索引、选取和过滤"
   ]
  },
  {
   "cell_type": "raw",
   "metadata": {},
   "source": [
    "• Series索引（obj[...]）的工作方式类似于NumPy数组的索引，只不过Series的索引值不只是整数。 \n",
    "• 利用标签的切片运算与普通的Python切片运算不同，其末端是包含的 （inclusive）。 \n",
    "• 对DataFrame进行索引其实就是获取一个或多个列 \n",
    "• 为了在DataFrame的行上进行标签索引，引入了专门的索引字段ix\n",
    "\n",
    "• DataFrame的索引选项\n",
    "obj[val]          选取DataFrame的单个列或一组列。在一些特殊情况下会比较便利：\n",
    "               布尔型数组(过滤行),切片(行切片),布尔型DataFrame(根据条件设置值) \n",
    "obj.ix[val]        选取DataFrame的单个行或一组行 obj.ix[:, val] 选取单个列或列子集 \n",
    "obj.ix[val1, val2]   同时选取行或列 \n",
    "reindex方法        将一个或多个轴匹配到新索引 \n",
    "xs方法           根据标签选取单行或单列，并返回一个Series。 \n",
    "icol、irow方法      根据整数位置选取单行或单列，并返回一个Series。 \n",
    "get_value、set_value方法 根据行标签或列标签选取单个值"
   ]
  },
  {
   "cell_type": "code",
   "execution_count": 48,
   "metadata": {},
   "outputs": [
    {
     "name": "stdout",
     "output_type": "stream",
     "text": [
      "Series的索引，默认数字索引可以工作。\n",
      "1.0\n",
      "3.0\n",
      "b    1.0\n",
      "d    3.0\n",
      "dtype: float64\n",
      "a    0.0\n",
      "b    1.0\n",
      "dtype: float64\n",
      "\n",
      "Series的数组切片\n",
      "b    1.0\n",
      "c    2.0\n",
      "dtype: float64\n",
      "a    0.0\n",
      "b    5.0\n",
      "c    5.0\n",
      "d    3.0\n",
      "dtype: float64\n",
      "\n"
     ]
    }
   ],
   "source": [
    "import numpy as np\n",
    "from pandas import Series, DataFrame\n",
    "\n",
    "print 'Series的索引，默认数字索引可以工作。'\n",
    "obj = Series(np.arange(4.), index = ['a', 'b', 'c', 'd']) #任然可以用传统的0,1,2,3...\n",
    "print obj['b']\n",
    "print obj[3]\n",
    "print obj[[1, 3]]\n",
    "print obj[obj < 2]\n",
    "print\n",
    "\n",
    "print 'Series的数组切片'\n",
    "print obj['b':'c']  # 从'b'到'c'  非数字索引 闭区间 无法计算出开区间\n",
    "obj['b':'c'] = 5\n",
    "print obj\n",
    "print"
   ]
  },
  {
   "cell_type": "code",
   "execution_count": 56,
   "metadata": {
    "collapsed": true
   },
   "outputs": [],
   "source": [
    "?DataFrame.loc"
   ]
  },
  {
   "cell_type": "code",
   "execution_count": 22,
   "metadata": {},
   "outputs": [
    {
     "name": "stdout",
     "output_type": "stream",
     "text": [
      "DataFrame的索引\n",
      "          one  two  three  four\n",
      "Ohio        0    1      2     3\n",
      "Colorado    4    5      6     7\n",
      "Utah        8    9     10    11\n",
      "New York   12   13     14    15\n",
      "Ohio         1\n",
      "Colorado     5\n",
      "Utah         9\n",
      "New York    13\n",
      "Name: two, dtype: int32\n",
      "          three  one\n",
      "Ohio          2    0\n",
      "Colorado      6    4\n",
      "Utah         10    8\n",
      "New York     14   12\n",
      "          one  two  three  four\n",
      "Ohio        0    1      2     3\n",
      "Colorado    4    5      6     7\n",
      "two      5\n",
      "three    6\n",
      "Name: Colorado, dtype: int32\n",
      "Ohio        1\n",
      "Colorado    5\n",
      "Utah        9\n",
      "Name: two, dtype: int32\n",
      "\n"
     ]
    }
   ],
   "source": [
    "print 'DataFrame的索引'\n",
    "data = DataFrame(np.arange(16).reshape((4, 4)),\n",
    "                  index = ['Ohio', 'Colorado', 'Utah', 'New York'],\n",
    "                  columns = ['one', 'two', 'three', 'four'])\n",
    "print data\n",
    "print data['two'] # 打印列\n",
    "print data[['three', 'one']]\n",
    "print data[:2]\n",
    "print data.loc['Colorado', ['two', 'three']] # 指定索引和列\n",
    "#print data.loc[['Colorado', 'Utah'], [3, 0, 1]] loc函数无法识别默认的数值索引[[3, 0, 1]]\n",
    "#print data.loc[2]  # 打印第2行（从0开始）      loc函数无法识别默认的数值索引[2]\n",
    "print data.loc[:'Utah', 'two'] # 从开始到Utah，第2列。\n",
    "print"
   ]
  },
  {
   "cell_type": "code",
   "execution_count": 23,
   "metadata": {},
   "outputs": [
    {
     "name": "stdout",
     "output_type": "stream",
     "text": [
      "根据条件选择\n",
      "          one  two  three  four\n",
      "Colorado    4    5      6     7\n",
      "Utah        8    9     10    11\n",
      "New York   12   13     14    15\n",
      "            one    two  three   four\n",
      "Ohio       True   True   True   True\n",
      "Colorado   True  False  False  False\n",
      "Utah      False  False  False  False\n",
      "New York  False  False  False  False\n",
      "          one  two  three  four\n",
      "Ohio        0    0      0     0\n",
      "Colorado    0    5      6     7\n",
      "Utah        8    9     10    11\n",
      "New York   12   13     14    15\n"
     ]
    }
   ],
   "source": [
    "print '根据条件选择'\n",
    "print data[data.three > 5]\n",
    "print data < 5  # 打印True或者False\n",
    "data[data < 5] = 0\n",
    "print data"
   ]
  },
  {
   "cell_type": "markdown",
   "metadata": {},
   "source": [
    "## 基本功能 算术运算和数据对齐\n",
    "• 对不同的索引对象进行算术运算 \n",
    "• 自动数据对齐在不重叠的索引处引入了NA值，缺失值会在算术运算过程中传播。 \n",
    "• 对于DataFrame，对齐操作会同时发生在行和列上。 \n",
    "• fill_value参数 \n",
    "• DataFrame和Series之间的运算"
   ]
  },
  {
   "cell_type": "code",
   "execution_count": 24,
   "metadata": {},
   "outputs": [
    {
     "name": "stdout",
     "output_type": "stream",
     "text": [
      "加法\n",
      "a    7.3\n",
      "c   -2.5\n",
      "d    3.4\n",
      "e    1.5\n",
      "dtype: float64\n",
      "a   -2.1\n",
      "c    3.6\n",
      "e   -1.5\n",
      "f    4.0\n",
      "g    3.1\n",
      "dtype: float64\n",
      "a    5.2\n",
      "c    1.1\n",
      "d    NaN\n",
      "e    0.0\n",
      "f    NaN\n",
      "g    NaN\n",
      "dtype: float64\n",
      "\n"
     ]
    }
   ],
   "source": [
    "import numpy as np\n",
    "from pandas import Series, DataFrame\n",
    "\n",
    "print '加法'\n",
    "s1 = Series([7.3, -2.5, 3.4, 1.5], index = ['a', 'c', 'd', 'e'])\n",
    "s2 = Series([-2.1, 3.6, -1.5, 4, 3.1], index = ['a', 'c', 'e', 'f', 'g'])\n",
    "print s1\n",
    "print s2\n",
    "print s1 + s2\n",
    "print"
   ]
  },
  {
   "cell_type": "code",
   "execution_count": 25,
   "metadata": {},
   "outputs": [
    {
     "name": "stdout",
     "output_type": "stream",
     "text": [
      "DataFrame加法，索引和列都必须匹配。\n",
      "            b    c    d\n",
      "Ohio      0.0  1.0  2.0\n",
      "Texas     3.0  4.0  5.0\n",
      "Colorado  6.0  7.0  8.0\n",
      "        b   d   e\n",
      "Utah    0   1   2\n",
      "Ohio    3   4   5\n",
      "Texas   6   7   8\n",
      "Oregon  9  10  11\n",
      "            b   c     d   e\n",
      "Colorado  NaN NaN   NaN NaN\n",
      "Ohio      3.0 NaN   6.0 NaN\n",
      "Oregon    NaN NaN   NaN NaN\n",
      "Texas     9.0 NaN  12.0 NaN\n",
      "Utah      NaN NaN   NaN NaN\n",
      "\n"
     ]
    }
   ],
   "source": [
    "print 'DataFrame加法，索引和列都必须匹配。'\n",
    "df1 = DataFrame(np.arange(9.).reshape((3, 3)),\n",
    "                columns = list('bcd'),\n",
    "                index = ['Ohio', 'Texas', 'Colorado'])\n",
    "df2 = DataFrame(np.arange(12).reshape((4, 3)),\n",
    "                columns = list('bde'),\n",
    "                index = ['Utah', 'Ohio', 'Texas', 'Oregon'])\n",
    "print df1\n",
    "print df2\n",
    "print df1 + df2"
   ]
  },
  {
   "cell_type": "code",
   "execution_count": 26,
   "metadata": {},
   "outputs": [
    {
     "name": "stdout",
     "output_type": "stream",
     "text": [
      "数据填充\n",
      "     a    b     c     d\n",
      "0  0.0  1.0   2.0   3.0\n",
      "1  4.0  5.0   6.0   7.0\n",
      "2  8.0  9.0  10.0  11.0\n",
      "      a     b     c     d     e\n",
      "0   0.0   1.0   2.0   3.0   4.0\n",
      "1   5.0   6.0   7.0   8.0   9.0\n",
      "2  10.0  11.0  12.0  13.0  14.0\n",
      "3  15.0  16.0  17.0  18.0  19.0\n",
      "      a     b     c     d     e\n",
      "0   0.0   2.0   4.0   6.0   4.0\n",
      "1   9.0  11.0  13.0  15.0   9.0\n",
      "2  18.0  20.0  22.0  24.0  14.0\n",
      "3  15.0  16.0  17.0  18.0  19.0\n",
      "     a    b     c     d  e\n",
      "0  0.0  1.0   2.0   3.0  0\n",
      "1  4.0  5.0   6.0   7.0  0\n",
      "2  8.0  9.0  10.0  11.0  0\n",
      "\n"
     ]
    }
   ],
   "source": [
    "print '数据填充'\n",
    "df1 = DataFrame(np.arange(12.).reshape((3, 4)), columns = list('abcd'))\n",
    "df2 = DataFrame(np.arange(20.).reshape((4, 5)), columns = list('abcde'))\n",
    "print df1\n",
    "print df2\n",
    "print df1.add(df2, fill_value = 0)\n",
    "print df1.reindex(columns = df2.columns, fill_value = 0)"
   ]
  },
  {
   "cell_type": "code",
   "execution_count": 32,
   "metadata": {},
   "outputs": [
    {
     "name": "stdout",
     "output_type": "stream",
     "text": [
      "DataFrame与Series之间的操作\n",
      "[[  0.   1.   2.   3.]\n",
      " [  4.   5.   6.   7.]\n",
      " [  8.   9.  10.  11.]]\n",
      "[ 0.  1.  2.  3.]\n",
      "[[ 0.  0.  0.  0.]\n",
      " [ 4.  4.  4.  4.]\n",
      " [ 8.  8.  8.  8.]]\n",
      "\n",
      "        b   d   e\n",
      "Utah    0   1   2\n",
      "Ohio    3   4   5\n",
      "Texas   6   7   8\n",
      "Oregon  9  10  11\n",
      "b    0\n",
      "d    1\n",
      "e    2\n",
      "Name: Utah, dtype: int32\n",
      "        b  d  e\n",
      "Utah    0  0  0\n",
      "Ohio    3  3  3\n",
      "Texas   6  6  6\n",
      "Oregon  9  9  9\n",
      "\n",
      "          b   d     e   f\n",
      "Utah    0.0 NaN   3.0 NaN\n",
      "Ohio    3.0 NaN   6.0 NaN\n",
      "Texas   6.0 NaN   9.0 NaN\n",
      "Oregon  9.0 NaN  12.0 NaN\n",
      "        b  d  e\n",
      "Utah   -1  0  1\n",
      "Ohio   -1  0  1\n",
      "Texas  -1  0  1\n",
      "Oregon -1  0  1\n"
     ]
    }
   ],
   "source": [
    "print 'DataFrame与Series之间的操作'\n",
    "arr = np.arange(12.).reshape((3, 4))\n",
    "print arr\n",
    "print arr[0]\n",
    "print arr - arr[0]\n",
    "print\n",
    "\n",
    "frame = DataFrame(np.arange(12).reshape((4, 3)),\n",
    "                  columns = list('bde'),\n",
    "                  index = ['Utah', 'Ohio', 'Texas', 'Oregon'])\n",
    "series = frame.loc['Utah']\n",
    "print frame\n",
    "print series\n",
    "print frame - series\n",
    "print\n",
    "\n",
    "series2 = Series(range(3), index = list('bef'))\n",
    "print frame + series2\n",
    "series3 = frame['d']\n",
    "print frame.sub(series3, axis = 0)  # 按列减  和缺失值做运算还等于缺失值"
   ]
  },
  {
   "cell_type": "markdown",
   "metadata": {},
   "source": [
    "## 基本功能 函数应用和映射\n",
    "• numpy的ufuncs（元素级数组方法） \n",
    "• DataFrame的apply方法 \n",
    "• 对象的applymap方法（因为Series有一个应用于元素级的map方法）"
   ]
  },
  {
   "cell_type": "code",
   "execution_count": 20,
   "metadata": {},
   "outputs": [
    {
     "name": "stdout",
     "output_type": "stream",
     "text": [
      "函数\n",
      "               b         d         e\n",
      "Utah    1.606706  0.322495 -0.524441\n",
      "Ohio   -0.394166 -0.816525 -0.007542\n",
      "Texas   0.313563 -0.551372 -1.797390\n",
      "Oregon -0.792046  0.584041  1.255278\n",
      "               b         d         e\n",
      "Utah    1.606706  0.322495  0.524441\n",
      "Ohio    0.394166  0.816525  0.007542\n",
      "Texas   0.313563  0.551372  1.797390\n",
      "Oregon  0.792046  0.584041  1.255278\n",
      "\n",
      "applymap和map\n",
      "            b      d      e\n",
      "Utah     1.61   0.32  -0.52\n",
      "Ohio    -0.39  -0.82  -0.01\n",
      "Texas    0.31  -0.55  -1.80\n",
      "Oregon  -0.79   0.58   1.26\n",
      "Utah      -0.52\n",
      "Ohio      -0.01\n",
      "Texas     -1.80\n",
      "Oregon     1.26\n",
      "Name: e, dtype: object\n"
     ]
    }
   ],
   "source": [
    "import numpy as np\n",
    "from pandas import Series, DataFrame\n",
    "\n",
    "print '函数'\n",
    "frame = DataFrame(np.random.randn(4, 3),\n",
    "                  columns = list('bde'),\n",
    "                  index = ['Utah', 'Ohio', 'Texas', 'Oregon'])\n",
    "print frame\n",
    "print np.abs(frame)\n",
    "print\n",
    "\n",
    "print 'applymap和map'\n",
    "_format = lambda x: '%.2f' % x\n",
    "print frame.applymap(_format)\n",
    "print frame['e'].map(_format)\n"
   ]
  },
  {
   "cell_type": "code",
   "execution_count": 21,
   "metadata": {},
   "outputs": [
    {
     "name": "stdout",
     "output_type": "stream",
     "text": [
      "lambda以及应用\n",
      "b    2.398752\n",
      "d    1.400566\n",
      "e    3.052668\n",
      "dtype: float64\n",
      "Utah      2.131147\n",
      "Ohio      0.808983\n",
      "Texas     2.110952\n",
      "Oregon    2.047324\n",
      "dtype: float64\n",
      "            b         d         e\n",
      "min -0.792046 -0.816525 -1.797390\n",
      "max  1.606706  0.584041  1.255278\n",
      "\n"
     ]
    }
   ],
   "source": [
    "print 'lambda以及应用'\n",
    "f = lambda x: x.max() - x.min()\n",
    "print frame.apply(f)\n",
    "print frame.apply(f, axis = 1)\n",
    "def f(x):\n",
    "    return Series([x.min(), x.max()], index = ['min', 'max'])\n",
    "print frame.apply(f)\n",
    "print"
   ]
  },
  {
   "cell_type": "markdown",
   "metadata": {},
   "source": [
    "## 基本功能 排序和排名\n",
    "• 对行或列索引进行排序 \n",
    "• 对于DataFrame，根据任意一个轴上的索引进行排序 \n",
    "• 可以指定升序降序 \n",
    "• 按值排序 \n",
    "• 对于DataFrame，可以指定按值排序的列 \n",
    "• rank函数"
   ]
  },
  {
   "cell_type": "code",
   "execution_count": 13,
   "metadata": {},
   "outputs": [
    {
     "name": "stdout",
     "output_type": "stream",
     "text": [
      "根据索引排序，对于DataFrame可以指定轴。\n",
      "a    1\n",
      "b    2\n",
      "c    3\n",
      "d    0\n",
      "dtype: int64\n",
      "       d  a  b  c\n",
      "one    4  5  6  7\n",
      "three  0  1  2  3\n",
      "       a  b  c  d\n",
      "three  1  2  3  0\n",
      "one    5  6  7  4\n",
      "       d  c  b  a\n",
      "three  0  3  2  1\n",
      "one    4  7  6  5\n",
      "\n"
     ]
    }
   ],
   "source": [
    "import numpy as np\n",
    "from pandas import Series, DataFrame\n",
    "\n",
    "print '根据索引排序，对于DataFrame可以指定轴。'\n",
    "obj = Series(range(4), index = ['d', 'a', 'b', 'c'])\n",
    "print obj.sort_index()\n",
    "frame = DataFrame(np.arange(8).reshape((2, 4)),\n",
    "                  index = ['three', 'one'],\n",
    "                  columns = list('dabc'))\n",
    "print frame.sort_index()\n",
    "print frame.sort_index(axis = 1)\n",
    "print frame.sort_index(axis = 1, ascending = False) # 降序\n",
    "print"
   ]
  },
  {
   "cell_type": "code",
   "execution_count": 17,
   "metadata": {},
   "outputs": [
    {
     "name": "stdout",
     "output_type": "stream",
     "text": [
      "根据值排序\n",
      "2   -3\n",
      "3    2\n",
      "0    4\n",
      "1    7\n",
      "dtype: int64\n",
      "\n",
      "DataFrame指定列排序\n",
      "   a  b\n",
      "0  0  4\n",
      "1  1  7\n",
      "2  0 -3\n",
      "3  1  2\n",
      "   a  b\n",
      "2  0 -3\n",
      "3  1  2\n",
      "0  0  4\n",
      "1  1  7\n",
      "   a  b\n",
      "2  0 -3\n",
      "0  0  4\n",
      "3  1  2\n",
      "1  1  7\n",
      "\n"
     ]
    }
   ],
   "source": [
    "print '根据值排序'\n",
    "obj = Series([4, 7, -3, 2])\n",
    "print obj.sort_values() # order已淘汰\n",
    "print\n",
    "\n",
    "print 'DataFrame指定列排序'\n",
    "frame = DataFrame({'b':[4, 7, -3, 2], 'a':[0, 1, 0, 1]})\n",
    "print frame\n",
    "print frame.sort_values(by = 'b') # sort_index(by = ...)已淘汰\n",
    "print frame.sort_values(by = ['a', 'b'])\n",
    "print"
   ]
  },
  {
   "cell_type": "code",
   "execution_count": 19,
   "metadata": {},
   "outputs": [
    {
     "name": "stdout",
     "output_type": "stream",
     "text": [
      "rank，求排名的平均位置(从1开始)\n",
      "0    6.5\n",
      "1    1.0\n",
      "2    6.5\n",
      "3    4.5\n",
      "4    3.0\n",
      "5    2.0\n",
      "6    4.5\n",
      "dtype: float64\n",
      "0    6.0\n",
      "1    1.0\n",
      "2    7.0\n",
      "3    4.0\n",
      "4    3.0\n",
      "5    2.0\n",
      "6    5.0\n",
      "dtype: float64\n",
      "0    2.0\n",
      "1    7.0\n",
      "2    2.0\n",
      "3    4.0\n",
      "4    5.0\n",
      "5    6.0\n",
      "6    4.0\n",
      "dtype: float64\n",
      "\n",
      "-------axis = 1-----------\n",
      "   a    b    c\n",
      "0  0  4.3 -2.0\n",
      "1  1  7.0  5.0\n",
      "2  0 -3.0  8.0\n",
      "3  1  2.0 -2.5\n",
      "     a    b    c\n",
      "0  2.0  3.0  1.0\n",
      "1  1.0  3.0  2.0\n",
      "2  2.0  1.0  3.0\n",
      "3  2.0  3.0  1.0\n"
     ]
    }
   ],
   "source": [
    "print 'rank，求排名的平均位置(从1开始)'\n",
    "obj = Series([7, -5, 7, 4, 2, 0, 4])\n",
    "# 对应排名：-5(1), 0(2), 2(3), 4(4), 4(5), 7(6), 7(7)\n",
    "print obj.rank() #先排名, 再计算所在排名数,如果有重复,计算平均值\n",
    "print obj.rank(method = 'first')  # 去第一次出现，不求平均值。\n",
    "print obj.rank(ascending = False, method = 'max') # 逆序，并取最大值。所以-5的rank是7.\n",
    "print\n",
    "\n",
    "frame = DataFrame({'b':[4.3, 7, -3, 2],\n",
    "                  'a':[0, 1, 0, 1],\n",
    "                  'c':[-2, 5, 8, -2.5]})\n",
    "print '-------axis = 1-----------'\n",
    "print frame\n",
    "print frame.rank(axis = 1)"
   ]
  },
  {
   "cell_type": "markdown",
   "metadata": {},
   "source": [
    "## 基本功能 带有重复值的索引\n",
    "• 对于重复索引，返回Series，对应单个值的索引则返回标量"
   ]
  },
  {
   "cell_type": "code",
   "execution_count": 12,
   "metadata": {},
   "outputs": [
    {
     "name": "stdout",
     "output_type": "stream",
     "text": [
      "重复的索引\n",
      "False\n",
      "a    0\n",
      "a    1\n",
      "dtype: int64\n",
      "          0         1         2\n",
      "a  2.053676  0.346629 -0.250291\n",
      "a  1.005104 -0.553517  0.693417\n",
      "b -0.072086 -0.376578 -0.700723\n",
      "b  0.687180 -0.664054  0.674252\n",
      "b   -0.072086\n",
      "b    0.687180\n",
      "Name: 0, dtype: float64\n",
      "b   -0.376578\n",
      "b   -0.664054\n",
      "Name: 1, dtype: float64\n"
     ]
    }
   ],
   "source": [
    "import numpy as np\n",
    "from pandas import Series, DataFrame\n",
    "\n",
    "print '重复的索引'\n",
    "obj = Series(range(5), index = ['a', 'a', 'b', 'b', 'c'])\n",
    "print obj.index.is_unique # 判断是非有重复索引\n",
    "print obj['a']#[0], obj.a[1]\n",
    "df = DataFrame(np.random.randn(4, 3), index = ['a', 'a', 'b', 'b'])\n",
    "print df\n",
    "print df.loc['b', 0]\n",
    "print df.loc['b', 1]\n"
   ]
  },
  {
   "cell_type": "code",
   "execution_count": null,
   "metadata": {
    "collapsed": true
   },
   "outputs": [],
   "source": []
  }
 ],
 "metadata": {
  "kernelspec": {
   "display_name": "Python 2",
   "language": "python",
   "name": "python2"
  },
  "language_info": {
   "codemirror_mode": {
    "name": "ipython",
    "version": 2
   },
   "file_extension": ".py",
   "mimetype": "text/x-python",
   "name": "python",
   "nbconvert_exporter": "python",
   "pygments_lexer": "ipython2",
   "version": "2.7.14"
  },
  "toc": {
   "nav_menu": {},
   "number_sections": true,
   "sideBar": true,
   "skip_h1_title": false,
   "toc_cell": false,
   "toc_position": {
    "height": "834px",
    "left": "0px",
    "right": "850px",
    "top": "95px",
    "width": "212px"
   },
   "toc_section_display": "block",
   "toc_window_display": true
  }
 },
 "nbformat": 4,
 "nbformat_minor": 2
}
