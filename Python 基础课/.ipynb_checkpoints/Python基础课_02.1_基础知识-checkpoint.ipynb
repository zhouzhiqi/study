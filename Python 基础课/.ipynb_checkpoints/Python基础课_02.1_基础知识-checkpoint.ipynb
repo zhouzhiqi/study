{
 "cells": [
  {
   "cell_type": "markdown",
   "metadata": {
    "toc": true
   },
   "source": [
    "<h1>Python基础课_02.1_基础知识<span class=\"tocSkip\"></span></h1>\n",
    "<div class=\"toc\"><ul class=\"toc-item\"><li><span><a href=\"#Python基础课02.1基础知识\" data-toc-modified-id=\"Python基础课02.1基础知识-1\"><span class=\"toc-item-num\">1&nbsp;&nbsp;</span>Python基础课<em>02.1</em>基础知识</a></span></li><li><span><a href=\"#变量和类型\" data-toc-modified-id=\"变量和类型-2\"><span class=\"toc-item-num\">2&nbsp;&nbsp;</span>变量和类型</a></span><ul class=\"toc-item\"><li><span><a href=\"#基本变量类型\" data-toc-modified-id=\"基本变量类型-2.1\"><span class=\"toc-item-num\">2.1&nbsp;&nbsp;</span>基本变量类型</a></span></li></ul></li><li><span><a href=\"#常见字符串处理\" data-toc-modified-id=\"常见字符串处理-3\"><span class=\"toc-item-num\">3&nbsp;&nbsp;</span>常见字符串处理</a></span></li><li><span><a href=\"#条件判断\" data-toc-modified-id=\"条件判断-4\"><span class=\"toc-item-num\">4&nbsp;&nbsp;</span>条件判断</a></span></li><li><span><a href=\"#循环控制\" data-toc-modified-id=\"循环控制-5\"><span class=\"toc-item-num\">5&nbsp;&nbsp;</span>循环控制</a></span></li></ul></div>"
   ]
  },
  {
   "cell_type": "markdown",
   "metadata": {},
   "source": [
    "# Python基础课_02.1_基础知识"
   ]
  },
  {
   "cell_type": "markdown",
   "metadata": {},
   "source": [
    "# 变量和类型"
   ]
  },
  {
   "attachments": {},
   "cell_type": "markdown",
   "metadata": {},
   "source": [
    "变量定义\n",
    "    \n",
    "    变量存储在内存中的值。这就意味着在创建变量时会在内存中开辟一个空间。\n",
    "    基于变量的数据类型，解释器会分配指定内存，并决定什么数据可以被存储在内存中。\n",
    "    变量可以指定不同的数据类型，这些变量可以存储整数，小数或字符。（弱类型）\n",
    "变量赋值\n",
    "\n",
    "    每个变量在使用前都必须赋值，变量赋值以后该变量才会被创建。（重要！！！）\n",
    "    等号（=）用来给变量赋值，等号（=）运算符左边是一个变量名,等号（=）运算符右边是存储在变量中的值。"
   ]
  },
  {
   "cell_type": "markdown",
   "metadata": {},
   "source": [
    "## 基本变量类型"
   ]
  },
  {
   "cell_type": "code",
   "execution_count": 4,
   "metadata": {
    "ExecuteTime": {
     "end_time": "2018-03-09T03:38:58.466134Z",
     "start_time": "2018-03-09T03:38:58.441117Z"
    }
   },
   "outputs": [
    {
     "name": "stdout",
     "output_type": "stream",
     "text": [
      "基本类型\n",
      "<class 'NoneType'>\n",
      "<class 'bool'>\n",
      "<class 'int'>\n",
      "<class 'float'>\n",
      "<class 'float'>\n",
      "<class 'str'>\n",
      "\n",
      "容器类型\n",
      "<class 'list'>\n",
      "<class 'tuple'>\n",
      "<class 'float'>\n",
      "<class 'set'>\n",
      "<class 'dict'>\n"
     ]
    }
   ],
   "source": [
    "# 基本类型\n",
    "print('基本类型')\n",
    "print(type(None))\n",
    "print(type(True))\n",
    "print(type(12345))\n",
    "print(type(123.45))\n",
    "print(type(1234.))\n",
    "print(type('abc'))\n",
    "\n",
    "# 容器类型\n",
    "print('\\n容器类型')\n",
    "print(type([1, 2, 3, 'a', 'bc']))\n",
    "print(type((1, 2, 3, 'abc')))\n",
    "values = ['abc', 1, 2, 3.]\n",
    "print(type(values[3]))\n",
    "print(type(set(['a', 1, 2.])))\n",
    "print(type({'a':123, 4:'bcd', 5:'efg'}))\n"
   ]
  },
  {
   "cell_type": "code",
   "execution_count": 6,
   "metadata": {
    "ExecuteTime": {
     "end_time": "2018-03-09T03:40:00.429296Z",
     "start_time": "2018-03-09T03:40:00.415283Z"
    }
   },
   "outputs": [
    {
     "name": "stdout",
     "output_type": "stream",
     "text": [
      "<class 'function'>\n",
      "<class 'module'>\n",
      "<class 'type'>\n",
      "<class '__main__.Cls'>\n"
     ]
    }
   ],
   "source": [
    "# 函数\n",
    "def func(): print(100)\n",
    "print(type(func))\n",
    "\n",
    "# 模块\n",
    "import string\n",
    "print(type(string))\n",
    "\n",
    "# 自定义类型与类型实例\n",
    "class Cls: pass #类\n",
    "print(type(Cls))\n",
    "\n",
    "cls = Cls() #类实例\n",
    "print(type(cls))"
   ]
  },
  {
   "cell_type": "code",
   "execution_count": 8,
   "metadata": {
    "ExecuteTime": {
     "end_time": "2018-03-09T03:42:50.656568Z",
     "start_time": "2018-03-09T03:42:50.648563Z"
    }
   },
   "outputs": [
    {
     "name": "stdout",
     "output_type": "stream",
     "text": [
      "abcd\n"
     ]
    }
   ],
   "source": [
    "# 变量赋值\n",
    "try:\n",
    "    print(x)    \n",
    "except NameError:\n",
    "    print(\"NameError: name 'x' is not defined\")\n",
    "\n",
    "# 变量必须先赋值再使用\n",
    "# x的类型不受限制\n",
    "x = 100\n",
    "x = 'abcd'  "
   ]
  },
  {
   "cell_type": "markdown",
   "metadata": {},
   "source": [
    "# 常见字符串处理"
   ]
  },
  {
   "cell_type": "code",
   "execution_count": 9,
   "metadata": {
    "ExecuteTime": {
     "end_time": "2018-03-09T03:43:55.366656Z",
     "start_time": "2018-03-09T03:43:55.358651Z"
    }
   },
   "outputs": [
    {
     "name": "stdout",
     "output_type": "stream",
     "text": [
      "abcd efg\n",
      "abcd efg  \n",
      " abcd efg\n",
      " abcd efg  \n"
     ]
    }
   ],
   "source": [
    "# strip去除空格\n",
    "s = ' abcd efg  '\n",
    "print(s.strip())\n",
    "print(s.lstrip())\n",
    "print(s.rstrip())\n",
    "print(s)"
   ]
  },
  {
   "cell_type": "code",
   "execution_count": 11,
   "metadata": {
    "ExecuteTime": {
     "end_time": "2018-03-09T03:45:54.677853Z",
     "start_time": "2018-03-09T03:45:54.669848Z"
    }
   },
   "outputs": [
    {
     "name": "stdout",
     "output_type": "stream",
     "text": [
      "abc_defg\n",
      "------------\n",
      "abcdefg\n",
      "hijk\n"
     ]
    }
   ],
   "source": [
    "# 字符串连接\n",
    "print('abc_' + 'defg')\n",
    "\n",
    "print('------------')\n",
    "s = 'abcdefg'\n",
    "s += '\\nhijk'\n",
    "print(s)"
   ]
  },
  {
   "cell_type": "code",
   "execution_count": 15,
   "metadata": {
    "ExecuteTime": {
     "end_time": "2018-03-09T03:46:57.002953Z",
     "start_time": "2018-03-09T03:46:56.995948Z"
    }
   },
   "outputs": [
    {
     "name": "stdout",
     "output_type": "stream",
     "text": [
      "ABC DZHG\n",
      "abc dzhg\n",
      "Abc dzhg\n"
     ]
    }
   ],
   "source": [
    "# 大写小\n",
    "s = 'abC dZHg'\n",
    "print(s.upper())\n",
    "print(s.lower())\n",
    "print(s.capitalize())\n",
    "#只允许首字母大写"
   ]
  },
  {
   "cell_type": "code",
   "execution_count": 16,
   "metadata": {
    "ExecuteTime": {
     "end_time": "2018-03-09T03:47:49.077396Z",
     "start_time": "2018-03-09T03:47:49.065383Z"
    }
   },
   "outputs": [
    {
     "name": "stdout",
     "output_type": "stream",
     "text": [
      "1\n",
      "ValueError: substring not found\n",
      "True\n",
      "False\n",
      "True\n"
     ]
    }
   ],
   "source": [
    "# 位置和比较\n",
    "s_1 = 'abcdefg'\n",
    "s_2 = 'abdefgh'\n",
    "print(s_1.index('bcd'))\n",
    "\n",
    "try:\n",
    "    print(s_1.index('bce'))\n",
    "except ValueError:\n",
    "    print('ValueError: substring not found')\n",
    "print(s_1 == s_1)   # cmp函数被Python3移除了\n",
    "print(s_1 > s_2)\n",
    "print(s_2 > s_1)"
   ]
  },
  {
   "cell_type": "code",
   "execution_count": 17,
   "metadata": {
    "ExecuteTime": {
     "end_time": "2018-03-09T03:48:56.083261Z",
     "start_time": "2018-03-09T03:48:56.075256Z"
    }
   },
   "outputs": [
    {
     "name": "stdout",
     "output_type": "stream",
     "text": [
      "['abc', 'def', 'ghi']\n",
      "['123', '456', '789']\n",
      "123-456-789\n"
     ]
    }
   ],
   "source": [
    "# 分割和连接\n",
    "s = 'abc,def,ghi'\n",
    "print(s.split(','))#以逗号分割\n",
    "s = '123\\n456\\n789'\n",
    "numbers = s.splitlines()#按行分割\n",
    "print(numbers)\n",
    "print('-'.join(numbers))#以减号连接"
   ]
  },
  {
   "cell_type": "code",
   "execution_count": 18,
   "metadata": {
    "ExecuteTime": {
     "end_time": "2018-03-09T03:50:39.388834Z",
     "start_time": "2018-03-09T03:50:39.370824Z"
    }
   },
   "outputs": [
    {
     "name": "stdout",
     "output_type": "stream",
     "text": [
      "True\n",
      "True\n",
      "True\n",
      "False\n",
      "True\n",
      "True\n",
      "True\n",
      "True\n",
      "True\n",
      "False\n"
     ]
    }
   ],
   "source": [
    "# 常用判断\n",
    "s = 'abcdefg'\n",
    "print(s.startswith('abc'))\n",
    "print(s.endswith('efg'))\n",
    "print('abcd1234'.isalnum())\n",
    "print('\\tabcd1234'.isalnum())\n",
    "print('abcd'.isalpha())\n",
    "print('12345'.isdigit())\n",
    "print('  '.isspace())\n",
    "print('acb125'.islower())\n",
    "print('A1B2C'.isupper())\n",
    "print('Hello world!'.istitle())"
   ]
  },
  {
   "cell_type": "code",
   "execution_count": 19,
   "metadata": {
    "ExecuteTime": {
     "end_time": "2018-03-09T03:51:40.825513Z",
     "start_time": "2018-03-09T03:51:40.816506Z"
    }
   },
   "outputs": [
    {
     "name": "stdout",
     "output_type": "stream",
     "text": [
      "5\n",
      "5.0\n",
      "-5.23\n",
      "1234\n",
      "-23.456\n"
     ]
    }
   ],
   "source": [
    "# 数字到字符串\n",
    "print(str(5))\n",
    "print(str(5.))\n",
    "print(str(-5.23))\n",
    "print(int('1234'))\n",
    "print(float('-23.456'))"
   ]
  },
  {
   "cell_type": "code",
   "execution_count": 20,
   "metadata": {
    "ExecuteTime": {
     "end_time": "2018-03-09T03:51:46.863812Z",
     "start_time": "2018-03-09T03:51:46.856805Z"
    }
   },
   "outputs": [
    {
     "name": "stdout",
     "output_type": "stream",
     "text": [
      "Hello world!\n",
      "4--2.30-hello\n"
     ]
    }
   ],
   "source": [
    "# 格式化字符串\n",
    "print('Hello %s!' % 'world')\n",
    "print('%d-%.2f-%s' % (4, -2.3, 'hello'))"
   ]
  }
 ],
 "metadata": {
  "kernelspec": {
   "display_name": "Python 3",
   "language": "python",
   "name": "python3"
  },
  "language_info": {
   "codemirror_mode": {
    "name": "ipython",
    "version": 3
   },
   "file_extension": ".py",
   "mimetype": "text/x-python",
   "name": "python",
   "nbconvert_exporter": "python",
   "pygments_lexer": "ipython3",
   "version": "3.6.3"
  },
  "toc": {
   "nav_menu": {},
   "number_sections": true,
   "sideBar": true,
   "skip_h1_title": false,
   "title_cell": "Python基础课_02.1_基础知识",
   "title_sidebar": "Contents",
   "toc_cell": true,
   "toc_position": {},
   "toc_section_display": true,
   "toc_window_display": false
  }
 },
 "nbformat": 4,
 "nbformat_minor": 2
}
