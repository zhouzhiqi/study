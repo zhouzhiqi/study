{
 "cells": [
  {
   "cell_type": "markdown",
   "metadata": {
    "toc": true
   },
   "source": [
    "<h1>Table of Contents<span class=\"tocSkip\"></span></h1>\n",
    "<div class=\"toc\"><ul class=\"toc-item\"><li><span><a href=\"#Python03.1容器\" data-toc-modified-id=\"Python03.1容器-1\"><span class=\"toc-item-num\">1&nbsp;&nbsp;</span>Python<em>03.1</em>容器</a></span></li><li><span><a href=\"#list-&amp;-tuple\" data-toc-modified-id=\"list-&amp;-tuple-2\"><span class=\"toc-item-num\">2&nbsp;&nbsp;</span>list &amp; tuple</a></span><ul class=\"toc-item\"><li><span><a href=\"#创建\" data-toc-modified-id=\"创建-2.1\"><span class=\"toc-item-num\">2.1&nbsp;&nbsp;</span>创建</a></span></li><li><span><a href=\"#添加\" data-toc-modified-id=\"添加-2.2\"><span class=\"toc-item-num\">2.2&nbsp;&nbsp;</span>添加</a></span></li><li><span><a href=\"#删除\" data-toc-modified-id=\"删除-2.3\"><span class=\"toc-item-num\">2.3&nbsp;&nbsp;</span>删除</a></span></li><li><span><a href=\"#读写\" data-toc-modified-id=\"读写-2.4\"><span class=\"toc-item-num\">2.4&nbsp;&nbsp;</span>读写</a></span></li><li><span><a href=\"#查找\" data-toc-modified-id=\"查找-2.5\"><span class=\"toc-item-num\">2.5&nbsp;&nbsp;</span>查找</a></span></li><li><span><a href=\"#是否为空\" data-toc-modified-id=\"是否为空-2.6\"><span class=\"toc-item-num\">2.6&nbsp;&nbsp;</span>是否为空</a></span></li><li><span><a href=\"#遍历\" data-toc-modified-id=\"遍历-2.7\"><span class=\"toc-item-num\">2.7&nbsp;&nbsp;</span>遍历</a></span></li></ul></li><li><span><a href=\"#dict\" data-toc-modified-id=\"dict-3\"><span class=\"toc-item-num\">3&nbsp;&nbsp;</span>dict</a></span><ul class=\"toc-item\"><li><span><a href=\"#创建\" data-toc-modified-id=\"创建-3.1\"><span class=\"toc-item-num\">3.1&nbsp;&nbsp;</span>创建</a></span></li><li><span><a href=\"#添加\" data-toc-modified-id=\"添加-3.2\"><span class=\"toc-item-num\">3.2&nbsp;&nbsp;</span>添加</a></span></li><li><span><a href=\"#删除\" data-toc-modified-id=\"删除-3.3\"><span class=\"toc-item-num\">3.3&nbsp;&nbsp;</span>删除</a></span></li><li><span><a href=\"#读写\" data-toc-modified-id=\"读写-3.4\"><span class=\"toc-item-num\">3.4&nbsp;&nbsp;</span>读写</a></span></li><li><span><a href=\"#查找\" data-toc-modified-id=\"查找-3.5\"><span class=\"toc-item-num\">3.5&nbsp;&nbsp;</span>查找</a></span></li><li><span><a href=\"#是否为空\" data-toc-modified-id=\"是否为空-3.6\"><span class=\"toc-item-num\">3.6&nbsp;&nbsp;</span>是否为空</a></span></li><li><span><a href=\"#遍历\" data-toc-modified-id=\"遍历-3.7\"><span class=\"toc-item-num\">3.7&nbsp;&nbsp;</span>遍历</a></span></li></ul></li><li><span><a href=\"#set\" data-toc-modified-id=\"set-4\"><span class=\"toc-item-num\">4&nbsp;&nbsp;</span>set</a></span><ul class=\"toc-item\"><li><span><a href=\"#创建\" data-toc-modified-id=\"创建-4.1\"><span class=\"toc-item-num\">4.1&nbsp;&nbsp;</span>创建</a></span></li><li><span><a href=\"#交差并\" data-toc-modified-id=\"交差并-4.2\"><span class=\"toc-item-num\">4.2&nbsp;&nbsp;</span>交差并</a></span></li><li><span><a href=\"#添加\" data-toc-modified-id=\"添加-4.3\"><span class=\"toc-item-num\">4.3&nbsp;&nbsp;</span>添加</a></span></li><li><span><a href=\"#删除\" data-toc-modified-id=\"删除-4.4\"><span class=\"toc-item-num\">4.4&nbsp;&nbsp;</span>删除</a></span></li><li><span><a href=\"#读写\" data-toc-modified-id=\"读写-4.5\"><span class=\"toc-item-num\">4.5&nbsp;&nbsp;</span>读写</a></span></li><li><span><a href=\"#查找\" data-toc-modified-id=\"查找-4.6\"><span class=\"toc-item-num\">4.6&nbsp;&nbsp;</span>查找</a></span></li><li><span><a href=\"#是否为空\" data-toc-modified-id=\"是否为空-4.7\"><span class=\"toc-item-num\">4.7&nbsp;&nbsp;</span>是否为空</a></span></li><li><span><a href=\"#遍历\" data-toc-modified-id=\"遍历-4.8\"><span class=\"toc-item-num\">4.8&nbsp;&nbsp;</span>遍历</a></span></li></ul></li><li><span><a href=\"#常见操作\" data-toc-modified-id=\"常见操作-5\"><span class=\"toc-item-num\">5&nbsp;&nbsp;</span>常见操作</a></span><ul class=\"toc-item\"><li><span><a href=\"#切片\" data-toc-modified-id=\"切片-5.1\"><span class=\"toc-item-num\">5.1&nbsp;&nbsp;</span>切片</a></span></li><li><span><a href=\"#列表推导\" data-toc-modified-id=\"列表推导-5.2\"><span class=\"toc-item-num\">5.2&nbsp;&nbsp;</span>列表推导</a></span></li></ul></li></ul></div>"
   ]
  },
  {
   "cell_type": "markdown",
   "metadata": {},
   "source": [
    "# Python_03.1_容器"
   ]
  },
  {
   "cell_type": "markdown",
   "metadata": {},
   "source": [
    "**list 列表**    \n",
    "序列是Python中最基本的数据结构。序列中的每个元素都分配一个数字 - 它的位置，或索引    \n",
    "第一个索引是0，第二个索引是1，依此类推。    \n",
    "列表的数据项不需要具有相同的类型\n",
    "\n",
    "**tuple 元组**（只读列表）\n",
    "\n",
    "**dict 字典**    \n",
    "字典的每个键值(**(key: value)**)对用冒号(:)分割，每个对之间用逗号(,)分割，整个字典包括在花括号({})中。\n",
    "\n",
    "**set 集合**    \n",
    "是一个**无序不重复**元素集, 基本功能包括关系测试和消除重复元素. 集合对象还支持union(联合), intersection(交), difference(差)和sysmmetric difference(对称差集)等数学运算。\n"
   ]
  },
  {
   "cell_type": "markdown",
   "metadata": {},
   "source": [
    "# list & tuple   \n",
    "创建    \n",
    "添加元素（list only）：append, extend    \n",
    "删除元素（list only）：del   \n",
    "根据索引读写（tuple只读）    \n",
    "判断容器是否为空    \n",
    "字符串转换    \n",
    "容器元素数量\t   \n",
    "遍历    "
   ]
  },
  {
   "cell_type": "code",
   "execution_count": 1,
   "metadata": {
    "ExecuteTime": {
     "end_time": "2018-03-09T01:05:54.305425Z",
     "start_time": "2018-03-09T01:05:54.289906Z"
    }
   },
   "outputs": [
    {
     "data": {
      "text/plain": [
       "['__add__',\n",
       " '__class__',\n",
       " '__contains__',\n",
       " '__delattr__',\n",
       " '__delitem__',\n",
       " '__dir__',\n",
       " '__doc__',\n",
       " '__eq__',\n",
       " '__format__',\n",
       " '__ge__',\n",
       " '__getattribute__',\n",
       " '__getitem__',\n",
       " '__gt__',\n",
       " '__hash__',\n",
       " '__iadd__',\n",
       " '__imul__',\n",
       " '__init__',\n",
       " '__init_subclass__',\n",
       " '__iter__',\n",
       " '__le__',\n",
       " '__len__',\n",
       " '__lt__',\n",
       " '__mul__',\n",
       " '__ne__',\n",
       " '__new__',\n",
       " '__reduce__',\n",
       " '__reduce_ex__',\n",
       " '__repr__',\n",
       " '__reversed__',\n",
       " '__rmul__',\n",
       " '__setattr__',\n",
       " '__setitem__',\n",
       " '__sizeof__',\n",
       " '__str__',\n",
       " '__subclasshook__',\n",
       " 'append',\n",
       " 'clear',\n",
       " 'copy',\n",
       " 'count',\n",
       " 'extend',\n",
       " 'index',\n",
       " 'insert',\n",
       " 'pop',\n",
       " 'remove',\n",
       " 'reverse',\n",
       " 'sort']"
      ]
     },
     "execution_count": 1,
     "metadata": {},
     "output_type": "execute_result"
    }
   ],
   "source": [
    "dir(list())"
   ]
  },
  {
   "cell_type": "code",
   "execution_count": 2,
   "metadata": {
    "ExecuteTime": {
     "end_time": "2018-03-09T01:05:54.326439Z",
     "start_time": "2018-03-09T01:05:54.307425Z"
    }
   },
   "outputs": [
    {
     "data": {
      "text/plain": [
       "['__add__',\n",
       " '__class__',\n",
       " '__contains__',\n",
       " '__delattr__',\n",
       " '__dir__',\n",
       " '__doc__',\n",
       " '__eq__',\n",
       " '__format__',\n",
       " '__ge__',\n",
       " '__getattribute__',\n",
       " '__getitem__',\n",
       " '__getnewargs__',\n",
       " '__gt__',\n",
       " '__hash__',\n",
       " '__init__',\n",
       " '__init_subclass__',\n",
       " '__iter__',\n",
       " '__le__',\n",
       " '__len__',\n",
       " '__lt__',\n",
       " '__mul__',\n",
       " '__ne__',\n",
       " '__new__',\n",
       " '__reduce__',\n",
       " '__reduce_ex__',\n",
       " '__repr__',\n",
       " '__rmul__',\n",
       " '__setattr__',\n",
       " '__sizeof__',\n",
       " '__str__',\n",
       " '__subclasshook__',\n",
       " 'count',\n",
       " 'index']"
      ]
     },
     "execution_count": 2,
     "metadata": {},
     "output_type": "execute_result"
    }
   ],
   "source": [
    "dir(tuple())"
   ]
  },
  {
   "cell_type": "markdown",
   "metadata": {},
   "source": [
    "## 创建"
   ]
  },
  {
   "cell_type": "code",
   "execution_count": 3,
   "metadata": {
    "ExecuteTime": {
     "end_time": "2018-03-09T01:05:54.345451Z",
     "start_time": "2018-03-09T01:05:54.328440Z"
    }
   },
   "outputs": [
    {
     "name": "stdout",
     "output_type": "stream",
     "text": [
      "<class 'type'>\n",
      "<class 'list'>\n",
      "<class 'list'>\n"
     ]
    }
   ],
   "source": [
    "li = [1, 2, 3, '456', [1, 2, 3], {1: 'one', 2: 'two'}]\n",
    "#什么都能往里加, int, ste, list, dict, etc\n",
    "print(type(list))\n",
    "print(type(list()))\n",
    "print(type(li))"
   ]
  },
  {
   "cell_type": "code",
   "execution_count": 4,
   "metadata": {
    "ExecuteTime": {
     "end_time": "2018-03-09T01:05:54.361463Z",
     "start_time": "2018-03-09T01:05:54.347453Z"
    }
   },
   "outputs": [
    {
     "data": {
      "text/plain": [
       "[1, 2, 3, '456', [1, 2, 3], {1: 'one', 2: 'two'}]"
      ]
     },
     "execution_count": 4,
     "metadata": {},
     "output_type": "execute_result"
    }
   ],
   "source": [
    "li"
   ]
  },
  {
   "cell_type": "markdown",
   "metadata": {},
   "source": [
    "## 添加"
   ]
  },
  {
   "cell_type": "code",
   "execution_count": 5,
   "metadata": {
    "ExecuteTime": {
     "end_time": "2018-03-09T01:05:54.375471Z",
     "start_time": "2018-03-09T01:05:54.363463Z"
    }
   },
   "outputs": [
    {
     "name": "stdout",
     "output_type": "stream",
     "text": [
      "[1, 2, 3, 4, '666']\n"
     ]
    }
   ],
   "source": [
    "# 添加元素\n",
    "l_a = [1, 2, 3]\n",
    "l_a.append(4)\n",
    "l_a.append('666')\n",
    "\n",
    "print(l_a)"
   ]
  },
  {
   "cell_type": "code",
   "execution_count": 6,
   "metadata": {
    "ExecuteTime": {
     "end_time": "2018-03-09T01:05:54.389485Z",
     "start_time": "2018-03-09T01:05:54.377473Z"
    }
   },
   "outputs": [
    {
     "name": "stdout",
     "output_type": "stream",
     "text": [
      "[1, 2, 3, 4, '666', [6, '7', 8]]\n"
     ]
    }
   ],
   "source": [
    "l_a.append([6, '7', 8]) \n",
    "#整体添加\n",
    "print(l_a)"
   ]
  },
  {
   "cell_type": "code",
   "execution_count": 7,
   "metadata": {
    "ExecuteTime": {
     "end_time": "2018-03-09T01:05:54.402242Z",
     "start_time": "2018-03-09T01:05:54.391485Z"
    }
   },
   "outputs": [
    {
     "name": "stdout",
     "output_type": "stream",
     "text": [
      "[1, 2, 3, 4, '666', [6, '7', 8], 6, '7', 8]\n"
     ]
    }
   ],
   "source": [
    "l_a.extend([6, '7', 8]) \n",
    "#逐个添加\n",
    "print(l_a)"
   ]
  },
  {
   "cell_type": "code",
   "execution_count": 8,
   "metadata": {
    "ExecuteTime": {
     "end_time": "2018-03-09T01:05:54.414249Z",
     "start_time": "2018-03-09T01:05:54.404242Z"
    }
   },
   "outputs": [
    {
     "name": "stdout",
     "output_type": "stream",
     "text": [
      "[1, 2, 3, 4, '666', [6, '7', 8], 6, '7', 8, 1, 2]\n"
     ]
    }
   ],
   "source": [
    "l_a.extend({1: 'one', 2: 'two'})\n",
    "#只添加 key\n",
    "print(l_a)"
   ]
  },
  {
   "cell_type": "markdown",
   "metadata": {},
   "source": [
    "## 删除"
   ]
  },
  {
   "cell_type": "code",
   "execution_count": 9,
   "metadata": {
    "ExecuteTime": {
     "end_time": "2018-03-09T01:05:54.427256Z",
     "start_time": "2018-03-09T01:05:54.416250Z"
    }
   },
   "outputs": [
    {
     "name": "stdout",
     "output_type": "stream",
     "text": [
      "[1, 2, 3, '456', [1, 2, 3], {1: 'one', 2: 'two'}]\n",
      "[1, 3, [1, 2, 3]]\n"
     ]
    }
   ],
   "source": [
    "print(li)\n",
    "del(li[-1]) # del(list[index])\n",
    "del(li[1])\n",
    "del(li[-2])\n",
    "print(li)"
   ]
  },
  {
   "cell_type": "markdown",
   "metadata": {
    "ExecuteTime": {
     "end_time": "2018-03-08T10:09:21.717879Z",
     "start_time": "2018-03-08T10:09:21.595985Z"
    }
   },
   "source": [
    "## 读写"
   ]
  },
  {
   "cell_type": "code",
   "execution_count": 10,
   "metadata": {
    "ExecuteTime": {
     "end_time": "2018-03-09T01:05:54.444269Z",
     "start_time": "2018-03-09T01:05:54.430260Z"
    }
   },
   "outputs": [
    {
     "name": "stdout",
     "output_type": "stream",
     "text": [
      "1\n",
      "2\n",
      "[6, '7', 8]\n"
     ]
    }
   ],
   "source": [
    "li = l_a\n",
    "# 元素访问\n",
    "print(li[0])\n",
    "print(li[-1])   # li[len(li) - 1]\n",
    "print(li[-6])   # li[len(li) - 2]"
   ]
  },
  {
   "cell_type": "code",
   "execution_count": 11,
   "metadata": {
    "ExecuteTime": {
     "end_time": "2018-03-09T01:05:54.461280Z",
     "start_time": "2018-03-09T01:05:54.446269Z"
    }
   },
   "outputs": [
    {
     "name": "stdout",
     "output_type": "stream",
     "text": [
      "[1, 2, 3, 4, '666', [6, '7', 8], 6, '7', 8, 1, 2]\n",
      "[1, '10086', 3, 4, '666', [6, '7', 8], 6, '7', 8, 1, 2]\n"
     ]
    }
   ],
   "source": [
    "print(li)\n",
    "li[1]='10086'\n",
    "#元素修改\n",
    "print(li)"
   ]
  },
  {
   "cell_type": "markdown",
   "metadata": {},
   "source": [
    "## 查找"
   ]
  },
  {
   "cell_type": "code",
   "execution_count": 12,
   "metadata": {
    "ExecuteTime": {
     "end_time": "2018-03-09T01:05:54.476290Z",
     "start_time": "2018-03-09T01:05:54.463282Z"
    }
   },
   "outputs": [
    {
     "name": "stdout",
     "output_type": "stream",
     "text": [
      "False\n",
      "True\n",
      "True\n"
     ]
    }
   ],
   "source": [
    "# 查看元素是否存在\n",
    "print(5 in li)\n",
    "print('666' in li)\n",
    "print([6, '7', 8] in li)"
   ]
  },
  {
   "cell_type": "code",
   "execution_count": 13,
   "metadata": {
    "ExecuteTime": {
     "end_time": "2018-03-09T01:05:54.489805Z",
     "start_time": "2018-03-09T01:05:54.478290Z"
    }
   },
   "outputs": [
    {
     "name": "stdout",
     "output_type": "stream",
     "text": [
      "0\n",
      "5\n"
     ]
    }
   ],
   "source": [
    "# 查找元素位置(第一次出现的位置)\n",
    "print(li.index(1))\n",
    "print(li.index([6, '7', 8]))\n",
    "#print(li.index(-1))"
   ]
  },
  {
   "cell_type": "markdown",
   "metadata": {},
   "source": [
    "## 是否为空"
   ]
  },
  {
   "cell_type": "code",
   "execution_count": 14,
   "metadata": {
    "ExecuteTime": {
     "end_time": "2018-03-09T01:05:54.502315Z",
     "start_time": "2018-03-09T01:05:54.492306Z"
    }
   },
   "outputs": [
    {
     "name": "stdout",
     "output_type": "stream",
     "text": [
      "Empty not\n",
      "Empty len()\n"
     ]
    }
   ],
   "source": [
    "l_a = []\n",
    "if not l_a:\n",
    "    print('Empty not')  # not XX和is None不是一回事\n",
    "\n",
    "if l_a is None:\n",
    "    print('Empty None')\n",
    "    \n",
    "if len(l_a) == 0:\n",
    "    print('Empty len()')"
   ]
  },
  {
   "cell_type": "markdown",
   "metadata": {},
   "source": [
    "## 遍历"
   ]
  },
  {
   "cell_type": "code",
   "execution_count": 15,
   "metadata": {
    "ExecuteTime": {
     "end_time": "2018-03-09T01:05:54.518328Z",
     "start_time": "2018-03-09T01:05:54.504318Z"
    }
   },
   "outputs": [
    {
     "name": "stdout",
     "output_type": "stream",
     "text": [
      "1\n",
      "10086\n",
      "3\n",
      "4\n",
      "666\n",
      "[6, '7', 8]\n",
      "6\n",
      "7\n",
      "8\n",
      "1\n",
      "2\n",
      "1\n",
      "10086\n",
      "3\n",
      "4\n",
      "666\n",
      "[6, '7', 8]\n",
      "6\n",
      "7\n",
      "8\n",
      "1\n",
      "2\n"
     ]
    }
   ],
   "source": [
    "for i in li:#通过for直接遍历\n",
    "    print(i)\n",
    "    \n",
    "for i in range(len(li)):#通过地址遍历\n",
    "    print(li[i])"
   ]
  },
  {
   "cell_type": "code",
   "execution_count": 16,
   "metadata": {
    "ExecuteTime": {
     "end_time": "2018-03-09T01:05:54.529333Z",
     "start_time": "2018-03-09T01:05:54.520327Z"
    }
   },
   "outputs": [
    {
     "name": "stdout",
     "output_type": "stream",
     "text": [
      "<class 'tuple'>\n"
     ]
    }
   ],
   "source": [
    "t = (1, 2, 3, '456')#只读\n",
    "print(type(t))\n",
    "# t[0] = 'a'\n",
    "# t.append('x')"
   ]
  },
  {
   "cell_type": "markdown",
   "metadata": {},
   "source": [
    "# dict    \n",
    "\n",
    "初始化    \n",
    "访问    \n",
    "添加元素    \n",
    "修改元素\t    \n",
    "删除元素    \n",
    "判断key是否存在    \t\n",
    "判断容器是否为空    \n",
    "容器元素数量\t    \n",
    "遍历    "
   ]
  },
  {
   "cell_type": "code",
   "execution_count": 17,
   "metadata": {
    "ExecuteTime": {
     "end_time": "2018-03-09T01:05:54.546345Z",
     "start_time": "2018-03-09T01:05:54.531335Z"
    }
   },
   "outputs": [
    {
     "data": {
      "text/plain": [
       "['__class__',\n",
       " '__contains__',\n",
       " '__delattr__',\n",
       " '__delitem__',\n",
       " '__dir__',\n",
       " '__doc__',\n",
       " '__eq__',\n",
       " '__format__',\n",
       " '__ge__',\n",
       " '__getattribute__',\n",
       " '__getitem__',\n",
       " '__gt__',\n",
       " '__hash__',\n",
       " '__init__',\n",
       " '__init_subclass__',\n",
       " '__iter__',\n",
       " '__le__',\n",
       " '__len__',\n",
       " '__lt__',\n",
       " '__ne__',\n",
       " '__new__',\n",
       " '__reduce__',\n",
       " '__reduce_ex__',\n",
       " '__repr__',\n",
       " '__setattr__',\n",
       " '__setitem__',\n",
       " '__sizeof__',\n",
       " '__str__',\n",
       " '__subclasshook__',\n",
       " 'clear',\n",
       " 'copy',\n",
       " 'fromkeys',\n",
       " 'get',\n",
       " 'items',\n",
       " 'keys',\n",
       " 'pop',\n",
       " 'popitem',\n",
       " 'setdefault',\n",
       " 'update',\n",
       " 'values']"
      ]
     },
     "execution_count": 17,
     "metadata": {},
     "output_type": "execute_result"
    }
   ],
   "source": [
    "dir(dict())"
   ]
  },
  {
   "cell_type": "markdown",
   "metadata": {},
   "source": [
    "## 创建"
   ]
  },
  {
   "cell_type": "code",
   "execution_count": 18,
   "metadata": {
    "ExecuteTime": {
     "end_time": "2018-03-09T01:05:54.560354Z",
     "start_time": "2018-03-09T01:05:54.548347Z"
    }
   },
   "outputs": [
    {
     "name": "stdout",
     "output_type": "stream",
     "text": [
      "<class 'type'>\n",
      "<class 'dict'>\n",
      "{'a': 1, 'b': 2, 1: 'one', 2: 'two', 3: [1, 2, 3]}\n"
     ]
    }
   ],
   "source": [
    "d = {'a': 1, 'b': 2, 1: 'one', 2: 'two', 3: [1, 2, 3]}\n",
    "print(type(dict))\n",
    "print(type(d))\n",
    "print(d)"
   ]
  },
  {
   "cell_type": "markdown",
   "metadata": {},
   "source": [
    "## 添加"
   ]
  },
  {
   "cell_type": "code",
   "execution_count": 19,
   "metadata": {
    "ExecuteTime": {
     "end_time": "2018-03-09T01:05:54.574363Z",
     "start_time": "2018-03-09T01:05:54.562356Z"
    }
   },
   "outputs": [
    {
     "data": {
      "text/plain": [
       "{'a': 1, 'b': 2, 1: 'one', 2: 'two', 3: [1, 2, 3], '666': '10086'}"
      ]
     },
     "execution_count": 19,
     "metadata": {},
     "output_type": "execute_result"
    }
   ],
   "source": [
    "# 直接添加\n",
    "d['666'] = '10086'\n",
    "d"
   ]
  },
  {
   "cell_type": "markdown",
   "metadata": {},
   "source": [
    "## 删除"
   ]
  },
  {
   "cell_type": "code",
   "execution_count": 20,
   "metadata": {
    "ExecuteTime": {
     "end_time": "2018-03-09T01:05:54.591878Z",
     "start_time": "2018-03-09T01:05:54.576365Z"
    }
   },
   "outputs": [
    {
     "name": "stdout",
     "output_type": "stream",
     "text": [
      "len(d)=6\n",
      "[1, 2, 3]\n",
      "{'a': 1, 'b': 2, 1: 'one', 2: 'two', '666': '10086'}\n",
      "('666', '10086')\n",
      "{'a': 1, 'b': 2, 1: 'one', 2: 'two'}\n",
      "{'a': 1, 1: 'one', 2: 'two'}\n",
      "del len(d)=3\n"
     ]
    }
   ],
   "source": [
    "print('len(d)=%s' %len(d))\n",
    "\n",
    "print(d.pop(3))#返回value的同时删除key\n",
    "print(d)\n",
    "\n",
    "print(d.popitem())#返回并删除dict的未尾项\n",
    "print(d)\n",
    "#d.clear()#清空全部\n",
    "\n",
    "del(d['b'])#直接删除\n",
    "print(d)\n",
    "\n",
    "print('del len(d)=%s' %len(d))"
   ]
  },
  {
   "cell_type": "markdown",
   "metadata": {},
   "source": [
    "## 读写"
   ]
  },
  {
   "cell_type": "code",
   "execution_count": 21,
   "metadata": {
    "ExecuteTime": {
     "end_time": "2018-03-09T01:05:54.603391Z",
     "start_time": "2018-03-09T01:05:54.594380Z"
    }
   },
   "outputs": [
    {
     "name": "stdout",
     "output_type": "stream",
     "text": [
      "1\n",
      "one\n"
     ]
    }
   ],
   "source": [
    "#通过key直接访问/修改 \n",
    "print(d['a'])\n",
    "print(d[1])"
   ]
  },
  {
   "cell_type": "code",
   "execution_count": 22,
   "metadata": {
    "ExecuteTime": {
     "end_time": "2018-03-09T01:05:54.620401Z",
     "start_time": "2018-03-09T01:05:54.605392Z"
    }
   },
   "outputs": [
    {
     "name": "stdout",
     "output_type": "stream",
     "text": [
      "{'a': 1, 1: 'one', 2: 'two'}\n",
      "{'a': 1, 1: 'one', 2: '666'}\n"
     ]
    }
   ],
   "source": [
    "print(d)\n",
    "d[2]='666'\n",
    "print(d)"
   ]
  },
  {
   "cell_type": "markdown",
   "metadata": {},
   "source": [
    "## 查找"
   ]
  },
  {
   "cell_type": "code",
   "execution_count": 23,
   "metadata": {
    "ExecuteTime": {
     "end_time": "2018-03-09T01:05:54.633411Z",
     "start_time": "2018-03-09T01:05:54.622404Z"
    }
   },
   "outputs": [
    {
     "name": "stdout",
     "output_type": "stream",
     "text": [
      "True\n",
      "False\n"
     ]
    }
   ],
   "source": [
    "#只能查找key是否存在\n",
    "print('a' in d)\n",
    "print('666' in d)"
   ]
  },
  {
   "cell_type": "markdown",
   "metadata": {},
   "source": [
    "## 是否为空"
   ]
  },
  {
   "cell_type": "code",
   "execution_count": 24,
   "metadata": {
    "ExecuteTime": {
     "end_time": "2018-03-09T01:05:54.648421Z",
     "start_time": "2018-03-09T01:05:54.635413Z"
    }
   },
   "outputs": [
    {
     "name": "stdout",
     "output_type": "stream",
     "text": [
      "Empty not\n",
      "Empty len()\n"
     ]
    }
   ],
   "source": [
    "dd = {}\n",
    "if not dd:\n",
    "    print('Empty not')  # not XX和is None不是一回事\n",
    "\n",
    "if dd is None:\n",
    "    print('Empty None')\n",
    "    \n",
    "if len(dd) == 0:\n",
    "    print('Empty len()')"
   ]
  },
  {
   "cell_type": "markdown",
   "metadata": {},
   "source": [
    "## 遍历"
   ]
  },
  {
   "cell_type": "code",
   "execution_count": 25,
   "metadata": {
    "ExecuteTime": {
     "end_time": "2018-03-09T01:05:54.663431Z",
     "start_time": "2018-03-09T01:05:54.651422Z"
    }
   },
   "outputs": [
    {
     "name": "stdout",
     "output_type": "stream",
     "text": [
      "1\n",
      "one\n",
      "666\n",
      "\n",
      "\n",
      "a 1\n",
      "1 one\n",
      "2 666\n"
     ]
    }
   ],
   "source": [
    "for key in d:#通过key遍历\n",
    "    print(d[key])\n",
    "print('\\n')\n",
    "\n",
    "for k, v in d.items():\n",
    "    #直接访问key和value\n",
    "    print(k, v)"
   ]
  },
  {
   "cell_type": "code",
   "execution_count": 26,
   "metadata": {
    "ExecuteTime": {
     "end_time": "2018-03-09T01:05:54.673437Z",
     "start_time": "2018-03-09T01:05:54.666433Z"
    }
   },
   "outputs": [
    {
     "name": "stdout",
     "output_type": "stream",
     "text": [
      "<class 'dict_keys'>\n",
      "dict_keys(['a', 1, 2])\n"
     ]
    }
   ],
   "source": [
    "keys = d.keys()\n",
    "print(type(keys))\n",
    "print(keys)"
   ]
  },
  {
   "cell_type": "code",
   "execution_count": 27,
   "metadata": {
    "ExecuteTime": {
     "end_time": "2018-03-09T01:05:54.685446Z",
     "start_time": "2018-03-09T01:05:54.675437Z"
    }
   },
   "outputs": [
    {
     "name": "stdout",
     "output_type": "stream",
     "text": [
      "<class 'dict_values'>\n",
      "dict_values([1, 'one', '666'])\n"
     ]
    }
   ],
   "source": [
    "values = d.values()\n",
    "print(type(values))\n",
    "print(values)"
   ]
  },
  {
   "cell_type": "markdown",
   "metadata": {},
   "source": [
    "# set   \n",
    "并/交/差集：|/union, &/intersection, -/difference     \n",
    "对称差集：symmetric_difference（不同时出现在2个集合中的项）     \n",
    "包含关系：>=/issuperset     \n",
    "添加元素    \n",
    "更新元素    \n",
    "删除元素    \n",
    "元素是否存在    \n",
    "容器元素数量    \n",
    "遍历    "
   ]
  },
  {
   "cell_type": "code",
   "execution_count": 28,
   "metadata": {
    "ExecuteTime": {
     "end_time": "2018-03-09T01:05:54.701466Z",
     "start_time": "2018-03-09T01:05:54.689456Z"
    }
   },
   "outputs": [
    {
     "data": {
      "text/plain": [
       "['__and__',\n",
       " '__class__',\n",
       " '__contains__',\n",
       " '__delattr__',\n",
       " '__dir__',\n",
       " '__doc__',\n",
       " '__eq__',\n",
       " '__format__',\n",
       " '__ge__',\n",
       " '__getattribute__',\n",
       " '__gt__',\n",
       " '__hash__',\n",
       " '__iand__',\n",
       " '__init__',\n",
       " '__init_subclass__',\n",
       " '__ior__',\n",
       " '__isub__',\n",
       " '__iter__',\n",
       " '__ixor__',\n",
       " '__le__',\n",
       " '__len__',\n",
       " '__lt__',\n",
       " '__ne__',\n",
       " '__new__',\n",
       " '__or__',\n",
       " '__rand__',\n",
       " '__reduce__',\n",
       " '__reduce_ex__',\n",
       " '__repr__',\n",
       " '__ror__',\n",
       " '__rsub__',\n",
       " '__rxor__',\n",
       " '__setattr__',\n",
       " '__sizeof__',\n",
       " '__str__',\n",
       " '__sub__',\n",
       " '__subclasshook__',\n",
       " '__xor__',\n",
       " 'add',\n",
       " 'clear',\n",
       " 'copy',\n",
       " 'difference',\n",
       " 'difference_update',\n",
       " 'discard',\n",
       " 'intersection',\n",
       " 'intersection_update',\n",
       " 'isdisjoint',\n",
       " 'issubset',\n",
       " 'issuperset',\n",
       " 'pop',\n",
       " 'remove',\n",
       " 'symmetric_difference',\n",
       " 'symmetric_difference_update',\n",
       " 'union',\n",
       " 'update']"
      ]
     },
     "execution_count": 28,
     "metadata": {},
     "output_type": "execute_result"
    }
   ],
   "source": [
    "dir(set())"
   ]
  },
  {
   "cell_type": "markdown",
   "metadata": {},
   "source": [
    "## 创建"
   ]
  },
  {
   "cell_type": "code",
   "execution_count": 29,
   "metadata": {
    "ExecuteTime": {
     "end_time": "2018-03-09T01:05:54.717480Z",
     "start_time": "2018-03-09T01:05:54.703470Z"
    }
   },
   "outputs": [
    {
     "name": "stdout",
     "output_type": "stream",
     "text": [
      "{1, 2, 3, 4, 5, 6}\n",
      "{4, 5, 6, 7, 8, 9}\n"
     ]
    }
   ],
   "source": [
    "s_a = set([1, 2, 2, 3, 4, 5, 6])\n",
    "s_b = set([4, 5, 6, 7, 8, 9])\n",
    "# set expected at most 1 arguments\n",
    "\n",
    "print(s_a)\n",
    "print(s_b)"
   ]
  },
  {
   "cell_type": "markdown",
   "metadata": {},
   "source": [
    "## 交差并"
   ]
  },
  {
   "cell_type": "code",
   "execution_count": 30,
   "metadata": {
    "ExecuteTime": {
     "end_time": "2018-03-09T01:05:54.731486Z",
     "start_time": "2018-03-09T01:05:54.720479Z"
    }
   },
   "outputs": [
    {
     "name": "stdout",
     "output_type": "stream",
     "text": [
      "{1, 2, 3, 4, 5, 6, 7, 8, 9}\n",
      "{1, 2, 3, 4, 5, 6, 7, 8, 9}\n",
      "{4, 5, 6}\n",
      "{4, 5, 6}\n"
     ]
    }
   ],
   "source": [
    "# 并集\n",
    "print(s_a | s_b)\n",
    "print(s_a.union(s_b))\n",
    "\n",
    "# 交集\n",
    "print(s_a & s_b)\n",
    "print(s_a.intersection(s_b))"
   ]
  },
  {
   "cell_type": "code",
   "execution_count": 31,
   "metadata": {
    "ExecuteTime": {
     "end_time": "2018-03-09T01:05:54.742495Z",
     "start_time": "2018-03-09T01:05:54.733488Z"
    }
   },
   "outputs": [
    {
     "name": "stdout",
     "output_type": "stream",
     "text": [
      "{1, 2, 3}\n",
      "{1, 2, 3}\n",
      "{1, 2, 3, 7, 8, 9}\n",
      "{1, 2, 3, 7, 8, 9}\n"
     ]
    }
   ],
   "source": [
    "# 差集 A - (A & B)\n",
    "print(s_a - s_b)\n",
    "print(s_a.difference(s_b))\n",
    "\n",
    "# 对称差 (A | B) - (A & B)\n",
    "print(s_a ^ s_b)\n",
    "print(s_a.symmetric_difference(s_b))"
   ]
  },
  {
   "cell_type": "code",
   "execution_count": 32,
   "metadata": {
    "ExecuteTime": {
     "end_time": "2018-03-09T01:05:54.753502Z",
     "start_time": "2018-03-09T01:05:54.744496Z"
    }
   },
   "outputs": [],
   "source": [
    "\n",
    "\n",
    "# 判断元素是否存在\n",
    "\n",
    "\n",
    "\n",
    "# 修改元素\n",
    "\n",
    "\n",
    "\n",
    "\n"
   ]
  },
  {
   "cell_type": "markdown",
   "metadata": {},
   "source": [
    "## 添加"
   ]
  },
  {
   "cell_type": "code",
   "execution_count": 33,
   "metadata": {
    "ExecuteTime": {
     "end_time": "2018-03-09T01:05:54.766510Z",
     "start_time": "2018-03-09T01:05:54.755504Z"
    }
   },
   "outputs": [
    {
     "name": "stdout",
     "output_type": "stream",
     "text": [
      "{1, 2, 3, 4, 5, 6, 'x'}\n",
      "{1, 2, 3, 4, 5, 6, 70, 60, 'x'}\n"
     ]
    }
   ],
   "source": [
    "s_a.add('x')\n",
    "print(s_a)\n",
    "\n",
    "s_a.update([4, 5, 60, 70])\n",
    "print(s_a)"
   ]
  },
  {
   "cell_type": "markdown",
   "metadata": {},
   "source": [
    "## 删除"
   ]
  },
  {
   "cell_type": "code",
   "execution_count": 34,
   "metadata": {
    "ExecuteTime": {
     "end_time": "2018-03-09T01:05:54.779519Z",
     "start_time": "2018-03-09T01:05:54.768513Z"
    }
   },
   "outputs": [
    {
     "name": "stdout",
     "output_type": "stream",
     "text": [
      "{1, 2, 3, 4, 5, 6, 60, 'x'}\n"
     ]
    }
   ],
   "source": [
    "s_a.remove(70)\n",
    "print(s_a)\n",
    "# s_a.remove(100)"
   ]
  },
  {
   "cell_type": "markdown",
   "metadata": {},
   "source": [
    "## 读写"
   ]
  },
  {
   "cell_type": "code",
   "execution_count": 35,
   "metadata": {
    "ExecuteTime": {
     "end_time": "2018-03-09T01:05:54.793533Z",
     "start_time": "2018-03-09T01:05:54.781521Z"
    }
   },
   "outputs": [],
   "source": [
    "#s_a[2]\n",
    "#'set' object does not support indexing"
   ]
  },
  {
   "cell_type": "markdown",
   "metadata": {},
   "source": [
    "## 查找"
   ]
  },
  {
   "cell_type": "code",
   "execution_count": 36,
   "metadata": {
    "ExecuteTime": {
     "end_time": "2018-03-09T01:05:54.807547Z",
     "start_time": "2018-03-09T01:05:54.796035Z"
    }
   },
   "outputs": [
    {
     "name": "stdout",
     "output_type": "stream",
     "text": [
      "True\n",
      "False\n"
     ]
    }
   ],
   "source": [
    "print(5 in s_a)\n",
    "print(10 in s_b)"
   ]
  },
  {
   "cell_type": "markdown",
   "metadata": {},
   "source": [
    "## 是否为空"
   ]
  },
  {
   "cell_type": "code",
   "execution_count": 37,
   "metadata": {
    "ExecuteTime": {
     "end_time": "2018-03-09T01:05:54.821554Z",
     "start_time": "2018-03-09T01:05:54.810547Z"
    }
   },
   "outputs": [
    {
     "name": "stdout",
     "output_type": "stream",
     "text": [
      "Empty not\n",
      "Empty len()\n"
     ]
    }
   ],
   "source": [
    "ss = ()\n",
    "if not ss:\n",
    "    print('Empty not')  # not XX和is None不是一回事\n",
    "\n",
    "if ss is None:\n",
    "    print('Empty None')\n",
    "    \n",
    "if len(ss) == 0:\n",
    "    print('Empty len()')"
   ]
  },
  {
   "cell_type": "markdown",
   "metadata": {},
   "source": [
    "## 遍历"
   ]
  },
  {
   "cell_type": "code",
   "execution_count": 38,
   "metadata": {
    "ExecuteTime": {
     "end_time": "2018-03-09T01:05:54.832562Z",
     "start_time": "2018-03-09T01:05:54.823557Z"
    }
   },
   "outputs": [
    {
     "name": "stdout",
     "output_type": "stream",
     "text": [
      "8\n",
      "1\n",
      "2\n",
      "3\n",
      "4\n",
      "5\n",
      "6\n",
      "60\n",
      "x\n"
     ]
    }
   ],
   "source": [
    "print(len(s_a))\n",
    "\n",
    "for i in s_a:\n",
    "    print(i)"
   ]
  },
  {
   "cell_type": "markdown",
   "metadata": {},
   "source": [
    "# 常见操作"
   ]
  },
  {
   "cell_type": "markdown",
   "metadata": {},
   "source": [
    "## 切片"
   ]
  },
  {
   "attachments": {},
   "cell_type": "markdown",
   "metadata": {},
   "source": [
    "存取序列（列表，元组，字符串）的任意一部分   \n",
    "`[start:end:steps]  [start ,end)`"
   ]
  },
  {
   "cell_type": "code",
   "execution_count": 40,
   "metadata": {
    "ExecuteTime": {
     "end_time": "2018-03-09T01:13:39.587724Z",
     "start_time": "2018-03-09T01:13:39.575716Z"
    }
   },
   "outputs": [
    {
     "name": "stdout",
     "output_type": "stream",
     "text": [
      "[0, 1, 2, 3, 4, 5, 6, 7, 8, 9]\n",
      "[2, 3, 4]\n",
      "[0, 1, 2, 3]\n",
      "[5, 6, 7, 8, 9]\n",
      "[0, 3, 6, 9]\n"
     ]
    }
   ],
   "source": [
    "li = list(range(10))\n",
    "# [0, 1, 2, 3, 4, 5, 6, 7, 8, 9]\n",
    "print(li)\n",
    "      \n",
    "# 切片 [start:end:steps]  [start ,end)\n",
    "print(li[2:5])  # [2, 3, 4]\n",
    "print(li[:4])   # [0, 1, 2, 3]\n",
    "print(li[5:])   # [5, 6, 7, 8, 9]\n",
    "print(li[0:20:3])   # [0, 3, 6, 9]"
   ]
  },
  {
   "cell_type": "code",
   "execution_count": 43,
   "metadata": {
    "ExecuteTime": {
     "end_time": "2018-03-09T01:16:27.163883Z",
     "start_time": "2018-03-09T01:16:27.155879Z"
    }
   },
   "outputs": [
    {
     "name": "stdout",
     "output_type": "stream",
     "text": [
      "[5, 6, 7]\n",
      "[9, 8, 7, 6, 5, 4, 3, 2, 1]\n",
      "[9, 8, 7, 6, 5, 4, 3, 2, 1, 0]\n",
      "[9, 7, 5, 3, 1]\n"
     ]
    }
   ],
   "source": [
    "# 负值怎么处理？\n",
    "print(li[5: -2])   # [5, 6, 7]\n",
    "print(li[9:0:-1])  # [9, 8, 7, 6, 5, 4, 3, 2, 1]\n",
    "print(li[9::-1])   # [9, 8, 7, 6, 5, 4, 3, 2, 1, 0]\n",
    "print(li[::-2])    # [9, 7, 5, 3, 1]\n",
    "#若步长为负, 必须用两个冒号"
   ]
  },
  {
   "cell_type": "code",
   "execution_count": 44,
   "metadata": {
    "ExecuteTime": {
     "end_time": "2018-03-09T01:16:35.732655Z",
     "start_time": "2018-03-09T01:16:35.726648Z"
    }
   },
   "outputs": [
    {
     "name": "stdout",
     "output_type": "stream",
     "text": [
      "[0, 1, 2, 3, 4, 5, 6, 7, 8, 9]\n",
      "[9, 8, 7, 6, 5, 4, 3, 2, 1, 0]\n"
     ]
    }
   ],
   "source": [
    "# 切片生成一个新的对象\n",
    "print(li)   # 还是保持原样\n",
    "\n",
    "re_li = li[::-1]\n",
    "print(re_li)"
   ]
  },
  {
   "attachments": {},
   "cell_type": "markdown",
   "metadata": {},
   "source": [
    "## 列表推导"
   ]
  },
  {
   "attachments": {},
   "cell_type": "markdown",
   "metadata": {},
   "source": [
    "**问题的提出**    \n",
    "快速简单的生成一个列表    \n",
    "对原有的列表进行简单的转换    \n",
    "一维列表推导   \n",
    "二维列表推导以及注意事项   "
   ]
  },
  {
   "cell_type": "code",
   "execution_count": 45,
   "metadata": {
    "ExecuteTime": {
     "end_time": "2018-03-09T01:19:40.318324Z",
     "start_time": "2018-03-09T01:19:40.310317Z"
    }
   },
   "outputs": [
    {
     "name": "stdout",
     "output_type": "stream",
     "text": [
      "[0, 2, 4, 6, 8, 10, 12, 14, 16, 18]\n"
     ]
    }
   ],
   "source": [
    "li = []\n",
    "for i in range(20):\n",
    "    if (i % 2) == 0:\n",
    "        #添加偶数进li\n",
    "        li.append(i)\n",
    "print(li)"
   ]
  },
  {
   "cell_type": "code",
   "execution_count": 47,
   "metadata": {
    "ExecuteTime": {
     "end_time": "2018-03-09T01:21:18.456100Z",
     "start_time": "2018-03-09T01:21:18.451287Z"
    }
   },
   "outputs": [
    {
     "name": "stdout",
     "output_type": "stream",
     "text": [
      "[0, 2, 4, 6, 8, 10, 12, 14, 16, 18]\n"
     ]
    }
   ],
   "source": [
    "li = [i * 2 for i in range(10)]\n",
    "print(li)"
   ]
  },
  {
   "cell_type": "code",
   "execution_count": 46,
   "metadata": {
    "ExecuteTime": {
     "end_time": "2018-03-09T01:20:28.840213Z",
     "start_time": "2018-03-09T01:20:28.834209Z"
    }
   },
   "outputs": [
    {
     "name": "stdout",
     "output_type": "stream",
     "text": [
      "[1, 1, 1, 3, 1, 1, 1, 1, 1, 1]\n"
     ]
    }
   ],
   "source": [
    "li = [1] * 10\n",
    "li[3] = 3\n",
    "print(li)"
   ]
  },
  {
   "cell_type": "code",
   "execution_count": 52,
   "metadata": {
    "ExecuteTime": {
     "end_time": "2018-03-09T01:26:33.856605Z",
     "start_time": "2018-03-09T01:26:33.848600Z"
    }
   },
   "outputs": [
    {
     "name": "stdout",
     "output_type": "stream",
     "text": [
      "[[[0, 0, 0], [0, 0, 0], [0, 0, 0]], [[0, 0, 0], [0, 0, 0], [0, 0, 0]], [[0, 0, 0], [0, 0, 0], [0, 0, 0]]]\n",
      "[[[100, 0, 0], [100, 0, 0], [100, 0, 0]], [[100, 0, 0], [100, 0, 0], [100, 0, 0]], [[100, 0, 0], [100, 0, 0], [100, 0, 0]]]\n"
     ]
    }
   ],
   "source": [
    "li_2d = [[[0] * 3] * 3] * 3\n",
    "print(li_2d)\n",
    "li_2d[0][0][0] = 100\n",
    "print(li_2d)\n",
    "#只有第一次 *3 是深拷贝\n",
    "#以后的每次 *3 是浅拷贝(标签指向)"
   ]
  },
  {
   "cell_type": "code",
   "execution_count": 53,
   "metadata": {
    "ExecuteTime": {
     "end_time": "2018-03-09T01:26:53.000965Z",
     "start_time": "2018-03-09T01:26:52.994961Z"
    }
   },
   "outputs": [
    {
     "name": "stdout",
     "output_type": "stream",
     "text": [
      "[[100, 0, 0], [0, 0, 0], [0, 0, 0]]\n"
     ]
    }
   ],
   "source": [
    "li_2d = [[0] * 3 for i in range(3)]\n",
    "#深拷贝, 确实开辟空间存放数据\n",
    "li_2d[0][0] = 100\n",
    "print(li_2d)"
   ]
  },
  {
   "cell_type": "code",
   "execution_count": 66,
   "metadata": {
    "ExecuteTime": {
     "end_time": "2018-03-09T01:38:59.776705Z",
     "start_time": "2018-03-09T01:38:59.761694Z"
    }
   },
   "outputs": [
    {
     "name": "stdout",
     "output_type": "stream",
     "text": [
      "{0, 2, 4, 6, 8, 10, 12, 14, 16, 18}\n",
      "[0, 2, 4, 6, 8, 10, 12, 14, 16, 18]\n",
      "[0, 2, 4, 6, 8, 10, 12, 14, 16, 18]\n"
     ]
    }
   ],
   "source": [
    "#三种表达式方式\n",
    "s = {x for x in range(20) if x % 2 == 0}\n",
    "print(s)\n",
    "\n",
    "li = []\n",
    "for i in range(20):\n",
    "    if (i % 2) == 0:\n",
    "        li.append(i)\n",
    "print(li)\n",
    "\n",
    "\n",
    "t = [i * 2 for i in range(10)]\n",
    "print(t)"
   ]
  },
  {
   "cell_type": "code",
   "execution_count": 60,
   "metadata": {
    "ExecuteTime": {
     "end_time": "2018-03-09T01:34:32.661671Z",
     "start_time": "2018-03-09T01:34:32.654670Z"
    }
   },
   "outputs": [
    {
     "name": "stdout",
     "output_type": "stream",
     "text": [
      "{0: True, 1: False, 2: True, 3: False, 4: True, 5: False, 6: True, 7: False, 8: True, 9: False}\n"
     ]
    }
   ],
   "source": [
    "#生成字典, 且是布尔型\n",
    "d = {x: x % 2 == 0 for x in range(10)}\n",
    "print(d)"
   ]
  }
 ],
 "metadata": {
  "kernelspec": {
   "display_name": "Python 3",
   "language": "python",
   "name": "python3"
  },
  "language_info": {
   "codemirror_mode": {
    "name": "ipython",
    "version": 3
   },
   "file_extension": ".py",
   "mimetype": "text/x-python",
   "name": "python",
   "nbconvert_exporter": "python",
   "pygments_lexer": "ipython3",
   "version": "3.6.3"
  },
  "toc": {
   "nav_menu": {},
   "number_sections": true,
   "sideBar": true,
   "skip_h1_title": false,
   "title_cell": "Table of Contents",
   "title_sidebar": "Contents",
   "toc_cell": true,
   "toc_position": {
    "height": "calc(100% - 180px)",
    "left": "10px",
    "top": "150px",
    "width": "167px"
   },
   "toc_section_display": true,
   "toc_window_display": false
  }
 },
 "nbformat": 4,
 "nbformat_minor": 2
}
