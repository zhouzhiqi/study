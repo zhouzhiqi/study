{
 "cells": [
  {
   "cell_type": "markdown",
   "metadata": {
    "toc": true
   },
   "source": [
    "<h1>Table of Contents<span class=\"tocSkip\"></span></h1>\n",
    "<div class=\"toc\"><ul class=\"toc-item\"><li><span><a href=\"#Python基础课03.2迭代器生成器\" data-toc-modified-id=\"Python基础课03.2迭代器生成器-1\"><span class=\"toc-item-num\">1&nbsp;&nbsp;</span>Python基础课<em>03.2</em>迭代器生成器</a></span></li><li><span><a href=\"#生成器\" data-toc-modified-id=\"生成器-2\"><span class=\"toc-item-num\">2&nbsp;&nbsp;</span>生成器</a></span><ul class=\"toc-item\"><li><span><a href=\"#简介\" data-toc-modified-id=\"简介-2.1\"><span class=\"toc-item-num\">2.1&nbsp;&nbsp;</span>简介</a></span></li><li><span><a href=\"#生成器表达式\" data-toc-modified-id=\"生成器表达式-2.2\"><span class=\"toc-item-num\">2.2&nbsp;&nbsp;</span>生成器表达式</a></span></li><li><span><a href=\"#生成器函数：\" data-toc-modified-id=\"生成器函数：-2.3\"><span class=\"toc-item-num\">2.3&nbsp;&nbsp;</span>生成器函数：</a></span></li></ul></li><li><span><a href=\"#迭代器\" data-toc-modified-id=\"迭代器-3\"><span class=\"toc-item-num\">3&nbsp;&nbsp;</span>迭代器</a></span><ul class=\"toc-item\"><li><span><a href=\"#简介\" data-toc-modified-id=\"简介-3.1\"><span class=\"toc-item-num\">3.1&nbsp;&nbsp;</span>简介</a></span></li><li><span><a href=\"#判断方法及遍历\" data-toc-modified-id=\"判断方法及遍历-3.2\"><span class=\"toc-item-num\">3.2&nbsp;&nbsp;</span>判断方法及遍历</a></span></li></ul></li></ul></div>"
   ]
  },
  {
   "cell_type": "markdown",
   "metadata": {},
   "source": [
    "# Python基础课_03.2_迭代器生成器"
   ]
  },
  {
   "cell_type": "markdown",
   "metadata": {},
   "source": [
    "# 生成器"
   ]
  },
  {
   "cell_type": "markdown",
   "metadata": {},
   "source": [
    "## 简介"
   ]
  },
  {
   "cell_type": "markdown",
   "metadata": {},
   "source": [
    "**生成器(generator)** 是一个特殊的迭代器，它的实现更简单优雅，   \n",
    "yield是生成器实现__next__()方法的关键, 是生成器执行的暂停恢复点，   \n",
    "可以对yield表达式进行赋值，也可以将yield表达式的值返回。\n",
    "\n",
    "也就是说，yield是一个语法糖，内部实现支持了迭代器协议，   \n",
    "同时yield内部是一个状态机，维护着挂起和继续的状态。"
   ]
  },
  {
   "cell_type": "markdown",
   "metadata": {},
   "source": [
    "**yield的功能**   \n",
    "相当于为函数封装好__iter__和__next__   \n",
    "return只能返回一次值，函数就终止了，而yield能返回多次值，   \n",
    "每次返回都会将函数暂停，下一次next会从上一次暂停的位置继续执行"
   ]
  },
  {
   "cell_type": "markdown",
   "metadata": {},
   "source": [
    "**问题的提出**   \n",
    "创建一个巨大的列表而仅仅需要访问其中少量几个元素   \n",
    "如果列表元素可以按照某种算法推算出来，   \n",
    "那我们是否可以在循环的过程中不断推算出后续的元素呢？   \n",
    "这样就不必创建完整的list，从而节省大量的空间。   \n",
    "\n",
    "生成生成器：列表推导时用()替换[]（关于yield的使用后面再讲）   \n",
    "遍历：next或者for循环   "
   ]
  },
  {
   "cell_type": "code",
   "execution_count": 1,
   "metadata": {
    "ExecuteTime": {
     "end_time": "2018-03-09T01:54:08.438546Z",
     "start_time": "2018-03-09T01:54:08.425813Z"
    }
   },
   "outputs": [
    {
     "name": "stdout",
     "output_type": "stream",
     "text": [
      "<class 'range'>\n"
     ]
    }
   ],
   "source": [
    "print(type(range(10)))"
   ]
  },
  {
   "cell_type": "code",
   "execution_count": 6,
   "metadata": {
    "ExecuteTime": {
     "end_time": "2018-03-09T01:57:38.568834Z",
     "start_time": "2018-03-09T01:57:36.956458Z"
    }
   },
   "outputs": [
    {
     "name": "stdout",
     "output_type": "stream",
     "text": [
      "0\n",
      "1\n",
      "4\n",
      "9\n",
      "16\n"
     ]
    }
   ],
   "source": [
    "# 平方表\n",
    "square_table = []\n",
    "for i in range(5000000):  \n",
    "    #一次性全部生成\n",
    "    #费时, 占空间\n",
    "    square_table.append(i * i)\n",
    "\n",
    "for i in range(5):\n",
    "    print(square_table[i])"
   ]
  },
  {
   "cell_type": "markdown",
   "metadata": {},
   "source": [
    "## 生成器表达式\n",
    "生成器表达式：类似于列表推导，但是，   \n",
    "生成器返回按需产生结果的一个对象，   \n",
    "而不是一次构建一个所有结果的列表"
   ]
  },
  {
   "cell_type": "code",
   "execution_count": 13,
   "metadata": {
    "ExecuteTime": {
     "end_time": "2018-03-09T02:06:33.438542Z",
     "start_time": "2018-03-09T02:06:33.357485Z"
    }
   },
   "outputs": [
    {
     "name": "stdout",
     "output_type": "stream",
     "text": [
      "<class 'generator'>\n",
      "0\n",
      "1\n",
      "4\n",
      "9\n",
      "16\n"
     ]
    }
   ],
   "source": [
    "#实时生成,惰性计算\n",
    "square_generator = (x * x for x in range(5000000))   \n",
    "#必须使用(), 生成的是<class 'generator'>\n",
    "#不能使用[], 生成的是<class 'list'>\n",
    "#使用到哪里, 从哪里继续生成\n",
    "print(type(square_generator))\n",
    "\n",
    "#通过for或next逐步生成\n",
    "for i in range(5): #可以用for循环的都是可迭代的\n",
    "    print(next(square_generator))"
   ]
  },
  {
   "cell_type": "markdown",
   "metadata": {},
   "source": [
    "## 生成器函数：\n",
    "常规函数定义，但是，使用yield语句而不是return语句返回结果。   \n",
    "yield语句一次返回一个结果，   \n",
    "在每个结果中间，挂起函数的状态，以便下次重它离开的地方继续执行；"
   ]
  },
  {
   "cell_type": "code",
   "execution_count": 8,
   "metadata": {
    "ExecuteTime": {
     "end_time": "2018-03-09T02:00:56.569912Z",
     "start_time": "2018-03-09T02:00:56.560904Z"
    }
   },
   "outputs": [],
   "source": [
    "#斐波那契数列, 生成器模式\n",
    "def fib(limit):\n",
    "    n, a, b = 0, 0, 1\n",
    "    while n < limit:\n",
    "        yield b  # 协程, 每次生成的入口和出口\n",
    "        a, b = b, a + b\n",
    "        n += 1\n",
    "    return 'done'"
   ]
  },
  {
   "cell_type": "code",
   "execution_count": 9,
   "metadata": {
    "ExecuteTime": {
     "end_time": "2018-03-09T02:01:09.767543Z",
     "start_time": "2018-03-09T02:01:09.757537Z"
    }
   },
   "outputs": [
    {
     "name": "stdout",
     "output_type": "stream",
     "text": [
      "<class 'generator'>\n",
      "1\n",
      "1\n",
      "2\n",
      "3\n",
      "5\n"
     ]
    }
   ],
   "source": [
    "f = fib(5)\n",
    "print(type(f)) #每次获得的都是yield后面的b\n",
    "#通过next逐步生成\n",
    "print(next(f))\n",
    "print(next(f))\n",
    "print(next(f))\n",
    "print(next(f))\n",
    "print(next(f))"
   ]
  },
  {
   "cell_type": "code",
   "execution_count": 11,
   "metadata": {
    "ExecuteTime": {
     "end_time": "2018-03-09T02:02:06.446382Z",
     "start_time": "2018-03-09T02:02:06.432374Z"
    }
   },
   "outputs": [
    {
     "name": "stdout",
     "output_type": "stream",
     "text": [
      "1\n",
      "1\n",
      "2\n",
      "3\n",
      "5\n"
     ]
    },
    {
     "name": "stderr",
     "output_type": "stream",
     "text": [
      "Traceback (most recent call last):\n",
      "  File \"<ipython-input-11-bb7834429b3a>\", line 3, in <module>\n",
      "    print(next(f))\n",
      "StopIteration\n"
     ]
    }
   ],
   "source": [
    "import traceback\n",
    "#捕获错误信息\n",
    "try:\n",
    "    print(next(f))\n",
    "except StopIteration:\n",
    "    #打印错误信息\n",
    "    traceback.print_exc()\n",
    "\n",
    "#通过for逐步生成\n",
    "for i in fib(5):\n",
    "    print(i)"
   ]
  },
  {
   "cell_type": "markdown",
   "metadata": {},
   "source": [
    "# 迭代器"
   ]
  },
  {
   "cell_type": "markdown",
   "metadata": {},
   "source": [
    "## 简介 "
   ]
  },
  {
   "cell_type": "markdown",
   "metadata": {},
   "source": [
    "**迭代:** 上一次输出的结果为下一次输入的初始值, 重复的过程称为迭代,   \n",
    "每次重复即一次迭代，并且每次迭代的结果是下一次迭代的初始值 \n",
    "\n",
    "注：循环不是迭代\n",
    "\n",
    "    while True: #只满足重复，因而不是迭代\n",
    "         print('====>')"
   ]
  },
  {
   "cell_type": "markdown",
   "metadata": {},
   "source": [
    "**可迭代的对象:** 内置__iter__方法的对象。   \n",
    "list是可迭代对象，dict是可迭代对象，set也是可迭代对象。"
   ]
  },
  {
   "cell_type": "markdown",
   "metadata": {},
   "source": [
    "**迭代器:** 可迭代对象执行__iter__方法，得到的结果就是迭代器   \n",
    "迭代器对象有__next__方法, 生成器是一种特殊的迭代器\n",
    "\n",
    "迭代器是一个带状态的对象，它能在你调用next()方法的时候返回容器中的下一个值，任何实现了__iter__和__next__()方法的对象都是迭代器，__iter__返回迭代器自身，__next__返回容器中的下一个值，如果容器中没有更多元素了，则抛出StopIteration异常"
   ]
  },
  {
   "cell_type": "markdown",
   "metadata": {},
   "source": [
    "**迭代器的优点和缺点**\n",
    "\n",
    "优点：\n",
    "1. 提供了一种不依赖下标的迭代方式\n",
    "2. 就跌迭代器本身来说，更节省内存\n",
    "\n",
    "缺点：\n",
    "1. 无法获取迭代器对象的长度\n",
    "2. 不如序列类型取值灵活，是一次性的，只能往后取值，不能往前退"
   ]
  },
  {
   "attachments": {},
   "cell_type": "markdown",
   "metadata": {},
   "source": [
    "**问题的提出**   \n",
    "可以直接作用于**for循环**的对象统称为**可迭代对象(Iterable)**   \n",
    "可以被**next()函数调用**并不断返回下一个值的对象称为**迭代器(Iterator)**    \n",
    "表示一个**惰性计算**的序列   \n",
    "集合数据类型如list、dict、str等是Iterable但不是Iterator，   \n",
    "内置__iter__方法的，都是可迭代的对象Iterable。\n",
    "不过可以通过iter()函数获得一个Iterator对象。   \n",
    "生成器属于一种特殊的迭代器"
   ]
  },
  {
   "cell_type": "markdown",
   "metadata": {},
   "source": [
    "## 判断方法及遍历"
   ]
  },
  {
   "cell_type": "code",
   "execution_count": 14,
   "metadata": {
    "ExecuteTime": {
     "end_time": "2018-03-09T02:12:34.966127Z",
     "start_time": "2018-03-09T02:12:34.951117Z"
    }
   },
   "outputs": [
    {
     "name": "stdout",
     "output_type": "stream",
     "text": [
      "True\n",
      "True\n",
      "False\n",
      "True\n",
      "False\n"
     ]
    }
   ],
   "source": [
    "from collections import Iterable\n",
    "from collections import Iterator\n",
    "\n",
    "print(isinstance([1, 2, 3], Iterable)) #True\n",
    "print(isinstance({}, Iterable))        #True\n",
    "print(isinstance(123, Iterable))   #False\n",
    "print(isinstance('abc', Iterable))     #True\n",
    "\n",
    "print(isinstance([1, 2, 3], Iterator)) #False"
   ]
  },
  {
   "cell_type": "code",
   "execution_count": 16,
   "metadata": {
    "ExecuteTime": {
     "end_time": "2018-03-09T02:20:43.836380Z",
     "start_time": "2018-03-09T02:20:43.821369Z"
    }
   },
   "outputs": [
    {
     "name": "stdout",
     "output_type": "stream",
     "text": [
      "<class 'generator'>\n",
      "True\n",
      "True\n",
      "-----0*0-----\n",
      "0\n",
      "1\n",
      "4\n",
      "9\n",
      "16\n",
      "25\n",
      "36\n",
      "49\n",
      "64\n",
      "81\n"
     ]
    }
   ],
   "source": [
    "g = (x * x for x in range(10))\n",
    "#生成器是可迭代的, 是一种特殊的迭代器\n",
    "print(type(g))\n",
    "print(isinstance(g, Iterable))\n",
    "print(isinstance(g, Iterator))\n",
    "print('-----0*0-----')\n",
    "\n",
    "#迭代器可通过for遍历\n",
    "for i in g:\n",
    "    print(i)"
   ]
  },
  {
   "cell_type": "code",
   "execution_count": 25,
   "metadata": {
    "ExecuteTime": {
     "end_time": "2018-03-09T03:07:07.801752Z",
     "start_time": "2018-03-09T03:07:07.786740Z"
    }
   },
   "outputs": [
    {
     "name": "stdout",
     "output_type": "stream",
     "text": [
      "<list_iterator object at 0x000002130DD3B6D8>\n",
      "<class 'list_iterator'>\n",
      "True\n",
      "True\n",
      "-----0*0-----\n",
      "1\n",
      "2\n",
      "3\n"
     ]
    }
   ],
   "source": [
    "it = iter([1,2,3])\n",
    "\n",
    "print(it)\n",
    "print(type(it))\n",
    "print(isinstance(it, Iterable))\n",
    "print(isinstance(it, Iterator))\n",
    "print('-----0*0-----')\n",
    "\n",
    "#迭代器可通过next逐个生成\n",
    "print(next(it))\n",
    "print(next(it))\n",
    "print(next(it))"
   ]
  },
  {
   "cell_type": "code",
   "execution_count": 24,
   "metadata": {
    "ExecuteTime": {
     "end_time": "2018-03-09T03:06:28.625998Z",
     "start_time": "2018-03-09T03:06:28.614989Z"
    }
   },
   "outputs": [
    {
     "name": "stdout",
     "output_type": "stream",
     "text": [
      "<list_iterator object at 0x00000213179FA9B0>\n",
      "1\n",
      "2\n",
      "3\n"
     ]
    }
   ],
   "source": [
    "#转变为迭代器\n",
    "i=[1,2,3].__iter__()  \n",
    "#i = iter([1,2,3])\n",
    "\n",
    "print(i.__next__())\n",
    "print(i.__next__())\n",
    "print(i.__next__())\n",
    "#print(i.__next__()) #抛出异常：StopIteration"
   ]
  },
  {
   "cell_type": "code",
   "execution_count": null,
   "metadata": {},
   "outputs": [],
   "source": []
  }
 ],
 "metadata": {
  "kernelspec": {
   "display_name": "Python 3",
   "language": "python",
   "name": "python3"
  },
  "language_info": {
   "codemirror_mode": {
    "name": "ipython",
    "version": 3
   },
   "file_extension": ".py",
   "mimetype": "text/x-python",
   "name": "python",
   "nbconvert_exporter": "python",
   "pygments_lexer": "ipython3",
   "version": "3.6.3"
  },
  "toc": {
   "nav_menu": {},
   "number_sections": true,
   "sideBar": true,
   "skip_h1_title": false,
   "title_cell": "Table of Contents",
   "title_sidebar": "Contents",
   "toc_cell": true,
   "toc_position": {},
   "toc_section_display": true,
   "toc_window_display": false
  }
 },
 "nbformat": 4,
 "nbformat_minor": 2
}
