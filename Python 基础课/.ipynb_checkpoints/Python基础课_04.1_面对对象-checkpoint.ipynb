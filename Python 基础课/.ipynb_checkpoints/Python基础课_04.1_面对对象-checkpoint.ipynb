{
 "cells": [
  {
   "cell_type": "markdown",
   "metadata": {
    "toc": true
   },
   "source": [
    "<h1>Table of Contents<span class=\"tocSkip\"></span></h1>\n",
    "<div class=\"toc\"><ul class=\"toc-item\"><li><span><a href=\"#Python基础课_04：面对对象_01\" data-toc-modified-id=\"Python基础课_04：面对对象_01-1\"><span class=\"toc-item-num\">1&nbsp;&nbsp;</span>Python基础课_04：面对对象_01</a></span></li><li><span><a href=\"#创建类\" data-toc-modified-id=\"创建类-2\"><span class=\"toc-item-num\">2&nbsp;&nbsp;</span>创建类</a></span><ul class=\"toc-item\"><li><span><a href=\"#创建及实例\" data-toc-modified-id=\"创建及实例-2.1\"><span class=\"toc-item-num\">2.1&nbsp;&nbsp;</span>创建及实例</a></span></li><li><span><a href=\"#self\" data-toc-modified-id=\"self-2.2\"><span class=\"toc-item-num\">2.2&nbsp;&nbsp;</span>self</a></span></li></ul></li><li><span><a href=\"#构造函数\" data-toc-modified-id=\"构造函数-3\"><span class=\"toc-item-num\">3&nbsp;&nbsp;</span>构造函数</a></span></li><li><span><a href=\"#访问限制\" data-toc-modified-id=\"访问限制-4\"><span class=\"toc-item-num\">4&nbsp;&nbsp;</span>访问限制</a></span></li><li><span><a href=\"#三大特性\" data-toc-modified-id=\"三大特性-5\"><span class=\"toc-item-num\">5&nbsp;&nbsp;</span>三大特性</a></span><ul class=\"toc-item\"><li><span><a href=\"#封装\" data-toc-modified-id=\"封装-5.1\"><span class=\"toc-item-num\">5.1&nbsp;&nbsp;</span>封装</a></span><ul class=\"toc-item\"><li><span><a href=\"#通过对象直接调用\" data-toc-modified-id=\"通过对象直接调用-5.1.1\"><span class=\"toc-item-num\">5.1.1&nbsp;&nbsp;</span>通过对象直接调用</a></span></li><li><span><a href=\"#通过self间接调用\" data-toc-modified-id=\"通过self间接调用-5.1.2\"><span class=\"toc-item-num\">5.1.2&nbsp;&nbsp;</span>通过self间接调用</a></span></li></ul></li><li><span><a href=\"#继承\" data-toc-modified-id=\"继承-5.2\"><span class=\"toc-item-num\">5.2&nbsp;&nbsp;</span>继承</a></span><ul class=\"toc-item\"><li><span><a href=\"#多类继承\" data-toc-modified-id=\"多类继承-5.2.1\"><span class=\"toc-item-num\">5.2.1&nbsp;&nbsp;</span>多类继承</a></span></li><li><span><a href=\"#多态\" data-toc-modified-id=\"多态-5.2.2\"><span class=\"toc-item-num\">5.2.2&nbsp;&nbsp;</span>多态</a></span></li></ul></li></ul></li></ul></div>"
   ]
  },
  {
   "cell_type": "markdown",
   "metadata": {},
   "source": [
    "# Python基础课_04：面对对象_01"
   ]
  },
  {
   "cell_type": "markdown",
   "metadata": {},
   "source": [
    "原作者: 加号@七月在线"
   ]
  },
  {
   "cell_type": "markdown",
   "metadata": {
    "ExecuteTime": {
     "end_time": "2018-03-05T10:10:41.710777Z",
     "start_time": "2018-03-05T10:10:41.697769Z"
    }
   },
   "source": [
    "**类(Class)**: 用来描述具有相同的属性和方法的对象的集合。它定义了该集合中每个对象所共有的属性和方法。对象是类的实例。\n",
    "\n",
    "**方法**: 类中定义的函数。\n",
    "\n",
    "**对象**：通过类定义的数据结构实例。对象包括两个数据成员（类变量和实例变量）和方法。\n",
    "\n",
    "**类变量**：类变量在整个实例化的对象中是公用的。类变量定义在类中且在函数体之外。类变量通常不作为实例变量使用。\n",
    "\n",
    "**实例变量**：定义在方法中的变量，只作用于当前实例的类。\n",
    "\n",
    "对“类”和“对象”的使用：\n",
    "\n",
    "    类就是一个模板，模板里可以包含多个函数，函数里实现一些功能。\n",
    "    对象则是根据模板创建的实例，通过实例对象可以执行类中的函数。"
   ]
  },
  {
   "cell_type": "markdown",
   "metadata": {},
   "source": [
    "# 创建类"
   ]
  },
  {
   "cell_type": "markdown",
   "metadata": {},
   "source": [
    "## 创建及实例"
   ]
  },
  {
   "cell_type": "markdown",
   "metadata": {
    "ExecuteTime": {
     "end_time": "2018-03-05T10:35:31.367531Z",
     "start_time": "2018-03-05T10:35:31.359525Z"
    }
   },
   "source": [
    "#创建类的一般流程\n",
    "   \n",
    "    class Foo:#创建类\n",
    "        \n",
    "        def bar(self):#类中的函数(方法)\n",
    "            pass      #功能阐述\n",
    "            \n",
    "#=====完毕========"
   ]
  },
  {
   "cell_type": "markdown",
   "metadata": {},
   "source": [
    "实例化一个类的一般流程    \n",
    "根据Foo创建对象obj\n",
    "\n",
    "    obj = Foo()#加括号\n",
    "    obj.bar()#调用方法\n",
    "创建对象的时候 记得后面加个括号    \n",
    "或者\n",
    "\n",
    "    obj = Foo#不加括号\n",
    "    obj().bar()#调用方法时加括号"
   ]
  },
  {
   "cell_type": "markdown",
   "metadata": {},
   "source": [
    "注意，按照Python通用规则，Class用驼峰式(单词首字母大写)表示, 如: `HelloWorld`  \n",
    "而其他的obj等等，都用‘_’隔开, 如: `this_is_object`   \n",
    "类中的函数第一个参数必须是self"
   ]
  },
  {
   "cell_type": "code",
   "execution_count": 4,
   "metadata": {
    "ExecuteTime": {
     "end_time": "2018-03-05T10:24:59.157800Z",
     "start_time": "2018-03-05T10:24:59.145789Z"
    }
   },
   "outputs": [
    {
     "name": "stdout",
     "output_type": "stream",
     "text": [
      "bar\n",
      "name is: Zhou\n"
     ]
    }
   ],
   "source": [
    "class Foo: # 创建一个类\n",
    "    \n",
    "    def bar(self): # 方法bar\n",
    "        print('bar')\n",
    "        \n",
    "    def hallo(self, name): # 方法\n",
    "        print('name is: %s' %name)\n",
    "        \n",
    "# 创建对象obj\n",
    "obj = Foo()\n",
    "obj.bar() # 调用类中的方法\n",
    "obj.hallo('Zhou') \n",
    "# 调用类中的方法, 并传入参数"
   ]
  },
  {
   "cell_type": "markdown",
   "metadata": {},
   "source": [
    "## self"
   ]
  },
  {
   "cell_type": "markdown",
   "metadata": {},
   "source": [
    "**self** 是个什么鬼呢？它是为了指代它所存在的**类Class之中**。\n",
    "\n",
    "比如我们如果有好几个不同的obj被创建成同一个类，\n",
    "\n",
    "那么有了self，我们的class Foo就能很好的知道哪个指的是自己，不会乱"
   ]
  },
  {
   "cell_type": "code",
   "execution_count": 2,
   "metadata": {
    "ExecuteTime": {
     "end_time": "2018-03-08T03:33:44.008716Z",
     "start_time": "2018-03-08T03:33:43.976193Z"
    }
   },
   "outputs": [
    {
     "name": "stdout",
     "output_type": "stream",
     "text": [
      "you are Jan\n",
      "I am August\n",
      "\n",
      "\n",
      "you are Jan\n",
      "I am July\n",
      "\n",
      "\n"
     ]
    },
    {
     "data": {
      "text/plain": [
       "'Jan'"
      ]
     },
     "execution_count": 2,
     "metadata": {},
     "output_type": "execute_result"
    }
   ],
   "source": [
    "# 创建类\n",
    "class Foo:\n",
    "    # 这里我们可以创建一个 类级别 的变量name\n",
    "    # 它不会随着由此类创建的变量而变化\n",
    "    name = 'Jan' #Foo的属性\n",
    "    \n",
    "    def bar(self):\n",
    "        print('Bar')\n",
    " \n",
    "    def hello(self, name): #name为 方法 中的变量\n",
    "        print('you are %s' %self.name) \n",
    "        #self.name为类级别的变量\n",
    "        print('I am %s' %name)\n",
    "        print('\\n')\n",
    "\n",
    "# 根据Foo创建的对象\n",
    "obj1 = Foo()\n",
    "obj2 = Foo()\n",
    "obj1.hello('August')\n",
    "obj2.hello('July')  #类方法\n",
    "obj2.name #类属性"
   ]
  },
  {
   "cell_type": "markdown",
   "metadata": {},
   "source": [
    "所以说，这个 self 就是个代指。代指了自己所在的class。你可以由 self 点进所指class本身的函数。由此可见，self 本身作为一个代词，并不一定要叫self。你也可以用个其他什么来代替。只不过，必须得是这个类的所有子方法的第一个参数"
   ]
  },
  {
   "cell_type": "code",
   "execution_count": 1,
   "metadata": {
    "ExecuteTime": {
     "end_time": "2018-03-08T03:25:18.118496Z",
     "start_time": "2018-03-08T03:25:18.095475Z"
    }
   },
   "outputs": [
    {
     "name": "stdout",
     "output_type": "stream",
     "text": [
      "you are Jan\n",
      "I am August\n",
      "\n",
      "\n",
      "you are Jan\n",
      "I am July\n",
      "\n",
      "\n"
     ]
    }
   ],
   "source": [
    "# 创建类\n",
    "class Foo:\n",
    "    name = 'Jan'\n",
    "     \n",
    "    def hello(july, name): # 我这里把self改成了july，\n",
    "        # 但是只要它作为第一参数的位置没变，\n",
    "        # 它依旧是Foo Class的自我指代\n",
    "        print('you are %s' %july.name)\n",
    "        print('I am %s' %name)\n",
    "        print('\\n')\n",
    "\n",
    "# 根据Foo创建的对象\n",
    "obj1 = Foo()\n",
    "obj2 = Foo()\n",
    "obj1.hello('August')\n",
    "obj2.hello('July') "
   ]
  },
  {
   "cell_type": "markdown",
   "metadata": {},
   "source": [
    "# 构造函数   \n",
    "构造函数，是一种特殊的方法。主要用来在创建对象时**初始化对象**， 即为对象成员变量赋初始值。    \n",
    "也就是说, 在调用函数的同时, 就做了的事.\n",
    "\n",
    "跟所有OOP语言一样，python也是有构造函数的，"
   ]
  },
  {
   "cell_type": "code",
   "execution_count": 3,
   "metadata": {
    "ExecuteTime": {
     "end_time": "2018-03-07T09:12:45.392598Z",
     "start_time": "2018-03-07T09:12:45.373585Z"
    }
   },
   "outputs": [
    {
     "name": "stdout",
     "output_type": "stream",
     "text": [
      "you are Jan\n",
      "I am July\n",
      "\n",
      "\n"
     ]
    }
   ],
   "source": [
    "# 创建类\n",
    "class Foo:\n",
    "    \n",
    "    def __init__(self):#这就是构造函数，\n",
    "        #它的职责是在模型创建的初期，就完成一些动作\n",
    "        #简单的说就是，自定义的初始化步骤：\n",
    "        #同样，它需要self来指代本身这个class\n",
    "        self.name='Jan'\n",
    " \n",
    "    def hello(self, name):\n",
    "        print('you are %s' %self.name)\n",
    "        print('I am %s' %name)\n",
    "        print('\\n')\n",
    "# ==== 完毕 =====\n",
    "\n",
    "#当你创建一个Foo类的同时，init会被自动跑一遍：\n",
    "obj = Foo()\n",
    "# 在我们的例子中，我们默认给self自己的name变量，赋值为’JAN‘\n",
    "# 此刻，当我们调用Foo的hello()方法时，hello自己的name变量，被赋值为'July'\n",
    "obj.hello('July')"
   ]
  },
  {
   "cell_type": "markdown",
   "metadata": {},
   "source": [
    "init是可以带更多的参数的，用以初始化我们的class本身。\n",
    "\n",
    "比如说，你要初始化一个类的时候要用到一些外部参数"
   ]
  },
  {
   "cell_type": "code",
   "execution_count": 4,
   "metadata": {
    "ExecuteTime": {
     "end_time": "2018-03-07T09:13:50.931895Z",
     "start_time": "2018-03-07T09:13:50.914883Z"
    }
   },
   "outputs": [
    {
     "name": "stdout",
     "output_type": "stream",
     "text": [
      "you are Feb\n",
      "I am July\n",
      "\n",
      "\n"
     ]
    }
   ],
   "source": [
    "# 创建类\n",
    "class Foo:\n",
    "    \n",
    "    def __init__(self, name2):# 你可以在这里附加上一些参数\n",
    "        # 这些参数将是你创建一个Foo类时的必要条件\n",
    "        self.name=name2\n",
    " \n",
    "    def hello(self, name):\n",
    "        print('you are %s' %self.name)\n",
    "        print('I am %s' %name)\n",
    "        print('\\n')\n",
    "# ==== 完毕 =====\n",
    "\n",
    "#当你创建一个Foo类的时候，init会被自动跑一遍：\n",
    "# 此刻，你不可以直接跑Foo(),你需要填入一个参数：name2\n",
    "obj = Foo('Feb')\n",
    "# 然后再调用hello, 并赋值July\n",
    "obj.hello('July')"
   ]
  },
  {
   "cell_type": "markdown",
   "metadata": {},
   "source": [
    "由楼上这些例子，我们大概可以知道整个Python的OOP概念了：\n",
    "\n",
    "Class(类)就是一个把一堆Object(对象？)**集合**起来的地方。\n",
    "\n",
    "在这里，无论是变量还是方法，他们享有基本一样的层级概念。\n",
    "\n",
    "只不过,方法`Foo()`要做一点事儿，而变量`Foo`直接就是一个值。"
   ]
  },
  {
   "cell_type": "markdown",
   "metadata": {},
   "source": [
    "# 访问限制"
   ]
  },
  {
   "cell_type": "markdown",
   "metadata": {},
   "source": [
    "我们刚刚看到，在调用obj的时候，可以直接调出name或者使用hello()。那么我们怎么知道什么时候可以调用他们，什么时候不可以呢？\n",
    "\n",
    "    在Class内部，可以有属性和方法，而外部代码可以通过直接调用实例变量的方法来操作数据，这样，就隐藏了内部的复杂逻辑。如果要让内部属性不被外部访问，可以把属性的名称前加上两个下划线__，在Python中，实例的变量名如果以__开头，就变成了一个私有变量（private），只有内部可以访问，外部不能访问\n",
    "举个学生的例子，我们可以用一个学生类来存储学生的信息，但是我们在外部可以接触到name，那么其实我们就是可以直接修改name的，这是不安全的"
   ]
  },
  {
   "cell_type": "code",
   "execution_count": 5,
   "metadata": {
    "ExecuteTime": {
     "end_time": "2018-03-07T09:17:27.566341Z",
     "start_time": "2018-03-07T09:17:27.552330Z"
    }
   },
   "outputs": [
    {
     "name": "stdout",
     "output_type": "stream",
     "text": [
      "LiLei\n",
      "20\n"
     ]
    }
   ],
   "source": [
    "class Student:\n",
    "    \n",
    "    def __init__(self, name, age):\n",
    "        #构造函数的时候, 直接生成类级别的变量\n",
    "        #此时可以被外部访问及修改\n",
    "        self.name = name \n",
    "        self.age = age  \n",
    "    \n",
    "    def detail(self):\n",
    "        print(self.name)\n",
    "        print(self.age)\n",
    "\n",
    "LiLei = Student('LiLei', 12) \n",
    "#通过传入参数, 直接生成类级别的变量name, age\n",
    "LiLei.age = 20 #在外部直接修改类级别的变量age\n",
    "LiLei.detail()"
   ]
  },
  {
   "cell_type": "markdown",
   "metadata": {},
   "source": [
    "为了防止这种篡改年龄的事情发生，为了维护世界的和平，我们需要把关键的信息给做好隐藏"
   ]
  },
  {
   "cell_type": "code",
   "execution_count": 6,
   "metadata": {
    "ExecuteTime": {
     "end_time": "2018-03-07T09:18:08.990783Z",
     "start_time": "2018-03-07T09:18:08.974774Z"
    }
   },
   "outputs": [
    {
     "name": "stdout",
     "output_type": "stream",
     "text": [
      "LiLei\n",
      "12\n"
     ]
    }
   ],
   "source": [
    "class Student:\n",
    "    \n",
    "    def __init__(self, name, age):\n",
    "        #构造函数的时候, 直接生成类级别的变量\n",
    "        #在变量名前加两个下划线 __,变为私有变量\n",
    "        #只能在内部访问, 不能被外部访问\n",
    "        self.__name = name\n",
    "        self.__age = age  \n",
    "    \n",
    "    def detail(self):\n",
    "        print(self.__name)\n",
    "        print(self.__age)\n",
    "\n",
    "LiLei = Student('LiLei', 12)\n",
    "LiLei.__age = 20\n",
    "#尽管在外部给__age赋值, 但是不管用\n",
    "LiLei.detail()"
   ]
  },
  {
   "cell_type": "markdown",
   "metadata": {},
   "source": [
    "看，如此一来，年龄就不会被更改了。\n",
    "\n",
    "那么如何既保证安全，又能被外部修改呢？\n",
    "\n",
    "我们使用OOP家族传统理念：**Getter+Setter**"
   ]
  },
  {
   "cell_type": "code",
   "execution_count": null,
   "metadata": {},
   "outputs": [],
   "source": [
    "class Student(object):\n",
    "\n",
    "    def get_name(self):\n",
    "        #通过专门函数(端口)get_name, 返还私有变量, \n",
    "        #在外部可以查看\n",
    "        return self.__name\n",
    "\n",
    "    def get_age(self):\n",
    "        return self.__age"
   ]
  },
  {
   "cell_type": "code",
   "execution_count": null,
   "metadata": {},
   "outputs": [],
   "source": [
    "class Student(object):\n",
    "\n",
    "    def set_age(self, score):\n",
    "        #通过专门函数(端口)set_name, 获取相应参数, \n",
    "        #并在内部进行修改, \n",
    "        #可以监控此函数的调用情况, \n",
    "        #查看此变量的相关修改信息(何人,何时,...)\n",
    "        self.__age = age"
   ]
  },
  {
   "cell_type": "markdown",
   "metadata": {},
   "source": [
    "# 三大特性    \n",
    "面向对象的三大特性是指：`封装、继承和多态`"
   ]
  },
  {
   "cell_type": "markdown",
   "metadata": {},
   "source": [
    "## 封装    \n",
    "指的就是把内容封装到某个地方，用于日后调用\n",
    "\n",
    "它需要：\n",
    "\n",
    "* 把内容封装在某处\n",
    "\n",
    "* 从另一处调用被封装的内容"
   ]
  },
  {
   "cell_type": "markdown",
   "metadata": {},
   "source": [
    "### 通过对象直接调用  \n",
    "我们可以在存完一个内容以后，在类以外的地方，通过这个类的对象，来直接”点“调用"
   ]
  },
  {
   "cell_type": "code",
   "execution_count": 7,
   "metadata": {
    "ExecuteTime": {
     "end_time": "2018-03-07T09:22:27.999104Z",
     "start_time": "2018-03-07T09:22:27.981090Z"
    }
   },
   "outputs": [
    {
     "name": "stdout",
     "output_type": "stream",
     "text": [
      "July\n",
      "18\n",
      "Aug\n",
      "73\n"
     ]
    }
   ],
   "source": [
    "class Student:\n",
    "    #假定我们初始化一个Student类时,\n",
    "    #记录下每个学生的名字和年龄\n",
    "    def __init__(self, name, age):\n",
    "        self.name = name\n",
    "        self.age = age  \n",
    "    #至此，我们用self指代student本身，\n",
    "    #并用name和age存下了他们的年龄和名字\n",
    "\n",
    "    # === 完毕 ===\n",
    "\n",
    "#此时，我们新建一个学生\n",
    "obj1 = Student('July', 18)\n",
    "print(obj1.name)    # 直接调用obj1对象的name属性\n",
    "print(obj1.age)   # 直接调用obj1对象的age属性\n",
    "obj2 = Student('Aug', 73)\n",
    "print(obj2.name)    # 直接调用obj2对象的name属性\n",
    "print(obj2.age)     # 直接调用obj2对象的age属性"
   ]
  },
  {
   "cell_type": "markdown",
   "metadata": {},
   "source": [
    "### 通过self间接调用\n",
    "\n",
    "执行类中某一个方法时，通过self来调用了类自己的变量"
   ]
  },
  {
   "cell_type": "code",
   "execution_count": 8,
   "metadata": {
    "ExecuteTime": {
     "end_time": "2018-03-07T09:23:59.393837Z",
     "start_time": "2018-03-07T09:23:59.372825Z"
    }
   },
   "outputs": [
    {
     "name": "stdout",
     "output_type": "stream",
     "text": [
      "July\n",
      "18\n",
      "Aug\n",
      "73\n"
     ]
    }
   ],
   "source": [
    "class Student:\n",
    "    \n",
    "    def __init__(self, name, age):\n",
    "        self.name = name\n",
    "        self.age = age  \n",
    "    \n",
    "    def detail(self):\n",
    "        #特殊方法, 输出self属性\n",
    "        print(self.name)\n",
    "        print(self.age)\n",
    "\n",
    "    # === 完毕 ===\n",
    "\n",
    "#此时，我们新建一个学生\n",
    "obj1 = Student('July', 18)\n",
    "obj1.detail() #Python默认将obj1传给self，\n",
    "#所以其实我们做的是obj1.detail(obj1)\n",
    "# 那么，detail()内部的样貌其实就是：\n",
    "# print(obj1.name)\n",
    "# print(obj1.age)\n",
    "obj2 = Student('Aug', 73)\n",
    "obj2.detail()"
   ]
  },
  {
   "cell_type": "markdown",
   "metadata": {},
   "source": [
    "综上所述，对于面向对象的封装来说，其实就是使用构造方法将内容封装到 **对象** 中，然后通过对象直接或者self间接获取被封装的内容。"
   ]
  },
  {
   "cell_type": "markdown",
   "metadata": {},
   "source": [
    "## 继承"
   ]
  },
  {
   "cell_type": "markdown",
   "metadata": {},
   "source": [
    "继承，面向对象中的继承和现实生活中的继承相同，即：子可以继承父的内容（爸爸有的儿子都有）。\n",
    "\n",
    "例如，每个学生都有名字和年龄，木有问题。我们可以把这个作为我们的父亲类。\n",
    "\n",
    "但是，每个学生自己，可能有自己不同的”方法“，比如，每个人有每个人不同的外号，不同的口号，不同的饮食习惯，不同的。。。。。"
   ]
  },
  {
   "cell_type": "code",
   "execution_count": 9,
   "metadata": {
    "ExecuteTime": {
     "end_time": "2018-03-07T09:26:09.334773Z",
     "start_time": "2018-03-07T09:26:09.281740Z"
    }
   },
   "outputs": [
    {
     "name": "stdout",
     "output_type": "stream",
     "text": [
      "不服sala！\n",
      "小王\n",
      "7\n",
      "王思聪\n",
      "29\n",
      "张雨馨\n"
     ]
    }
   ],
   "source": [
    "# 我们首先创建一个学生类，这个类是所有学生的爸爸\n",
    "class Student:\n",
    "    \n",
    "    def __init__(self, name, age):\n",
    "        self.name = name\n",
    "        self.age = age  \n",
    "    \n",
    "    def detail(self):\n",
    "        print(self.name)\n",
    "        print(self.age)\n",
    "\n",
    "# 然后，我们创建一个小学生类，小学生特点是，LOL sala无敌\n",
    "class PrimaryStudent(Student):#因为是继承于学生类，所以我们写在括号内\n",
    "    # 这里我们可以不写构造函数，于是我们就是直接沿用Student类的构造函数\n",
    "    def lol(self): # 我们有一些新的独有的方法，同父类的方法叠加起来\n",
    "        print('不服sala！')\n",
    "    \n",
    "# 接下来，我们创建一个大学生类，大学生特点是，额，每个人都有个妹子。。\n",
    "class CollegeStudent(Student):\n",
    "    def __init__(self, name, age, gf): #这里，我们改写一下构造函数\n",
    "        # 于是爸爸的init会被直接overwrite\n",
    "        self.name = name\n",
    "        self.age = age\n",
    "        self.gf = gf\n",
    "    def gf_detail(self):\n",
    "        print(self.gf)\n",
    "\n",
    "# 来，我们来创建一下\n",
    "obj1 = PrimaryStudent('小王', 7)\n",
    "obj1.lol() # 独有的方法\n",
    "obj1.detail()#继承与爸爸的方法\n",
    "\n",
    "obj2 = CollegeStudent('王思聪', 29, '张雨馨')\n",
    "obj2.detail()#继承与爸爸的方法\n",
    "obj2.gf_detail()#独有的方法"
   ]
  },
  {
   "cell_type": "markdown",
   "metadata": {},
   "source": [
    "所以，对于面向对象的继承来说，其实就是将多个类共有的方法提取到父类中，子类仅需继承父类而不必一一实现每个方法。\n",
    "\n",
    "这样可以极大的提高效率，减少代码的重复。"
   ]
  },
  {
   "cell_type": "markdown",
   "metadata": {},
   "source": [
    "### 多类继承\n",
    "**问题来了，如果我想多认个干爹呢？**\n",
    "\n",
    "Python和Java/C#的不同就是，Python可以多类继承，也就是，可以认很多干爹\n",
    "\n",
    "但是干爹多了，就出了问题了。继承的时候，从谁先开始？\n",
    "\n",
    "有两种继承方式，分别是深度优先和广度优先\n",
    "\n",
    "当本身的类是**经典类**的时候，就按照**深度优先(找父辈)**方式查找继承的方法 （即，找到一个爸爸，继续找这个爸爸的爸爸，爸爸的爸爸的爸爸。。。）\n",
    "\n",
    "当本身的类是**新式类**的时候，就按照**广度优先(找同辈)**的方式查找 （即，找到一个爸爸，再找下一个爸爸，再找下一个爸爸，平辈之间查找）"
   ]
  },
  {
   "cell_type": "markdown",
   "metadata": {},
   "source": [
    "**那么为什么有经典类和新类之分呢？**\n",
    "\n",
    "这是个历史遗留问题，新类统一了类(class)和类型(type)，所以其实也是社区推荐的写法，只不过。。很多程序员都很懒。。\n",
    "\n",
    "    在2.2之前，比如2.1版本中，类和类型是不同的，如a是ClassA的一个实例，那么a.__class__返回 ‘ class    __main__.ClassA‘ ，type(a)返回总是<type 'instance'>。而引入新类后，比如ClassB是个新类，b是ClassB的实例，b.__class__和type(b)都是返回‘class '__main__.ClassB' ，这样就统一了。\n",
    "\n",
    "于是乎，在**新版的Python中**，这个经典类和新类的区别已经不存在，都**统一使用广度优先**。"
   ]
  },
  {
   "cell_type": "code",
   "execution_count": 10,
   "metadata": {
    "ExecuteTime": {
     "end_time": "2018-03-07T09:30:49.584414Z",
     "start_time": "2018-03-07T09:30:49.575408Z"
    }
   },
   "outputs": [],
   "source": [
    "#我们先假设我们还活在python2.2的时代：\n",
    "\n",
    "#经典类的写法\n",
    "class c1:\n",
    "    pass\n",
    "class c2(c1):\n",
    "    pass\n",
    "\n",
    "#新类的写法\n",
    "class N1(object):\n",
    "    pass\n",
    "class N2(N1):\n",
    "    pass"
   ]
  },
  {
   "cell_type": "markdown",
   "metadata": {},
   "source": [
    "可见，新类的标志就是，大家的老祖宗继承于一个**系统级的类: Object**"
   ]
  },
  {
   "cell_type": "markdown",
   "metadata": {},
   "source": [
    "* 经典类"
   ]
  },
  {
   "cell_type": "code",
   "execution_count": 11,
   "metadata": {
    "ExecuteTime": {
     "end_time": "2018-03-07T09:32:26.985217Z",
     "start_time": "2018-03-07T09:32:26.958691Z"
    }
   },
   "outputs": [
    {
     "name": "stdout",
     "output_type": "stream",
     "text": [
      "C.bar\n"
     ]
    }
   ],
   "source": [
    "class D:\n",
    "\n",
    "    def bar(self):\n",
    "        print('D.bar')\n",
    "\n",
    "\n",
    "class C(D):\n",
    "\n",
    "    def bar(self):\n",
    "        print('C.bar')\n",
    "\n",
    "\n",
    "class B(D):\n",
    "\n",
    "    pass\n",
    "\n",
    "\n",
    "class A(B, C):\n",
    "\n",
    "    pass\n",
    "\n",
    "a = A()\n",
    "# 执行bar方法时\n",
    "# 首先去A类中查找，如果A类中没有，则继续去B类中找，如果B类中么有，则继续去D类中找，如果D类中么有，则继续去C类中找，如果还是未找到，则报错\n",
    "# 所以，查找顺序：A --> B --> D --> C\n",
    "# 在上述查找bar方法的过程中，一旦找到，则寻找过程立即中断，便不会再继续找了\n",
    "a.bar()"
   ]
  },
  {
   "cell_type": "markdown",
   "metadata": {},
   "source": [
    "* 新类"
   ]
  },
  {
   "cell_type": "code",
   "execution_count": 12,
   "metadata": {
    "ExecuteTime": {
     "end_time": "2018-03-07T09:32:54.917214Z",
     "start_time": "2018-03-07T09:32:54.894199Z"
    }
   },
   "outputs": [
    {
     "name": "stdout",
     "output_type": "stream",
     "text": [
      "C.bar\n"
     ]
    }
   ],
   "source": [
    "class D(object):\n",
    "\n",
    "    def bar(self):\n",
    "        print('D.bar')\n",
    "\n",
    "\n",
    "class C(D):\n",
    "\n",
    "    def bar(self):\n",
    "        print('C.bar')\n",
    "\n",
    "\n",
    "class B(D):\n",
    "\n",
    "    pass\n",
    "\n",
    "class A(B, C):\n",
    "\n",
    "    pass\n",
    "\n",
    "a = A()\n",
    "# 执行bar方法时\n",
    "# 首先去A类中查找，如果A类中没有，则继续去B类中找，如果B类中么有，则继续去C类中找，如果C类中么有，则继续去D类中找，如果还是未找到，则报错\n",
    "# 所以，查找顺序：A --> B --> C --> D\n",
    "# 在上述查找bar方法的过程中，一旦找到，则寻找过程立即中断，便不会再继续找了\n",
    "a.bar()"
   ]
  },
  {
   "cell_type": "markdown",
   "metadata": {},
   "source": [
    "当然，对我们先现在而言，两种写法都得出C.bar ；这说明，已经木有区别了"
   ]
  },
  {
   "cell_type": "markdown",
   "metadata": {},
   "source": [
    "### 多态"
   ]
  },
  {
   "cell_type": "markdown",
   "metadata": {
    "ExecuteTime": {
     "end_time": "2018-03-07T09:33:50.781524Z",
     "start_time": "2018-03-07T09:33:50.772514Z"
    }
   },
   "source": [
    "Pyhon不支持多态并且也用不到多态，多态的概念是应用于Java和C#这一类强类型语言中，而Python崇尚“鸭子类型（Duck Typing）”。\n",
    "\n",
    "什么是鸭子类型？其实翻译成中文最好是叫：好猫类型。\n",
    "\n",
    "也就是引用了小平同志的一句话，不管黑猫白猫抓到老鼠的就是好猫。\n",
    "\n",
    "不同于强类型的语言，一个类型的obj只能一种事儿，\n",
    "\n",
    "在Python中，只要是能“不报错运行”的类型，都可以塞进参数中去"
   ]
  },
  {
   "cell_type": "code",
   "execution_count": 14,
   "metadata": {
    "ExecuteTime": {
     "end_time": "2018-03-07T09:34:43.366642Z",
     "start_time": "2018-03-07T09:34:43.338123Z"
    }
   },
   "outputs": [
    {
     "name": "stdout",
     "output_type": "stream",
     "text": [
      "S1.show\n",
      "S2.show\n"
     ]
    }
   ],
   "source": [
    "class F1:\n",
    "    pass\n",
    "\n",
    "# 假设，S1是我们的正统类，它继承于根正苗红的F1，是我们的正统类\n",
    "class S1(F1):\n",
    "    def show(self):\n",
    "        print('S1.show')\n",
    "\n",
    "# S2是路人甲，是个歪瓜裂枣，但是他自己也有一个叫show的方法。\n",
    "class S2:\n",
    "    def show(self):\n",
    "        print('S2.show')\n",
    "        \n",
    "        \n",
    "# 在Java或C#中定义函数参数时，必须指定参数的类型，也即是说，我们如果用\n",
    "# Java写下面的Func，需要告知，obj是F1类还是其他什么东西。\n",
    "# 如果限定了F1，那么S2是不可以被采纳的。\n",
    "# 然而，在Python中，一切都是Obj，它不care你到底是什么类，直接塞进去就可以\n",
    "\n",
    "def Func(obj):\n",
    "    \"\"\"Func函数需要接收一个F1类型或者F1子类的类型\"\"\"\n",
    "    obj.show()\n",
    "    \n",
    "s1_obj = S1()\n",
    "Func(s1_obj) # 在Func函数中传入S1类的对象 s1_obj，执行 S1 的show方法，结果：S1.show\n",
    "\n",
    "s2_obj = S2()\n",
    "Func(s2_obj) # 在Func函数中传入Ss类的对象 ss_obj，执行 Ss 的show方法，结果：S2.show"
   ]
  }
 ],
 "metadata": {
  "kernelspec": {
   "display_name": "Python 3",
   "language": "python",
   "name": "python3"
  },
  "language_info": {
   "codemirror_mode": {
    "name": "ipython",
    "version": 3
   },
   "file_extension": ".py",
   "mimetype": "text/x-python",
   "name": "python",
   "nbconvert_exporter": "python",
   "pygments_lexer": "ipython3",
   "version": "3.6.3"
  },
  "toc": {
   "nav_menu": {},
   "number_sections": true,
   "sideBar": true,
   "skip_h1_title": false,
   "title_cell": "Table of Contents",
   "title_sidebar": "Contents",
   "toc_cell": true,
   "toc_position": {},
   "toc_section_display": true,
   "toc_window_display": false
  }
 },
 "nbformat": 4,
 "nbformat_minor": 2
}
