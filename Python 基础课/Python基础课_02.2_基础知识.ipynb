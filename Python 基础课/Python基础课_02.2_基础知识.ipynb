{
 "cells": [
  {
   "cell_type": "markdown",
   "metadata": {
    "toc": true
   },
   "source": [
    "<h1>Python基础课_02.2_基础知识<span class=\"tocSkip\"></span></h1>\n",
    "<div class=\"toc\"><ul class=\"toc-item\"><li><span><a href=\"#Python基础课02.2基础知识\" data-toc-modified-id=\"Python基础课02.2基础知识-1\"><span class=\"toc-item-num\">1&nbsp;&nbsp;</span>Python基础课<em>02.2</em>基础知识</a></span></li><li><span><a href=\"#条件判断\" data-toc-modified-id=\"条件判断-2\"><span class=\"toc-item-num\">2&nbsp;&nbsp;</span>条件判断</a></span></li><li><span><a href=\"#循环控制\" data-toc-modified-id=\"循环控制-3\"><span class=\"toc-item-num\">3&nbsp;&nbsp;</span>循环控制</a></span></li><li><span><a href=\"#函数\" data-toc-modified-id=\"函数-4\"><span class=\"toc-item-num\">4&nbsp;&nbsp;</span>函数</a></span></li></ul></div>"
   ]
  },
  {
   "cell_type": "markdown",
   "metadata": {},
   "source": [
    "# Python基础课_02.2_基础知识"
   ]
  },
  {
   "cell_type": "markdown",
   "metadata": {},
   "source": [
    "# 条件判断"
   ]
  },
  {
   "cell_type": "code",
   "execution_count": 22,
   "metadata": {
    "ExecuteTime": {
     "end_time": "2018-03-09T03:53:13.696129Z",
     "start_time": "2018-03-09T03:53:13.686118Z"
    }
   },
   "outputs": [
    {
     "name": "stdout",
     "output_type": "stream",
     "text": [
      "300\n"
     ]
    }
   ],
   "source": [
    "# if判断\n",
    "a = 100\n",
    "b = 200\n",
    "c = 300\n",
    "if c == a:\n",
    "    print(a)\n",
    "elif c == b:\n",
    "    print(b)\n",
    "else:\n",
    "    print(c)"
   ]
  },
  {
   "cell_type": "code",
   "execution_count": 23,
   "metadata": {
    "ExecuteTime": {
     "end_time": "2018-03-09T03:53:50.542932Z",
     "start_time": "2018-03-09T03:53:50.536928Z"
    }
   },
   "outputs": [
    {
     "name": "stdout",
     "output_type": "stream",
     "text": [
      "x is None\n",
      "x is None\n"
     ]
    }
   ],
   "source": [
    "# None的判断\n",
    "x = None\n",
    "if x is None:\n",
    "    print('x is None')\n",
    "if not x:\n",
    "    print('x is None')"
   ]
  },
  {
   "cell_type": "markdown",
   "metadata": {},
   "source": [
    "# 循环控制"
   ]
  },
  {
   "cell_type": "code",
   "execution_count": 24,
   "metadata": {
    "ExecuteTime": {
     "end_time": "2018-03-09T03:54:46.163841Z",
     "start_time": "2018-03-09T03:54:46.157838Z"
    }
   },
   "outputs": [
    {
     "name": "stdout",
     "output_type": "stream",
     "text": [
      "5050\n"
     ]
    }
   ],
   "source": [
    "# for循环\n",
    "s = 0\n",
    "for i in range(0, 101):\n",
    "    s += i\n",
    "print(s)"
   ]
  },
  {
   "cell_type": "code",
   "execution_count": 25,
   "metadata": {
    "ExecuteTime": {
     "end_time": "2018-03-09T03:54:57.436931Z",
     "start_time": "2018-03-09T03:54:57.427925Z"
    }
   },
   "outputs": [
    {
     "name": "stdout",
     "output_type": "stream",
     "text": [
      "5050\n"
     ]
    }
   ],
   "source": [
    "# while循环\n",
    "s = 0\n",
    "i = 0\n",
    "while i <= 100:\n",
    "    s += i\n",
    "    i += 1\n",
    "print(s)"
   ]
  },
  {
   "cell_type": "code",
   "execution_count": 26,
   "metadata": {
    "ExecuteTime": {
     "end_time": "2018-03-09T03:55:03.131888Z",
     "start_time": "2018-03-09T03:55:03.118881Z"
    }
   },
   "outputs": [
    {
     "name": "stdout",
     "output_type": "stream",
     "text": [
      "30\n",
      "31\n",
      "32\n",
      "33\n",
      "34\n"
     ]
    }
   ],
   "source": [
    "# continue/pass/break\n",
    "for i in range(0, 100):\n",
    "    if i < 10:\n",
    "        pass\n",
    "    elif i < 30:\n",
    "        continue\n",
    "    elif i < 35:\n",
    "        print(i)\n",
    "    else:\n",
    "        break"
   ]
  },
  {
   "cell_type": "markdown",
   "metadata": {},
   "source": [
    "# 函数"
   ]
  },
  {
   "cell_type": "code",
   "execution_count": 1,
   "metadata": {
    "ExecuteTime": {
     "end_time": "2018-03-09T03:58:53.430274Z",
     "start_time": "2018-03-09T03:58:53.412257Z"
    }
   },
   "outputs": [
    {
     "name": "stdout",
     "output_type": "stream",
     "text": [
      "150 500\n",
      "100 200\n",
      "100 300\n"
     ]
    }
   ],
   "source": [
    "# 函数定义和默认参数\n",
    "def func(x, y = 500):\n",
    "    print(x, y)\n",
    "\n",
    "func(150)\n",
    "func(100, 200)\n",
    "func(y = 300, x = 100)"
   ]
  },
  {
   "cell_type": "code",
   "execution_count": 2,
   "metadata": {
    "ExecuteTime": {
     "end_time": "2018-03-09T03:59:08.051563Z",
     "start_time": "2018-03-09T03:59:08.044557Z"
    }
   },
   "outputs": [
    {
     "name": "stdout",
     "output_type": "stream",
     "text": [
      "Tom\n",
      "(1, 2, 3, 4)\n"
     ]
    }
   ],
   "source": [
    "# 可变参数\n",
    "def func(name, *numbers):\n",
    "    print(name)\n",
    "    print(numbers)\n",
    "\n",
    "func('Tom', 1, 2, 3, 4)"
   ]
  },
  {
   "cell_type": "code",
   "execution_count": 3,
   "metadata": {
    "ExecuteTime": {
     "end_time": "2018-03-09T03:59:20.077176Z",
     "start_time": "2018-03-09T03:59:20.067167Z"
    }
   },
   "outputs": [
    {
     "name": "stdout",
     "output_type": "stream",
     "text": [
      "Jack\n",
      "{'china': 'Beijing', 'uk': 'London'}\n"
     ]
    }
   ],
   "source": [
    "# 关键字参数\n",
    "def func(name, **kvs):\n",
    "    print(name)\n",
    "    print(kvs)\n",
    "\n",
    "func('Jack', china = 'Beijing', uk = 'London')"
   ]
  },
  {
   "cell_type": "code",
   "execution_count": 4,
   "metadata": {
    "ExecuteTime": {
     "end_time": "2018-03-09T03:59:32.316796Z",
     "start_time": "2018-03-09T03:59:32.309792Z"
    }
   },
   "outputs": [
    {
     "name": "stdout",
     "output_type": "stream",
     "text": [
      "Beijing London\n"
     ]
    }
   ],
   "source": [
    "# 命名关键字参数\n",
    "def func(*, china, uk): # *用于和普通参数做分割，*args一样效果\n",
    "    print(china, uk)\n",
    "\n",
    "func(china = 'Beijing', uk = 'London')  # 必须传入参数名\n"
   ]
  },
  {
   "cell_type": "code",
   "execution_count": 5,
   "metadata": {
    "ExecuteTime": {
     "end_time": "2018-03-09T03:59:44.338950Z",
     "start_time": "2018-03-09T03:59:44.319935Z"
    }
   },
   "outputs": [
    {
     "name": "stdout",
     "output_type": "stream",
     "text": [
      "1 2 0 () {}\n",
      "1 2 3 () {}\n",
      "1 2 3 ('a', 'b') {}\n",
      "1 2 3 ('a', 'b') {'china': 'Beijing', 'uk': 'London'}\n",
      "1 2 3 ('a', 'b') {'china': 'Beijing', 'uk': 'London'}\n"
     ]
    }
   ],
   "source": [
    "# 复杂情况\n",
    "def func(a, b, c = 0, *args, **kvs):\n",
    "    print(a, b, c, args, kvs)\n",
    "\n",
    "func(1, 2)\n",
    "func(1, 2, 3)\n",
    "func(1, 2, 3, 'a', 'b')\n",
    "func(1, 2, 3, 'a', 'b', china = 'Beijing', uk = 'London')\n",
    "func(1, 2, 3, *('a', 'b'), **{'china':'Beijing', 'uk':'London'})"
   ]
  },
  {
   "cell_type": "code",
   "execution_count": 9,
   "metadata": {
    "ExecuteTime": {
     "end_time": "2018-03-09T04:01:48.822486Z",
     "start_time": "2018-03-09T04:01:48.799469Z"
    }
   },
   "outputs": [
    {
     "name": "stdout",
     "output_type": "stream",
     "text": [
      "1\n",
      "1\n",
      "2\n",
      "3\n",
      "5\n",
      "8\n"
     ]
    }
   ],
   "source": [
    "# 递归的经典例子！\n",
    "# 斐波那契数列\n",
    "def fib(n):\n",
    "    if n < 1:\n",
    "        raise ValueError\n",
    "        #返回错误类型: ValueError\n",
    "    elif (n == 1) or (n == 2):\n",
    "        return 1\n",
    "    else:\n",
    "        return fib(n - 1) + fib(n - 2)\n",
    "\n",
    "print(fib(1))\n",
    "print(fib(2))\n",
    "print(fib(3))\n",
    "print(fib(4))\n",
    "print(fib(5))\n",
    "print(fib(6))\n",
    "\n",
    "#print(fib(0))"
   ]
  },
  {
   "cell_type": "code",
   "execution_count": 12,
   "metadata": {
    "ExecuteTime": {
     "end_time": "2018-03-09T04:04:01.492961Z",
     "start_time": "2018-03-09T04:04:01.470944Z"
    }
   },
   "outputs": [
    {
     "name": "stdout",
     "output_type": "stream",
     "text": [
      "A -> C\n",
      "A -> B\n",
      "C -> B\n",
      "A -> C\n",
      "B -> A\n",
      "B -> C\n",
      "A -> C\n",
      "A -> B\n",
      "C -> B\n",
      "C -> A\n",
      "B -> A\n",
      "C -> B\n",
      "A -> C\n",
      "A -> B\n",
      "C -> B\n"
     ]
    }
   ],
   "source": [
    "# 递归的经典例子！\n",
    "# 汉诺塔\n",
    "def move(n, source, target, helper):\n",
    "    if n == 1:\n",
    "        print(source + ' -> ' + target)\n",
    "    else:\n",
    "        move(n - 1, source, helper, target)\n",
    "        print(source + ' -> ' + target)\n",
    "        move(n - 1, helper, target, source)\n",
    "\n",
    "move(4, 'A', 'B', 'C')\n",
    "\n",
    "'''\n",
    "A -> C: [2, 3, 4], [],           [1]\n",
    "A -> B: [3, 4],    [2],          [1]\n",
    "C -> B: [3, 4],    [1, 2]        []\n",
    "A -> C: [4],       [1, 2],       [3]\n",
    "B -> A: [1, 4],    [2],          [3]\n",
    "B -> C: [1, 4],    [],           [2, 3]\n",
    "A -> C: [4],       [],           [1, 2, 3]\n",
    "A -> B: [],        [4],          [1, 2, 3]\n",
    "C -> B: [],        [1, 4],       [2, 3]\n",
    "C -> A: [2],       [1, 4],       [3]\n",
    "B -> A: [1, 2],    [4],          [3]\n",
    "C -> B: [1, 2],    [3, 4],       []\n",
    "A -> C: [2],       [3, 4],       [1]\n",
    "A -> B: [],        [2, 3, 4],    [1]\n",
    "C -> B: [],        [1, 2, 3, 4], []\n",
    "'''\n",
    "pass"
   ]
  },
  {
   "cell_type": "code",
   "execution_count": null,
   "metadata": {},
   "outputs": [],
   "source": []
  }
 ],
 "metadata": {
  "kernelspec": {
   "display_name": "Python 3",
   "language": "python",
   "name": "python3"
  },
  "language_info": {
   "codemirror_mode": {
    "name": "ipython",
    "version": 3
   },
   "file_extension": ".py",
   "mimetype": "text/x-python",
   "name": "python",
   "nbconvert_exporter": "python",
   "pygments_lexer": "ipython3",
   "version": "3.6.3"
  },
  "toc": {
   "nav_menu": {},
   "number_sections": true,
   "sideBar": true,
   "skip_h1_title": false,
   "title_cell": "Python基础课_02.2_基础知识",
   "title_sidebar": "Contents",
   "toc_cell": true,
   "toc_position": {},
   "toc_section_display": true,
   "toc_window_display": false
  }
 },
 "nbformat": 4,
 "nbformat_minor": 2
}
