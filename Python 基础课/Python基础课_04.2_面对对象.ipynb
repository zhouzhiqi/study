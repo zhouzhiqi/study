{
 "cells": [
  {
   "cell_type": "markdown",
   "metadata": {
    "toc": true
   },
   "source": [
    "<h1>Table of Contents<span class=\"tocSkip\"></span></h1>\n",
    "<div class=\"toc\"><ul class=\"toc-item\"><li><span><a href=\"#Python基础课_04：面对对象_02\" data-toc-modified-id=\"Python基础课_04：面对对象_02-1\"><span class=\"toc-item-num\">1&nbsp;&nbsp;</span>Python基础课_04：面对对象_02</a></span></li><li><span><a href=\"#获取对象信息\" data-toc-modified-id=\"获取对象信息-2\"><span class=\"toc-item-num\">2&nbsp;&nbsp;</span>获取对象信息</a></span><ul class=\"toc-item\"><li><span><a href=\"#type()\" data-toc-modified-id=\"type()-2.1\"><span class=\"toc-item-num\">2.1&nbsp;&nbsp;</span>type()</a></span></li><li><span><a href=\"#isinstance()\" data-toc-modified-id=\"isinstance()-2.2\"><span class=\"toc-item-num\">2.2&nbsp;&nbsp;</span>isinstance()</a></span></li><li><span><a href=\"#dir()\" data-toc-modified-id=\"dir()-2.3\"><span class=\"toc-item-num\">2.3&nbsp;&nbsp;</span>dir()</a></span></li></ul></li><li><span><a href=\"#实例属性和类属性\" data-toc-modified-id=\"实例属性和类属性-3\"><span class=\"toc-item-num\">3&nbsp;&nbsp;</span>实例属性和类属性</a></span></li><li><span><a href=\"#模块和包\" data-toc-modified-id=\"模块和包-4\"><span class=\"toc-item-num\">4&nbsp;&nbsp;</span>模块和包</a></span><ul class=\"toc-item\"><li><span><a href=\"#模块\" data-toc-modified-id=\"模块-4.1\"><span class=\"toc-item-num\">4.1&nbsp;&nbsp;</span>模块</a></span><ul class=\"toc-item\"><li><span><a href=\"#导入自定义模块\" data-toc-modified-id=\"导入自定义模块-4.1.1\"><span class=\"toc-item-num\">4.1.1&nbsp;&nbsp;</span>导入自定义模块</a></span></li><li><span><a href=\"#导入模块\" data-toc-modified-id=\"导入模块-4.1.2\"><span class=\"toc-item-num\">4.1.2&nbsp;&nbsp;</span>导入模块</a></span></li><li><span><a href=\"#使用from-import语句导入模块的属性\" data-toc-modified-id=\"使用from-import语句导入模块的属性-4.1.3\"><span class=\"toc-item-num\">4.1.3&nbsp;&nbsp;</span>使用from-import语句导入模块的属性</a></span></li></ul></li><li><span><a href=\"#包\" data-toc-modified-id=\"包-4.2\"><span class=\"toc-item-num\">4.2&nbsp;&nbsp;</span>包</a></span></li></ul></li><li><span><a href=\"#实战\" data-toc-modified-id=\"实战-5\"><span class=\"toc-item-num\">5&nbsp;&nbsp;</span>实战</a></span></li></ul></div>"
   ]
  },
  {
   "cell_type": "markdown",
   "metadata": {},
   "source": [
    "# Python基础课_04：面对对象_02"
   ]
  },
  {
   "cell_type": "markdown",
   "metadata": {},
   "source": [
    "原作者: 加号@七月在线"
   ]
  },
  {
   "cell_type": "markdown",
   "metadata": {},
   "source": [
    "# 获取对象信息\n",
    "\n",
    "当我们拿到一个对象的引用时，如何知道这个对象是什么类型、有哪些方法呢？"
   ]
  },
  {
   "cell_type": "markdown",
   "metadata": {},
   "source": [
    "## type()"
   ]
  },
  {
   "cell_type": "code",
   "execution_count": 15,
   "metadata": {
    "ExecuteTime": {
     "end_time": "2018-03-07T09:36:19.592233Z",
     "start_time": "2018-03-07T09:36:19.579225Z"
    }
   },
   "outputs": [
    {
     "data": {
      "text/plain": [
       "int"
      ]
     },
     "execution_count": 15,
     "metadata": {},
     "output_type": "execute_result"
    }
   ],
   "source": [
    "type(123)"
   ]
  },
  {
   "cell_type": "code",
   "execution_count": 16,
   "metadata": {
    "ExecuteTime": {
     "end_time": "2018-03-07T09:36:34.528356Z",
     "start_time": "2018-03-07T09:36:34.522355Z"
    }
   },
   "outputs": [
    {
     "data": {
      "text/plain": [
       "str"
      ]
     },
     "execution_count": 16,
     "metadata": {},
     "output_type": "execute_result"
    }
   ],
   "source": [
    "type('666')"
   ]
  },
  {
   "cell_type": "code",
   "execution_count": 17,
   "metadata": {
    "ExecuteTime": {
     "end_time": "2018-03-07T09:36:51.409232Z",
     "start_time": "2018-03-07T09:36:51.403227Z"
    }
   },
   "outputs": [
    {
     "data": {
      "text/plain": [
       "NoneType"
      ]
     },
     "execution_count": 17,
     "metadata": {},
     "output_type": "execute_result"
    }
   ],
   "source": [
    "type(None)"
   ]
  },
  {
   "cell_type": "code",
   "execution_count": 18,
   "metadata": {
    "ExecuteTime": {
     "end_time": "2018-03-07T09:37:01.512126Z",
     "start_time": "2018-03-07T09:37:01.506124Z"
    }
   },
   "outputs": [
    {
     "data": {
      "text/plain": [
       "builtin_function_or_method"
      ]
     },
     "execution_count": 18,
     "metadata": {},
     "output_type": "execute_result"
    }
   ],
   "source": [
    "type(abs)"
   ]
  },
  {
   "cell_type": "code",
   "execution_count": 20,
   "metadata": {
    "ExecuteTime": {
     "end_time": "2018-03-07T09:37:54.121531Z",
     "start_time": "2018-03-07T09:37:54.114525Z"
    }
   },
   "outputs": [
    {
     "data": {
      "text/plain": [
       "type"
      ]
     },
     "execution_count": 20,
     "metadata": {},
     "output_type": "execute_result"
    }
   ],
   "source": [
    "class a:\n",
    "    def __init__(self):\n",
    "        pass\n",
    "    \n",
    "type(a)"
   ]
  },
  {
   "cell_type": "code",
   "execution_count": 21,
   "metadata": {
    "ExecuteTime": {
     "end_time": "2018-03-07T10:12:24.833984Z",
     "start_time": "2018-03-07T10:12:24.822978Z"
    }
   },
   "outputs": [
    {
     "name": "stdout",
     "output_type": "stream",
     "text": [
      "True\n",
      "True\n",
      "False\n",
      "True\n",
      "True\n"
     ]
    }
   ],
   "source": [
    "# 如何用语句判断是不是一种type呢？\n",
    "\n",
    "print(type(123)==type(456))\n",
    "\n",
    "print(type('abc')==type('123'))\n",
    "\n",
    "print(type('abc')==type(123))\n",
    "\n",
    "print(type('abc')==str)\n",
    "\n",
    "print(type([])==list)\n"
   ]
  },
  {
   "cell_type": "markdown",
   "metadata": {},
   "source": [
    "## isinstance()\n",
    "isinstance()可以告诉我们，一个对象是否是某种类型（包括继承关系）。"
   ]
  },
  {
   "cell_type": "code",
   "execution_count": 22,
   "metadata": {
    "ExecuteTime": {
     "end_time": "2018-03-07T10:13:25.863913Z",
     "start_time": "2018-03-07T10:13:25.850906Z"
    }
   },
   "outputs": [
    {
     "data": {
      "text/plain": [
       "True"
      ]
     },
     "execution_count": 22,
     "metadata": {},
     "output_type": "execute_result"
    }
   ],
   "source": [
    "class A:\n",
    "    pass\n",
    "class B(A):\n",
    "    pass\n",
    "class C(B):\n",
    "    pass\n",
    "\n",
    "k=A()\n",
    "g=B()\n",
    "y=C()\n",
    "\n",
    "isinstance(y, C)"
   ]
  },
  {
   "cell_type": "code",
   "execution_count": 23,
   "metadata": {
    "ExecuteTime": {
     "end_time": "2018-03-07T10:13:35.194394Z",
     "start_time": "2018-03-07T10:13:35.188389Z"
    }
   },
   "outputs": [
    {
     "data": {
      "text/plain": [
       "True"
      ]
     },
     "execution_count": 23,
     "metadata": {},
     "output_type": "execute_result"
    }
   ],
   "source": [
    "isinstance(y, B)"
   ]
  },
  {
   "cell_type": "code",
   "execution_count": 24,
   "metadata": {
    "ExecuteTime": {
     "end_time": "2018-03-07T10:13:46.114020Z",
     "start_time": "2018-03-07T10:13:46.109017Z"
    }
   },
   "outputs": [
    {
     "data": {
      "text/plain": [
       "True"
      ]
     },
     "execution_count": 24,
     "metadata": {},
     "output_type": "execute_result"
    }
   ],
   "source": [
    "# isinstance()也可以当type()用\n",
    "\n",
    "isinstance('a', str)"
   ]
  },
  {
   "cell_type": "markdown",
   "metadata": {},
   "source": [
    "## dir()\n",
    "\n",
    "如果要获得一个对象的所有属性和方法，可以使用dir()函数，它返回一个包含字符串的list，比如，获得一个str对象的所有属性和方法"
   ]
  },
  {
   "cell_type": "code",
   "execution_count": 25,
   "metadata": {
    "ExecuteTime": {
     "end_time": "2018-03-07T10:14:14.372562Z",
     "start_time": "2018-03-07T10:14:14.362558Z"
    },
    "scrolled": true
   },
   "outputs": [
    {
     "data": {
      "text/plain": [
       "['__add__',\n",
       " '__class__',\n",
       " '__contains__',\n",
       " '__delattr__',\n",
       " '__dir__',\n",
       " '__doc__',\n",
       " '__eq__',\n",
       " '__format__',\n",
       " '__ge__',\n",
       " '__getattribute__',\n",
       " '__getitem__',\n",
       " '__getnewargs__',\n",
       " '__gt__',\n",
       " '__hash__',\n",
       " '__init__',\n",
       " '__init_subclass__',\n",
       " '__iter__',\n",
       " '__le__',\n",
       " '__len__',\n",
       " '__lt__',\n",
       " '__mod__',\n",
       " '__mul__',\n",
       " '__ne__',\n",
       " '__new__',\n",
       " '__reduce__',\n",
       " '__reduce_ex__',\n",
       " '__repr__',\n",
       " '__rmod__',\n",
       " '__rmul__',\n",
       " '__setattr__',\n",
       " '__sizeof__',\n",
       " '__str__',\n",
       " '__subclasshook__',\n",
       " 'capitalize',\n",
       " 'casefold',\n",
       " 'center',\n",
       " 'count',\n",
       " 'encode',\n",
       " 'endswith',\n",
       " 'expandtabs',\n",
       " 'find',\n",
       " 'format',\n",
       " 'format_map',\n",
       " 'index',\n",
       " 'isalnum',\n",
       " 'isalpha',\n",
       " 'isdecimal',\n",
       " 'isdigit',\n",
       " 'isidentifier',\n",
       " 'islower',\n",
       " 'isnumeric',\n",
       " 'isprintable',\n",
       " 'isspace',\n",
       " 'istitle',\n",
       " 'isupper',\n",
       " 'join',\n",
       " 'ljust',\n",
       " 'lower',\n",
       " 'lstrip',\n",
       " 'maketrans',\n",
       " 'partition',\n",
       " 'replace',\n",
       " 'rfind',\n",
       " 'rindex',\n",
       " 'rjust',\n",
       " 'rpartition',\n",
       " 'rsplit',\n",
       " 'rstrip',\n",
       " 'split',\n",
       " 'splitlines',\n",
       " 'startswith',\n",
       " 'strip',\n",
       " 'swapcase',\n",
       " 'title',\n",
       " 'translate',\n",
       " 'upper',\n",
       " 'zfill']"
      ]
     },
     "execution_count": 25,
     "metadata": {},
     "output_type": "execute_result"
    }
   ],
   "source": [
    "dir('ABC')"
   ]
  },
  {
   "cell_type": "markdown",
   "metadata": {},
   "source": [
    "    类似__xxx__的属性和方法在Python中都是有特殊用途的，比如__len__方法返回长度。在Python中，如果你调用len()函数试图获取一个对象的长度，实际上，在len()函数内部，它自动去调用该对象的__len__()方法，所以，下面的代码是等价的"
   ]
  },
  {
   "cell_type": "code",
   "execution_count": 26,
   "metadata": {
    "ExecuteTime": {
     "end_time": "2018-03-07T10:14:56.445274Z",
     "start_time": "2018-03-07T10:14:56.439273Z"
    }
   },
   "outputs": [
    {
     "data": {
      "text/plain": [
       "3"
      ]
     },
     "execution_count": 26,
     "metadata": {},
     "output_type": "execute_result"
    }
   ],
   "source": [
    "'ABC'.__len__()"
   ]
  },
  {
   "cell_type": "markdown",
   "metadata": {},
   "source": [
    "    我们自己写的类，如果也想用len(myObj)的话，就自己写一个__len__()方法"
   ]
  },
  {
   "cell_type": "code",
   "execution_count": 27,
   "metadata": {
    "ExecuteTime": {
     "end_time": "2018-03-07T10:15:23.349007Z",
     "start_time": "2018-03-07T10:15:23.340501Z"
    }
   },
   "outputs": [
    {
     "data": {
      "text/plain": [
       "100"
      ]
     },
     "execution_count": 27,
     "metadata": {},
     "output_type": "execute_result"
    }
   ],
   "source": [
    "class MyObject:\n",
    "    def __len__(self):\n",
    "        return 100\n",
    "\n",
    "obj = MyObject()\n",
    "len(obj)"
   ]
  },
  {
   "cell_type": "markdown",
   "metadata": {},
   "source": [
    "仅仅把属性和方法列出来是不够的，配合getattr()、setattr()以及hasattr()，我们可以直接操作一个对象的状态"
   ]
  },
  {
   "cell_type": "code",
   "execution_count": 28,
   "metadata": {
    "ExecuteTime": {
     "end_time": "2018-03-07T10:15:51.679229Z",
     "start_time": "2018-03-07T10:15:51.672224Z"
    }
   },
   "outputs": [],
   "source": [
    "class MyObject:\n",
    "    def __init__(self):\n",
    "        self.x = 9\n",
    "    def power(self):\n",
    "        return self.x * self.x\n",
    "\n",
    "obj = MyObject()"
   ]
  },
  {
   "cell_type": "code",
   "execution_count": 29,
   "metadata": {
    "ExecuteTime": {
     "end_time": "2018-03-07T10:16:13.558599Z",
     "start_time": "2018-03-07T10:16:13.552595Z"
    }
   },
   "outputs": [
    {
     "data": {
      "text/plain": [
       "True"
      ]
     },
     "execution_count": 29,
     "metadata": {},
     "output_type": "execute_result"
    }
   ],
   "source": [
    "# 紧接着，可以测试该对象的属性：\n",
    "\n",
    "hasattr(obj, 'x') #有木有属性'x'"
   ]
  },
  {
   "cell_type": "code",
   "execution_count": 30,
   "metadata": {
    "ExecuteTime": {
     "end_time": "2018-03-07T10:16:21.846226Z",
     "start_time": "2018-03-07T10:16:21.841222Z"
    }
   },
   "outputs": [
    {
     "data": {
      "text/plain": [
       "9"
      ]
     },
     "execution_count": 30,
     "metadata": {},
     "output_type": "execute_result"
    }
   ],
   "source": [
    "obj.x"
   ]
  },
  {
   "cell_type": "code",
   "execution_count": 31,
   "metadata": {
    "ExecuteTime": {
     "end_time": "2018-03-07T10:16:32.252477Z",
     "start_time": "2018-03-07T10:16:32.247473Z"
    }
   },
   "outputs": [
    {
     "data": {
      "text/plain": [
       "False"
      ]
     },
     "execution_count": 31,
     "metadata": {},
     "output_type": "execute_result"
    }
   ],
   "source": [
    "hasattr(obj, 'y') # 有属性'y'吗？"
   ]
  },
  {
   "cell_type": "code",
   "execution_count": 32,
   "metadata": {
    "ExecuteTime": {
     "end_time": "2018-03-07T10:16:40.074260Z",
     "start_time": "2018-03-07T10:16:40.070257Z"
    }
   },
   "outputs": [],
   "source": [
    "setattr(obj, 'y', 19) # 设置一个属性'y'"
   ]
  },
  {
   "cell_type": "code",
   "execution_count": 33,
   "metadata": {
    "ExecuteTime": {
     "end_time": "2018-03-07T10:16:58.409718Z",
     "start_time": "2018-03-07T10:16:58.403013Z"
    }
   },
   "outputs": [
    {
     "data": {
      "text/plain": [
       "True"
      ]
     },
     "execution_count": 33,
     "metadata": {},
     "output_type": "execute_result"
    }
   ],
   "source": [
    "hasattr(obj, 'y') # 有属性'y'吗？"
   ]
  },
  {
   "cell_type": "code",
   "execution_count": 34,
   "metadata": {
    "ExecuteTime": {
     "end_time": "2018-03-07T10:17:09.171920Z",
     "start_time": "2018-03-07T10:17:09.164915Z"
    }
   },
   "outputs": [
    {
     "data": {
      "text/plain": [
       "19"
      ]
     },
     "execution_count": 34,
     "metadata": {},
     "output_type": "execute_result"
    }
   ],
   "source": [
    "getattr(obj, 'y') # 获取属性'y'"
   ]
  },
  {
   "cell_type": "code",
   "execution_count": 35,
   "metadata": {
    "ExecuteTime": {
     "end_time": "2018-03-07T10:17:17.807743Z",
     "start_time": "2018-03-07T10:17:17.802739Z"
    }
   },
   "outputs": [
    {
     "data": {
      "text/plain": [
       "19"
      ]
     },
     "execution_count": 35,
     "metadata": {},
     "output_type": "execute_result"
    }
   ],
   "source": [
    "obj.y # 获取属性'y'"
   ]
  },
  {
   "cell_type": "code",
   "execution_count": 36,
   "metadata": {
    "ExecuteTime": {
     "end_time": "2018-03-07T10:17:30.333428Z",
     "start_time": "2018-03-07T10:17:30.328423Z"
    }
   },
   "outputs": [
    {
     "data": {
      "text/plain": [
       "404"
      ]
     },
     "execution_count": 36,
     "metadata": {},
     "output_type": "execute_result"
    }
   ],
   "source": [
    "# 可以传入一个default参数，\n",
    "# 如果属性不存在，就返回默认值：\n",
    "\n",
    "getattr(obj, 'z', 404) \n",
    "# 获取属性'z'，如果不存在，返回默认值404"
   ]
  },
  {
   "cell_type": "code",
   "execution_count": 37,
   "metadata": {
    "ExecuteTime": {
     "end_time": "2018-03-07T10:18:33.173300Z",
     "start_time": "2018-03-07T10:18:33.167294Z"
    }
   },
   "outputs": [
    {
     "data": {
      "text/plain": [
       "True"
      ]
     },
     "execution_count": 37,
     "metadata": {},
     "output_type": "execute_result"
    }
   ],
   "source": [
    "hasattr(obj, 'power') # 有属性'power'吗？"
   ]
  },
  {
   "cell_type": "code",
   "execution_count": 38,
   "metadata": {
    "ExecuteTime": {
     "end_time": "2018-03-07T10:18:41.728802Z",
     "start_time": "2018-03-07T10:18:41.723366Z"
    }
   },
   "outputs": [
    {
     "data": {
      "text/plain": [
       "<bound method MyObject.power of <__main__.MyObject object at 0x0000027CA0BAB048>>"
      ]
     },
     "execution_count": 38,
     "metadata": {},
     "output_type": "execute_result"
    }
   ],
   "source": [
    "getattr(obj, 'power') # 获取属性'power'"
   ]
  },
  {
   "cell_type": "code",
   "execution_count": 39,
   "metadata": {
    "ExecuteTime": {
     "end_time": "2018-03-07T10:18:54.665979Z",
     "start_time": "2018-03-07T10:18:54.659977Z"
    }
   },
   "outputs": [
    {
     "data": {
      "text/plain": [
       "<bound method MyObject.power of <__main__.MyObject object at 0x0000027CA0BAB048>>"
      ]
     },
     "execution_count": 39,
     "metadata": {},
     "output_type": "execute_result"
    }
   ],
   "source": [
    "fn = getattr(obj, 'power') # 获取属性'power'并赋值到变量fn\n",
    "fn # fn指向obj.power"
   ]
  },
  {
   "cell_type": "code",
   "execution_count": 40,
   "metadata": {
    "ExecuteTime": {
     "end_time": "2018-03-07T10:19:08.176171Z",
     "start_time": "2018-03-07T10:19:08.170166Z"
    }
   },
   "outputs": [
    {
     "data": {
      "text/plain": [
       "81"
      ]
     },
     "execution_count": 40,
     "metadata": {},
     "output_type": "execute_result"
    }
   ],
   "source": [
    "fn() # 调用fn()与调用obj.power()是一样的"
   ]
  },
  {
   "cell_type": "markdown",
   "metadata": {
    "ExecuteTime": {
     "end_time": "2018-03-07T10:19:40.101032Z",
     "start_time": "2018-03-07T10:19:40.095021Z"
    }
   },
   "source": [
    "# 实例属性和类属性\n",
    "由于Python是动态语言，根据类创建的实例可以任意绑定属性。\n",
    "\n",
    "给实例绑定属性的方法是通过实例变量，或者通过self变量"
   ]
  },
  {
   "cell_type": "code",
   "execution_count": 42,
   "metadata": {
    "ExecuteTime": {
     "end_time": "2018-03-07T10:20:06.729378Z",
     "start_time": "2018-03-07T10:20:06.721374Z"
    }
   },
   "outputs": [],
   "source": [
    "class Student(object):\n",
    "    def __init__(self, name):\n",
    "        self.name = name\n",
    "\n",
    "s = Student('Bob')\n",
    "s.score = 90"
   ]
  },
  {
   "cell_type": "markdown",
   "metadata": {},
   "source": [
    "但是，如果Student类本身需要绑定一个属性呢？可以直接在class中定义属性，这种属性是类属性，归Student类所有"
   ]
  },
  {
   "cell_type": "code",
   "execution_count": 43,
   "metadata": {
    "ExecuteTime": {
     "end_time": "2018-03-07T10:20:28.327007Z",
     "start_time": "2018-03-07T10:20:28.322006Z"
    }
   },
   "outputs": [],
   "source": [
    "class Student(object):\n",
    "    name = 'Student'"
   ]
  },
  {
   "cell_type": "markdown",
   "metadata": {},
   "source": [
    "我们来用一个例子说明一下实例与类的属性差异"
   ]
  },
  {
   "cell_type": "code",
   "execution_count": 45,
   "metadata": {
    "ExecuteTime": {
     "end_time": "2018-03-07T10:21:31.819290Z",
     "start_time": "2018-03-07T10:21:31.811283Z"
    }
   },
   "outputs": [
    {
     "name": "stdout",
     "output_type": "stream",
     "text": [
      "Student\n"
     ]
    }
   ],
   "source": [
    "class Student(object):\n",
    "    name = 'Student'\n",
    "\n",
    "s = Student() # 创建实例s\n",
    "print(s.name) # 打印name属性，\n",
    "#因为实例并没有name属性，所以会继续查找class的name属性"
   ]
  },
  {
   "cell_type": "code",
   "execution_count": 46,
   "metadata": {
    "ExecuteTime": {
     "end_time": "2018-03-07T10:21:42.413689Z",
     "start_time": "2018-03-07T10:21:42.408185Z"
    }
   },
   "outputs": [
    {
     "name": "stdout",
     "output_type": "stream",
     "text": [
      "Student\n"
     ]
    }
   ],
   "source": [
    "print(Student.name) # 打印类的name属性"
   ]
  },
  {
   "cell_type": "code",
   "execution_count": 47,
   "metadata": {
    "ExecuteTime": {
     "end_time": "2018-03-07T10:21:53.096601Z",
     "start_time": "2018-03-07T10:21:53.091595Z"
    }
   },
   "outputs": [
    {
     "name": "stdout",
     "output_type": "stream",
     "text": [
      "Michael\n"
     ]
    }
   ],
   "source": [
    "s.name = 'Michael' # 给实例绑定name属性\n",
    "print(s.name) # 由于实例属性优先级比类属性高，\n",
    "# 因此，它会屏蔽掉类的name属性"
   ]
  },
  {
   "cell_type": "code",
   "execution_count": 48,
   "metadata": {
    "ExecuteTime": {
     "end_time": "2018-03-07T10:22:28.712925Z",
     "start_time": "2018-03-07T10:22:28.707923Z"
    }
   },
   "outputs": [
    {
     "name": "stdout",
     "output_type": "stream",
     "text": [
      "Student\n"
     ]
    }
   ],
   "source": [
    "# 但是类属性并未消失，用Student.name仍然可以访问\n",
    "print(Student.name) "
   ]
  },
  {
   "cell_type": "code",
   "execution_count": 49,
   "metadata": {
    "ExecuteTime": {
     "end_time": "2018-03-07T10:22:40.487916Z",
     "start_time": "2018-03-07T10:22:40.483912Z"
    }
   },
   "outputs": [],
   "source": [
    "del s.name # 如果删除实例的name属性"
   ]
  },
  {
   "cell_type": "code",
   "execution_count": 50,
   "metadata": {
    "ExecuteTime": {
     "end_time": "2018-03-07T10:22:59.683110Z",
     "start_time": "2018-03-07T10:22:59.677101Z"
    }
   },
   "outputs": [
    {
     "name": "stdout",
     "output_type": "stream",
     "text": [
      "Student\n"
     ]
    }
   ],
   "source": [
    "print(s.name) # 再次调用s.name，\n",
    "# 由于实例的name属性没有找到，\n",
    "# 类的name属性就显示出来了"
   ]
  },
  {
   "cell_type": "markdown",
   "metadata": {},
   "source": [
    "从上面的例子可以看出，在编写程序的时候，千万不要把**实例属性和类属性使用相同的名字**，因为相同名称的实例属性将屏蔽掉类属性，但是当你删除实例属性后，再使用相同的名称，访问到的将是类属性。"
   ]
  },
  {
   "cell_type": "markdown",
   "metadata": {},
   "source": [
    "# 模块和包\n",
    "\n",
    "Python的程序由包（package）、模块（module）和函数组成。 \n",
    "\n",
    "包是由一系列模块组成的集合。    \n",
    "\n",
    "模块是处理某一类问题的函数和类的集合。"
   ]
  },
  {
   "cell_type": "markdown",
   "metadata": {},
   "source": [
    "## 模块\n",
    "在python中一个文件可以被看成一个独立模块，而包对应着文件夹，模块把python代码分成一些有组织的代码段，通过导入的方式实现代码重用。\n",
    "\n",
    "导入模块时，是按照sys.path变量的值搜索模块，sys.path的值是包含每一个独立路径的列表，包含当前目录、python安装目录、PYTHONPATH环境变量，搜索顺序按照路径在列表中的顺序（一般当前目录优先级最高）。"
   ]
  },
  {
   "cell_type": "code",
   "execution_count": 2,
   "metadata": {
    "ExecuteTime": {
     "end_time": "2018-03-08T09:31:19.489347Z",
     "start_time": "2018-03-08T09:31:19.472336Z"
    }
   },
   "outputs": [
    {
     "data": {
      "text/plain": [
       "['',\n",
       " 'C:\\\\ProgramData\\\\Anaconda3\\\\python36.zip',\n",
       " 'C:\\\\ProgramData\\\\Anaconda3\\\\DLLs',\n",
       " 'C:\\\\ProgramData\\\\Anaconda3\\\\lib',\n",
       " 'C:\\\\ProgramData\\\\Anaconda3',\n",
       " 'C:\\\\ProgramData\\\\Anaconda3\\\\lib\\\\site-packages',\n",
       " 'C:\\\\ProgramData\\\\Anaconda3\\\\lib\\\\site-packages\\\\Babel-2.5.0-py3.6.egg',\n",
       " 'C:\\\\ProgramData\\\\Anaconda3\\\\lib\\\\site-packages\\\\xgboost-0.7-py3.6.egg',\n",
       " 'C:\\\\ProgramData\\\\Anaconda3\\\\lib\\\\site-packages\\\\win32',\n",
       " 'C:\\\\ProgramData\\\\Anaconda3\\\\lib\\\\site-packages\\\\win32\\\\lib',\n",
       " 'C:\\\\ProgramData\\\\Anaconda3\\\\lib\\\\site-packages\\\\Pythonwin',\n",
       " 'C:\\\\ProgramData\\\\Anaconda3\\\\lib\\\\site-packages\\\\IPython\\\\extensions',\n",
       " 'C:\\\\Users\\\\zhouz\\\\.ipython']"
      ]
     },
     "execution_count": 2,
     "metadata": {},
     "output_type": "execute_result"
    }
   ],
   "source": [
    "#查看Python路径\n",
    "import sys\n",
    "sys.path"
   ]
  },
  {
   "cell_type": "markdown",
   "metadata": {},
   "source": [
    "### 导入自定义模块\n",
    "如果你发现你在某个地方写的文件（包）import错误，你就可以看看这个sys.path是否囊括了你那批文件的根目录。\n",
    "\n",
    "如果sys.path中没有自定义模块所在的目录, 可以通过`sys.path.append(path)` 函数来导入自定义模块所在的目录\n",
    "\n",
    "然后再导入自定义的模块。"
   ]
  },
  {
   "cell_type": "markdown",
   "metadata": {},
   "source": [
    "### 导入模块\n",
    "使用import语句（不管是你自己写的，还是你下载的别人的）\n",
    "\n",
    "    import module1\n",
    "    import module2\n",
    "    import module3\n",
    "\n",
    "    import module1,module2,module3\n",
    "这两种方式的效果是一样的，但是第一种可读性比第二种好，推荐按照下面的顺序导入模块，并且一般在文件首部导入所有的模块\n",
    "\n",
    "    python标准库\n",
    "    第三方模块\n",
    "    应用程序自定义模块"
   ]
  },
  {
   "cell_type": "markdown",
   "metadata": {},
   "source": [
    "### 使用from-import语句导入模块的属性\n",
    "单行导入\n",
    "\n",
    "    from module import name1\n",
    "    from module import name2\n",
    "    from module import name3\n",
    "多行导入\n",
    "\n",
    "    from module import name1,name2,name3\n",
    "导入全部属性（由于容易覆盖当前名称空间中现有的名字，所以一般不推荐使用，适合模块中变量名很长并且变量很多的情况）\n",
    "\n",
    "    from module import *\n",
    "**自定义导入模块名称**\n",
    "就是为了用的时候方便好记。\n",
    "\n",
    "    import simplejson as json"
   ]
  },
  {
   "cell_type": "markdown",
   "metadata": {},
   "source": [
    "## 包    \n",
    "包就是一个完成特定任务的工具箱，Python提供了许多有用的工具包，如字符串处理、图形用户接口、Web应用、图形图像处理等。这些自带的工具包和模块安装在Python的安装目录下的Lib子目录中。\n",
    "\n",
    "    注意：\n",
    "    包必须至少含有一个__init__.py文件按，该文件的内容可以为空。__init__.py用于标识当前文件夹是一个包。"
   ]
  },
  {
   "cell_type": "markdown",
   "metadata": {},
   "source": [
    "包将有联系的模块组织在一起，有效避免模块名称冲突问题，让应用组织结构更加清晰。 一个普通的python应用程序目录结构：\n",
    "\n",
    "    app/\n",
    "    __init__.py\n",
    "    app/a/\n",
    "    __init__.py\n",
    "    a.py\n",
    "    app/b/\n",
    "    __init__.py\n",
    "    b.py\n",
    "app是最顶层的包，a和b是它的子包，可以这样导入：\n",
    "\n",
    "    from app.a import a\n",
    "    from app.b.b import test\n",
    "\n",
    "    a.test()\n",
    "    test()\n",
    "上面代码表示：导入app包的子包a和子包b的属性test，然后分别调用test方法。  "
   ]
  },
  {
   "cell_type": "markdown",
   "metadata": {},
   "source": [
    "    每个目录下都有__init__.py文件，这个是初始化模块，from-import语句导入子包时需要它，可以在里面做一些初始化工作，也可以是空文件。ps：__init__.py定义的属性直接使用 顶层包.子包 的方式导入，如在目录a的__init__.py文件中定义init_db()方法，调用如下：\n",
    "    \n",
    "    from app import a\n",
    "    a.init_db()"
   ]
  },
  {
   "cell_type": "markdown",
   "metadata": {},
   "source": [
    "# 实战\n",
    "我们现在已经完全掌握了使用包，自己定义类，组件一个可运行的程序的方法\n",
    "\n",
    "现在我们可以专注于Machine Learning方面，来看看实战是怎么运用这些知识的。"
   ]
  },
  {
   "cell_type": "code",
   "execution_count": null,
   "metadata": {},
   "outputs": [],
   "source": [
    "from sklearn import svm, datasets\n",
    "\n",
    "class Dataset:\n",
    "    # 我们创造一个dataset的类，这个类会帮我们下载相关的数据集，\n",
    "    # 并给我们分类好x,y\n",
    "    def __init__(self, name):\n",
    "        # 告诉类，我们需要哪一个数据集\n",
    "        # 我们有两个选择，一个是'iris'一个是'digits'\n",
    "        self.name = name\n",
    "        \n",
    "    def download_data(self):\n",
    "        # 从sklearn的自带集中下载我们指定的数据集\n",
    "        if self.name == 'iris':\n",
    "            # 这里是sklearn自带的数据集下载方法，更多信息可以参照官网\n",
    "            self.downloaded_data = datasets.load_iris()\n",
    "        elif self.name == 'digits':\n",
    "            self.downloaded_data = datasets.load_digits()\n",
    "        else:\n",
    "            # 如果不是我们预想的两种数据集，则报错\n",
    "            print('Dataset Error: No named datasets')\n",
    "    \n",
    "    def generate_xy(self):\n",
    "        # 通过这个过程来把我们的数据集分为原始数据以及他们的label\n",
    "        # 我们先把数据下载下来\n",
    "        self.download_data()\n",
    "        x = self.downloaded_data.data\n",
    "        y = self.downloaded_data.target\n",
    "        print('\\nOriginal data looks like this: \\n', x)\n",
    "        print('\\nLabels looks like this: \\n', y)\n",
    "        return x,y\n",
    "    \n",
    "    def get_train_test_set(self, ratio):\n",
    "        # 这里，我们把所有的数据分成训练集和测试集\n",
    "        # 一个参数要求我们告知，我们以多少的比例来分割训练和测试集\n",
    "        # 首先，我们把XY给generate出来：\n",
    "        x, y = self.generate_xy()\n",
    "        \n",
    "        # 有个比例，我们首先得知道 一共有多少的数据\n",
    "        n_samples = len(x)\n",
    "        # 于是我们知道，有多少应该是训练集，多少应该是测试集\n",
    "        n_train = n_samples * ratio\n",
    "        # 好了，接下来我们分割数据\n",
    "        X_train = x[:n_train]\n",
    "        y_train = y[:n_train]\n",
    "        X_test = x[n_train:]\n",
    "        y_test = y[n_train:]\n",
    "        # 好，我们得到了所有想要的玩意儿\n",
    "        return X_train, y_train, X_test, y_test\n",
    "# ====== 我们的dataset类创造完毕======="
   ]
  },
  {
   "cell_type": "markdown",
   "metadata": {},
   "source": [
    "接下来，我们在main中code以下来调用我们自己写的类"
   ]
  },
  {
   "cell_type": "code",
   "execution_count": null,
   "metadata": {},
   "outputs": [],
   "source": [
    "# 比如，我们使用digits数据集\n",
    "data = Dataset('digits')\n",
    "# 接着，我们可以用0.7的分割率把xy给分割出来\n",
    "X_train, y_train, X_test, y_test = data.get_train_test_set(0.7)"
   ]
  },
  {
   "cell_type": "markdown",
   "metadata": {},
   "source": [
    "同样，我们也不一定需要自己创造类，我们可以引用第三方库里的类， 比如这里，我们用SVM作为我们的分类器，去训练我们的算法 我们就直接建造一个object，使他成为SVM类"
   ]
  },
  {
   "cell_type": "code",
   "execution_count": null,
   "metadata": {},
   "outputs": [],
   "source": [
    "clf = svm.SVC()"
   ]
  },
  {
   "cell_type": "markdown",
   "metadata": {
    "ExecuteTime": {
     "end_time": "2018-03-07T11:33:37.574343Z",
     "start_time": "2018-03-07T11:33:37.567339Z"
    }
   },
   "source": [
    "这里 clf 是 classifier的简称，SVC指的是SVM的classification版本。\n",
    "\n",
    "因为我们的数据集都是分类问题，所以我们使用SVC()\n",
    "\n",
    "接下来，我们fit我们的数据（也就是训练我们的数据）\n",
    "\n",
    "显然，做fit的时候，我们只可以使用训练集"
   ]
  },
  {
   "cell_type": "code",
   "execution_count": null,
   "metadata": {},
   "outputs": [],
   "source": [
    "clf.fit(X_train, y_train)"
   ]
  },
  {
   "cell_type": "code",
   "execution_count": null,
   "metadata": {},
   "outputs": [],
   "source": [
    "test_point = X_test[12]\n",
    "y_true = y_test[12]"
   ]
  },
  {
   "cell_type": "code",
   "execution_count": null,
   "metadata": {},
   "outputs": [],
   "source": [
    "clf.predict(test_point)"
   ]
  },
  {
   "cell_type": "code",
   "execution_count": null,
   "metadata": {},
   "outputs": [],
   "source": [
    "y_true"
   ]
  }
 ],
 "metadata": {
  "kernelspec": {
   "display_name": "Python 3",
   "language": "python",
   "name": "python3"
  },
  "language_info": {
   "codemirror_mode": {
    "name": "ipython",
    "version": 3
   },
   "file_extension": ".py",
   "mimetype": "text/x-python",
   "name": "python",
   "nbconvert_exporter": "python",
   "pygments_lexer": "ipython3",
   "version": "3.6.3"
  },
  "toc": {
   "nav_menu": {},
   "number_sections": true,
   "sideBar": true,
   "skip_h1_title": false,
   "title_cell": "Table of Contents",
   "title_sidebar": "Contents",
   "toc_cell": true,
   "toc_position": {},
   "toc_section_display": true,
   "toc_window_display": false
  }
 },
 "nbformat": 4,
 "nbformat_minor": 2
}
