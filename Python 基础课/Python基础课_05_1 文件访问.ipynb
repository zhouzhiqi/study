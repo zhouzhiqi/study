{
 "cells": [
  {
   "cell_type": "markdown",
   "metadata": {
    "toc": true
   },
   "source": [
    "<h1>Table of Contents<span class=\"tocSkip\"></span></h1>\n",
    "<div class=\"toc\"><ul class=\"toc-item\"><li><span><a href=\"#Python基础课_05-文件访问与函数式编程入门\" data-toc-modified-id=\"Python基础课_05-文件访问与函数式编程入门-1\"><span class=\"toc-item-num\">1&nbsp;&nbsp;</span>Python基础课_05 文件访问与函数式编程入门</a></span></li><li><span><a href=\"#文本文件读写3种方法：\" data-toc-modified-id=\"文本文件读写3种方法：-2\"><span class=\"toc-item-num\">2&nbsp;&nbsp;</span>文本文件读写3种方法：</a></span><ul class=\"toc-item\"><li><span><a href=\"#第一种方法\" data-toc-modified-id=\"第一种方法-2.1\"><span class=\"toc-item-num\">2.1&nbsp;&nbsp;</span>第一种方法</a></span></li><li><span><a href=\"#第二种方法\" data-toc-modified-id=\"第二种方法-2.2\"><span class=\"toc-item-num\">2.2&nbsp;&nbsp;</span>第二种方法</a></span></li><li><span><a href=\"#第三种方法\" data-toc-modified-id=\"第三种方法-2.3\"><span class=\"toc-item-num\">2.3&nbsp;&nbsp;</span>第三种方法</a></span></li></ul></li><li><span><a href=\"#二进制文件读写\" data-toc-modified-id=\"二进制文件读写-3\"><span class=\"toc-item-num\">3&nbsp;&nbsp;</span>二进制文件读写</a></span></li><li><span><a href=\"#文件和目录操作\" data-toc-modified-id=\"文件和目录操作-4\"><span class=\"toc-item-num\">4&nbsp;&nbsp;</span>文件和目录操作</a></span><ul class=\"toc-item\"><li><span><a href=\"#基本操作\" data-toc-modified-id=\"基本操作-4.1\"><span class=\"toc-item-num\">4.1&nbsp;&nbsp;</span>基本操作</a></span></li><li><span><a href=\"#操作文件与目录\" data-toc-modified-id=\"操作文件与目录-4.2\"><span class=\"toc-item-num\">4.2&nbsp;&nbsp;</span>操作文件与目录</a></span></li></ul></li><li><span><a href=\"#序列化和反序列化\" data-toc-modified-id=\"序列化和反序列化-5\"><span class=\"toc-item-num\">5&nbsp;&nbsp;</span>序列化和反序列化</a></span><ul class=\"toc-item\"><li><span><a href=\"#序列化\" data-toc-modified-id=\"序列化-5.1\"><span class=\"toc-item-num\">5.1&nbsp;&nbsp;</span>序列化</a></span></li><li><span><a href=\"#反序列化\" data-toc-modified-id=\"反序列化-5.2\"><span class=\"toc-item-num\">5.2&nbsp;&nbsp;</span>反序列化</a></span></li><li><span><a href=\"#用JSON实现序列和反序列化\" data-toc-modified-id=\"用JSON实现序列和反序列化-5.3\"><span class=\"toc-item-num\">5.3&nbsp;&nbsp;</span>用JSON实现序列和反序列化</a></span></li></ul></li></ul></div>"
   ]
  },
  {
   "cell_type": "markdown",
   "metadata": {},
   "source": [
    "# Python基础课_05 文件访问与函数式编程入门"
   ]
  },
  {
   "cell_type": "markdown",
   "metadata": {},
   "source": [
    "原作者: 加号@七月在线"
   ]
  },
  {
   "cell_type": "markdown",
   "metadata": {
    "ExecuteTime": {
     "end_time": "2018-03-06T13:31:08.515459Z",
     "start_time": "2018-03-06T13:31:08.509457Z"
    }
   },
   "source": [
    "# 文本文件读写3种方法："
   ]
  },
  {
   "cell_type": "markdown",
   "metadata": {},
   "source": [
    "## 第一种方法\n",
    "直接读入"
   ]
  },
  {
   "cell_type": "code",
   "execution_count": 3,
   "metadata": {
    "ExecuteTime": {
     "end_time": "2018-03-06T13:39:14.419684Z",
     "start_time": "2018-03-06T13:39:14.401674Z"
    }
   },
   "outputs": [],
   "source": [
    "# 打开文件\n",
    "file1 = open(\"test.txt\") \n",
    "file2 = open(\"output.txt\",\"w\") \n",
    "\n",
    "while True: \n",
    "    line = file1.readline() \n",
    "    #这里可以进行逻辑处理 \n",
    "    file2.write('\"'+line+'\"'+\",\") #由于存在\\n, 该表达式\n",
    "    if not line: \n",
    "        break \n",
    "#记住文件处理完，关闭是个好习惯 \n",
    "file1.close() \n",
    "file2.close() "
   ]
  },
  {
   "cell_type": "markdown",
   "metadata": {},
   "source": [
    "读文件有3种方法：\n",
    "\n",
    "* read()将文本文件所有行读到一个字符串中。\n",
    "* readline()是一行一行的读\n",
    "* readlines()是将文本文件中所有行读到一个list中，文本文件每一行是list的一个元素。 优点：readline()可以在读行过程中跳过特定行。"
   ]
  },
  {
   "cell_type": "markdown",
   "metadata": {},
   "source": [
    "## 第二种方法\n",
    "文件迭代器，用for循环的方法"
   ]
  },
  {
   "cell_type": "code",
   "execution_count": 7,
   "metadata": {
    "ExecuteTime": {
     "end_time": "2018-03-06T13:50:26.960374Z",
     "start_time": "2018-03-06T13:50:26.950366Z"
    }
   },
   "outputs": [],
   "source": [
    "file2 = open(\"output.txt\",\"w\")  \n",
    "#若没有该文件,就新创建一个. 若有,就清空原文件内容,重新写入\n",
    "for line in open(\"test.txt\"): \n",
    "      #这里可以进行逻辑处理 \n",
    "    file2.write(line) \n",
    "    \n",
    "file2.close()"
   ]
  },
  {
   "cell_type": "markdown",
   "metadata": {},
   "source": [
    "## 第三种方法\n",
    "文件上下文管理器"
   ]
  },
  {
   "cell_type": "code",
   "execution_count": null,
   "metadata": {},
   "outputs": [],
   "source": [
    "#打开文件用with..open\n",
    "#自带关闭文本的功能,更加安全\n",
    "with open('somefile.txt', 'r') as f: \n",
    "    data = f.read() \n",
    "\n",
    "#相当于\n",
    "#f = open('somefile.txt', 'r')   \n",
    "#data = f.read()\n",
    "#f.close()\n",
    "    \n",
    "    \n",
    "# loop整个文档\n",
    "with open('somefile.txt', 'r') as f: \n",
    "    for line in f: \n",
    "        # 处理每一行\n",
    "\n",
    "# 写入文本 \n",
    "with open('somefile.txt', 'w') as f: \n",
    "    f.write(text1) \n",
    "    f.write(text2) \n",
    "\n",
    "# 把要打印的line写入文件中 \n",
    "with open('somefile.txt', 'w') as f: \n",
    "    print(line1, file=f) \n",
    "    print(line2, file=f)"
   ]
  },
  {
   "cell_type": "markdown",
   "metadata": {},
   "source": [
    "# 二进制文件读写\n",
    "Python默认读取的都是文本文件。要是想要读取二进制文件，需要把刚刚的'r'改成'rb'."
   ]
  },
  {
   "cell_type": "code",
   "execution_count": null,
   "metadata": {},
   "outputs": [],
   "source": [
    "f = open('CJK.jpg', 'rb')\n",
    "print(f.read())\n",
    "# 输出 '\\xff\\xd8\\xff\\xe1\\x00\\x18Exif\\x00\\x00...'\n",
    "# 十六进制表示的字节"
   ]
  },
  {
   "cell_type": "markdown",
   "metadata": {},
   "source": [
    "简单说就是, 任何非标准的文本文件(对于Py2来说, 标准是ASCII, 对于Py3来说, 标准是unicode), 你就需要用二进制读入这个文件, 然后再用.decode('...')的方法来解码这个二进制文件"
   ]
  },
  {
   "cell_type": "code",
   "execution_count": null,
   "metadata": {},
   "outputs": [],
   "source": [
    "f = open('DegangGuo.txt', 'rb')\n",
    "# 读入郭德纲老师的作文, 但是郭老师用的是带有错别字的繁体.\n",
    "# 假设这种编码方式为\"DeyunCode\", \n",
    "# 那么读入文件时就用\"DeyunCode\", 这个特别的编码方式解码它\n",
    "u = f.read().decode('DeyunCode')"
   ]
  },
  {
   "cell_type": "markdown",
   "metadata": {},
   "source": [
    "# 文件和目录操作\n",
    "在图形界面的操作系统下, 这个很简单, 就是右键/拖拽"
   ]
  },
  {
   "cell_type": "markdown",
   "metadata": {},
   "source": [
    "## 基本操作\n",
    "用Python内置的os模块直接调用操作系统提供的接口函数"
   ]
  },
  {
   "cell_type": "code",
   "execution_count": 2,
   "metadata": {
    "ExecuteTime": {
     "end_time": "2018-03-07T03:42:52.257833Z",
     "start_time": "2018-03-07T03:42:52.241822Z"
    }
   },
   "outputs": [
    {
     "data": {
      "text/plain": [
       "'nt'"
      ]
     },
     "execution_count": 2,
     "metadata": {},
     "output_type": "execute_result"
    }
   ],
   "source": [
    "import os\n",
    "os.name"
   ]
  },
  {
   "cell_type": "markdown",
   "metadata": {},
   "source": [
    "这里是通过os告诉我们, 我的操作系统的名字.    \n",
    "'posix'代表#nix, 而'nt'代表Windows"
   ]
  },
  {
   "cell_type": "code",
   "execution_count": 5,
   "metadata": {
    "ExecuteTime": {
     "end_time": "2018-03-07T01:47:36.293967Z",
     "start_time": "2018-03-07T01:47:36.287965Z"
    }
   },
   "outputs": [
    {
     "data": {
      "text/plain": [
       "environ({'ALLUSERSPROFILE': 'C:\\\\ProgramData', 'APPDATA': 'C:\\\\Users\\\\zhouz\\\\AppData\\\\Roaming', 'COMMONPROGRAMFILES': 'C:\\\\Program Files\\\\Common Files', 'COMMONPROGRAMFILES(X86)': 'C:\\\\Program Files (x86)\\\\Common Files', 'COMMONPROGRAMW6432': 'C:\\\\Program Files\\\\Common Files', 'COMPUTERNAME': 'DESKTOP-MADVICH', 'COMSPEC': 'C:\\\\Windows\\\\system32\\\\cmd.exe', 'FPS_BROWSER_APP_PROFILE_STRING': 'Internet Explorer', 'FPS_BROWSER_USER_PROFILE_STRING': 'Default', 'HOMEDRIVE': 'C:', 'HOMEPATH': '\\\\Users\\\\zhouz', 'LOCALAPPDATA': 'C:\\\\Users\\\\zhouz\\\\AppData\\\\Local', 'LOGONSERVER': '\\\\\\\\DESKTOP-MADVICH', 'NUMBER_OF_PROCESSORS': '8', 'ONEDRIVE': 'C:\\\\Users\\\\zhouz\\\\OneDrive', 'OS': 'Windows_NT', 'PATH': 'C:\\\\ProgramData\\\\Anaconda3\\\\Library\\\\bin;C:\\\\Windows\\\\system32;C:\\\\Windows;C:\\\\Windows\\\\System32\\\\Wbem;C:\\\\Windows\\\\System32\\\\WindowsPowerShell\\\\v1.0\\\\;C:\\\\ProgramData\\\\Anaconda3;C:\\\\ProgramData\\\\Anaconda3\\\\Scripts;C:\\\\Program Files\\\\Git\\\\cmd;C:\\\\Users\\\\zhouz\\\\AppData\\\\Local\\\\Microsoft\\\\WindowsApps;', 'PATHEXT': '.COM;.EXE;.BAT;.CMD;.VBS;.VBE;.JS;.JSE;.WSF;.WSH;.MSC', 'PROCESSOR_ARCHITECTURE': 'AMD64', 'PROCESSOR_IDENTIFIER': 'Intel64 Family 6 Model 58 Stepping 9, GenuineIntel', 'PROCESSOR_LEVEL': '6', 'PROCESSOR_REVISION': '3a09', 'PROGRAMDATA': 'C:\\\\ProgramData', 'PROGRAMFILES': 'C:\\\\Program Files', 'PROGRAMFILES(X86)': 'C:\\\\Program Files (x86)', 'PROGRAMW6432': 'C:\\\\Program Files', 'PROMPT': '$P$G', 'PSMODULEPATH': 'C:\\\\Program Files\\\\WindowsPowerShell\\\\Modules;C:\\\\Windows\\\\system32\\\\WindowsPowerShell\\\\v1.0\\\\Modules', 'PUBLIC': 'C:\\\\Users\\\\Public', 'SESSIONNAME': 'Console', 'SYSTEMDRIVE': 'C:', 'SYSTEMROOT': 'C:\\\\Windows', 'TEMP': 'C:\\\\Users\\\\zhouz\\\\AppData\\\\Local\\\\Temp', 'TMP': 'C:\\\\Users\\\\zhouz\\\\AppData\\\\Local\\\\Temp', 'USERDOMAIN': 'DESKTOP-MADVICH', 'USERDOMAIN_ROAMINGPROFILE': 'DESKTOP-MADVICH', 'USERNAME': 'zhouz', 'USERPROFILE': 'C:\\\\Users\\\\zhouz', 'WINDIR': 'C:\\\\Windows', 'JPY_INTERRUPT_EVENT': '392', 'IPY_INTERRUPT_EVENT': '392', 'JPY_PARENT_PID': '1672', 'TERM': 'xterm-color', 'CLICOLOR': '1', 'PAGER': 'cat', 'GIT_PAGER': 'cat', 'MPLBACKEND': 'module://ipykernel.pylab.backend_inline'})"
      ]
     },
     "execution_count": 5,
     "metadata": {},
     "output_type": "execute_result"
    }
   ],
   "source": [
    "os.environ"
   ]
  },
  {
   "cell_type": "markdown",
   "metadata": {
    "ExecuteTime": {
     "end_time": "2018-03-07T01:46:37.360978Z",
     "start_time": "2018-03-07T01:46:37.351973Z"
    }
   },
   "source": [
    "windows：\n",
    "\n",
    "    os.environ['HOMEPATH']:当前用户主目录。\n",
    "    os.environ['TEMP']:临时目录路径。\n",
    "    os.environ[PATHEXT']:可执行文件。\n",
    "    os.environ['SYSTEMROOT']:系统主目录。\n",
    "    os.environ['LOGONSERVER']:机器名。\n",
    "    os.environ['PROMPT']:设置提示符。\n",
    "\n",
    "linux：  \n",
    "\n",
    "    os.environ['USER']:当前使用用户。\n",
    "    os.environ['LC_COLLATE']:路径扩展的结果排序时的字母顺序。\n",
    "    os.environ['SHELL']:使用shell的类型。\n",
    "    os.environ['LAN']:使用的语言。\n",
    "    os.environ['SSH_AUTH_SOCK']:ssh的执行路径。"
   ]
  },
  {
   "cell_type": "markdown",
   "metadata": {},
   "source": [
    "## 操作文件与目录\n",
    "查看, 创建和删除目录"
   ]
  },
  {
   "cell_type": "code",
   "execution_count": null,
   "metadata": {},
   "outputs": [],
   "source": [
    "# 当前目录的绝对路径\n",
    "os.path.abspath('.')\n",
    "# 比如这里返回：'/Users/EDC'\n",
    "\n",
    "# 在某个目录下创建一个新目录，\n",
    "# 首先把新目录的完整路径表示出来:\n",
    "os.path.join('/Users/EDC', 'Pictures')\n",
    "# 这里你得到的是一个字符串，代表了新的文件夹是这个位置：/Users/EDC/Pictures/\n",
    "# 自己也可以拼起来，但是怕不同操作系统下的区分符问题，最好是用OS接口\n",
    "# 但是你还并没有创建任何的文件\n",
    "\n",
    "# 需要用mkdir创建：\n",
    "os.mkdir('/Users/EDC/Pictures/')\n",
    "\n",
    "# 同理，删除一个文件夹\n",
    "os.rmdir('/Users/EDC/Pictures/')"
   ]
  },
  {
   "cell_type": "markdown",
   "metadata": {},
   "source": [
    "同样的道理，要拆分路径时，也不要直接去拆字符串，而要通过    os.path.split()函数，这样可以把一个路径拆分为两部分，后一部分总是最后级别的目录或文件名    \n",
    "这样有利于程序在不同环境下运行"
   ]
  },
  {
   "cell_type": "code",
   "execution_count": 3,
   "metadata": {
    "ExecuteTime": {
     "end_time": "2018-03-07T03:42:59.310947Z",
     "start_time": "2018-03-07T03:42:59.303943Z"
    }
   },
   "outputs": [
    {
     "data": {
      "text/plain": [
       "('/Users/EDC/Pictures', 'AJiao.avi')"
      ]
     },
     "execution_count": 3,
     "metadata": {},
     "output_type": "execute_result"
    }
   ],
   "source": [
    "os.path.split('/Users/EDC/Pictures/AJiao.avi')\n",
    "# ('/Users/EDC/Pictures/', 'AJiao.avi')"
   ]
  },
  {
   "cell_type": "code",
   "execution_count": 4,
   "metadata": {
    "ExecuteTime": {
     "end_time": "2018-03-07T03:43:04.332265Z",
     "start_time": "2018-03-07T03:43:04.326259Z"
    }
   },
   "outputs": [
    {
     "data": {
      "text/plain": [
       "('/Users/EDC/Pictures/AJiao', '.avi')"
      ]
     },
     "execution_count": 4,
     "metadata": {},
     "output_type": "execute_result"
    }
   ],
   "source": [
    "os.path.splitext('/Users/EDC/Pictures/AJiao.avi')\n",
    "# ('/Users/EDC/Pictures/AJiao', '.avi')"
   ]
  },
  {
   "cell_type": "code",
   "execution_count": 8,
   "metadata": {
    "ExecuteTime": {
     "end_time": "2018-03-07T03:45:17.900331Z",
     "start_time": "2018-03-07T03:45:17.896329Z"
    }
   },
   "outputs": [],
   "source": [
    "os.rename('output.txt', '学习资料.txt')"
   ]
  },
  {
   "cell_type": "code",
   "execution_count": null,
   "metadata": {},
   "outputs": [],
   "source": [
    "os.remove('学习资料.txt')"
   ]
  },
  {
   "cell_type": "markdown",
   "metadata": {},
   "source": [
    "尴尬的是。。复制文件并不存在于os里。。(⊙﹏⊙)b\n",
    "\n",
    "原因是复制这个操作，不是由操作系统提供的系统调用。\n",
    "\n",
    "我们可以用上面的代码，读入一个文件，再写入一个文件，来达到复制的目的。\n",
    "\n",
    "当然，Python作为一个Glue Language的调性，总有第三方库来帮我们stay lazy：\n",
    "\n",
    "Shutil就是其中一个。基本上可以看做是os的补充。它提供copyfile()方法，来复制你的文件\n",
    "\n",
    "这个库用起来比os爽很多。你们可以自己百度一下。看看文档。比较简单易用"
   ]
  },
  {
   "cell_type": "code",
   "execution_count": null,
   "metadata": {},
   "outputs": [],
   "source": [
    "import shutil  \n",
    "shutil.copyfile('/path/to/file', '/path/to/other/file')  "
   ]
  },
  {
   "cell_type": "markdown",
   "metadata": {},
   "source": [
    "**小例子**：\n",
    "\n",
    "通过我们之前提过的方法，我们来看看怎么完成如下任务："
   ]
  },
  {
   "cell_type": "code",
   "execution_count": null,
   "metadata": {},
   "outputs": [],
   "source": [
    "# 列出当前目录下的所有目录\n",
    "[x for x in os.listdir('.') if os.path.isdir(x)]\n",
    "# 你会得到一个list of 文件夹"
   ]
  },
  {
   "cell_type": "code",
   "execution_count": null,
   "metadata": {},
   "outputs": [],
   "source": [
    "# 只想列出.py文件\n",
    "[x for x in os.listdir('.') if os.path.isfile(x) and os.path.splitext(x)[1]=='.py']\n",
    "# 列出所有的py文件"
   ]
  },
  {
   "cell_type": "markdown",
   "metadata": {},
   "source": [
    "# 序列化和反序列化\n",
    "\n",
    "什么是序列化？\n",
    "\n",
    "程序运行的过程中，所有变量都是在内存中操作的，当程序一旦执行完毕，结束退出后，变量占有的内存就被操作系统回收了。 因此我们需要将某些数据持久化存储到磁盘中，下次运行的时候从磁盘中读取相关数据。\n",
    "\n",
    "我们将变量从内存中变成可以存储或传输的过程称之为序列化，在Python中叫做pickling，在其它语言中也称之为 serialization、marshaling、flattening等等，说的都是一个意思。 反之，则为反序列化，称之为unpickling，把变量内容从序列化的对象重新读取到内存中。"
   ]
  },
  {
   "cell_type": "markdown",
   "metadata": {
    "ExecuteTime": {
     "end_time": "2018-03-07T03:56:17.707346Z",
     "start_time": "2018-03-07T03:56:17.701843Z"
    }
   },
   "source": [
    "**简而言之**    \n",
    "  序列化: 内存->磁盘; 把内存中的数据, 保存到磁盘中    \n",
    "反序列化: 磁盘->内存; 把磁盘中的数据, 重新加载到内存中"
   ]
  },
  {
   "cell_type": "markdown",
   "metadata": {},
   "source": [
    "## 序列化"
   ]
  },
  {
   "cell_type": "code",
   "execution_count": null,
   "metadata": {},
   "outputs": [],
   "source": [
    "import pickle\n",
    "\n",
    "# 此处定义一个dict字典对象\n",
    "d = dict(name='思聪', age=29, score=80)\n",
    "str = pickle.dumps(d) # 调用pickle的dumps函数进行序列化处理\n",
    "print(str)\n",
    "# 你可以看看它长什么样子\n",
    "\n",
    "# 定义和创建一个file文件对象，设定模式为wb\n",
    "f = open('dump.txt', 'wb')\n",
    "# 将内容序列化写入到file文件中\n",
    "pickle.dump(d, f)\n",
    "\n",
    "f.close() # 最后关闭掉文件资源"
   ]
  },
  {
   "cell_type": "markdown",
   "metadata": {},
   "source": [
    "## 反序列化"
   ]
  },
  {
   "cell_type": "code",
   "execution_count": null,
   "metadata": {},
   "outputs": [],
   "source": [
    "import pickle\n",
    "\n",
    "# 从之前序列化的dump.txt文件里边读取内容\n",
    "f = open('dump.txt', 'rb') # 设定文件选项模式为rb\n",
    "d = pickle.load(f) # 调用load做反序列处理过程\n",
    "f.close() # 关闭文件资源\n",
    "print(d)\n",
    "print('name is %s' % d['name'])"
   ]
  },
  {
   "cell_type": "markdown",
   "metadata": {},
   "source": [
    "稍微注意一下，python2和python3里面的pickle不一样。    \n",
    "python2:    import cPickle as pickle    \n",
    "python3:    import pickle"
   ]
  },
  {
   "cell_type": "markdown",
   "metadata": {},
   "source": [
    "## 用JSON实现序列和反序列化\n",
    "同时，也许你们也会发现，这个pickle完的东西，是让人看不懂的。只有python自己可以把它unpickle回来。\n",
    "\n",
    "如果我们有一个文件现在存下来，并且日后要在其他地方用到的话，\n",
    "\n",
    "我们可以用JSON来做序列化。Python的数据结构跟Json有非常完美的兼容：\n",
    "\n",
    "JSON类型 |Python类型\n",
    " - | - \n",
    "{} |dict\n",
    "[] |list\n",
    "\"string\" |'str'或者u'unicode'\n",
    "1234.56\t|int或float\n",
    "true/false |True/False\n",
    "null |None\n",
    "\n",
    "如果你有一个比较结构化的数据想要序列化，并且想要别的地方别的语言也能看得懂。那么你可以用JSON来做"
   ]
  },
  {
   "cell_type": "code",
   "execution_count": 11,
   "metadata": {
    "ExecuteTime": {
     "end_time": "2018-03-07T04:39:46.461297Z",
     "start_time": "2018-03-07T04:39:46.452290Z"
    }
   },
   "outputs": [
    {
     "name": "stdout",
     "output_type": "stream",
     "text": [
      "{\"name\": \"\\u5c0f\\u738b\", \"age\": 20, \"score\": 80}\n"
     ]
    }
   ],
   "source": [
    "import json\n",
    " \n",
    "# 定义dict字典对象\n",
    "d1 = dict(name='小王', age=20, score=80)\n",
    "# 调用json的dumps函数进行json序列化处理\n",
    "str1 = json.dumps(d1) \n",
    "print(str1)\n",
    " \n",
    "# 调用json的loads函数进行反序列化处理\n",
    "d2 = json.loads(str)"
   ]
  },
  {
   "cell_type": "code",
   "execution_count": null,
   "metadata": {},
   "outputs": [],
   "source": []
  }
 ],
 "metadata": {
  "kernelspec": {
   "display_name": "Python 3",
   "language": "python",
   "name": "python3"
  },
  "language_info": {
   "codemirror_mode": {
    "name": "ipython",
    "version": 3
   },
   "file_extension": ".py",
   "mimetype": "text/x-python",
   "name": "python",
   "nbconvert_exporter": "python",
   "pygments_lexer": "ipython3",
   "version": "3.6.3"
  },
  "toc": {
   "nav_menu": {},
   "number_sections": true,
   "sideBar": true,
   "skip_h1_title": false,
   "title_cell": "Table of Contents",
   "title_sidebar": "Contents",
   "toc_cell": true,
   "toc_position": {},
   "toc_section_display": true,
   "toc_window_display": false
  }
 },
 "nbformat": 4,
 "nbformat_minor": 2
}
