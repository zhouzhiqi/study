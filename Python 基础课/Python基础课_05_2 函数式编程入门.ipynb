{
 "cells": [
  {
   "cell_type": "markdown",
   "metadata": {
    "toc": true
   },
   "source": [
    "<h1>Table of Contents<span class=\"tocSkip\"></span></h1>\n",
    "<div class=\"toc\"><ul class=\"toc-item\"><li><span><a href=\"#Python基础课_05-函数式编程入门\" data-toc-modified-id=\"Python基础课_05-函数式编程入门-1\"><span class=\"toc-item-num\">1&nbsp;&nbsp;</span>Python基础课_05 函数式编程入门</a></span></li><li><span><a href=\"#高阶函数\" data-toc-modified-id=\"高阶函数-2\"><span class=\"toc-item-num\">2&nbsp;&nbsp;</span>高阶函数</a></span></li><li><span><a href=\"#匿名函数\" data-toc-modified-id=\"匿名函数-3\"><span class=\"toc-item-num\">3&nbsp;&nbsp;</span>匿名函数</a></span><ul class=\"toc-item\"><li><span><a href=\"#lambda-简易函数\" data-toc-modified-id=\"lambda-简易函数-3.1\"><span class=\"toc-item-num\">3.1&nbsp;&nbsp;</span>lambda-简易函数</a></span></li><li><span><a href=\"#reduce-合而为一\" data-toc-modified-id=\"reduce-合而为一-3.2\"><span class=\"toc-item-num\">3.2&nbsp;&nbsp;</span>reduce-合而为一</a></span></li><li><span><a href=\"#map-逐个操作\" data-toc-modified-id=\"map-逐个操作-3.3\"><span class=\"toc-item-num\">3.3&nbsp;&nbsp;</span>map-逐个操作</a></span></li><li><span><a href=\"#filter-选择过滤\" data-toc-modified-id=\"filter-选择过滤-3.4\"><span class=\"toc-item-num\">3.4&nbsp;&nbsp;</span>filter-选择过滤</a></span></li></ul></li><li><span><a href=\"#装饰器\" data-toc-modified-id=\"装饰器-4\"><span class=\"toc-item-num\">4&nbsp;&nbsp;</span>装饰器</a></span><ul class=\"toc-item\"><li><span><a href=\"#装饰简介\" data-toc-modified-id=\"装饰简介-4.1\"><span class=\"toc-item-num\">4.1&nbsp;&nbsp;</span>装饰简介</a></span></li><li><span><a href=\"#装饰器的副作用\" data-toc-modified-id=\"装饰器的副作用-4.2\"><span class=\"toc-item-num\">4.2&nbsp;&nbsp;</span>装饰器的副作用</a></span></li></ul></li><li><span><a href=\"#偏函数\" data-toc-modified-id=\"偏函数-5\"><span class=\"toc-item-num\">5&nbsp;&nbsp;</span>偏函数</a></span><ul class=\"toc-item\"><li><span><a href=\"#简介\" data-toc-modified-id=\"简介-5.1\"><span class=\"toc-item-num\">5.1&nbsp;&nbsp;</span>简介</a></span></li><li><span><a href=\"#构建偏函数\" data-toc-modified-id=\"构建偏函数-5.2\"><span class=\"toc-item-num\">5.2&nbsp;&nbsp;</span>构建偏函数</a></span></li></ul></li></ul></div>"
   ]
  },
  {
   "cell_type": "markdown",
   "metadata": {},
   "source": [
    "# Python基础课_05 函数式编程入门"
   ]
  },
  {
   "cell_type": "markdown",
   "metadata": {},
   "source": [
    "# 高阶函数\n",
    "可以把别的函数作为参数传入的函数叫高阶函数。\n",
    "\n",
    "举个例子：求绝对值的函数 abs()"
   ]
  },
  {
   "cell_type": "code",
   "execution_count": 1,
   "metadata": {
    "ExecuteTime": {
     "end_time": "2018-03-07T04:44:30.416510Z",
     "start_time": "2018-03-07T04:44:30.401500Z"
    }
   },
   "outputs": [
    {
     "data": {
      "text/plain": [
       "66"
      ]
     },
     "execution_count": 1,
     "metadata": {},
     "output_type": "execute_result"
    }
   ],
   "source": [
    "abs(-66)"
   ]
  },
  {
   "cell_type": "markdown",
   "metadata": {},
   "source": [
    "如果只写abs, 我们得到的是一个叫abs的函数"
   ]
  },
  {
   "cell_type": "code",
   "execution_count": 2,
   "metadata": {
    "ExecuteTime": {
     "end_time": "2018-03-07T04:44:42.180554Z",
     "start_time": "2018-03-07T04:44:42.175549Z"
    }
   },
   "outputs": [
    {
     "data": {
      "text/plain": [
       "<function abs>"
      ]
     },
     "execution_count": 2,
     "metadata": {},
     "output_type": "execute_result"
    }
   ],
   "source": [
    "abs"
   ]
  },
  {
   "cell_type": "markdown",
   "metadata": {},
   "source": [
    "上堂课我讲过，python里变量和函数都是object\n",
    "\n",
    "那么就是说，abs这函数可以直接复制给另外一个变量"
   ]
  },
  {
   "cell_type": "code",
   "execution_count": 3,
   "metadata": {
    "ExecuteTime": {
     "end_time": "2018-03-07T04:47:24.548482Z",
     "start_time": "2018-03-07T04:47:24.542472Z"
    }
   },
   "outputs": [
    {
     "data": {
      "text/plain": [
       "9"
      ]
     },
     "execution_count": 3,
     "metadata": {},
     "output_type": "execute_result"
    }
   ],
   "source": [
    "f = abs\n",
    "f(-9)"
   ]
  },
  {
   "cell_type": "markdown",
   "metadata": {},
   "source": [
    "看，现在f有了abs的功能！所以，函数本身就是可以作为一个变量。而变量是可以作为另一个函数的参数的，则一个函数也可以作为另一个函数的参数。\n",
    "\n",
    "我们来看一个简单的**高阶函数**"
   ]
  },
  {
   "cell_type": "code",
   "execution_count": 5,
   "metadata": {
    "ExecuteTime": {
     "end_time": "2018-03-07T04:51:48.727832Z",
     "start_time": "2018-03-07T04:51:48.722829Z"
    }
   },
   "outputs": [],
   "source": [
    "def add1(x, y, f):\n",
    "    return f(x) + f(y)"
   ]
  },
  {
   "cell_type": "markdown",
   "metadata": {},
   "source": [
    "当我们调用add(-5, 6, abs)时，参数x，y和f分别接收-5，6和abs"
   ]
  },
  {
   "cell_type": "code",
   "execution_count": 6,
   "metadata": {
    "ExecuteTime": {
     "end_time": "2018-03-07T04:51:50.617345Z",
     "start_time": "2018-03-07T04:51:50.610342Z"
    }
   },
   "outputs": [
    {
     "data": {
      "text/plain": [
       "11"
      ]
     },
     "execution_count": 6,
     "metadata": {},
     "output_type": "execute_result"
    }
   ],
   "source": [
    "add1(-5, 6, abs)"
   ]
  },
  {
   "cell_type": "markdown",
   "metadata": {},
   "source": [
    "# 匿名函数"
   ]
  },
  {
   "cell_type": "markdown",
   "metadata": {
    "ExecuteTime": {
     "end_time": "2018-03-07T04:55:12.129664Z",
     "start_time": "2018-03-07T04:55:12.113148Z"
    }
   },
   "source": [
    "python 使用 lambda 来创建匿名函数。其优点为: \n",
    "\n",
    "* lambda只是一个表达式，函数体比def简单很多。\n",
    "\n",
    "* lambda的主体是一个表达式，而不是一个代码块。仅仅能在lambda表达式中封装有限的逻辑。\n",
    "\n",
    "* lambda函数拥有自己的命名空间，且不能访问自有参数列表之外或全局命名空间里的参数。\n",
    "\n",
    "* 虽然lambda函数看起来只能写一行，却不等同于C或C++的内联函数，后者的目的是调用小函数时不占用栈内存从而增加运行效率。"
   ]
  },
  {
   "cell_type": "markdown",
   "metadata": {},
   "source": [
    "* 最重要的一点，Lambda表达式可以体现你的逼格。    \n",
    "华尔街和伦敦银行高街最逼的一群人都是自诩用且只用函数式编程的。什么是**函数式编程**？就是类似于全篇程序都用python中lambda这样的一行代码来解决问题。为什么他们逼？因为数学家们学编程的时候，脑子还在数学公式这条线上；他们不会写面对对象编程，只会死想出一条条公式来解决问题；其实这是智商堪忧的体现；但是因为投行基金们很倾向于聘用这群数学家转型的半吊子程序员；他们的使用习惯于是成了圈内高逼的体现；恩，葡萄就是这么酸。:P。\n"
   ]
  },
  {
   "cell_type": "markdown",
   "metadata": {},
   "source": [
    "## lambda-简易函数\n",
    "Lambda函数的语法只包含一个语句，如下：\n",
    "\n",
    "    lambda [arg1 [,arg2,.....argn]]:expression\n",
    "比如，我写个相加函数"
   ]
  },
  {
   "cell_type": "code",
   "execution_count": 8,
   "metadata": {
    "ExecuteTime": {
     "end_time": "2018-03-07T04:58:55.342239Z",
     "start_time": "2018-03-07T04:58:55.334236Z"
    }
   },
   "outputs": [
    {
     "data": {
      "text/plain": [
       "15"
      ]
     },
     "execution_count": 8,
     "metadata": {},
     "output_type": "execute_result"
    }
   ],
   "source": [
    "sum1 = lambda arg1, arg2 : arg1+arg2\n",
    "\n",
    "# 相当于如下函数\n",
    "# def sum1(arg1, arg2):\n",
    "#    return arg1 + arg2\n",
    "\n",
    "\n",
    "sum1(6,9)"
   ]
  },
  {
   "cell_type": "markdown",
   "metadata": {},
   "source": [
    "除了Lambda本身，Python还提供了其他几个辅助工具，让你的函数式代码块更加牛逼：\n",
    "\n",
    "## reduce-合而为一   \n",
    "Python中的reduce内建函数是一个二元操作函数，他用来将一个数据集合(列表，元组等)中的所有数据进行如下操作：    \n",
    "传给reduce中的函数func()(必须是一个**二元操作函数**) 先对集合中的第1，2个数据进行操作，得到的结果再同第3个数据一同传入func()函数运算，得到的新的结果继续同数据集合中的其它数据逐次传入func()。\n",
    "\n",
    "顾名思义，reduce就是要把**一个list通过func()给缩合一个值**。而缩合的过程是新结果同后一数据共同传入func(), 所以func()必须是二元操作函数。"
   ]
  },
  {
   "cell_type": "code",
   "execution_count": 10,
   "metadata": {
    "ExecuteTime": {
     "end_time": "2018-03-07T05:10:05.916734Z",
     "start_time": "2018-03-07T05:10:05.904726Z"
    }
   },
   "outputs": [
    {
     "name": "stdout",
     "output_type": "stream",
     "text": [
      "15\n",
      "25\n"
     ]
    }
   ],
   "source": [
    "from functools import reduce\n",
    "\n",
    "l = [1,2,3,4,5]\n",
    "print(reduce(lambda x,y: x+y, l))\n",
    "# 这里代表着，把list中的值，\n",
    "# 一个个放进lamda的x,y中进行处理\n",
    "\n",
    "# 如果你给出一个初始值，可以放在list后面\n",
    "# 只能给一个值, 不能是list等数据集合\n",
    "print(reduce(lambda x,y: x+y, l, 10))\n",
    "# 这样，x开始的时候被赋值为10，\n",
    "# 然后依次放到lambda的x, y中"
   ]
  },
  {
   "cell_type": "markdown",
   "metadata": {},
   "source": [
    "## map-逐个操作    \n",
    "map函数应用于每一个**可迭代**的项，返回的是一个结果list。如果有其他的可迭代参数传进来，map函数则会把每一个参数都以相应的处理函数进行迭代处理。\n",
    "\n",
    "map()函数接收两个参数，一个是函数，一个是序列，map将传入的函数依次作用到序列的每个元素，并把结果作为新的list返回。\n",
    "\n",
    "    格式：map(func, seq1[, seq2...] )\n",
    "\n",
    "Python函数式编程中的map()函数是将func作用于seq中的每一个元素，并用一个列表给出返回值。\n",
    "\n",
    "map可以使用任何的lambda函数操作，本质上是把原有的list根据lambda法则变成另外一个list"
   ]
  },
  {
   "cell_type": "code",
   "execution_count": 12,
   "metadata": {
    "ExecuteTime": {
     "end_time": "2018-03-07T05:21:06.007082Z",
     "start_time": "2018-03-07T05:21:05.999076Z"
    }
   },
   "outputs": [
    {
     "name": "stdout",
     "output_type": "stream",
     "text": [
      "[2, 3, 4]\n"
     ]
    }
   ],
   "source": [
    "l = [1,2,3]\n",
    "new_list = list(map(lambda i: i+1, l))\n",
    "# 把list中的每个数逐个放入lambad\n",
    "print(new_list)\n",
    "# Py3里，外面需要套个list：\n",
    "# 这是为了让里面的值给显示出来，要不然你会得到这是个map函数\n",
    "# 而不是里面的值。\n",
    "# Py2的童鞋不虚"
   ]
  },
  {
   "cell_type": "code",
   "execution_count": null,
   "metadata": {},
   "outputs": [],
   "source": [
    "# 我们也可以把两个数组搞成一个单独的数组\n",
    "l2 = [4,5,6]\n",
    "new_list = list(map(lambda x,y: x+y, l, l2))\n",
    "# l 和 l2 的每个数逐个放入lambda\n",
    "print(new_list)"
   ]
  },
  {
   "cell_type": "markdown",
   "metadata": {},
   "source": [
    "## filter-选择过滤    \n",
    "\n",
    "filter()函数可以对序列做过滤处理，就是说可以使用一个自定的函数过滤一个序列，把序列的每一项传到自定义的过滤函数里处理，并返回结果做过滤。最终一次性返回过滤后的结果。   \n",
    "和map()类似，filter()也接收一个函数和**一个序列**。和map()不同的时，filter()把传入的函数依次作用于每个元素，然后根据返回值是True还是False决定保留还是丢弃该元素。\n",
    "\n",
    "    语法: filter(func, seq)"
   ]
  },
  {
   "cell_type": "code",
   "execution_count": 13,
   "metadata": {
    "ExecuteTime": {
     "end_time": "2018-03-07T05:27:29.059209Z",
     "start_time": "2018-03-07T05:27:29.052202Z"
    }
   },
   "outputs": [
    {
     "name": "stdout",
     "output_type": "stream",
     "text": [
      "[20, 24]\n"
     ]
    }
   ],
   "source": [
    "l = [100, 20, 24, 50, 110]\n",
    "new = list(filter(lambda x: x<50, l))\n",
    "# 同理，py3得套个list来转化成list函数，便于打印出来\n",
    "print(new)"
   ]
  },
  {
   "cell_type": "markdown",
   "metadata": {},
   "source": [
    "熟练运用reduce(), map(), filter()三个玩意儿, 并同lambda结合起来, 你就可以一行写出几乎所有的复杂计算了。"
   ]
  },
  {
   "cell_type": "markdown",
   "metadata": {},
   "source": [
    "# 装饰器\n",
    "\n",
    "装饰器就是函数的『包装』：\n",
    "\n",
    "我们来看一个代码"
   ]
  },
  {
   "cell_type": "code",
   "execution_count": 14,
   "metadata": {
    "ExecuteTime": {
     "end_time": "2018-03-07T05:32:29.484255Z",
     "start_time": "2018-03-07T05:32:29.471248Z"
    }
   },
   "outputs": [
    {
     "name": "stdout",
     "output_type": "stream",
     "text": [
      "hello, foo\n",
      "i am foo\n",
      "goodby, foo\n"
     ]
    }
   ],
   "source": [
    "def hello(fn):\n",
    "    def wrapper():\n",
    "        print(\"hello, %s\" % fn.__name__)\n",
    "        fn()\n",
    "        print(\"goodby, %s\" % fn.__name__)\n",
    "    return wrapper\n",
    " \n",
    "@hello\n",
    "def foo():\n",
    "    print(\"i am foo\")\n",
    "# func = decorator(func)\n",
    "foo()"
   ]
  },
  {
   "cell_type": "markdown",
   "metadata": {},
   "source": [
    "## 装饰简介\n",
    "你可以看到如下的东西：\n",
    "\n",
    "1. 函数foo前面有个@hello的“注解”，hello就是我们前面定义的函数hello\n",
    "\n",
    "2. 在hello函数中，其需要一个fn的参数（这就用来做回调的函数）\n",
    "\n",
    "3. hello函数中返回了一个inner函数wrapper，这个wrapper函数回调了传进来的fn，并在回调前后加了两条语句。\n",
    "\n",
    "所以，本质上来讲，用@decorator来装饰某个函数时，其实是做了下面这件事儿：\n",
    "\n",
    "    @decorator\n",
    "    def func():\n",
    "        pass\n",
    "变成 =====》\n",
    "\n",
    "    func = decorator(func)\n",
    "    \n",
    "**再简单点说, 就是把一个函数当做参数, 传到另外一个函数中, 再调回给自己。**"
   ]
  },
  {
   "cell_type": "markdown",
   "metadata": {},
   "source": [
    "所以：\n",
    "\n",
    "hello(foo)返回了wrapper()函数，    \n",
    "所以，foo其实变成了wrapper的一个变量，而后面的foo()执行其实变成了wrapper()\n",
    "\n",
    "同理，我们也可以搞多个decorator：\n",
    "\n",
    "    @decorator_one\n",
    "    @decorator_two\n",
    "    def func():\n",
    "        pass\n",
    "相当于：\n",
    "\n",
    "    func = decorator_one(decorator_two(func))\n",
    "你还可以给这个decorator带个参数：\n",
    "\n",
    "    @decorator(arg1, arg2)\n",
    "    def func():\n",
    "        pass\n",
    "相当于：\n",
    "\n",
    "    func = decorator(arg1,arg2)(func)"
   ]
  },
  {
   "cell_type": "code",
   "execution_count": 15,
   "metadata": {
    "ExecuteTime": {
     "end_time": "2018-03-07T06:02:11.673762Z",
     "start_time": "2018-03-07T06:02:11.651745Z"
    }
   },
   "outputs": [
    {
     "name": "stdout",
     "output_type": "stream",
     "text": [
      "<b class='bold_css'><i class='italic_css'>hello world</i></b>\n"
     ]
    }
   ],
   "source": [
    "# 好了，讲这么多比较复杂，我们来看个网页编程的case:\n",
    "\n",
    "def makeHtmlTag(tag, *args, **kwds):\n",
    "    def real_decorator(fn):\n",
    "        css_class = \" class='{0}'\".format(kwds[\"css_class\"]) \\\n",
    "                                     if \"css_class\" in kwds else \"\"\n",
    "        def wrapped(*args, **kwds):\n",
    "            return \"<\"+tag+css_class+\">\" + fn(*args, **kwds) + \"</\"+tag+\">\"\n",
    "        return wrapped\n",
    "    return real_decorator\n",
    " \n",
    "@makeHtmlTag(tag=\"b\", css_class=\"bold_css\")\n",
    "@makeHtmlTag(tag=\"i\", css_class=\"italic_css\")\n",
    "def hello():\n",
    "    return \"hello world\"\n",
    " \n",
    "print(hello())"
   ]
  },
  {
   "cell_type": "markdown",
   "metadata": {},
   "source": [
    "在上面这个例子中，我们可以看到：    \n",
    "makeHtmlTag有两个参数。所以，为了让 hello = makeHtmlTag(arg1, arg2)(hello) 成功，makeHtmlTag 必需**返回一个decorator**（这就是为什么我们在makeHtmlTag中加入了real_decorator()的原因），这样一来，我们就可以进入到 decorator 的逻辑中去了—— decorator得返回一个wrapper，wrapper里回调hello。"
   ]
  },
  {
   "cell_type": "markdown",
   "metadata": {},
   "source": [
    "这里插一个知识，我们看到parameters里面有个`(*args, **kwargds)`，指的是：    \n",
    "一个星星, 指的是这里可以随便放多少个参数，内部提及的时候，当做一个**list**看。    \n",
    "两个星星, 指的也是随便多少个参数，但是这里可以带上参数的名字，比如（x='1', y='2'），内部提及的时候，当做一个**dict**看。"
   ]
  },
  {
   "cell_type": "code",
   "execution_count": 16,
   "metadata": {
    "ExecuteTime": {
     "end_time": "2018-03-07T06:10:58.457294Z",
     "start_time": "2018-03-07T06:10:58.437280Z"
    }
   },
   "outputs": [
    {
     "name": "stdout",
     "output_type": "stream",
     "text": [
      "inside myDecorator.__init__()\n",
      "Finished decorating aFunction()\n",
      "inside aFunction()\n",
      "inside myDecorator.__call__()\n"
     ]
    }
   ],
   "source": [
    "# Decorator这个东西，也可以写成class样式：\n",
    "\n",
    "class myDecorator(object):\n",
    " \n",
    "    def __init__(self, fn):\n",
    "        print(\"inside myDecorator.__init__()\")\n",
    "        self.fn = fn\n",
    " \n",
    "    def __call__(self):\n",
    "        self.fn()\n",
    "        print(\"inside myDecorator.__call__()\")\n",
    " \n",
    "@myDecorator\n",
    "def aFunction():\n",
    "    print(\"inside aFunction()\")\n",
    " \n",
    "print(\"Finished decorating aFunction()\")\n",
    " \n",
    "aFunction()"
   ]
  },
  {
   "cell_type": "code",
   "execution_count": 17,
   "metadata": {
    "ExecuteTime": {
     "end_time": "2018-03-07T06:13:29.726845Z",
     "start_time": "2018-03-07T06:13:29.699827Z"
    }
   },
   "outputs": [
    {
     "name": "stdout",
     "output_type": "stream",
     "text": [
      "<b class='bold_css'><i class='italic_css'>Hello, Baby</i></b>\n"
     ]
    }
   ],
   "source": [
    "# 这个class样式的看起来比函数样式看着清楚点儿，\n",
    "# 这样我们再把刚刚的网页编程那段改一下，就得到：\n",
    "\n",
    "class makeHtmlTagClass(object):\n",
    " \n",
    "    def __init__(self, tag, css_class=\"\"):\n",
    "        self._tag = tag\n",
    "        self._css_class = \" class='{0}'\".format(css_class) \\\n",
    "                                       if css_class !=\"\" else \"\"\n",
    " \n",
    "    def __call__(self, fn):\n",
    "        def wrapped(*args, **kwargs):\n",
    "            return \"<\" + self._tag + self._css_class+\">\"  \\\n",
    "                       + fn(*args, **kwargs) + \"</\" + self._tag + \">\"\n",
    "        return wrapped\n",
    " \n",
    "@makeHtmlTagClass(tag=\"b\", css_class=\"bold_css\")\n",
    "@makeHtmlTagClass(tag=\"i\", css_class=\"italic_css\")\n",
    "def hello(name):\n",
    "    return \"Hello, {}\".format(name)\n",
    " \n",
    "print(hello(\"Baby\"))"
   ]
  },
  {
   "cell_type": "markdown",
   "metadata": {},
   "source": [
    "## 装饰器的副作用\n",
    "\n",
    "因为decorator的因素，我们原本的函数其实已经变成了一个叫wrapper函数。\n",
    "\n",
    "比如，你再调用__name__的时候，他会告诉你，这是 wrapper, 而不是 foo 或者 hello。\n",
    "\n",
    "当然，虽然功能效果不变，但是有些处女座的童鞋会觉得很不爽。\n",
    "\n",
    "所以，Python的functool包中提供了一个叫wrap的decorator来消除这样的副作用"
   ]
  },
  {
   "cell_type": "code",
   "execution_count": 18,
   "metadata": {
    "ExecuteTime": {
     "end_time": "2018-03-07T06:16:50.269676Z",
     "start_time": "2018-03-07T06:16:50.248664Z"
    }
   },
   "outputs": [
    {
     "name": "stdout",
     "output_type": "stream",
     "text": [
      "hello, foo\n",
      "i am foo\n",
      "goodby, foo\n",
      "foo\n",
      "foo help doc\n"
     ]
    }
   ],
   "source": [
    "from functools import wraps\n",
    "def hello(fn):\n",
    "    @wraps(fn)\n",
    "    def wrapper():\n",
    "        print(\"hello, %s\" % fn.__name__)\n",
    "        fn()\n",
    "        print(\"goodby, %s\" % fn.__name__)\n",
    "    return wrapper\n",
    " \n",
    "@hello\n",
    "def foo():\n",
    "    '''foo help doc'''\n",
    "    print(\"i am foo\")\n",
    "    pass\n",
    " \n",
    "foo()\n",
    "print(foo.__name__)\n",
    "print(foo.__doc__)"
   ]
  },
  {
   "cell_type": "code",
   "execution_count": 21,
   "metadata": {
    "ExecuteTime": {
     "end_time": "2018-03-07T06:20:01.920935Z",
     "start_time": "2018-03-07T06:20:01.893916Z"
    }
   },
   "outputs": [],
   "source": [
    "# 来个经典例子：\n",
    "# 斐波那契额数列递归法：\n",
    "\n",
    "from functools import wraps\n",
    "def memo(fn):\n",
    "    cache = {} # 保存已计算好的fib(n)\n",
    "    miss = object() # 判断是否曾经计算过 \n",
    " \n",
    "    @wraps(fn)\n",
    "    def wrapper(*args):\n",
    "        result = cache.get(args, miss) #添加未保存的fib(n)\n",
    "        if result is miss: # 判断是否曾经计算过 \n",
    "            result = fn(*args)\n",
    "            cache[args] = result\n",
    "        return result\n",
    " \n",
    "    return wrapper\n",
    " \n",
    "@memo\n",
    "def fib(n=6):\n",
    "    if n < 2:\n",
    "        return n\n",
    "    return fib(n - 1) + fib(n - 2)"
   ]
  },
  {
   "cell_type": "markdown",
   "metadata": {},
   "source": [
    "我们知道，这个递归是相当没有效率的，因为会重复调用。比如：我们要计算fib(5)，于是其分解成fib(4) + fib(3)，而fib(4)分解成fib(3)+fib(2)，fib(3)又分解成fib(2)+fib(1)…… 你可看到，基本上来说，fib(3), fib(2), fib(1)在整个递归过程中被调用了两次。\n",
    "\n",
    "而我们用decorator，在调用函数前查询一下缓存，如果没有才调用了，有了就从缓存中返回值。一下子，这个递归从二叉树式的递归成了线性的递归。"
   ]
  },
  {
   "cell_type": "markdown",
   "metadata": {},
   "source": [
    "# 偏函数"
   ]
  },
  {
   "cell_type": "markdown",
   "metadata": {},
   "source": [
    "## 简介\n",
    "Python的functools模块提供了很多有用的功能，其中一个就是偏函数（Partial function）。\n",
    "\n",
    "偏函数又可以翻译成部分函数，大概意思就是说，只**设置一部分参数**。\n",
    "\n",
    "举个例子，我们知道int()可以把字符串变成十进制数字"
   ]
  },
  {
   "cell_type": "code",
   "execution_count": 22,
   "metadata": {
    "ExecuteTime": {
     "end_time": "2018-03-07T06:22:00.345746Z",
     "start_time": "2018-03-07T06:22:00.339743Z"
    }
   },
   "outputs": [
    {
     "data": {
      "text/plain": [
       "12345"
      ]
     },
     "execution_count": 22,
     "metadata": {},
     "output_type": "execute_result"
    }
   ],
   "source": [
    "int('12345')"
   ]
  },
  {
   "cell_type": "markdown",
   "metadata": {},
   "source": [
    "但int()函数还提供额外的base参数，默认值为10。如果传入base参数，就可以做N进制的转换"
   ]
  },
  {
   "cell_type": "code",
   "execution_count": 23,
   "metadata": {
    "ExecuteTime": {
     "end_time": "2018-03-07T06:23:21.880653Z",
     "start_time": "2018-03-07T06:23:21.875646Z"
    }
   },
   "outputs": [
    {
     "data": {
      "text/plain": [
       "5349"
      ]
     },
     "execution_count": 23,
     "metadata": {},
     "output_type": "execute_result"
    }
   ],
   "source": [
    "int('12345', base=8) #8进制的'12345', 转为10进制"
   ]
  },
  {
   "cell_type": "code",
   "execution_count": 24,
   "metadata": {
    "ExecuteTime": {
     "end_time": "2018-03-07T06:23:35.017301Z",
     "start_time": "2018-03-07T06:23:35.011298Z"
    }
   },
   "outputs": [
    {
     "data": {
      "text/plain": [
       "74565"
      ]
     },
     "execution_count": 24,
     "metadata": {},
     "output_type": "execute_result"
    }
   ],
   "source": [
    "int('12345', 16) #16进制的'12345', 转为10进制"
   ]
  },
  {
   "cell_type": "markdown",
   "metadata": {},
   "source": [
    "假设要转换大量的二进制字符串，每次都传入int(x, base=2)非常麻烦，于是，我们想到，可以定义一个int2()的函数，默认把base=2传进去"
   ]
  },
  {
   "cell_type": "code",
   "execution_count": 26,
   "metadata": {
    "ExecuteTime": {
     "end_time": "2018-03-07T06:26:33.920003Z",
     "start_time": "2018-03-07T06:26:33.913232Z"
    }
   },
   "outputs": [
    {
     "data": {
      "text/plain": [
       "64"
      ]
     },
     "execution_count": 26,
     "metadata": {},
     "output_type": "execute_result"
    }
   ],
   "source": [
    "def int2(x, base=2):\n",
    "    return int(x, base)\n",
    "\n",
    "int2('1000000')"
   ]
  },
  {
   "cell_type": "markdown",
   "metadata": {},
   "source": [
    "## 构建偏函数\n",
    "functools.partial就是帮助我们创建一个偏函数的，不需要我们自己定义int2()，可以直接使用下面的代码创建一个新的函数int2"
   ]
  },
  {
   "cell_type": "code",
   "execution_count": 27,
   "metadata": {
    "ExecuteTime": {
     "end_time": "2018-03-07T06:27:44.375895Z",
     "start_time": "2018-03-07T06:27:44.368890Z"
    }
   },
   "outputs": [
    {
     "data": {
      "text/plain": [
       "64"
      ]
     },
     "execution_count": 27,
     "metadata": {},
     "output_type": "execute_result"
    }
   ],
   "source": [
    "import functools\n",
    "\n",
    "int2 = functools.partial(int, base=2)\n",
    "int2('1000000')"
   ]
  },
  {
   "cell_type": "markdown",
   "metadata": {},
   "source": [
    "所以，简单总结functools.partial的作用就是，把一个函数的某些参数给固定住（也就是**设置新的默认值**），返回一个新的函数，调用这个新函数会更简单。\n",
    "\n",
    "注意到上面的新的int2函数，仅仅是把base参数重新设定默认值为2，但也可以在函数调用时传入其他值"
   ]
  },
  {
   "cell_type": "code",
   "execution_count": 28,
   "metadata": {
    "ExecuteTime": {
     "end_time": "2018-03-07T06:29:57.788059Z",
     "start_time": "2018-03-07T06:29:57.783054Z"
    }
   },
   "outputs": [
    {
     "data": {
      "text/plain": [
       "1000000"
      ]
     },
     "execution_count": 28,
     "metadata": {},
     "output_type": "execute_result"
    }
   ],
   "source": [
    "int2('1000000', base=10)"
   ]
  },
  {
   "cell_type": "markdown",
   "metadata": {},
   "source": [
    "最后，创建偏函数时，实际上可以接收函数对象、*args和**kw这3个参数，当传入"
   ]
  },
  {
   "cell_type": "code",
   "execution_count": 29,
   "metadata": {
    "ExecuteTime": {
     "end_time": "2018-03-07T06:31:23.834818Z",
     "start_time": "2018-03-07T06:31:23.828815Z"
    }
   },
   "outputs": [
    {
     "data": {
      "text/plain": [
       "18"
      ]
     },
     "execution_count": 29,
     "metadata": {},
     "output_type": "execute_result"
    }
   ],
   "source": [
    "int2 = functools.partial(int, base=2)\n",
    "int2('10010')"
   ]
  },
  {
   "cell_type": "markdown",
   "metadata": {},
   "source": [
    "实际上固定了int()函数的关键字参数base。\n",
    "\n",
    "同理：我们刚刚说的**可以当成一个dict带入"
   ]
  },
  {
   "cell_type": "code",
   "execution_count": 30,
   "metadata": {
    "ExecuteTime": {
     "end_time": "2018-03-07T06:32:10.531809Z",
     "start_time": "2018-03-07T06:32:10.525806Z"
    }
   },
   "outputs": [
    {
     "data": {
      "text/plain": [
       "18"
      ]
     },
     "execution_count": 30,
     "metadata": {},
     "output_type": "execute_result"
    }
   ],
   "source": [
    "kw = {'base': 2}\n",
    "int('10010', **kw)"
   ]
  },
  {
   "cell_type": "code",
   "execution_count": 31,
   "metadata": {
    "ExecuteTime": {
     "end_time": "2018-03-07T06:32:57.219059Z",
     "start_time": "2018-03-07T06:32:57.213048Z"
    }
   },
   "outputs": [
    {
     "data": {
      "text/plain": [
       "10"
      ]
     },
     "execution_count": 31,
     "metadata": {},
     "output_type": "execute_result"
    }
   ],
   "source": [
    "# 继续同理，我们可以用*把一个list塞进来\n",
    "max2 = functools.partial(max, 10)\n",
    "\n",
    "max2(5, 6, 7)\n",
    "# 相当于：\n",
    "# args = (10, 5, 6, 7) #注意，10在最左边。\n",
    "# max(*args)"
   ]
  },
  {
   "cell_type": "code",
   "execution_count": null,
   "metadata": {},
   "outputs": [],
   "source": []
  }
 ],
 "metadata": {
  "kernelspec": {
   "display_name": "Python 3",
   "language": "python",
   "name": "python3"
  },
  "language_info": {
   "codemirror_mode": {
    "name": "ipython",
    "version": 3
   },
   "file_extension": ".py",
   "mimetype": "text/x-python",
   "name": "python",
   "nbconvert_exporter": "python",
   "pygments_lexer": "ipython3",
   "version": "3.6.3"
  },
  "toc": {
   "nav_menu": {},
   "number_sections": true,
   "sideBar": true,
   "skip_h1_title": false,
   "title_cell": "Table of Contents",
   "title_sidebar": "Contents",
   "toc_cell": true,
   "toc_position": {},
   "toc_section_display": true,
   "toc_window_display": false
  }
 },
 "nbformat": 4,
 "nbformat_minor": 2
}
