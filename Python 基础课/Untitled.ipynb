{
 "cells": [
  {
   "cell_type": "code",
   "execution_count": 47,
   "metadata": {
    "ExecuteTime": {
     "end_time": "2018-03-08T02:50:10.826768Z",
     "start_time": "2018-03-08T02:50:10.819257Z"
    }
   },
   "outputs": [],
   "source": [
    "class Zhou(object):\n",
    "    name='zhouzhiqi'\n",
    "    \n",
    "    def name666(self):\n",
    "        print(self.name)\n",
    "        \n",
    "    def show(self, age):\n",
    "        print('the age is %s' %age)"
   ]
  },
  {
   "cell_type": "markdown",
   "metadata": {},
   "source": []
  },
  {
   "cell_type": "code",
   "execution_count": 48,
   "metadata": {
    "ExecuteTime": {
     "end_time": "2018-03-08T02:50:11.233505Z",
     "start_time": "2018-03-08T02:50:11.225500Z"
    }
   },
   "outputs": [
    {
     "name": "stdout",
     "output_type": "stream",
     "text": [
      "<class '__main__.Zhou'>\n",
      "<__main__.Zhou object at 0x000001F2FDCD82E8>\n"
     ]
    }
   ],
   "source": [
    "me = Zhou # 实例化一个对象时记得带()\n",
    "# me = Zhou()\n",
    "print(me)\n",
    "print(me())"
   ]
  },
  {
   "cell_type": "code",
   "execution_count": 52,
   "metadata": {
    "ExecuteTime": {
     "end_time": "2018-03-08T02:52:28.056989Z",
     "start_time": "2018-03-08T02:52:28.049985Z"
    }
   },
   "outputs": [
    {
     "name": "stdout",
     "output_type": "stream",
     "text": [
      "<function Zhou.name666 at 0x000001F2FDC74BF8>\n",
      "<bound method Zhou.name666 of <__main__.Zhou object at 0x000001F2FDCC2CF8>>\n",
      "zhouzhiqi\n",
      "None\n"
     ]
    }
   ],
   "source": [
    "print(me.name666)\n",
    "#print(me.name666())# 会报错\n",
    "\n",
    "print(me().name666)\n",
    "print(me().name666())# 会单独有一个None\n"
   ]
  },
  {
   "cell_type": "code",
   "execution_count": 53,
   "metadata": {
    "ExecuteTime": {
     "end_time": "2018-03-08T02:53:12.518834Z",
     "start_time": "2018-03-08T02:53:12.509134Z"
    }
   },
   "outputs": [
    {
     "ename": "TypeError",
     "evalue": "name666() missing 1 required positional argument: 'self'",
     "output_type": "error",
     "traceback": [
      "\u001b[1;31m---------------------------------------------------------------------------\u001b[0m",
      "\u001b[1;31mTypeError\u001b[0m                                 Traceback (most recent call last)",
      "\u001b[1;32m<ipython-input-53-e286e42d8a5b>\u001b[0m in \u001b[0;36m<module>\u001b[1;34m()\u001b[0m\n\u001b[1;32m----> 1\u001b[1;33m \u001b[0mme\u001b[0m\u001b[1;33m.\u001b[0m\u001b[0mname666\u001b[0m\u001b[1;33m(\u001b[0m\u001b[1;33m)\u001b[0m\u001b[1;33m\u001b[0m\u001b[0m\n\u001b[0m",
      "\u001b[1;31mTypeError\u001b[0m: name666() missing 1 required positional argument: 'self'"
     ]
    }
   ],
   "source": [
    "me.name666()"
   ]
  },
  {
   "cell_type": "code",
   "execution_count": 32,
   "metadata": {
    "ExecuteTime": {
     "end_time": "2018-03-08T02:43:26.871376Z",
     "start_time": "2018-03-08T02:43:26.866372Z"
    }
   },
   "outputs": [
    {
     "data": {
      "text/plain": [
       "<__main__.Zhou at 0x1f2fdc896a0>"
      ]
     },
     "execution_count": 32,
     "metadata": {},
     "output_type": "execute_result"
    }
   ],
   "source": [
    "me1 = Zhou()\n",
    "me1"
   ]
  },
  {
   "cell_type": "code",
   "execution_count": 61,
   "metadata": {
    "ExecuteTime": {
     "end_time": "2018-03-08T02:55:28.228538Z",
     "start_time": "2018-03-08T02:55:28.220530Z"
    }
   },
   "outputs": [
    {
     "name": "stdout",
     "output_type": "stream",
     "text": [
      "<bound method Zhou.name666 of <__main__.Zhou object at 0x000001F2FDC896A0>>\n",
      "zhouzhiqi\n",
      "None\n"
     ]
    }
   ],
   "source": [
    "print(me1.name666)\n",
    "print(me1.name666())\n",
    "\n",
    "#print(me1().name666) # TypeError: 'Zhou' object is not callable\n",
    "#print(me1().name666()) # TypeError: 'Zhou' object is not callable"
   ]
  },
  {
   "cell_type": "code",
   "execution_count": 40,
   "metadata": {
    "ExecuteTime": {
     "end_time": "2018-03-08T02:45:53.037675Z",
     "start_time": "2018-03-08T02:45:53.032171Z"
    }
   },
   "outputs": [
    {
     "name": "stdout",
     "output_type": "stream",
     "text": [
      "zhouzhiqi\n"
     ]
    }
   ],
   "source": [
    "me1.name666()"
   ]
  },
  {
   "cell_type": "code",
   "execution_count": null,
   "metadata": {},
   "outputs": [],
   "source": []
  }
 ],
 "metadata": {
  "kernelspec": {
   "display_name": "Python 3",
   "language": "python",
   "name": "python3"
  },
  "language_info": {
   "codemirror_mode": {
    "name": "ipython",
    "version": 3
   },
   "file_extension": ".py",
   "mimetype": "text/x-python",
   "name": "python",
   "nbconvert_exporter": "python",
   "pygments_lexer": "ipython3",
   "version": "3.6.3"
  },
  "toc": {
   "nav_menu": {},
   "number_sections": true,
   "sideBar": true,
   "skip_h1_title": false,
   "title_cell": "Table of Contents",
   "title_sidebar": "Contents",
   "toc_cell": false,
   "toc_position": {},
   "toc_section_display": true,
   "toc_window_display": false
  }
 },
 "nbformat": 4,
 "nbformat_minor": 2
}
