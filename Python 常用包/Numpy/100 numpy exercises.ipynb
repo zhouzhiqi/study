{
 "cells": [
  {
   "cell_type": "markdown",
   "metadata": {
    "toc": true
   },
   "source": [
    "<h1>Numpy 100 exercises<span class=\"tocSkip\"></span></h1>\n",
    "<div class=\"toc\"><ul class=\"toc-item\"><li><span><a href=\"#初学者10道\" data-toc-modified-id=\"初学者10道-1\"><span class=\"toc-item-num\">1&nbsp;&nbsp;</span>初学者10道</a></span></li><li><span><a href=\"#入门级10道\" data-toc-modified-id=\"入门级10道-2\"><span class=\"toc-item-num\">2&nbsp;&nbsp;</span>入门级10道</a></span></li></ul></div>"
   ]
  },
  {
   "cell_type": "markdown",
   "metadata": {},
   "source": [
    "# 初学者10道"
   ]
  },
  {
   "cell_type": "code",
   "execution_count": 1,
   "metadata": {
    "ExecuteTime": {
     "end_time": "2018-03-09T06:21:42.722636Z",
     "start_time": "2018-03-09T06:21:40.146145Z"
    }
   },
   "outputs": [],
   "source": [
    "#1. 在python环境中导入numpy包，并命名为np\n",
    "import numpy as np"
   ]
  },
  {
   "cell_type": "code",
   "execution_count": 2,
   "metadata": {
    "ExecuteTime": {
     "end_time": "2018-03-09T06:22:09.050609Z",
     "start_time": "2018-03-09T06:22:09.035099Z"
    }
   },
   "outputs": [
    {
     "data": {
      "text/plain": [
       "'1.13.3'"
      ]
     },
     "execution_count": 2,
     "metadata": {},
     "output_type": "execute_result"
    }
   ],
   "source": [
    "#2. 查看numpy版本和配置信息\n",
    "np.__version__"
   ]
  },
  {
   "cell_type": "code",
   "execution_count": 4,
   "metadata": {
    "ExecuteTime": {
     "end_time": "2018-03-09T06:23:41.310138Z",
     "start_time": "2018-03-09T06:23:41.303134Z"
    }
   },
   "outputs": [
    {
     "data": {
      "text/plain": [
       "array([[ 0.,  0.,  0.],\n",
       "       [ 0.,  0.,  0.]])"
      ]
     },
     "execution_count": 4,
     "metadata": {},
     "output_type": "execute_result"
    }
   ],
   "source": [
    "#3. 创建零向量，zeros函数\n",
    "z = np.zeros((2,3))\n",
    "z"
   ]
  },
  {
   "cell_type": "code",
   "execution_count": 5,
   "metadata": {
    "ExecuteTime": {
     "end_time": "2018-03-09T06:24:05.175124Z",
     "start_time": "2018-03-09T06:24:05.167617Z"
    }
   },
   "outputs": [
    {
     "data": {
      "text/plain": [
       "array([[ 0.,  0.,  0.],\n",
       "       [ 0.,  0.,  1.]])"
      ]
     },
     "execution_count": 5,
     "metadata": {},
     "output_type": "execute_result"
    }
   ],
   "source": [
    "#4. 将上面的零向量的第二行第三列元素置为1。\n",
    "#注意python中行列下班是从0开始。\n",
    "z[1,2]=1\n",
    "z"
   ]
  },
  {
   "cell_type": "code",
   "execution_count": 8,
   "metadata": {
    "ExecuteTime": {
     "end_time": "2018-03-09T06:25:49.028775Z",
     "start_time": "2018-03-09T06:25:49.021771Z"
    }
   },
   "outputs": [
    {
     "data": {
      "text/plain": [
       "array([ 0. ,  0.5,  1. ,  1.5,  2. ,  2.5,  3. ,  3.5,  4. ,  4.5,  5. ,\n",
       "        5.5,  6. ,  6.5,  7. ,  7.5,  8. ,  8.5,  9. ,  9.5])"
      ]
     },
     "execution_count": 8,
     "metadata": {},
     "output_type": "execute_result"
    }
   ],
   "source": [
    "#5. arange函数，创建一个在给定范围的向量。\n",
    "np.arange(0,10,0.5)"
   ]
  },
  {
   "cell_type": "code",
   "execution_count": 13,
   "metadata": {
    "ExecuteTime": {
     "end_time": "2018-03-09T06:27:30.250618Z",
     "start_time": "2018-03-09T06:27:30.243114Z"
    }
   },
   "outputs": [
    {
     "data": {
      "text/plain": [
       "array([[ 0. ,  0.5,  1. ,  1.5,  2. ],\n",
       "       [ 2.5,  3. ,  3.5,  4. ,  4.5],\n",
       "       [ 5. ,  5.5,  6. ,  6.5,  7. ],\n",
       "       [ 7.5,  8. ,  8.5,  9. ,  9.5]])"
      ]
     },
     "execution_count": 13,
     "metadata": {},
     "output_type": "execute_result"
    }
   ],
   "source": [
    "#6. reshape函数，将array变形为矩阵\n",
    "np.arange(0,10,0.5).reshape(4,-1)"
   ]
  },
  {
   "cell_type": "code",
   "execution_count": 14,
   "metadata": {
    "ExecuteTime": {
     "end_time": "2018-03-09T06:28:50.162510Z",
     "start_time": "2018-03-09T06:28:50.156008Z"
    }
   },
   "outputs": [
    {
     "data": {
      "text/plain": [
       "(array([0, 1, 2, 5], dtype=int64),)"
      ]
     },
     "execution_count": 14,
     "metadata": {},
     "output_type": "execute_result"
    }
   ],
   "source": [
    "#7. nonzero函数，寻找非0元素的下标\n",
    "np.nonzero([1,2,3,0,0,4,0])"
   ]
  },
  {
   "cell_type": "code",
   "execution_count": 15,
   "metadata": {
    "ExecuteTime": {
     "end_time": "2018-03-09T06:29:30.674216Z",
     "start_time": "2018-03-09T06:29:30.665710Z"
    }
   },
   "outputs": [
    {
     "data": {
      "text/plain": [
       "array([[ 1.,  0.,  0.,  0.,  0.,  0.],\n",
       "       [ 0.,  1.,  0.,  0.,  0.,  0.],\n",
       "       [ 0.,  0.,  1.,  0.,  0.,  0.],\n",
       "       [ 0.,  0.,  0.,  1.,  0.,  0.],\n",
       "       [ 0.,  0.,  0.,  0.,  1.,  0.],\n",
       "       [ 0.,  0.,  0.,  0.,  0.,  1.]])"
      ]
     },
     "execution_count": 15,
     "metadata": {},
     "output_type": "execute_result"
    }
   ],
   "source": [
    "#8. eye函数，生成单位矩阵\n",
    "np.eye(6)"
   ]
  },
  {
   "cell_type": "code",
   "execution_count": 18,
   "metadata": {
    "ExecuteTime": {
     "end_time": "2018-03-09T06:31:54.521380Z",
     "start_time": "2018-03-09T06:31:54.512375Z"
    }
   },
   "outputs": [
    {
     "data": {
      "text/plain": [
       "array([[1, 0, 0, 0],\n",
       "       [0, 2, 0, 0],\n",
       "       [0, 0, 3, 0],\n",
       "       [0, 0, 0, 4]])"
      ]
     },
     "execution_count": 18,
     "metadata": {},
     "output_type": "execute_result"
    }
   ],
   "source": [
    "#9. diag函数，diagonal对角线。\n",
    "np.diag([1,2,3,4],k=0)\n",
    "#np.diag([1,2,3,4],k=1)\n",
    "#np.diag([1,2,3,4],k=-1)"
   ]
  },
  {
   "cell_type": "code",
   "execution_count": 21,
   "metadata": {
    "ExecuteTime": {
     "end_time": "2018-03-09T06:33:14.996778Z",
     "start_time": "2018-03-09T06:33:14.989774Z"
    }
   },
   "outputs": [
    {
     "data": {
      "text/plain": [
       "array([[ 0.28018876,  0.7521272 ,  0.54422254],\n",
       "       [ 0.46682105,  0.61869709,  0.15360289],\n",
       "       [ 0.73022722,  0.59582261,  0.82676252]])"
      ]
     },
     "execution_count": 21,
     "metadata": {},
     "output_type": "execute_result"
    }
   ],
   "source": [
    "#10. random模块的random函数，生成随机数\n",
    "np.random.random((3,3))"
   ]
  },
  {
   "cell_type": "markdown",
   "metadata": {},
   "source": [
    "# 入门级10道"
   ]
  },
  {
   "cell_type": "code",
   "execution_count": 28,
   "metadata": {
    "ExecuteTime": {
     "end_time": "2018-03-09T06:41:38.898500Z",
     "start_time": "2018-03-09T06:41:38.888493Z"
    }
   },
   "outputs": [
    {
     "data": {
      "text/plain": [
       "array([[0, 1, 0, 1, 0, 1, 0, 1],\n",
       "       [1, 0, 1, 0, 1, 0, 1, 0],\n",
       "       [0, 1, 0, 1, 0, 1, 0, 1],\n",
       "       [1, 0, 1, 0, 1, 0, 1, 0],\n",
       "       [0, 1, 0, 1, 0, 1, 0, 1],\n",
       "       [1, 0, 1, 0, 1, 0, 1, 0],\n",
       "       [0, 1, 0, 1, 0, 1, 0, 1],\n",
       "       [1, 0, 1, 0, 1, 0, 1, 0]])"
      ]
     },
     "execution_count": 28,
     "metadata": {},
     "output_type": "execute_result"
    }
   ],
   "source": [
    "#1. 创建一个8*8的“棋盘”矩阵\n",
    "#0、2、4、6行&&1、3、5、7列的元素置为1\n",
    "#1、3、5、7行&&0、2、4、6列的元素置为1 \n",
    "z=np.zeros((8,8),dtype='int')\n",
    "\n",
    "z[1::2,::2 ]=1\n",
    "z[::2, 1::2]=1\n",
    "z"
   ]
  },
  {
   "cell_type": "code",
   "execution_count": 30,
   "metadata": {
    "ExecuteTime": {
     "end_time": "2018-03-09T06:44:33.808775Z",
     "start_time": "2018-03-09T06:44:33.801769Z"
    }
   },
   "outputs": [
    {
     "data": {
      "text/plain": [
       "(0.0036504929870632141, 0.97798547587669726)"
      ]
     },
     "execution_count": 30,
     "metadata": {},
     "output_type": "execute_result"
    }
   ],
   "source": [
    "#2. min()、max()函数\n",
    "z=np.random.random((6,6))\n",
    "z.min(), z.max()"
   ]
  },
  {
   "cell_type": "code",
   "execution_count": 35,
   "metadata": {
    "ExecuteTime": {
     "end_time": "2018-03-09T06:48:07.218119Z",
     "start_time": "2018-03-09T06:48:07.210615Z"
    }
   },
   "outputs": [
    {
     "data": {
      "text/plain": [
       "array([[ 0,  1,  0,  1,  0,  1,  0,  1],\n",
       "       [-1,  0, -1,  0, -1,  0, -1,  0],\n",
       "       [ 0,  1,  0,  1,  0,  1,  0,  1],\n",
       "       [-1,  0, -1,  0, -1,  0, -1,  0]])"
      ]
     },
     "execution_count": 35,
     "metadata": {},
     "output_type": "execute_result"
    }
   ],
   "source": [
    "#3. 函数tile(A,reps),reps即重复的次数，\n",
    "#不仅可以是数字，还可以是array。比如构造棋盘矩阵\n",
    "np.tile(([[0,1],\n",
    "          [-1,0]]),(2,4))"
   ]
  },
  {
   "cell_type": "code",
   "execution_count": 37,
   "metadata": {
    "ExecuteTime": {
     "end_time": "2018-03-09T06:50:37.083929Z",
     "start_time": "2018-03-09T06:50:37.074923Z"
    }
   },
   "outputs": [
    {
     "data": {
      "text/plain": [
       "array([[ 0.55399888,  0.51681538,  0.52723421,  1.        ,  0.14264547],\n",
       "       [ 0.8536444 ,  0.62708446,  0.21529835,  0.9344723 ,  0.01349011],\n",
       "       [ 0.        ,  0.96611796,  0.55688571,  0.41057547,  0.30787366],\n",
       "       [ 0.56501313,  0.70772484,  0.40922094,  0.66136865,  0.38643332],\n",
       "       [ 0.03865788,  0.97397826,  0.2284003 ,  0.81438361,  0.05068343]])"
      ]
     },
     "execution_count": 37,
     "metadata": {},
     "output_type": "execute_result"
    }
   ],
   "source": [
    "#4. 归一化，将矩阵规格化到0～1，\n",
    "#即最小的变成0，最大的变成1，最小与最大之间的等比缩放\n",
    "z=np.random.random((5,5))\n",
    "z=(z-z.min())/(z.max()-z.min())\n",
    "z"
   ]
  },
  {
   "cell_type": "code",
   "execution_count": 38,
   "metadata": {
    "ExecuteTime": {
     "end_time": "2018-03-09T06:54:10.687606Z",
     "start_time": "2018-03-09T06:54:10.484876Z"
    }
   },
   "outputs": [
    {
     "data": {
      "text/plain": [
       "array([[ 86.,  99.],\n",
       "       [ 86.,  99.],\n",
       "       [ 86.,  99.],\n",
       "       [ 86.,  99.],\n",
       "       [ 86.,  99.]])"
      ]
     },
     "execution_count": 38,
     "metadata": {},
     "output_type": "execute_result"
    }
   ],
   "source": [
    "#5. 矩阵点乘\n",
    "np.dot(np.ones((5,3)), [[3,60]\n",
    "                        , [52,23]\n",
    "                        , [31,16]])"
   ]
  },
  {
   "cell_type": "code",
   "execution_count": 40,
   "metadata": {
    "ExecuteTime": {
     "end_time": "2018-03-09T06:56:15.944167Z",
     "start_time": "2018-03-09T06:56:15.933158Z"
    }
   },
   "outputs": [
    {
     "data": {
      "text/plain": [
       "array([[ 1.,  2.,  3.,  4.,  5.],\n",
       "       [ 1.,  2.,  3.,  4.,  5.],\n",
       "       [ 1.,  2.,  3.,  4.,  5.],\n",
       "       [ 1.,  2.,  3.,  4.,  5.],\n",
       "       [ 1.,  2.,  3.,  4.,  5.]])"
      ]
     },
     "execution_count": 40,
     "metadata": {},
     "output_type": "execute_result"
    }
   ],
   "source": [
    "#6. 矩阵相加，5*5矩阵+1*5的向量，\n",
    "#相当于每一行都加上1*5矩阵\n",
    "z = np.ones((5,5))\n",
    "z = z+range(5)\n",
    "z"
   ]
  },
  {
   "cell_type": "code",
   "execution_count": 50,
   "metadata": {
    "ExecuteTime": {
     "end_time": "2018-03-09T07:02:55.377660Z",
     "start_time": "2018-03-09T07:02:55.369654Z"
    },
    "scrolled": true
   },
   "outputs": [
    {
     "data": {
      "text/plain": [
       "array([  0.,   1.,   2.,   3.,   4.,   5.,   6.,   7.,   8.,   9.,  10.])"
      ]
     },
     "execution_count": 50,
     "metadata": {},
     "output_type": "execute_result"
    }
   ],
   "source": [
    "#7. linspace函数，在给定区间中生成均匀分布的给定个数。\n",
    "#函数原型 linspace(start, stop, num=50, endpoint=True, retstep=False)\n",
    "np.linspace(0,10,num=11,endpoint=True,retstep=False)\n",
    "#生成0~10之间均匀分布的11个数，包括0和1。\n",
    "#若endpoint=False,则10不包括在里面。\n",
    "#若retstep=False，会同时返回均匀区间中每两个数的间隔。"
   ]
  },
  {
   "cell_type": "code",
   "execution_count": 80,
   "metadata": {
    "ExecuteTime": {
     "end_time": "2018-03-09T07:15:54.511099Z",
     "start_time": "2018-03-09T07:15:54.503093Z"
    },
    "scrolled": true
   },
   "outputs": [
    {
     "name": "stdout",
     "output_type": "stream",
     "text": [
      "[[ 0  2  2  3  2  4  0]\n",
      " [ 8  3  3  5  6  8  2]\n",
      " [ 8  6  3  6  7  9  4]\n",
      " [ 9  6  5  9  9 10  5]\n",
      " [ 9  7  5 11 11 11 15]\n",
      " [13 12 11 12 17 15 16]\n",
      " [14 14 15 17 18 17 17]]\n"
     ]
    }
   ],
   "source": [
    "#8. sort函数。调用random模块中的random函数生成10个随机数，然后sort排序。\n",
    "z=np.random.randint(0,19,(7,7))\n",
    "#sort(axis=-1, kind='quicksort', order=None)\n",
    "z.sort(axis=0)\n",
    "print(z)"
   ]
  },
  {
   "cell_type": "code",
   "execution_count": 81,
   "metadata": {
    "ExecuteTime": {
     "end_time": "2018-03-09T07:17:57.028050Z",
     "start_time": "2018-03-09T07:17:57.018544Z"
    }
   },
   "outputs": [
    {
     "data": {
      "text/plain": [
       "False"
      ]
     },
     "execution_count": 81,
     "metadata": {},
     "output_type": "execute_result"
    }
   ],
   "source": [
    "#9. allclose函数，判断两个array在误差范围内是否相等\n",
    "#函数原型allclose(a, b, rtol=1e-05, atol=1e-08)，\n",
    "#若absolute(a - b) <= (atol + rtol * absolute(b))则相等\n",
    "a=np.random.randint(0,5,10)\n",
    "b=np.random.randint(0,5,10)\n",
    "np.allclose(a,b)"
   ]
  },
  {
   "cell_type": "code",
   "execution_count": 82,
   "metadata": {
    "ExecuteTime": {
     "end_time": "2018-03-09T07:20:01.073700Z",
     "start_time": "2018-03-09T07:20:01.066697Z"
    }
   },
   "outputs": [
    {
     "data": {
      "text/plain": [
       "6.5999999999999996"
      ]
     },
     "execution_count": 82,
     "metadata": {},
     "output_type": "execute_result"
    }
   ],
   "source": [
    "#10. mean函数，求平均值\n",
    "np.random.randint(0,15,10).mean()"
   ]
  },
  {
   "cell_type": "code",
   "execution_count": null,
   "metadata": {},
   "outputs": [],
   "source": []
  }
 ],
 "metadata": {
  "kernelspec": {
   "display_name": "Python 3",
   "language": "python",
   "name": "python3"
  },
  "language_info": {
   "codemirror_mode": {
    "name": "ipython",
    "version": 3
   },
   "file_extension": ".py",
   "mimetype": "text/x-python",
   "name": "python",
   "nbconvert_exporter": "python",
   "pygments_lexer": "ipython3",
   "version": "3.6.3"
  },
  "toc": {
   "nav_menu": {},
   "number_sections": true,
   "sideBar": true,
   "skip_h1_title": false,
   "title_cell": "Numpy 100 exercises",
   "title_sidebar": "Contents",
   "toc_cell": true,
   "toc_position": {},
   "toc_section_display": true,
   "toc_window_display": false
  }
 },
 "nbformat": 4,
 "nbformat_minor": 2
}
