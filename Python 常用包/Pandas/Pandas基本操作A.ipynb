{
 "cells": [
  {
   "cell_type": "markdown",
   "metadata": {},
   "source": [
    "## Series"
   ]
  },
  {
   "cell_type": "raw",
   "metadata": {},
   "source": [
    "可以索引. \n",
    "Series是一种类似于一维数组的对象，\n",
    "它由一组数据（各种NumPy数据类型） \n",
    "以及一组与之相关的数据标签（即索引）组成。 "
   ]
  },
  {
   "cell_type": "code",
   "execution_count": 5,
   "metadata": {},
   "outputs": [
    {
     "name": "stdout",
     "output_type": "stream",
     "text": [
      "用数组生成Series\n",
      "0    4\n",
      "1    7\n",
      "2   -5\n",
      "3    3\n",
      "dtype: int64\n",
      "[ 4  7 -5  3]\n",
      "RangeIndex(start=0, stop=4, step=1)\n",
      "\n",
      "指定Series的index\n",
      "d    4\n",
      "b    7\n",
      "a   -5\n",
      "c    3\n",
      "dtype: int64\n",
      "Index([u'd', u'b', u'a', u'c'], dtype='object')\n",
      "-5\n",
      "c    3\n",
      "a   -5\n",
      "d    6\n",
      "dtype: int64\n",
      "d    6\n",
      "b    7\n",
      "c    3\n",
      "dtype: int64\n",
      "True\n",
      "False\n",
      "\n"
     ]
    }
   ],
   "source": [
    "from pandas import Series\n",
    "\n",
    "print '用数组生成Series'\n",
    "obj = Series([4, 7, -5, 3]) #默认从0开始索引\n",
    "#  Series的字符串表现形式为：索引在左边，值在右边。 \n",
    "print obj\n",
    "print obj.values\n",
    "print obj.index\n",
    "print\n",
    "\n",
    "print '指定Series的index'\n",
    "obj2 = Series([4, 7, -5, 3], index = ['d', 'b', 'a', 'c'])\n",
    "print obj2\n",
    "print obj2.index\n",
    "print obj2['a']\n",
    "obj2['d'] = 6\n",
    "print obj2[['c', 'a', 'd']] #使用花式索引\n",
    "print obj2[obj2 > 0]  # 找出大于0的元素\n",
    "print 'b' in obj2 # 判断索引是否存在\n",
    "print 'e' in obj2\n",
    "print"
   ]
  },
  {
   "cell_type": "code",
   "execution_count": 2,
   "metadata": {},
   "outputs": [
    {
     "name": "stdout",
     "output_type": "stream",
     "text": [
      "使用字典生成Series\n",
      "Ohio      45000\n",
      "Oregon    16000\n",
      "Texas     71000\n",
      "Utah       5000\n",
      "dtype: int64\n",
      "\n",
      "使用字典生成Series，并额外指定index，不匹配部分为NaN。\n",
      "California        NaN\n",
      "Ohio          45000.0\n",
      "Oregon        16000.0\n",
      "Texas         71000.0\n",
      "dtype: float64\n",
      "\n",
      "Series相加，相同索引部分相加。\n",
      "California         NaN\n",
      "Ohio           90000.0\n",
      "Oregon         32000.0\n",
      "Texas         142000.0\n",
      "Utah               NaN\n",
      "dtype: float64\n",
      "\n",
      "指定Series及其索引的名字\n",
      "state\n",
      "California        NaN\n",
      "Ohio          45000.0\n",
      "Oregon        16000.0\n",
      "Texas         71000.0\n",
      "Name: population, dtype: float64\n",
      "\n",
      "替换index\n",
      "Bob      4\n",
      "Steve    7\n",
      "Jeff    -5\n",
      "Ryan     3\n",
      "dtype: int64\n"
     ]
    }
   ],
   "source": [
    "print '使用字典生成Series'\n",
    "sdata = {'Ohio':45000, 'Texas':71000, 'Oregon':16000, 'Utah':5000}\n",
    "obj3 = Series(sdata)\n",
    "print obj3\n",
    "print\n",
    "\n",
    "print '使用字典生成Series，并额外指定index，不匹配部分为NaN。'\n",
    "states = ['California', 'Ohio', 'Oregon', 'Texas']\n",
    "obj4 = Series(sdata, index = states)\n",
    "print obj4\n",
    "print\n",
    "\n",
    "print 'Series相加，相同索引部分相加。'\n",
    "print obj3 + obj4\n",
    "print\n",
    "\n",
    "print '指定Series及其索引的名字'\n",
    "obj4.name = 'population'\n",
    "obj4.index.name = 'state'\n",
    "print obj4\n",
    "print\n",
    "\n",
    "print '替换index'\n",
    "obj.index = ['Bob', 'Steve', 'Jeff', 'Ryan']\n",
    "print obj\n"
   ]
  },
  {
   "cell_type": "markdown",
   "metadata": {},
   "source": [
    "## DataFrame"
   ]
  },
  {
   "cell_type": "raw",
   "metadata": {},
   "source": [
    "层次化索引的表格型结构\n",
    "• DataFrame是一个表格型的数据结构，它含有一组有序的列，每列可以是不同 的值类型（数值、字符串、布尔值等）。 \n",
    "• DataFrame既有行索引也有列索引，它可以被看做由Series组成的字典（共用 同一个索引）\n",
    "\n",
    "二维ndarray         数据矩阵，还可以传入行标和列标。 \n",
    "由Series组成的字典    每个Series会组成一列。如果没有显示指定索引，\n",
    "                则各Series的索引会被合并成结果的行索引。 \n",
    "由字典组成的字典     各内层字典会成为一列。键会被合并成结果的行索引，\n",
    "                跟“由Series组成的字典”的情 况一样。 \n",
    "字典或Series的列表    各项将会成为DataFrame的一行。\n",
    "                字典键或Series索引的并集将会成为DataFrame的列标。 \n",
    "由列表或元组组成的列表    类似于“二维ndarray” \n",
    "另一个DataFrame        该DataFrame的索引将会被沿用，除非显示指定了其他索引。 \n",
    "NumPy的MaskedArray      类似于“二维ndarray”的情况，\n",
    "                  只是掩码值在结果DataFrame会变成NA/缺失值。\n",
    "由数组、列表或元组组成的字典   每个序列会变成DataFrame的一列，所有序列的长度必须相同。 \n",
    "NumPy的结构化/记录数组       类似于“由数组组成的字典” "
   ]
  },
  {
   "cell_type": "code",
   "execution_count": 6,
   "metadata": {},
   "outputs": [
    {
     "name": "stdout",
     "output_type": "stream",
     "text": [
      "用字典生成DataFrame，key为列的名字。\n",
      "   pop   state  year\n",
      "0  1.5    Ohio  2000\n",
      "1  1.7    Ohio  2001\n",
      "2  3.6    Ohio  2002\n",
      "3  2.4  Nevada  2001\n",
      "4  2.9  Nevada  2002\n",
      "   year   state  pop\n",
      "0  2000    Ohio  1.5\n",
      "1  2001    Ohio  1.7\n",
      "2  2002    Ohio  3.6\n",
      "3  2001  Nevada  2.4\n",
      "4  2002  Nevada  2.9\n",
      "\n"
     ]
    }
   ],
   "source": [
    "import numpy as np\n",
    "from pandas import Series, DataFrame\n",
    "\n",
    "print '用字典生成DataFrame，key为列的名字。'\n",
    "data = {'state':['Ohio', 'Ohio', 'Ohio', 'Nevada', 'Nevada'],\n",
    "        'year':[2000, 2001, 2002, 2001, 2002],\n",
    "        'pop':[1.5, 1.7, 3.6, 2.4, 2.9]}\n",
    "print DataFrame(data)\n",
    "print DataFrame(data, columns = ['year', 'state', 'pop']) # 指定列顺序\n",
    "print"
   ]
  },
  {
   "cell_type": "code",
   "execution_count": 22,
   "metadata": {},
   "outputs": [
    {
     "name": "stdout",
     "output_type": "stream",
     "text": [
      "指定索引，在列中指定不存在的列，默认数据用NaN。\n",
      "       year   state  pop debt\n",
      "one    2000    Ohio  1.5  NaN\n",
      "two    2001    Ohio  1.7  NaN\n",
      "three  2002    Ohio  3.6  NaN\n",
      "four   2001  Nevada  2.4  NaN\n",
      "five   2002  Nevada  2.9  NaN\n",
      "\n",
      "列索引--frame2[state] #列索引--\n",
      "one        Ohio\n",
      "two        Ohio\n",
      "three      Ohio\n",
      "four     Nevada\n",
      "five     Nevada\n",
      "Name: state, dtype: object\n",
      "\n",
      "列索引frame2.year# 要用.***\n",
      "one      2000\n",
      "two      2001\n",
      "three    2002\n",
      "four     2001\n",
      "five     2002\n",
      "Name: year, dtype: int64\n",
      "\n",
      "行索引frame2.loc[three]\n",
      "year     2002\n",
      "state    Ohio\n",
      "pop       3.6\n",
      "debt      NaN\n",
      "Name: three, dtype: object\n"
     ]
    }
   ],
   "source": [
    "print '指定索引，在列中指定不存在的列，默认数据用NaN。'\n",
    "frame2 = DataFrame(data,\n",
    "                    columns = ['year', 'state', 'pop', 'debt'],\n",
    "                    index = ['one', 'two', 'three', 'four', 'five'])\n",
    "print frame2\n",
    "print\n",
    "print '列索引--frame2[state] #列索引--'\n",
    "print frame2['state'] #列索引\n",
    "print\n",
    "print '列索引frame2.year# 要用.***'\n",
    "print frame2.year     #列索引 也能用.***\n",
    "print\n",
    "print '行索引frame2.loc[three]'\n",
    "print frame2.loc['three']"
   ]
  },
  {
   "cell_type": "code",
   "execution_count": 24,
   "metadata": {},
   "outputs": [
    {
     "name": "stdout",
     "output_type": "stream",
     "text": [
      "       year   state  pop  debt\n",
      "one    2000    Ohio  1.5  16.5\n",
      "two    2001    Ohio  1.7  16.5\n",
      "three  2002    Ohio  3.6  16.5\n",
      "four   2001  Nevada  2.4  16.5\n",
      "five   2002  Nevada  2.9  16.5\n",
      "\n",
      "       year   state  pop  debt\n",
      "one    2000    Ohio  1.5     0\n",
      "two    2001    Ohio  1.7     1\n",
      "three  2002    Ohio  3.6     2\n",
      "four   2001  Nevada  2.4     3\n",
      "five   2002  Nevada  2.9     4\n"
     ]
    }
   ],
   "source": [
    "frame2['debt'] = 16.5 # 修改一整列\n",
    "print frame2\n",
    "print\n",
    "frame2.debt = np.arange(5)  # 用numpy数组修改元素\n",
    "print frame2"
   ]
  },
  {
   "cell_type": "code",
   "execution_count": 29,
   "metadata": {},
   "outputs": [
    {
     "name": "stdout",
     "output_type": "stream",
     "text": [
      "用Series指定要修改的索引及其对应的值，没有指定的默认数据用NaN。\n",
      "       year   state  pop  debt  eastern\n",
      "one    2000    Ohio  1.5   NaN     True\n",
      "two    2001    Ohio  1.7  -1.2     True\n",
      "three  2002    Ohio  3.6   NaN     True\n",
      "four   2001  Nevada  2.4  -1.5    False\n",
      "five   2002  Nevada  2.9  -1.7    False\n",
      "\n",
      "赋值给新列\n",
      "---------Ohio---------\n",
      "one       True\n",
      "two       True\n",
      "three     True\n",
      "four     False\n",
      "five     False\n",
      "Name: state, dtype: bool\n",
      "       year   state  pop  debt  eastern\n",
      "one    2000    Ohio  1.5   NaN     True\n",
      "two    2001    Ohio  1.7  -1.2     True\n",
      "three  2002    Ohio  3.6   NaN     True\n",
      "four   2001  Nevada  2.4  -1.5    False\n",
      "five   2002  Nevada  2.9  -1.7    False\n",
      "Index([u'year', u'state', u'pop', u'debt', u'eastern'], dtype='object')\n",
      "\n"
     ]
    }
   ],
   "source": [
    "print '用Series指定要修改的索引及其对应的值，没有指定的默认数据用NaN。'\n",
    "val = Series([-1.2, -1.5, -1.7], index = ['two', 'four', 'five'])\n",
    "frame2['debt'] = val\n",
    "print frame2\n",
    "print\n",
    "\n",
    "print '赋值给新列'\n",
    "print '---------Ohio---------'\n",
    "print frame2.state == 'Ohio'\n",
    "frame2['eastern'] = (frame2.state == 'Ohio')  # 如果state等于Ohio为True\n",
    "print frame2\n",
    "print frame2.columns\n",
    "print"
   ]
  },
  {
   "cell_type": "code",
   "execution_count": 30,
   "metadata": {},
   "outputs": [
    {
     "name": "stdout",
     "output_type": "stream",
     "text": [
      "DataFrame转置\n",
      "      Nevada  Ohio\n",
      "2000     NaN   1.5\n",
      "2001     2.4   1.7\n",
      "2002     2.9   3.6\n",
      "        2000  2001  2002\n",
      "Nevada   NaN   2.4   2.9\n",
      "Ohio     1.5   1.7   3.6\n",
      "\n",
      "指定索引顺序，以及使用切片初始化数据。\n",
      "      Nevada  Ohio\n",
      "2001     2.4   1.7\n",
      "2002     2.9   3.6\n",
      "2003     NaN   NaN\n",
      "      Nevada  Ohio\n",
      "2000     NaN   1.5\n",
      "2001     2.4   1.7\n",
      "\n",
      "指定索引和列的名称\n",
      "state  Nevada  Ohio\n",
      "year               \n",
      "2000      NaN   1.5\n",
      "2001      2.4   1.7\n",
      "2002      2.9   3.6\n",
      "[[ nan  1.5]\n",
      " [ 2.4  1.7]\n",
      " [ 2.9  3.6]]\n",
      "[[2000L 'Ohio' 1.5 nan True]\n",
      " [2001L 'Ohio' 1.7 -1.2 True]\n",
      " [2002L 'Ohio' 3.6 nan True]\n",
      " [2001L 'Nevada' 2.4 -1.5 False]\n",
      " [2002L 'Nevada' 2.9 -1.7 False]]\n"
     ]
    }
   ],
   "source": [
    "\n",
    "print 'DataFrame转置'\n",
    "pop = {'Nevada':{2001:2.4, 2002:2.9},\n",
    "        'Ohio':{2000:1.5, 2001:1.7, 2002:3.6}}\n",
    "frame3 = DataFrame(pop)\n",
    "print frame3\n",
    "print frame3.T\n",
    "print\n",
    "\n",
    "print '指定索引顺序，以及使用切片初始化数据。'\n",
    "print DataFrame(pop, index = [2001, 2002, 2003])\n",
    "pdata = {'Ohio':frame3['Ohio'][:-1], 'Nevada':frame3['Nevada'][:2]}\n",
    "print DataFrame(pdata)\n",
    "print\n",
    "\n",
    "print '指定索引和列的名称'\n",
    "frame3.index.name = 'year'\n",
    "frame3.columns.name = 'state'\n",
    "print frame3\n",
    "print frame3.values #只有值, 不带索引\n",
    "print frame2.values"
   ]
  }
 ],
 "metadata": {
  "kernelspec": {
   "display_name": "Python 2",
   "language": "python",
   "name": "python2"
  },
  "language_info": {
   "codemirror_mode": {
    "name": "ipython",
    "version": 2
   },
   "file_extension": ".py",
   "mimetype": "text/x-python",
   "name": "python",
   "nbconvert_exporter": "python",
   "pygments_lexer": "ipython2",
   "version": "2.7.14"
  },
  "toc": {
   "nav_menu": {},
   "number_sections": true,
   "sideBar": true,
   "skip_h1_title": false,
   "toc_cell": false,
   "toc_position": {},
   "toc_section_display": "block",
   "toc_window_display": true
  }
 },
 "nbformat": 4,
 "nbformat_minor": 2
}
