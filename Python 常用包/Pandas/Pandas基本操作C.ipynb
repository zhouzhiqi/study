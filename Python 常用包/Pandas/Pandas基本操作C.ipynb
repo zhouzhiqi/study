{
 "cells": [
  {
   "cell_type": "markdown",
   "metadata": {},
   "source": [
    "## 汇总和计算描述统计"
   ]
  },
  {
   "cell_type": "raw",
   "metadata": {},
   "source": [
    "• 数值型和非数值型的区别 \n",
    "• NA值被自动排查，除非通过skipna选项\n",
    "\n",
    "• 常用方法选项\n",
    "axis     指定轴，DataFrame的行用0，列用1。 \n",
    "skipna    排除缺失值，默认值为True。 \n",
    "level    如果轴是层次化索引的（即MultiIndex），则根据level选取分组\n",
    "\n",
    "• 常用描述和汇总统计函数\n",
    "count    非NA值的数量 \n",
    "describe  针对Series或各DataFrame列计算汇总统计 \n",
    "min, max  计算最小值和最大值 \n",
    "argmin, argmax   计算能够获取到最小值和最大值的索引位置（整数） \n",
    "idxmin, idxmax   计算能够获取到最小值和最大值的索引值 \n",
    "sum     值的总和 \n",
    "mean     值的平均数 \n",
    "median   值的算术中位数 \n",
    "mad     根据平均值计算平均绝对离差\n",
    "var     样本值的方差 \n",
    "std     样本值的标准差 \n",
    "skew    样本值的偏度（三阶矩） \n",
    "kurt    样本值的偏度（四阶矩） \n",
    "cumsum   样本值的累计和 \n",
    "cumprod   样本值的累计积 \n",
    "diff     计算一阶差分 \n",
    "pct_change 计算百分数变化\n",
    "cummin, cummax   样本值的累计最大值和累计最小值 "
   ]
  },
  {
   "cell_type": "code",
   "execution_count": 2,
   "metadata": {},
   "outputs": [
    {
     "name": "stdout",
     "output_type": "stream",
     "text": [
      "求和\n",
      "    one  two\n",
      "a  1.40  NaN\n",
      "b  7.10 -4.5\n",
      "c   NaN  NaN\n",
      "d  0.75 -1.3\n",
      "one    9.25\n",
      "two   -5.80\n",
      "dtype: float64\n",
      "a    1.40\n",
      "b    2.60\n",
      "c    0.00\n",
      "d   -0.55\n",
      "dtype: float64\n",
      "\n",
      "平均数\n",
      "a      NaN\n",
      "b    1.300\n",
      "c      NaN\n",
      "d   -0.275\n",
      "dtype: float64\n",
      "a    1.400\n",
      "b    1.300\n",
      "c      NaN\n",
      "d   -0.275\n",
      "dtype: float64\n",
      "\n"
     ]
    }
   ],
   "source": [
    "import numpy as np\n",
    "from pandas import Series, DataFrame\n",
    "\n",
    "print '求和'\n",
    "df = DataFrame([[1.4, np.nan], [7.1, -4.5], [np.nan, np.nan], [0.75, -1.3]],\n",
    "              index = ['a', 'b', 'c', 'd'],\n",
    "              columns = ['one', 'two'])\n",
    "print df\n",
    "print df.sum()  # 按列求和\n",
    "print df.sum(axis = 1)  # 按行求和\n",
    "print\n",
    "\n",
    "print '平均数'\n",
    "print df.mean(axis = 1, skipna = False)\n",
    "print df.mean(axis = 1)\n",
    "print\n"
   ]
  },
  {
   "cell_type": "code",
   "execution_count": 3,
   "metadata": {},
   "outputs": [
    {
     "name": "stdout",
     "output_type": "stream",
     "text": [
      "其它\n",
      "one    b\n",
      "two    d\n",
      "dtype: object\n",
      "    one  two\n",
      "a  1.40  NaN\n",
      "b  8.50 -4.5\n",
      "c   NaN  NaN\n",
      "d  9.25 -5.8\n",
      "            one       two\n",
      "count  3.000000  2.000000\n",
      "mean   3.083333 -2.900000\n",
      "std    3.493685  2.262742\n",
      "min    0.750000 -4.500000\n",
      "25%    1.075000 -3.700000\n",
      "50%    1.400000 -2.900000\n",
      "75%    4.250000 -2.100000\n",
      "max    7.100000 -1.300000\n",
      "count     16\n",
      "unique     3\n",
      "top        a\n",
      "freq       8\n",
      "dtype: object\n"
     ]
    }
   ],
   "source": [
    "print '其它'\n",
    "print df.idxmax()\n",
    "print df.cumsum()\n",
    "print df.describe()\n",
    "obj = Series(['a', 'a', 'b', 'c'] * 4)\n",
    "print obj.describe()"
   ]
  },
  {
   "cell_type": "markdown",
   "metadata": {},
   "source": [
    "## 汇总和计算描述统计 相关系数与协方差"
   ]
  },
  {
   "cell_type": "raw",
   "metadata": {},
   "source": [
    "• 相关系数：相关系数是用以反映变量之间相关关系密切程度的统计指标。\n",
    "• 协方差：从直观上来看，协方差表示的是两个变量总体误差的期望。\n",
    "如果两个变量的变化趋势一致，也就是说如果其中一个大于自身的期望值时另外一个也大于自身的期望值，那么两个变量之间的协方差就是正值；\n",
    "如果两个变量的变化趋势相反，即其中一个变量大于自身的期望值时另外一个却小于自身的期望值，那么两个变量之间的协方差就是负值"
   ]
  },
  {
   "cell_type": "code",
   "execution_count": 5,
   "metadata": {},
   "outputs": [
    {
     "name": "stdout",
     "output_type": "stream",
     "text": [
      "相关性与协方差\n",
      "                AAPL      GOOG       IBM      MSFT\n",
      "Date                                              \n",
      "2016-07-11  0.003103  0.013406  0.005633  0.005545\n",
      "2016-07-12  0.004537  0.007761  0.011009  0.011789\n",
      "2016-07-13 -0.005646 -0.005079  0.006241  0.005638\n",
      "2016-07-14  0.019820  0.005537  0.014302  0.004298\n",
      "2016-07-15 -0.000101 -0.001526 -0.003120 -0.000744\n",
      "\n",
      "0.548141551458\n",
      "\n",
      "          AAPL      GOOG       IBM      MSFT\n",
      "AAPL  1.000000  0.392802  0.371637  0.391433\n",
      "GOOG  0.392802  1.000000  0.626106  0.802009\n",
      "IBM   0.371637  0.626106  1.000000  0.548142\n",
      "MSFT  0.391433  0.802009  0.548142  1.000000\n",
      "\n",
      "          AAPL      GOOG       IBM      MSFT\n",
      "AAPL  0.000197  0.000068  0.000071  0.000083\n",
      "GOOG  0.000068  0.000153  0.000106  0.000149\n",
      "IBM   0.000071  0.000106  0.000186  0.000113\n",
      "MSFT  0.000083  0.000149  0.000113  0.000227\n",
      "\n",
      "AAPL    0.371637\n",
      "GOOG    0.626106\n",
      "IBM     1.000000\n",
      "MSFT    0.548142\n",
      "dtype: float64\n",
      "\n"
     ]
    },
    {
     "ename": "AttributeError",
     "evalue": "'DataFrame' object has no attribute 'volume'",
     "output_type": "error",
     "traceback": [
      "\u001b[1;31m---------------------------------------------------------------------------\u001b[0m",
      "\u001b[1;31mAttributeError\u001b[0m                            Traceback (most recent call last)",
      "\u001b[1;32m<ipython-input-5-25acec9da1e0>\u001b[0m in \u001b[0;36m<module>\u001b[1;34m()\u001b[0m\n\u001b[0;32m     20\u001b[0m \u001b[1;32mprint\u001b[0m \u001b[0mreturns\u001b[0m\u001b[1;33m.\u001b[0m\u001b[0mcorrwith\u001b[0m\u001b[1;33m(\u001b[0m\u001b[0mreturns\u001b[0m\u001b[1;33m.\u001b[0m\u001b[0mIBM\u001b[0m\u001b[1;33m)\u001b[0m\u001b[1;33m\u001b[0m\u001b[0m\n\u001b[0;32m     21\u001b[0m \u001b[1;32mprint\u001b[0m\u001b[1;33m\u001b[0m\u001b[0m\n\u001b[1;32m---> 22\u001b[1;33m \u001b[1;32mprint\u001b[0m \u001b[0mreturns\u001b[0m\u001b[1;33m.\u001b[0m\u001b[0mcorrwith\u001b[0m\u001b[1;33m(\u001b[0m\u001b[0mreturns\u001b[0m\u001b[1;33m.\u001b[0m\u001b[0mvolume\u001b[0m\u001b[1;33m)\u001b[0m\u001b[1;33m\u001b[0m\u001b[0m\n\u001b[0m",
      "\u001b[1;32mI:\\Anaconda2\\lib\\site-packages\\pandas\\core\\generic.pyc\u001b[0m in \u001b[0;36m__getattr__\u001b[1;34m(self, name)\u001b[0m\n\u001b[0;32m   3079\u001b[0m             \u001b[1;32mif\u001b[0m \u001b[0mname\u001b[0m \u001b[1;32min\u001b[0m \u001b[0mself\u001b[0m\u001b[1;33m.\u001b[0m\u001b[0m_info_axis\u001b[0m\u001b[1;33m:\u001b[0m\u001b[1;33m\u001b[0m\u001b[0m\n\u001b[0;32m   3080\u001b[0m                 \u001b[1;32mreturn\u001b[0m \u001b[0mself\u001b[0m\u001b[1;33m[\u001b[0m\u001b[0mname\u001b[0m\u001b[1;33m]\u001b[0m\u001b[1;33m\u001b[0m\u001b[0m\n\u001b[1;32m-> 3081\u001b[1;33m             \u001b[1;32mreturn\u001b[0m \u001b[0mobject\u001b[0m\u001b[1;33m.\u001b[0m\u001b[0m__getattribute__\u001b[0m\u001b[1;33m(\u001b[0m\u001b[0mself\u001b[0m\u001b[1;33m,\u001b[0m \u001b[0mname\u001b[0m\u001b[1;33m)\u001b[0m\u001b[1;33m\u001b[0m\u001b[0m\n\u001b[0m\u001b[0;32m   3082\u001b[0m \u001b[1;33m\u001b[0m\u001b[0m\n\u001b[0;32m   3083\u001b[0m     \u001b[1;32mdef\u001b[0m \u001b[0m__setattr__\u001b[0m\u001b[1;33m(\u001b[0m\u001b[0mself\u001b[0m\u001b[1;33m,\u001b[0m \u001b[0mname\u001b[0m\u001b[1;33m,\u001b[0m \u001b[0mvalue\u001b[0m\u001b[1;33m)\u001b[0m\u001b[1;33m:\u001b[0m\u001b[1;33m\u001b[0m\u001b[0m\n",
      "\u001b[1;31mAttributeError\u001b[0m: 'DataFrame' object has no attribute 'volume'"
     ]
    }
   ],
   "source": [
    "import numpy as np\n",
    "import pandas_datareader.data as web\n",
    "from pandas import DataFrame\n",
    "\n",
    "print '相关性与协方差'  # 协方差：https://zh.wikipedia.org/wiki/%E5%8D%8F%E6%96%B9%E5%B7%AE\n",
    "all_data = {}\n",
    "for ticker in ['AAPL', 'IBM', 'MSFT', 'GOOG']:\n",
    "    all_data[ticker] = web.get_data_yahoo(ticker, '4/1/2016', '7/15/2016')\n",
    "    price = DataFrame({tic: data['Adj Close'] for tic, data in all_data.iteritems()})\n",
    "    volume = DataFrame({tic: data['Volume'] for tic, data in all_data.iteritems()})\n",
    "returns = price.pct_change()\n",
    "print returns.tail()\n",
    "print\n",
    "print returns.MSFT.corr(returns.IBM)\n",
    "print\n",
    "print returns.corr()  # 相关性，自己和自己的相关性总是1\n",
    "print\n",
    "print returns.cov() # 协方差\n",
    "print\n",
    "print returns.corrwith(returns.IBM)\n",
    "print\n",
    "print returns.corrwith(returns.volume)"
   ]
  },
  {
   "cell_type": "markdown",
   "metadata": {},
   "source": [
    "## 汇总和计算描述统计 唯一值以及成员资格"
   ]
  },
  {
   "cell_type": "raw",
   "metadata": {},
   "source": [
    "• 常用方法  类型 说明 \n",
    "is_in    计算一个表示“Series各值是否包含于传入的值序列中”的布尔型数组 \n",
    "unique   计算Series中的唯一值数组，按发现的顺序返回。 \n",
    "value_counts   返回一个Series，其索引为唯一值，其值为频率，按计数值降序排列"
   ]
  },
  {
   "cell_type": "code",
   "execution_count": 7,
   "metadata": {},
   "outputs": [
    {
     "name": "stdout",
     "output_type": "stream",
     "text": [
      "去重\n",
      "['c' 'a' 'd' 'b']\n",
      "c    3\n",
      "a    3\n",
      "b    2\n",
      "d    1\n",
      "dtype: int64\n",
      "\n",
      "判断元素存在\n",
      "0     True\n",
      "1    False\n",
      "2    False\n",
      "3    False\n",
      "4    False\n",
      "5     True\n",
      "6     True\n",
      "7     True\n",
      "8     True\n",
      "dtype: bool\n",
      "\n",
      "0    c\n",
      "5    b\n",
      "6    b\n",
      "7    c\n",
      "8    c\n",
      "dtype: object\n"
     ]
    }
   ],
   "source": [
    "import numpy as np\n",
    "import pandas as pd\n",
    "from pandas import Series, DataFrame\n",
    "\n",
    "print '去重'\n",
    "obj = Series(['c', 'a', 'd', 'a', 'a', 'b', 'b', 'c', 'c'])\n",
    "print obj.unique()\n",
    "print obj.value_counts()\n",
    "print\n",
    "\n",
    "print '判断元素存在'\n",
    "mask = obj.isin(['b', 'c'])\n",
    "print mask\n",
    "print\n",
    "print obj[mask] #只打印元素b和c"
   ]
  },
  {
   "cell_type": "code",
   "execution_count": 8,
   "metadata": {},
   "outputs": [
    {
     "name": "stdout",
     "output_type": "stream",
     "text": [
      "填充元素\n",
      "   Qu1  Qu2  Qu3\n",
      "0    1    2    1\n",
      "1    3    3    5\n",
      "2    4    1    2\n",
      "3    3    2    4\n",
      "4    4    3    4\n",
      "   Qu1  Qu2  Qu3\n",
      "1  1.0  1.0  1.0\n",
      "2  0.0  2.0  1.0\n",
      "3  2.0  2.0  0.0\n",
      "4  2.0  0.0  2.0\n",
      "5  0.0  0.0  1.0\n",
      "     1    2    3    4    5\n",
      "0  2.0  1.0  0.0  0.0  0.0\n",
      "1  0.0  0.0  2.0  0.0  1.0\n",
      "2  1.0  1.0  0.0  1.0  0.0\n",
      "3  0.0  1.0  1.0  1.0  0.0\n",
      "4  0.0  0.0  1.0  2.0  0.0\n"
     ]
    }
   ],
   "source": [
    "print '填充元素'\n",
    "data = DataFrame({'Qu1':[1, 3, 4, 3, 4],\n",
    "                  'Qu2':[2, 3, 1, 2, 3],\n",
    "                  'Qu3':[1, 5, 2, 4, 4]})\n",
    "print data\n",
    "print data.apply(pd.value_counts).fillna(0)\n",
    "print data.apply(pd.value_counts, axis = 1).fillna(0)"
   ]
  },
  {
   "cell_type": "markdown",
   "metadata": {},
   "source": [
    "## 处理缺失数据"
   ]
  },
  {
   "cell_type": "raw",
   "metadata": {},
   "source": [
    "• NA处理方法    类型 说明 \n",
    "dropna   根据各标签的值中是否存在缺少数据对轴 \n",
    "fillba   样本值的标准差 \n",
    "isnull   样本值的偏度（三阶矩） \n",
    "notnull\n",
    "• NaN（Not a Number）表示浮点数和非浮点数组中的缺失数据 \n",
    "• None也被当作NA处理"
   ]
  },
  {
   "cell_type": "code",
   "execution_count": 9,
   "metadata": {},
   "outputs": [
    {
     "name": "stdout",
     "output_type": "stream",
     "text": [
      "作为null处理的值\n",
      "0     aardvark\n",
      "1    artichoke\n",
      "2          NaN\n",
      "3      avocado\n",
      "dtype: object\n",
      "\n",
      "0    False\n",
      "1    False\n",
      "2     True\n",
      "3    False\n",
      "dtype: bool\n",
      "\n",
      "0     True\n",
      "1    False\n",
      "2     True\n",
      "3    False\n",
      "dtype: bool\n"
     ]
    }
   ],
   "source": [
    "import numpy as np\n",
    "from pandas import Series\n",
    "\n",
    "print '作为null处理的值'\n",
    "string_data = Series(['aardvark', 'artichoke', np.nan, 'avocado'])\n",
    "print string_data\n",
    "print\n",
    "print string_data.isnull()\n",
    "print\n",
    "\n",
    "string_data[0] = None\n",
    "print string_data.isnull()"
   ]
  },
  {
   "cell_type": "markdown",
   "metadata": {},
   "source": [
    "## 处理缺失数据 滤除缺失数据\n",
    "• dropna \n",
    "• 布尔索引 \n",
    "• DatFrame默认丢弃任何含有缺失值的行 \n",
    "• how参数控制行为，axis参数选择轴，thresh参数控制留下的数量"
   ]
  },
  {
   "cell_type": "code",
   "execution_count": 10,
   "metadata": {},
   "outputs": [
    {
     "name": "stdout",
     "output_type": "stream",
     "text": [
      "丢弃NA\n",
      "0    1.0\n",
      "2    3.5\n",
      "4    7.0\n",
      "dtype: float64\n",
      "\n",
      "0    1.0\n",
      "2    3.5\n",
      "4    7.0\n",
      "dtype: float64\n",
      "\n"
     ]
    }
   ],
   "source": [
    "import numpy as np\n",
    "from numpy import nan as NA\n",
    "from pandas import Series, DataFrame\n",
    "\n",
    "print '丢弃NA'\n",
    "data = Series([1, NA, 3.5, NA, 7])\n",
    "print data.dropna()\n",
    "print\n",
    "print data[data.notnull()]\n",
    "print\n"
   ]
  },
  {
   "cell_type": "code",
   "execution_count": 11,
   "metadata": {},
   "outputs": [
    {
     "name": "stdout",
     "output_type": "stream",
     "text": [
      "DataFrame对丢弃NA的处理\n",
      "     0    1    2\n",
      "0  1.0  6.5  3.0\n",
      "\n",
      "     0    1    2\n",
      "0  1.0  6.5  3.0\n",
      "1  1.0  NaN  NaN\n",
      "3  NaN  6.5  3.0\n",
      "\n",
      "     0    1    2\n",
      "0  1.0  6.5  3.0\n",
      "1  1.0  NaN  NaN\n",
      "2  NaN  NaN  NaN\n",
      "3  NaN  6.5  3.0\n",
      "\n",
      "          0         1         2\n",
      "0 -1.486808       NaN       NaN\n",
      "1 -1.523071       NaN       NaN\n",
      "2  0.145578       NaN       NaN\n",
      "3  0.808223       NaN  0.890300\n",
      "4  0.966091       NaN  0.265920\n",
      "5 -0.776059  1.122912  1.200437\n",
      "6 -1.432443  0.650596 -0.579697\n",
      "\n",
      "          0         1         2\n",
      "3  0.808223       NaN  0.890300\n",
      "4  0.966091       NaN  0.265920\n",
      "5 -0.776059  1.122912  1.200437\n",
      "6 -1.432443  0.650596 -0.579697\n"
     ]
    },
    {
     "name": "stderr",
     "output_type": "stream",
     "text": [
      "I:\\Anaconda2\\lib\\site-packages\\ipykernel_launcher.py:14: DeprecationWarning: \n",
      ".ix is deprecated. Please use\n",
      ".loc for label based indexing or\n",
      ".iloc for positional indexing\n",
      "\n",
      "See the documentation here:\n",
      "http://pandas.pydata.org/pandas-docs/stable/indexing.html#ix-indexer-is-deprecated\n",
      "  \n"
     ]
    }
   ],
   "source": [
    "print 'DataFrame对丢弃NA的处理'\n",
    "data = DataFrame([[1., 6.5, 3.], [1., NA, NA],\n",
    "                  [NA, NA, NA], [NA, 6.5, 3.]])\n",
    "print data.dropna() # 默认只要某行有NA就全部删除\n",
    "print\n",
    "print data.dropna(how = 'all')  # 全部为NA才删除\n",
    "print\n",
    "\n",
    "data[4] = NA  # 新增一列\n",
    "print data.dropna(axis = 1, how = 'all')\n",
    "print\n",
    "\n",
    "data = DataFrame(np.random.randn(7, 3))\n",
    "data.ix[:4, 1] = NA\n",
    "data.ix[:2, 2] = NA\n",
    "print data\n",
    "print\n",
    "print data.dropna(thresh = 2) # 每行至少要有2个非NA元素"
   ]
  },
  {
   "cell_type": "markdown",
   "metadata": {},
   "source": [
    "## 处理缺失数据 填充缺失数据\n",
    "• fillna \n",
    "• inplace参数控制返回新对象还是就地修改 "
   ]
  },
  {
   "cell_type": "code",
   "execution_count": 12,
   "metadata": {},
   "outputs": [
    {
     "name": "stdout",
     "output_type": "stream",
     "text": [
      "填充0\n",
      "          0         1         2\n",
      "0 -0.902490  0.000000  0.000000\n",
      "1  0.234163  0.000000  0.000000\n",
      "2 -0.252833  0.000000  0.000000\n",
      "3  1.585434  0.000000 -0.945931\n",
      "4  1.604153  0.000000 -0.574996\n",
      "5 -1.497610  0.032698 -0.249293\n",
      "6 -1.043103  1.147533 -0.904283\n",
      "          0         1         2\n",
      "0 -0.902490  0.000000  0.000000\n",
      "1  0.234163  0.000000  0.000000\n",
      "2 -0.252833  0.000000  0.000000\n",
      "3  1.585434  0.000000 -0.945931\n",
      "4  1.604153  0.000000 -0.574996\n",
      "5 -1.497610  0.032698 -0.249293\n",
      "6 -1.043103  1.147533 -0.904283\n",
      "\n",
      "不同行列填充不同的值\n",
      "          0         1         2\n",
      "0 -0.902490  0.000000  0.000000\n",
      "1  0.234163  0.000000  0.000000\n",
      "2 -0.252833  0.000000  0.000000\n",
      "3  1.585434  0.000000 -0.945931\n",
      "4  1.604153  0.000000 -0.574996\n",
      "5 -1.497610  0.032698 -0.249293\n",
      "6 -1.043103  1.147533 -0.904283\n",
      "\n"
     ]
    },
    {
     "name": "stderr",
     "output_type": "stream",
     "text": [
      "I:\\Anaconda2\\lib\\site-packages\\ipykernel_launcher.py:8: DeprecationWarning: \n",
      ".ix is deprecated. Please use\n",
      ".loc for label based indexing or\n",
      ".iloc for positional indexing\n",
      "\n",
      "See the documentation here:\n",
      "http://pandas.pydata.org/pandas-docs/stable/indexing.html#ix-indexer-is-deprecated\n",
      "  \n"
     ]
    }
   ],
   "source": [
    "import numpy as np\n",
    "from numpy import nan as NA\n",
    "import pandas as pd\n",
    "from pandas import Series, DataFrame, Index\n",
    "\n",
    "print '填充0'\n",
    "df = DataFrame(np.random.randn(7, 3))\n",
    "df.ix[:4, 1] = NA\n",
    "df.ix[:2, 2] = NA\n",
    "print df.fillna(0)\n",
    "df.fillna(0, inplace = True)\n",
    "print df\n",
    "print\n",
    "\n",
    "print '不同行列填充不同的值'\n",
    "print df.fillna({1:0.5, 3:-1})  # 第3列不存在\n",
    "print"
   ]
  },
  {
   "cell_type": "code",
   "execution_count": 13,
   "metadata": {},
   "outputs": [
    {
     "name": "stdout",
     "output_type": "stream",
     "text": [
      "不同的填充方式\n",
      "          0         1         2\n",
      "0  1.890036 -0.713413 -0.857437\n",
      "1 -2.810782  0.843106  0.654980\n",
      "2 -0.992501       NaN  1.150643\n",
      "3  1.668075       NaN  0.681253\n",
      "4 -1.363975       NaN       NaN\n",
      "5 -1.292241       NaN       NaN\n",
      "          0         1         2\n",
      "0  1.890036 -0.713413 -0.857437\n",
      "1 -2.810782  0.843106  0.654980\n",
      "2 -0.992501  0.843106  1.150643\n",
      "3  1.668075  0.843106  0.681253\n",
      "4 -1.363975  0.843106  0.681253\n",
      "5 -1.292241  0.843106  0.681253\n",
      "          0         1         2\n",
      "0  1.890036 -0.713413 -0.857437\n",
      "1 -2.810782  0.843106  0.654980\n",
      "2 -0.992501  0.843106  1.150643\n",
      "3  1.668075  0.843106  0.681253\n",
      "4 -1.363975       NaN  0.681253\n",
      "5 -1.292241       NaN  0.681253\n",
      "\n",
      "用统计数据填充\n",
      "0    1.000000\n",
      "1    3.833333\n",
      "2    3.500000\n",
      "3    3.833333\n",
      "4    7.000000\n",
      "dtype: float64\n"
     ]
    },
    {
     "name": "stderr",
     "output_type": "stream",
     "text": [
      "I:\\Anaconda2\\lib\\site-packages\\ipykernel_launcher.py:3: DeprecationWarning: \n",
      ".ix is deprecated. Please use\n",
      ".loc for label based indexing or\n",
      ".iloc for positional indexing\n",
      "\n",
      "See the documentation here:\n",
      "http://pandas.pydata.org/pandas-docs/stable/indexing.html#ix-indexer-is-deprecated\n",
      "  This is separate from the ipykernel package so we can avoid doing imports until\n"
     ]
    }
   ],
   "source": [
    "print '不同的填充方式'\n",
    "df = DataFrame(np.random.randn(6, 3))\n",
    "df.ix[2:, 1] = NA\n",
    "df.ix[4:, 2] = NA\n",
    "print df\n",
    "print df.fillna(method = 'ffill')\n",
    "print df.fillna(method = 'ffill', limit = 2)\n",
    "print\n",
    "\n",
    "print '用统计数据填充'\n",
    "data = Series([1., NA, 3.5, NA, 7])\n",
    "print data.fillna(data.mean())\n"
   ]
  },
  {
   "cell_type": "markdown",
   "metadata": {},
   "source": [
    "## 层次化索引\n",
    "• 使你能在一个轴上拥有多个（两个以上）索引级别。抽象的说，它使你能以低 纬度形式处理高维度数据。 \n",
    "• 通过stack与unstack变换DataFrame "
   ]
  },
  {
   "cell_type": "code",
   "execution_count": 14,
   "metadata": {},
   "outputs": [
    {
     "name": "stdout",
     "output_type": "stream",
     "text": [
      "Series的层次索引\n",
      "a  1    0.014935\n",
      "   2    1.772134\n",
      "   3    0.611526\n",
      "b  1   -0.020367\n",
      "   2   -0.503875\n",
      "   3   -0.379893\n",
      "c  1    1.019552\n",
      "   2   -0.601351\n",
      "d  2   -0.804419\n",
      "   3    0.359945\n",
      "dtype: float64\n",
      "MultiIndex(levels=[[u'a', u'b', u'c', u'd'], [1, 2, 3]],\n",
      "           labels=[[0, 0, 0, 1, 1, 1, 2, 2, 3, 3], [0, 1, 2, 0, 1, 2, 0, 1, 1, 2]])\n",
      "1   -0.020367\n",
      "2   -0.503875\n",
      "3   -0.379893\n",
      "dtype: float64\n",
      "b  1   -0.020367\n",
      "   2   -0.503875\n",
      "   3   -0.379893\n",
      "c  1    1.019552\n",
      "   2   -0.601351\n",
      "dtype: float64\n",
      "a  1    0.014935\n",
      "   2    1.772134\n",
      "dtype: float64\n",
      "          1         2         3\n",
      "a  0.014935  1.772134  0.611526\n",
      "b -0.020367 -0.503875 -0.379893\n",
      "c  1.019552 -0.601351       NaN\n",
      "d       NaN -0.804419  0.359945\n",
      "a  1    0.014935\n",
      "   2    1.772134\n",
      "   3    0.611526\n",
      "b  1   -0.020367\n",
      "   2   -0.503875\n",
      "   3   -0.379893\n",
      "c  1    1.019552\n",
      "   2   -0.601351\n",
      "d  2   -0.804419\n",
      "   3    0.359945\n",
      "dtype: float64\n",
      "\n"
     ]
    }
   ],
   "source": [
    "import numpy as np\n",
    "from pandas import Series, DataFrame, MultiIndex\n",
    "\n",
    "print 'Series的层次索引'\n",
    "data = Series(np.random.randn(10),\n",
    "              index = [['a', 'a', 'a', 'b', 'b', 'b', 'c', 'c', 'd', 'd'],\n",
    "                       [1, 2, 3, 1, 2, 3, 1, 2, 2, 3]])\n",
    "print data\n",
    "print data.index\n",
    "print data.b\n",
    "print data['b':'c']\n",
    "print data[:2]\n",
    "print data.unstack()\n",
    "print data.unstack().stack()\n",
    "print\n"
   ]
  },
  {
   "cell_type": "code",
   "execution_count": 15,
   "metadata": {},
   "outputs": [
    {
     "name": "stdout",
     "output_type": "stream",
     "text": [
      "DataFrame的层次索引\n",
      "     Ohio     Colorado\n",
      "    Green Red    Green\n",
      "a 1     0   1        2\n",
      "  2     3   4        5\n",
      "b 1     6   7        8\n",
      "  2     9  10       11\n",
      "state      Ohio     Colorado\n",
      "color     Green Red    Green\n",
      "key1 key2                   \n",
      "a    1        0   1        2\n",
      "     2        3   4        5\n",
      "b    1        6   7        8\n",
      "     2        9  10       11\n",
      "state     color\n",
      "Ohio      Green    0\n",
      "          Red      1\n",
      "Colorado  Green    2\n",
      "Name: (a, 1), dtype: int32\n",
      "color\n",
      "Green    5\n",
      "Name: (a, 2), dtype: int32\n",
      "4\n",
      "\n",
      "直接用MultiIndex创建层次索引结构\n",
      "MultiIndex(levels=[[u'Colorado', u'Ohio'], [u'Gree', u'Green', u'Red']],\n",
      "           labels=[[1, 1, 0], [0, 2, 1]],\n",
      "           names=[u'state', u'color'])\n"
     ]
    },
    {
     "name": "stderr",
     "output_type": "stream",
     "text": [
      "I:\\Anaconda2\\lib\\site-packages\\ipykernel_launcher.py:10: DeprecationWarning: \n",
      ".ix is deprecated. Please use\n",
      ".loc for label based indexing or\n",
      ".iloc for positional indexing\n",
      "\n",
      "See the documentation here:\n",
      "http://pandas.pydata.org/pandas-docs/stable/indexing.html#ix-indexer-is-deprecated\n",
      "  # Remove the CWD from sys.path while we load stuff.\n"
     ]
    }
   ],
   "source": [
    "print 'DataFrame的层次索引'\n",
    "frame = DataFrame(np.arange(12).reshape((4, 3)),\n",
    "                  index = [['a', 'a', 'b', 'b'], [1, 2, 1, 2]],\n",
    "                  columns = [['Ohio', 'Ohio', 'Colorado'], ['Green', 'Red', 'Green']])\n",
    "print frame\n",
    "frame.index.names = ['key1', 'key2']\n",
    "frame.columns.names = ['state', 'color']\n",
    "print frame\n",
    "print frame.ix['a', 1]\n",
    "print frame.ix['a', 2]['Colorado']\n",
    "print frame.ix['a', 2]['Ohio']['Red']\n",
    "print\n",
    "\n",
    "print '直接用MultiIndex创建层次索引结构'\n",
    "print MultiIndex.from_arrays([['Ohio', 'Ohio', 'Colorado'], ['Gree', 'Red', 'Green']],\n",
    "                             names = ['state', 'color'])\n"
   ]
  },
  {
   "cell_type": "markdown",
   "metadata": {},
   "source": [
    "## 层次化索引 重新分级顺序\n",
    "• 索引交换 \n",
    "• 索引重新排序 "
   ]
  },
  {
   "cell_type": "code",
   "execution_count": 24,
   "metadata": {},
   "outputs": [
    {
     "name": "stdout",
     "output_type": "stream",
     "text": [
      "索引层级交换\n",
      "           Ohio     Colorado\n",
      "          Green Red    Green\n",
      "key2 key1                   \n",
      "1    a        0   1        2\n",
      "2    a        3   4        5\n",
      "1    b        6   7        8\n",
      "2    b        9  10       11\n",
      "           Ohio     Colorado\n",
      "          Green Red    Green\n",
      "key1 key2                   \n",
      "a    1        0   1        2\n",
      "     2        3   4        5\n",
      "b    1        6   7        8\n",
      "     2        9  10       11\n",
      "\n",
      "根据索引排序\n",
      "           Ohio     Colorado\n",
      "          Green Red    Green\n",
      "key1 key2                   \n",
      "a    1        0   1        2\n",
      "b    1        6   7        8\n",
      "a    2        3   4        5\n",
      "b    2        9  10       11\n",
      "           Ohio     Colorado\n",
      "          Green Red    Green\n",
      "key2 key1                   \n",
      "1    a        0   1        2\n",
      "     b        6   7        8\n",
      "2    a        3   4        5\n",
      "     b        9  10       11\n"
     ]
    },
    {
     "name": "stderr",
     "output_type": "stream",
     "text": [
      "I:\\Anaconda2\\lib\\site-packages\\ipykernel_launcher.py:15: FutureWarning: sortlevel is deprecated, use sort_index(level= ...)\n",
      "  from ipykernel import kernelapp as app\n",
      "I:\\Anaconda2\\lib\\site-packages\\ipykernel_launcher.py:16: FutureWarning: sortlevel is deprecated, use sort_index(level= ...)\n",
      "  app.launch_new_instance()\n"
     ]
    }
   ],
   "source": [
    "import numpy as np\n",
    "from pandas import Series, DataFrame\n",
    "\n",
    "print '索引层级交换'\n",
    "frame = DataFrame(np.arange(12).reshape((4, 3)),\n",
    "                  index = [['a', 'a', 'b', 'b'], [1, 2, 1, 2]],\n",
    "                  columns = [['Ohio', 'Ohio', 'Colorado'], ['Green', 'Red', 'Green']])\n",
    "frame.index.names = ['key1', 'key2']\n",
    "frame_swapped = frame.swaplevel('key1', 'key2')\n",
    "print frame_swapped\n",
    "print frame_swapped.swaplevel(0, 1)\n",
    "print\n",
    "\n",
    "print '根据索引排序'\n",
    "print frame.sortlevel('key2')\n",
    "print frame.swaplevel(0, 1).sortlevel(0)\n"
   ]
  },
  {
   "cell_type": "markdown",
   "metadata": {},
   "source": [
    "## 层次化索引 根据级别汇总统计\n",
    "• 指定索引级别和轴 "
   ]
  },
  {
   "cell_type": "code",
   "execution_count": 25,
   "metadata": {},
   "outputs": [
    {
     "name": "stdout",
     "output_type": "stream",
     "text": [
      "根据指定的key计算统计信息\n",
      "           Ohio     Colorado\n",
      "          Green Red    Green\n",
      "key1 key2                   \n",
      "a    1        0   1        2\n",
      "     2        3   4        5\n",
      "b    1        6   7        8\n",
      "     2        9  10       11\n",
      "      Ohio     Colorado\n",
      "     Green Red    Green\n",
      "key2                   \n",
      "1        6   8       10\n",
      "2       12  14       16\n"
     ]
    }
   ],
   "source": [
    "import numpy as np\n",
    "from pandas import DataFrame\n",
    "\n",
    "print '根据指定的key计算统计信息'\n",
    "frame = DataFrame(np.arange(12).reshape((4, 3)),\n",
    "                  index = [['a', 'a', 'b', 'b'], [1, 2, 1, 2]],\n",
    "                  columns = [['Ohio', 'Ohio', 'Colorado'], ['Green', 'Red', 'Green']])\n",
    "frame.index.names = ['key1', 'key2']\n",
    "print frame\n",
    "print frame.sum(level = 'key2')\n"
   ]
  },
  {
   "cell_type": "markdown",
   "metadata": {},
   "source": [
    "## 层次化索引 使用DataFrame的列\n",
    "• 将指定列变为索引 \n",
    "• 移除或保留对象 \n",
    "• reset_index恢复 "
   ]
  },
  {
   "cell_type": "code",
   "execution_count": 26,
   "metadata": {},
   "outputs": [
    {
     "name": "stdout",
     "output_type": "stream",
     "text": [
      "使用列生成层次索引\n",
      "   a  b    c  d\n",
      "0  0  7  one  0\n",
      "1  1  6  one  1\n",
      "2  2  5  one  2\n",
      "3  3  4  two  0\n",
      "4  4  3  two  1\n",
      "5  5  2  two  2\n",
      "6  6  1  two  3\n",
      "       a  b\n",
      "c   d      \n",
      "one 0  0  7\n",
      "    1  1  6\n",
      "    2  2  5\n",
      "two 0  3  4\n",
      "    1  4  3\n",
      "    2  5  2\n",
      "    3  6  1\n",
      "       a  b    c  d\n",
      "c   d              \n",
      "one 0  0  7  one  0\n",
      "    1  1  6  one  1\n",
      "    2  2  5  one  2\n",
      "two 0  3  4  two  0\n",
      "    1  4  3  two  1\n",
      "    2  5  2  two  2\n",
      "    3  6  1  two  3\n",
      "     c  d  a  b\n",
      "0  one  0  0  7\n",
      "1  one  1  1  6\n",
      "2  one  2  2  5\n",
      "3  two  0  3  4\n",
      "4  two  1  4  3\n",
      "5  two  2  5  2\n",
      "6  two  3  6  1\n"
     ]
    }
   ],
   "source": [
    "import numpy as np\n",
    "from pandas import DataFrame\n",
    "\n",
    "print '使用列生成层次索引'\n",
    "frame = DataFrame({'a':range(7),\n",
    "                   'b':range(7, 0, -1),\n",
    "                   'c':['one', 'one', 'one', 'two', 'two', 'two', 'two'],\n",
    "                   'd':[0, 1, 2, 0, 1, 2, 3]})\n",
    "print frame\n",
    "print frame.set_index(['c', 'd'])  # 把c/d列变成索引\n",
    "print frame.set_index(['c', 'd'], drop = False) # 列依然保留\n",
    "frame2 = frame.set_index(['c', 'd'])\n",
    "print frame2.reset_index()\n"
   ]
  },
  {
   "cell_type": "markdown",
   "metadata": {},
   "source": [
    "## 其它话题 整数索引\n",
    "• 歧义的产生 \n",
    "• 可靠的，不考虑索引类型的，基于位置的索引"
   ]
  },
  {
   "cell_type": "code",
   "execution_count": 27,
   "metadata": {},
   "outputs": [
    {
     "name": "stdout",
     "output_type": "stream",
     "text": [
      "整数索引\n",
      "0    0.0\n",
      "1    1.0\n",
      "2    2.0\n",
      "dtype: float64\n",
      "<type 'exceptions.KeyError'>\n",
      "2.0\n",
      "2\n",
      "\n",
      "对DataFrame使用整数索引\n",
      "   0  1\n",
      "2  0  1\n",
      "0  2  3\n",
      "1  4  5\n",
      "0    0\n",
      "1    1\n",
      "Name: 2, dtype: int32\n",
      "2    1\n",
      "0    3\n",
      "1    5\n",
      "Name: 1, dtype: int32\n"
     ]
    }
   ],
   "source": [
    "import numpy as np\n",
    "import sys\n",
    "from pandas import Series, DataFrame\n",
    "\n",
    "print '整数索引'\n",
    "ser = Series(np.arange(3.))\n",
    "print ser\n",
    "try:\n",
    "    print ser[-1] # 这里会有歧义\n",
    "except:\n",
    "    print sys.exc_info()[0]\n",
    "ser2 = Series(np.arange(3.), index = ['a', 'b', 'c'])\n",
    "print ser2[-1]\n",
    "ser3 = Series(range(3), index = [-5, 1, 3])\n",
    "print ser3.iloc[2]  # 避免直接用[2]产生的歧义\n",
    "print\n",
    "\n",
    "print '对DataFrame使用整数索引'\n",
    "frame = DataFrame(np.arange(6).reshape((3, 2)), index = [2, 0, 1])\n",
    "print frame\n",
    "print frame.iloc[0]\n",
    "print frame.iloc[:, 1]\n"
   ]
  },
  {
   "cell_type": "markdown",
   "metadata": {},
   "source": [
    "## 其它话题 面板(Pannel)数据\n",
    "• 通过三维ndarray创建pannel对象 \n",
    "• 通过ix[...]选取需要的数据 \n",
    "• 访问顺序：item -> major -> minor \n",
    "• 通过stack展现面板数据"
   ]
  },
  {
   "cell_type": "code",
   "execution_count": 1,
   "metadata": {
    "scrolled": false
   },
   "outputs": [
    {
     "name": "stdout",
     "output_type": "stream",
     "text": [
      "<class 'pandas.core.panel.Panel'>\n",
      "Dimensions: 4 (items) x 11 (major_axis) x 6 (minor_axis)\n",
      "Items axis: AAPL to MSFT\n",
      "Major_axis axis: 2015-12-31 00:00:00 to 2016-01-15 00:00:00\n",
      "Minor_axis axis: Open to Volume\n",
      "<class 'pandas.core.panel.Panel'>\n",
      "Dimensions: 6 (items) x 11 (major_axis) x 4 (minor_axis)\n",
      "Items axis: Open to Volume\n",
      "Major_axis axis: 2015-12-31 00:00:00 to 2016-01-15 00:00:00\n",
      "Minor_axis axis: AAPL to MSFT\n",
      "\n",
      "访问顺序：# Item -> Major -> Minor\n",
      "                  AAPL        BIDU        GOOG       MSFT\n",
      "Date                                                     \n",
      "2015-12-31  101.339394  189.039993  758.880005  52.818901\n",
      "2016-01-04  101.426033  184.029999  741.840027  52.171520\n",
      "2016-01-05   98.884369  187.369995  742.580017  52.409531\n",
      "2016-01-06   96.949242  185.610001  743.619995  51.457489\n",
      "2016-01-07   92.857529  174.369995  726.390015  49.667664\n",
      "2016-01-08   93.348541  171.339996  714.469971  49.819996\n",
      "2016-01-11   94.860062  170.369995  716.030029  49.791431\n",
      "2016-01-12   96.236794  172.910004  726.070007  50.248405\n",
      "2016-01-13   93.762527  166.039993  700.559998  49.163086\n",
      "2016-01-14   95.813171  172.229996  714.719971  50.562584\n",
      "2016-01-15   93.512207  163.919998  694.450012  48.544266\n",
      "            Open        High         Low       Close   Adj Close      Volume\n",
      "AAPL  105.750000  105.849998  102.410004  102.709999   98.884369  55791000.0\n",
      "BIDU  186.710007  189.839996  185.339996  187.369995  187.369995   3367900.0\n",
      "GOOG  746.450012  752.000000  738.640015  742.580017  742.580017   1950700.0\n",
      "MSFT   54.930000   55.389999   54.540001   55.049999   52.409531  34079700.0\n",
      "AAPL     96.949242\n",
      "BIDU    185.610001\n",
      "GOOG    743.619995\n",
      "MSFT     51.457489\n",
      "Name: 2016-01-06 00:00:00, dtype: float64\n",
      "\n",
      "Panel与DataFrame相互转换\n",
      "                        Open        High         Low       Close   Adj Close  \\\n",
      "Date       minor                                                               \n",
      "2016-01-07 AAPL    98.680000  100.129997   96.430000   96.449997   92.857529   \n",
      "           BIDU   176.300003  180.979996  171.460007  174.369995  174.369995   \n",
      "           GOOG   730.309998  738.500000  719.059998  726.390015  726.390015   \n",
      "           MSFT    52.700001   53.490002   52.070000   52.169998   49.667664   \n",
      "2016-01-08 AAPL    98.550003   99.110001   96.760002   96.959999   93.348541   \n",
      "           BIDU   177.589996  178.949997  170.720001  171.339996  171.339996   \n",
      "           GOOG   731.450012  733.229980  713.000000  714.469971  714.469971   \n",
      "           MSFT    52.369999   53.279999   52.150002   52.330002   49.819996   \n",
      "2016-01-11 AAPL    98.970001   99.059998   97.339996   98.529999   94.860062   \n",
      "           BIDU   172.000000  172.839996  167.710007  170.369995  170.369995   \n",
      "           GOOG   716.609985  718.854980  703.539978  716.030029  716.030029   \n",
      "           MSFT    52.509998   52.849998   51.459999   52.299999   49.791431   \n",
      "2016-01-12 AAPL   100.550003  100.690002   98.839996   99.959999   96.236794   \n",
      "           BIDU   172.399994  173.490005  169.820007  172.910004  172.910004   \n",
      "           GOOG   721.679993  728.750000  717.317017  726.070007  726.070007   \n",
      "           MSFT    52.759998   53.099998   52.060001   52.779999   50.248405   \n",
      "2016-01-13 AAPL   100.320000  101.190002   97.300003   97.389999   93.762527   \n",
      "           BIDU   174.250000  175.360001  164.000000  166.039993  166.039993   \n",
      "           GOOG   730.849976  734.739990  698.609985  700.559998  700.559998   \n",
      "           MSFT    53.799999   54.070000   51.299999   51.639999   49.163086   \n",
      "2016-01-14 AAPL    97.959999  100.480003   95.739998   99.519997   95.813171   \n",
      "           BIDU   166.300003  174.880005  163.009995  172.229996  172.229996   \n",
      "           GOOG   705.380005  721.924988  689.099976  714.719971  714.719971   \n",
      "           MSFT    52.000000   53.419998   51.570000   53.110001   50.562584   \n",
      "2016-01-15 AAPL    96.199997   97.709999   95.360001   97.129997   93.512207   \n",
      "           BIDU   163.759995  165.309998  158.119995  163.919998  163.919998   \n",
      "           GOOG   692.289978  706.739990  685.369995  694.450012  694.450012   \n",
      "           MSFT    51.310001   51.970001   50.340000   50.990002   48.544266   \n",
      "\n",
      "                      Volume  \n",
      "Date       minor              \n",
      "2016-01-07 AAPL   81094400.0  \n",
      "           BIDU    7009100.0  \n",
      "           GOOG    2963700.0  \n",
      "           MSFT   56564900.0  \n",
      "2016-01-08 AAPL   70798000.0  \n",
      "           BIDU    4682800.0  \n",
      "           GOOG    2450900.0  \n",
      "           MSFT   48754000.0  \n",
      "2016-01-11 AAPL   49739400.0  \n",
      "           BIDU    3195900.0  \n",
      "           GOOG    2089300.0  \n",
      "           MSFT   36663600.0  \n",
      "2016-01-12 AAPL   49154200.0  \n",
      "           BIDU    3039600.0  \n",
      "           GOOG    2024500.0  \n",
      "           MSFT   36095500.0  \n",
      "2016-01-13 AAPL   62439600.0  \n",
      "           BIDU    3961500.0  \n",
      "           GOOG    2501700.0  \n",
      "           MSFT   66883600.0  \n",
      "2016-01-14 AAPL   63170100.0  \n",
      "           BIDU    4082200.0  \n",
      "           GOOG    2225800.0  \n",
      "           MSFT   52381900.0  \n",
      "2016-01-15 AAPL   79010000.0  \n",
      "           BIDU    6350300.0  \n",
      "           GOOG    3608100.0  \n",
      "           MSFT   71820700.0  \n",
      "<class 'pandas.core.panel.Panel'>\n",
      "Dimensions: 6 (items) x 7 (major_axis) x 4 (minor_axis)\n",
      "Items axis: Open to Volume\n",
      "Major_axis axis: 2016-01-07 00:00:00 to 2016-01-15 00:00:00\n",
      "Minor_axis axis: AAPL to MSFT\n"
     ]
    },
    {
     "name": "stderr",
     "output_type": "stream",
     "text": [
      "I:\\Anaconda2\\lib\\site-packages\\ipykernel_launcher.py:8: DeprecationWarning: \n",
      "Panel is deprecated and will be removed in a future version.\n",
      "The recommended way to represent these types of 3-dimensional data are with a MultiIndex on a DataFrame, via the Panel.to_frame() method\n",
      "Alternatively, you can use the xarray package http://xarray.pydata.org/en/stable/.\n",
      "Pandas provides a `.to_xarray()` method to help automate this conversion.\n",
      "\n",
      "  \n",
      "I:\\Anaconda2\\lib\\site-packages\\ipykernel_launcher.py:19: DeprecationWarning: \n",
      ".ix is deprecated. Please use\n",
      ".loc for label based indexing or\n",
      ".iloc for positional indexing\n",
      "\n",
      "See the documentation here:\n",
      "http://pandas.pydata.org/pandas-docs/stable/indexing.html#ix-indexer-is-deprecated\n",
      "I:\\Anaconda2\\lib\\site-packages\\ipykernel_launcher.py:21: DeprecationWarning: \n",
      "Panel is deprecated and will be removed in a future version.\n",
      "The recommended way to represent these types of 3-dimensional data are with a MultiIndex on a DataFrame, via the Panel.to_frame() method\n",
      "Alternatively, you can use the xarray package http://xarray.pydata.org/en/stable/.\n",
      "Pandas provides a `.to_xarray()` method to help automate this conversion.\n",
      "\n"
     ]
    }
   ],
   "source": [
    "import numpy as np\n",
    "import pandas as pd\n",
    "import pandas_datareader.data as web\n",
    "from pandas import Series, DataFrame, Index, Panel\n",
    "\n",
    "pdata = Panel(dict((stk, web.get_data_yahoo(stk, '1/1/2016', '1/15/2016')) for stk in ['AAPL', 'GOOG', 'BIDU', 'MSFT']))\n",
    "print pdata\n",
    "pdata = pdata.swapaxes('items', 'minor')\n",
    "print pdata\n",
    "print\n",
    "\n",
    "print \"访问顺序：# Item -> Major -> Minor\"\n",
    "print pdata['Adj Close']\n",
    "print pdata[:, '1/5/2016', :]\n",
    "print pdata['Adj Close', '1/6/2016', :]\n",
    "print\n",
    "\n",
    "print 'Panel与DataFrame相互转换'\n",
    "stacked = pdata.ix[:, '1/7/2016':, :].to_frame()\n",
    "print stacked\n",
    "print stacked.to_panel()"
   ]
  },
  {
   "cell_type": "code",
   "execution_count": null,
   "metadata": {
    "collapsed": true
   },
   "outputs": [],
   "source": []
  }
 ],
 "metadata": {
  "kernelspec": {
   "display_name": "Python 2",
   "language": "python",
   "name": "python2"
  },
  "language_info": {
   "codemirror_mode": {
    "name": "ipython",
    "version": 2
   },
   "file_extension": ".py",
   "mimetype": "text/x-python",
   "name": "python",
   "nbconvert_exporter": "python",
   "pygments_lexer": "ipython2",
   "version": "2.7.14"
  }
 },
 "nbformat": 4,
 "nbformat_minor": 2
}
